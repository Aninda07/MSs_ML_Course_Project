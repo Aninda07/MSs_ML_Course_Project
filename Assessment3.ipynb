{
  "cells": [
    {
      "cell_type": "markdown",
      "metadata": {
        "id": "view-in-github",
        "colab_type": "text"
      },
      "source": [
        "<a href=\"https://colab.research.google.com/github/Aninda07/University_of_Leeds_Projects/blob/main/Assessment3.ipynb\" target=\"_parent\"><img src=\"https://colab.research.google.com/assets/colab-badge.svg\" alt=\"Open In Colab\"/></a>"
      ]
    },
    {
      "cell_type": "markdown",
      "metadata": {
        "id": "DVQdhZcr5atl"
      },
      "source": [
        "# Data Science ODL Project: Assessment 2"
      ]
    },
    {
      "cell_type": "markdown",
      "metadata": {
        "id": "6ockDD-e5atq"
      },
      "source": [
        "ID:"
      ]
    },
    {
      "cell_type": "markdown",
      "metadata": {
        "id": "-6gFpPg35atq"
      },
      "source": [
        "## Case study"
      ]
    },
    {
      "cell_type": "markdown",
      "metadata": {
        "id": "4fApvgj55atq"
      },
      "source": [
        "Refer to the brief"
      ]
    },
    {
      "cell_type": "markdown",
      "metadata": {
        "id": "thgDKJb95atr"
      },
      "source": [
        "## 1. Aims, objectives and plan (4 marks)"
      ]
    },
    {
      "cell_type": "markdown",
      "metadata": {
        "id": "qnI9rA9D5atr"
      },
      "source": [
        "### a) Aims and objectives\n",
        "\n",
        "This project's primary objective is to develop an intelligent system for an insurance provider. Our goal is to determine the probability that clients would commit fraud or other covert acts using their insurance. To do this, we will thoroughly examine and purify the data. Additionally, two effective approaches will be selected and tested in a Jupyter notebook using Python, and RapidMiner may be used as a last resort. We'll also look at the potential costs to the business in the event that our prediction system is off. The report, directly integrated into the Jupyter notebook, will provide a clear explanation of everything and demonstrate the functionality of our system. The report will be detailed, so the client can understand the whole project easily."
      ]
    },
    {
      "cell_type": "markdown",
      "metadata": {
        "id": "i7aCcraz5ats"
      },
      "source": [
        "###  b) Plan\n",
        "Please demonstrate how you have conducted the project with a simple Gantt chart."
      ]
    },
    {
      "cell_type": "markdown",
      "metadata": {
        "id": "kEBU4dU35ats"
      },
      "source": [
        "## 2. Understanding the case study (4 marks)"
      ]
    },
    {
      "cell_type": "markdown",
      "metadata": {
        "id": "ixpeSM5J5ats"
      },
      "source": [
        "###  Case study analysis\n",
        "The main purpose of the insurance company's challenge is to forecast whether a customer is dangerous based on their historical data. Here are a few significant findings I've made and how I intend to address them to improve the company:\n",
        "\n",
        "1. Getting the Right Balance: The organization needs to strike a balance between detecting potential fraud (while avoiding errors) and not annoying normal consumers too much. It's like finding the sweet spot between being too harsh and too forgiving. I'll utilize measurements like precision and recall to ensure that our system doesn't tilt too far one way or the other.\n",
        "\n",
        "2. Sorting Through the Details: The information they provided us was like a puzzle with numerous pieces. I'll have to put them together in a logical order. Consider gathering information from other folders to generate a complete picture. This ensures that we don't overlook any key factors when making predictions.\n",
        "\n",
        "3. Counting the Cost of Mistakes: If our prediction is incorrect and we lose a customer, the organization may lose money. I'll devise a simple method for calculating the financial impact of these errors. It's similar to creating a budget to comprehend the financial consequences of errors.\n",
        "\n",
        "4. Fairness to All: The company desires a fair system that does not favor one group over another. I'll make certain that our model does not inadvertently treat some clients differently. It's similar to ensuring sure everyone gets a fair shot in a game.\n",
        "\n",
        "So, my strategy is to use precise criteria to discover the proper balance, carefully organize the data, evaluate the potential financial impact, and ensure that our system is fair to everyone. The final report will be written in the form of a story, explaining how I accomplished these tasks using a computer program and what it implies for the firm.\n",
        "\n",
        "\n"
      ]
    },
    {
      "cell_type": "markdown",
      "metadata": {
        "id": "pTD7B4yO5att"
      },
      "source": [
        "## 3. Pre-processing applied (20 marks)\n",
        "Enter the code in the cells below to execute each of the stated sub-tasks.\n"
      ]
    },
    {
      "cell_type": "markdown",
      "source": [
        "Lets start the project implementation:"
      ],
      "metadata": {
        "id": "z1w3pR7W_Erw"
      }
    },
    {
      "cell_type": "code",
      "execution_count": null,
      "metadata": {
        "id": "Ih42SbB95atu"
      },
      "outputs": [],
      "source": [
        "\n",
        "import pandas as pd\n",
        "import numpy as np\n",
        "import matplotlib.pyplot as plt"
      ]
    },
    {
      "cell_type": "markdown",
      "metadata": {
        "id": "Pv5BD1dd5atv"
      },
      "source": [
        "###  a) Preparing the labels appropriately if necessary"
      ]
    },
    {
      "cell_type": "markdown",
      "metadata": {
        "id": "1fWK71425atv"
      },
      "source": [
        "Lets first read all the csv datasets and print the columns"
      ]
    },
    {
      "cell_type": "code",
      "execution_count": null,
      "metadata": {
        "colab": {
          "base_uri": "https://localhost:8080/"
        },
        "id": "0nCLN63O5atw",
        "outputId": "26a4ed88-aec1-49b1-d60c-97ec5f1989ea"
      },
      "outputs": [
        {
          "output_type": "stream",
          "name": "stdout",
          "text": [
            "Index(['CustomerID', 'DateOfIncident', 'TypeOfIncident', 'TypeOfCollission',\n",
            "       'SeverityOfIncident', 'AuthoritiesContacted', 'IncidentState',\n",
            "       'IncidentCity', 'IncidentAddress', 'IncidentTime', 'NumberOfVehicles',\n",
            "       'PropertyDamage', 'BodilyInjuries', 'Witnesses', 'PoliceReport',\n",
            "       'AmountOfTotalClaim', 'AmountOfInjuryClaim', 'AmountOfPropertyClaim',\n",
            "       'AmountOfVehicleDamage'],\n",
            "      dtype='object')\n"
          ]
        }
      ],
      "source": [
        "\n",
        "data1 = pd.read_csv('Train_Claim.csv')\n",
        "print(data1.columns)"
      ]
    },
    {
      "cell_type": "code",
      "execution_count": null,
      "metadata": {
        "colab": {
          "base_uri": "https://localhost:8080/"
        },
        "id": "BR0ibV2K5atx",
        "outputId": "2e5d15f8-0c0d-4dc4-a9c8-4724f9c4a487"
      },
      "outputs": [
        {
          "output_type": "stream",
          "name": "stdout",
          "text": [
            "Index(['CustomerID', 'VehicleAttribute', 'VehicleAttributeDetails'], dtype='object')\n"
          ]
        }
      ],
      "source": [
        "data2 = pd.read_csv('Train_Vehicle.csv')\n",
        "print(data2.columns)"
      ]
    },
    {
      "cell_type": "code",
      "execution_count": null,
      "metadata": {
        "colab": {
          "base_uri": "https://localhost:8080/"
        },
        "id": "41MSQ7dG5aty",
        "outputId": "afe844ff-b538-4f1c-8163-8f54d012ea8b"
      },
      "outputs": [
        {
          "output_type": "stream",
          "name": "stdout",
          "text": [
            "Index(['CustomerID', 'InsuredAge', 'InsuredZipCode', 'InsuredGender',\n",
            "       'InsuredEducationLevel', 'InsuredOccupation', 'InsuredHobbies',\n",
            "       'CapitalGains', 'CapitalLoss', 'Country'],\n",
            "      dtype='object')\n"
          ]
        }
      ],
      "source": [
        "data3 = pd.read_csv('Train_Demographics.csv')\n",
        "print(data3.columns)"
      ]
    },
    {
      "cell_type": "code",
      "execution_count": null,
      "metadata": {
        "colab": {
          "base_uri": "https://localhost:8080/"
        },
        "id": "3WZx0i_55atz",
        "outputId": "c689d648-30d7-4088-cfaf-e120c37a4ea8"
      },
      "outputs": [
        {
          "output_type": "stream",
          "name": "stdout",
          "text": [
            "Index(['CustomerID', 'ReportedFraud'], dtype='object')\n"
          ]
        }
      ],
      "source": [
        "data4 = pd.read_csv('Traindata_with_Target.csv')\n",
        "print(data4.columns)"
      ]
    },
    {
      "cell_type": "code",
      "execution_count": null,
      "metadata": {
        "colab": {
          "base_uri": "https://localhost:8080/"
        },
        "id": "WDD9iaLk5atz",
        "outputId": "5eae4370-832e-4438-9d2c-cc3ad46bdc65"
      },
      "outputs": [
        {
          "output_type": "stream",
          "name": "stdout",
          "text": [
            "Index(['InsurancePolicyNumber', 'CustomerLoyaltyPeriod',\n",
            "       'DateOfPolicyCoverage', 'InsurancePolicyState',\n",
            "       'Policy_CombinedSingleLimit', 'Policy_Deductible',\n",
            "       'PolicyAnnualPremium', 'UmbrellaLimit', 'InsuredRelationship',\n",
            "       'CustomerID'],\n",
            "      dtype='object')\n"
          ]
        }
      ],
      "source": [
        "data5 = pd.read_csv('Train_Policy.csv')\n",
        "print(data5.columns)"
      ]
    },
    {
      "cell_type": "markdown",
      "metadata": {
        "id": "4jv2vXT55at0"
      },
      "source": [
        "Lets print the excel dataset too"
      ]
    },
    {
      "cell_type": "code",
      "execution_count": null,
      "metadata": {
        "colab": {
          "base_uri": "https://localhost:8080/"
        },
        "id": "VEAiwq1x5at0",
        "outputId": "9bcb41c1-e32d-482e-e5f4-97844fa4fde4"
      },
      "outputs": [
        {
          "output_type": "stream",
          "name": "stdout",
          "text": [
            "Index(['CustomerID', 'ReportedFraud'], dtype='object')\n"
          ]
        }
      ],
      "source": [
        "data6 = pd.read_excel('Traindata_withoutTarget.xlsx')\n",
        "print(data6.columns)"
      ]
    },
    {
      "cell_type": "markdown",
      "metadata": {
        "id": "xFlLoqlv5at0"
      },
      "source": [
        "The below code uses the merge function from pandas to combine the datasets based on the 'CustomerID' column. The how='inner' argument ensures that only the rows with matching 'CustomerID' in all datasets are included in the merged result. The final merged dataset will contain columns from all six original datasets."
      ]
    },
    {
      "cell_type": "code",
      "execution_count": null,
      "metadata": {
        "colab": {
          "base_uri": "https://localhost:8080/"
        },
        "id": "jX30FkUV5at1",
        "outputId": "130996bd-e1bc-4877-ccc5-4fe795870020"
      },
      "outputs": [
        {
          "output_type": "stream",
          "name": "stdout",
          "text": [
            "Index(['CustomerID', 'DateOfIncident', 'TypeOfIncident', 'TypeOfCollission',\n",
            "       'SeverityOfIncident', 'AuthoritiesContacted', 'IncidentState',\n",
            "       'IncidentCity', 'IncidentAddress', 'IncidentTime', 'NumberOfVehicles',\n",
            "       'PropertyDamage', 'BodilyInjuries', 'Witnesses', 'PoliceReport',\n",
            "       'AmountOfTotalClaim', 'AmountOfInjuryClaim', 'AmountOfPropertyClaim',\n",
            "       'AmountOfVehicleDamage', 'VehicleAttribute', 'VehicleAttributeDetails',\n",
            "       'InsuredAge', 'InsuredZipCode', 'InsuredGender',\n",
            "       'InsuredEducationLevel', 'InsuredOccupation', 'InsuredHobbies',\n",
            "       'CapitalGains', 'CapitalLoss', 'Country', 'ReportedFraud_x',\n",
            "       'InsurancePolicyNumber', 'CustomerLoyaltyPeriod',\n",
            "       'DateOfPolicyCoverage', 'InsurancePolicyState',\n",
            "       'Policy_CombinedSingleLimit', 'Policy_Deductible',\n",
            "       'PolicyAnnualPremium', 'UmbrellaLimit', 'InsuredRelationship',\n",
            "       'ReportedFraud_y'],\n",
            "      dtype='object')\n"
          ]
        }
      ],
      "source": [
        "\n",
        "# Merge data1 with data2\n",
        "merged_data = pd.merge(data1, data2, on='CustomerID', how='inner')\n",
        "\n",
        "# Merge the result with data3\n",
        "merged_data = pd.merge(merged_data, data3, on='CustomerID', how='inner')\n",
        "\n",
        "# Merge with data4\n",
        "merged_data = pd.merge(merged_data, data4, on='CustomerID', how='inner')\n",
        "\n",
        "# Merge data5 with data6\n",
        "merged_data = pd.merge(merged_data, data5, on='CustomerID', how='inner')\n",
        "\n",
        "# Merge the result with data6\n",
        "merged_data = pd.merge(merged_data, data6, on='CustomerID', how='inner')\n",
        "\n",
        "# Print the columns of the final merged dataset\n",
        "print(merged_data.columns)\n"
      ]
    },
    {
      "cell_type": "markdown",
      "metadata": {
        "id": "EIXDD6G45at1"
      },
      "source": [
        "Lets see the merged_data (from tail)"
      ]
    },
    {
      "cell_type": "code",
      "execution_count": null,
      "metadata": {
        "colab": {
          "base_uri": "https://localhost:8080/",
          "height": 338
        },
        "id": "WzGJK4tI5at1",
        "outputId": "b55a5b0a-eaae-4e9e-f6b1-42f816523602"
      },
      "outputs": [
        {
          "output_type": "execute_result",
          "data": {
            "text/plain": [
              "       CustomerID DateOfIncident            TypeOfIncident TypeOfCollission  \\\n",
              "115339   Cust9997     2015-01-28  Single Vehicle Collision   Rear Collision   \n",
              "115340   Cust9999     2015-01-13  Single Vehicle Collision  Front Collision   \n",
              "115341   Cust9999     2015-01-13  Single Vehicle Collision  Front Collision   \n",
              "115342   Cust9999     2015-01-13  Single Vehicle Collision  Front Collision   \n",
              "115343   Cust9999     2015-01-13  Single Vehicle Collision  Front Collision   \n",
              "\n",
              "       SeverityOfIncident AuthoritiesContacted IncidentState IncidentCity  \\\n",
              "115339       Minor Damage            Ambulance        State9        City3   \n",
              "115340         Total Loss                Other        State8        City3   \n",
              "115341         Total Loss                Other        State8        City3   \n",
              "115342         Total Loss                Other        State8        City3   \n",
              "115343         Total Loss                Other        State8        City3   \n",
              "\n",
              "       IncidentAddress  IncidentTime  ...  InsurancePolicyNumber  \\\n",
              "115339   Location 1876             1  ...                 119118   \n",
              "115340   Location 1874             9  ...                 119120   \n",
              "115341   Location 1874             9  ...                 119120   \n",
              "115342   Location 1874             9  ...                 119120   \n",
              "115343   Location 1874             9  ...                 119120   \n",
              "\n",
              "       CustomerLoyaltyPeriod  DateOfPolicyCoverage InsurancePolicyState  \\\n",
              "115339                   391            1998-08-10               State3   \n",
              "115340                   191            2003-04-12               State2   \n",
              "115341                   191            2003-04-12               State2   \n",
              "115342                   191            2003-04-12               State2   \n",
              "115343                   191            2003-04-12               State2   \n",
              "\n",
              "       Policy_CombinedSingleLimit Policy_Deductible  PolicyAnnualPremium  \\\n",
              "115339                    250/500               780              1389.29   \n",
              "115340                   500/1000              2000               928.43   \n",
              "115341                   500/1000              2000               928.43   \n",
              "115342                   500/1000              2000               928.43   \n",
              "115343                   500/1000              2000               928.43   \n",
              "\n",
              "        UmbrellaLimit  InsuredRelationship ReportedFraud_y  \n",
              "115339        3364301        not-in-family             NaN  \n",
              "115340        2909175              husband             NaN  \n",
              "115341        2909175              husband             NaN  \n",
              "115342        2909175              husband             NaN  \n",
              "115343        2909175              husband             NaN  \n",
              "\n",
              "[5 rows x 41 columns]"
            ],
            "text/html": [
              "\n",
              "  <div id=\"df-8d47ccf5-0618-4c97-8959-610aca1b8b39\" class=\"colab-df-container\">\n",
              "    <div>\n",
              "<style scoped>\n",
              "    .dataframe tbody tr th:only-of-type {\n",
              "        vertical-align: middle;\n",
              "    }\n",
              "\n",
              "    .dataframe tbody tr th {\n",
              "        vertical-align: top;\n",
              "    }\n",
              "\n",
              "    .dataframe thead th {\n",
              "        text-align: right;\n",
              "    }\n",
              "</style>\n",
              "<table border=\"1\" class=\"dataframe\">\n",
              "  <thead>\n",
              "    <tr style=\"text-align: right;\">\n",
              "      <th></th>\n",
              "      <th>CustomerID</th>\n",
              "      <th>DateOfIncident</th>\n",
              "      <th>TypeOfIncident</th>\n",
              "      <th>TypeOfCollission</th>\n",
              "      <th>SeverityOfIncident</th>\n",
              "      <th>AuthoritiesContacted</th>\n",
              "      <th>IncidentState</th>\n",
              "      <th>IncidentCity</th>\n",
              "      <th>IncidentAddress</th>\n",
              "      <th>IncidentTime</th>\n",
              "      <th>...</th>\n",
              "      <th>InsurancePolicyNumber</th>\n",
              "      <th>CustomerLoyaltyPeriod</th>\n",
              "      <th>DateOfPolicyCoverage</th>\n",
              "      <th>InsurancePolicyState</th>\n",
              "      <th>Policy_CombinedSingleLimit</th>\n",
              "      <th>Policy_Deductible</th>\n",
              "      <th>PolicyAnnualPremium</th>\n",
              "      <th>UmbrellaLimit</th>\n",
              "      <th>InsuredRelationship</th>\n",
              "      <th>ReportedFraud_y</th>\n",
              "    </tr>\n",
              "  </thead>\n",
              "  <tbody>\n",
              "    <tr>\n",
              "      <th>115339</th>\n",
              "      <td>Cust9997</td>\n",
              "      <td>2015-01-28</td>\n",
              "      <td>Single Vehicle Collision</td>\n",
              "      <td>Rear Collision</td>\n",
              "      <td>Minor Damage</td>\n",
              "      <td>Ambulance</td>\n",
              "      <td>State9</td>\n",
              "      <td>City3</td>\n",
              "      <td>Location 1876</td>\n",
              "      <td>1</td>\n",
              "      <td>...</td>\n",
              "      <td>119118</td>\n",
              "      <td>391</td>\n",
              "      <td>1998-08-10</td>\n",
              "      <td>State3</td>\n",
              "      <td>250/500</td>\n",
              "      <td>780</td>\n",
              "      <td>1389.29</td>\n",
              "      <td>3364301</td>\n",
              "      <td>not-in-family</td>\n",
              "      <td>NaN</td>\n",
              "    </tr>\n",
              "    <tr>\n",
              "      <th>115340</th>\n",
              "      <td>Cust9999</td>\n",
              "      <td>2015-01-13</td>\n",
              "      <td>Single Vehicle Collision</td>\n",
              "      <td>Front Collision</td>\n",
              "      <td>Total Loss</td>\n",
              "      <td>Other</td>\n",
              "      <td>State8</td>\n",
              "      <td>City3</td>\n",
              "      <td>Location 1874</td>\n",
              "      <td>9</td>\n",
              "      <td>...</td>\n",
              "      <td>119120</td>\n",
              "      <td>191</td>\n",
              "      <td>2003-04-12</td>\n",
              "      <td>State2</td>\n",
              "      <td>500/1000</td>\n",
              "      <td>2000</td>\n",
              "      <td>928.43</td>\n",
              "      <td>2909175</td>\n",
              "      <td>husband</td>\n",
              "      <td>NaN</td>\n",
              "    </tr>\n",
              "    <tr>\n",
              "      <th>115341</th>\n",
              "      <td>Cust9999</td>\n",
              "      <td>2015-01-13</td>\n",
              "      <td>Single Vehicle Collision</td>\n",
              "      <td>Front Collision</td>\n",
              "      <td>Total Loss</td>\n",
              "      <td>Other</td>\n",
              "      <td>State8</td>\n",
              "      <td>City3</td>\n",
              "      <td>Location 1874</td>\n",
              "      <td>9</td>\n",
              "      <td>...</td>\n",
              "      <td>119120</td>\n",
              "      <td>191</td>\n",
              "      <td>2003-04-12</td>\n",
              "      <td>State2</td>\n",
              "      <td>500/1000</td>\n",
              "      <td>2000</td>\n",
              "      <td>928.43</td>\n",
              "      <td>2909175</td>\n",
              "      <td>husband</td>\n",
              "      <td>NaN</td>\n",
              "    </tr>\n",
              "    <tr>\n",
              "      <th>115342</th>\n",
              "      <td>Cust9999</td>\n",
              "      <td>2015-01-13</td>\n",
              "      <td>Single Vehicle Collision</td>\n",
              "      <td>Front Collision</td>\n",
              "      <td>Total Loss</td>\n",
              "      <td>Other</td>\n",
              "      <td>State8</td>\n",
              "      <td>City3</td>\n",
              "      <td>Location 1874</td>\n",
              "      <td>9</td>\n",
              "      <td>...</td>\n",
              "      <td>119120</td>\n",
              "      <td>191</td>\n",
              "      <td>2003-04-12</td>\n",
              "      <td>State2</td>\n",
              "      <td>500/1000</td>\n",
              "      <td>2000</td>\n",
              "      <td>928.43</td>\n",
              "      <td>2909175</td>\n",
              "      <td>husband</td>\n",
              "      <td>NaN</td>\n",
              "    </tr>\n",
              "    <tr>\n",
              "      <th>115343</th>\n",
              "      <td>Cust9999</td>\n",
              "      <td>2015-01-13</td>\n",
              "      <td>Single Vehicle Collision</td>\n",
              "      <td>Front Collision</td>\n",
              "      <td>Total Loss</td>\n",
              "      <td>Other</td>\n",
              "      <td>State8</td>\n",
              "      <td>City3</td>\n",
              "      <td>Location 1874</td>\n",
              "      <td>9</td>\n",
              "      <td>...</td>\n",
              "      <td>119120</td>\n",
              "      <td>191</td>\n",
              "      <td>2003-04-12</td>\n",
              "      <td>State2</td>\n",
              "      <td>500/1000</td>\n",
              "      <td>2000</td>\n",
              "      <td>928.43</td>\n",
              "      <td>2909175</td>\n",
              "      <td>husband</td>\n",
              "      <td>NaN</td>\n",
              "    </tr>\n",
              "  </tbody>\n",
              "</table>\n",
              "<p>5 rows × 41 columns</p>\n",
              "</div>\n",
              "    <div class=\"colab-df-buttons\">\n",
              "\n",
              "  <div class=\"colab-df-container\">\n",
              "    <button class=\"colab-df-convert\" onclick=\"convertToInteractive('df-8d47ccf5-0618-4c97-8959-610aca1b8b39')\"\n",
              "            title=\"Convert this dataframe to an interactive table.\"\n",
              "            style=\"display:none;\">\n",
              "\n",
              "  <svg xmlns=\"http://www.w3.org/2000/svg\" height=\"24px\" viewBox=\"0 -960 960 960\">\n",
              "    <path d=\"M120-120v-720h720v720H120Zm60-500h600v-160H180v160Zm220 220h160v-160H400v160Zm0 220h160v-160H400v160ZM180-400h160v-160H180v160Zm440 0h160v-160H620v160ZM180-180h160v-160H180v160Zm440 0h160v-160H620v160Z\"/>\n",
              "  </svg>\n",
              "    </button>\n",
              "\n",
              "  <style>\n",
              "    .colab-df-container {\n",
              "      display:flex;\n",
              "      gap: 12px;\n",
              "    }\n",
              "\n",
              "    .colab-df-convert {\n",
              "      background-color: #E8F0FE;\n",
              "      border: none;\n",
              "      border-radius: 50%;\n",
              "      cursor: pointer;\n",
              "      display: none;\n",
              "      fill: #1967D2;\n",
              "      height: 32px;\n",
              "      padding: 0 0 0 0;\n",
              "      width: 32px;\n",
              "    }\n",
              "\n",
              "    .colab-df-convert:hover {\n",
              "      background-color: #E2EBFA;\n",
              "      box-shadow: 0px 1px 2px rgba(60, 64, 67, 0.3), 0px 1px 3px 1px rgba(60, 64, 67, 0.15);\n",
              "      fill: #174EA6;\n",
              "    }\n",
              "\n",
              "    .colab-df-buttons div {\n",
              "      margin-bottom: 4px;\n",
              "    }\n",
              "\n",
              "    [theme=dark] .colab-df-convert {\n",
              "      background-color: #3B4455;\n",
              "      fill: #D2E3FC;\n",
              "    }\n",
              "\n",
              "    [theme=dark] .colab-df-convert:hover {\n",
              "      background-color: #434B5C;\n",
              "      box-shadow: 0px 1px 3px 1px rgba(0, 0, 0, 0.15);\n",
              "      filter: drop-shadow(0px 1px 2px rgba(0, 0, 0, 0.3));\n",
              "      fill: #FFFFFF;\n",
              "    }\n",
              "  </style>\n",
              "\n",
              "    <script>\n",
              "      const buttonEl =\n",
              "        document.querySelector('#df-8d47ccf5-0618-4c97-8959-610aca1b8b39 button.colab-df-convert');\n",
              "      buttonEl.style.display =\n",
              "        google.colab.kernel.accessAllowed ? 'block' : 'none';\n",
              "\n",
              "      async function convertToInteractive(key) {\n",
              "        const element = document.querySelector('#df-8d47ccf5-0618-4c97-8959-610aca1b8b39');\n",
              "        const dataTable =\n",
              "          await google.colab.kernel.invokeFunction('convertToInteractive',\n",
              "                                                    [key], {});\n",
              "        if (!dataTable) return;\n",
              "\n",
              "        const docLinkHtml = 'Like what you see? Visit the ' +\n",
              "          '<a target=\"_blank\" href=https://colab.research.google.com/notebooks/data_table.ipynb>data table notebook</a>'\n",
              "          + ' to learn more about interactive tables.';\n",
              "        element.innerHTML = '';\n",
              "        dataTable['output_type'] = 'display_data';\n",
              "        await google.colab.output.renderOutput(dataTable, element);\n",
              "        const docLink = document.createElement('div');\n",
              "        docLink.innerHTML = docLinkHtml;\n",
              "        element.appendChild(docLink);\n",
              "      }\n",
              "    </script>\n",
              "  </div>\n",
              "\n",
              "\n",
              "<div id=\"df-c90b903d-0d18-4236-b506-93f34716b4f8\">\n",
              "  <button class=\"colab-df-quickchart\" onclick=\"quickchart('df-c90b903d-0d18-4236-b506-93f34716b4f8')\"\n",
              "            title=\"Suggest charts\"\n",
              "            style=\"display:none;\">\n",
              "\n",
              "<svg xmlns=\"http://www.w3.org/2000/svg\" height=\"24px\"viewBox=\"0 0 24 24\"\n",
              "     width=\"24px\">\n",
              "    <g>\n",
              "        <path d=\"M19 3H5c-1.1 0-2 .9-2 2v14c0 1.1.9 2 2 2h14c1.1 0 2-.9 2-2V5c0-1.1-.9-2-2-2zM9 17H7v-7h2v7zm4 0h-2V7h2v10zm4 0h-2v-4h2v4z\"/>\n",
              "    </g>\n",
              "</svg>\n",
              "  </button>\n",
              "\n",
              "<style>\n",
              "  .colab-df-quickchart {\n",
              "      --bg-color: #E8F0FE;\n",
              "      --fill-color: #1967D2;\n",
              "      --hover-bg-color: #E2EBFA;\n",
              "      --hover-fill-color: #174EA6;\n",
              "      --disabled-fill-color: #AAA;\n",
              "      --disabled-bg-color: #DDD;\n",
              "  }\n",
              "\n",
              "  [theme=dark] .colab-df-quickchart {\n",
              "      --bg-color: #3B4455;\n",
              "      --fill-color: #D2E3FC;\n",
              "      --hover-bg-color: #434B5C;\n",
              "      --hover-fill-color: #FFFFFF;\n",
              "      --disabled-bg-color: #3B4455;\n",
              "      --disabled-fill-color: #666;\n",
              "  }\n",
              "\n",
              "  .colab-df-quickchart {\n",
              "    background-color: var(--bg-color);\n",
              "    border: none;\n",
              "    border-radius: 50%;\n",
              "    cursor: pointer;\n",
              "    display: none;\n",
              "    fill: var(--fill-color);\n",
              "    height: 32px;\n",
              "    padding: 0;\n",
              "    width: 32px;\n",
              "  }\n",
              "\n",
              "  .colab-df-quickchart:hover {\n",
              "    background-color: var(--hover-bg-color);\n",
              "    box-shadow: 0 1px 2px rgba(60, 64, 67, 0.3), 0 1px 3px 1px rgba(60, 64, 67, 0.15);\n",
              "    fill: var(--button-hover-fill-color);\n",
              "  }\n",
              "\n",
              "  .colab-df-quickchart-complete:disabled,\n",
              "  .colab-df-quickchart-complete:disabled:hover {\n",
              "    background-color: var(--disabled-bg-color);\n",
              "    fill: var(--disabled-fill-color);\n",
              "    box-shadow: none;\n",
              "  }\n",
              "\n",
              "  .colab-df-spinner {\n",
              "    border: 2px solid var(--fill-color);\n",
              "    border-color: transparent;\n",
              "    border-bottom-color: var(--fill-color);\n",
              "    animation:\n",
              "      spin 1s steps(1) infinite;\n",
              "  }\n",
              "\n",
              "  @keyframes spin {\n",
              "    0% {\n",
              "      border-color: transparent;\n",
              "      border-bottom-color: var(--fill-color);\n",
              "      border-left-color: var(--fill-color);\n",
              "    }\n",
              "    20% {\n",
              "      border-color: transparent;\n",
              "      border-left-color: var(--fill-color);\n",
              "      border-top-color: var(--fill-color);\n",
              "    }\n",
              "    30% {\n",
              "      border-color: transparent;\n",
              "      border-left-color: var(--fill-color);\n",
              "      border-top-color: var(--fill-color);\n",
              "      border-right-color: var(--fill-color);\n",
              "    }\n",
              "    40% {\n",
              "      border-color: transparent;\n",
              "      border-right-color: var(--fill-color);\n",
              "      border-top-color: var(--fill-color);\n",
              "    }\n",
              "    60% {\n",
              "      border-color: transparent;\n",
              "      border-right-color: var(--fill-color);\n",
              "    }\n",
              "    80% {\n",
              "      border-color: transparent;\n",
              "      border-right-color: var(--fill-color);\n",
              "      border-bottom-color: var(--fill-color);\n",
              "    }\n",
              "    90% {\n",
              "      border-color: transparent;\n",
              "      border-bottom-color: var(--fill-color);\n",
              "    }\n",
              "  }\n",
              "</style>\n",
              "\n",
              "  <script>\n",
              "    async function quickchart(key) {\n",
              "      const quickchartButtonEl =\n",
              "        document.querySelector('#' + key + ' button');\n",
              "      quickchartButtonEl.disabled = true;  // To prevent multiple clicks.\n",
              "      quickchartButtonEl.classList.add('colab-df-spinner');\n",
              "      try {\n",
              "        const charts = await google.colab.kernel.invokeFunction(\n",
              "            'suggestCharts', [key], {});\n",
              "      } catch (error) {\n",
              "        console.error('Error during call to suggestCharts:', error);\n",
              "      }\n",
              "      quickchartButtonEl.classList.remove('colab-df-spinner');\n",
              "      quickchartButtonEl.classList.add('colab-df-quickchart-complete');\n",
              "    }\n",
              "    (() => {\n",
              "      let quickchartButtonEl =\n",
              "        document.querySelector('#df-c90b903d-0d18-4236-b506-93f34716b4f8 button');\n",
              "      quickchartButtonEl.style.display =\n",
              "        google.colab.kernel.accessAllowed ? 'block' : 'none';\n",
              "    })();\n",
              "  </script>\n",
              "</div>\n",
              "\n",
              "    </div>\n",
              "  </div>\n"
            ]
          },
          "metadata": {},
          "execution_count": 9
        }
      ],
      "source": [
        "merged_data.tail()"
      ]
    },
    {
      "cell_type": "markdown",
      "metadata": {
        "id": "wTJXXH3P5at1"
      },
      "source": [
        "This code block below involves cleaning and organizing the merged dataset.\n",
        "Redundant columns related to the vehicle are dropped, and the remaining columns are renamed for clarity. The resulting dataset is printed to check the changes."
      ]
    },
    {
      "cell_type": "code",
      "execution_count": null,
      "metadata": {
        "colab": {
          "base_uri": "https://localhost:8080/",
          "height": 338
        },
        "id": "dn7eTsEP5at2",
        "outputId": "c0ffd3f1-2b26-4e90-d625-4a3bd8a58dbf"
      },
      "outputs": [
        {
          "output_type": "execute_result",
          "data": {
            "text/plain": [
              "       CustomerID DateOfIncident            TypeOfIncident TypeOfCollission  \\\n",
              "115339   Cust9997     2015-01-28  Single Vehicle Collision   Rear Collision   \n",
              "115340   Cust9999     2015-01-13  Single Vehicle Collision  Front Collision   \n",
              "115341   Cust9999     2015-01-13  Single Vehicle Collision  Front Collision   \n",
              "115342   Cust9999     2015-01-13  Single Vehicle Collision  Front Collision   \n",
              "115343   Cust9999     2015-01-13  Single Vehicle Collision  Front Collision   \n",
              "\n",
              "       SeverityOfIncident AuthoritiesContacted IncidentState IncidentCity  \\\n",
              "115339       Minor Damage            Ambulance        State9        City3   \n",
              "115340         Total Loss                Other        State8        City3   \n",
              "115341         Total Loss                Other        State8        City3   \n",
              "115342         Total Loss                Other        State8        City3   \n",
              "115343         Total Loss                Other        State8        City3   \n",
              "\n",
              "       IncidentAddress  IncidentTime  ...  ReportedFraud  \\\n",
              "115339   Location 1876             1  ...              N   \n",
              "115340   Location 1874             9  ...              N   \n",
              "115341   Location 1874             9  ...              N   \n",
              "115342   Location 1874             9  ...              N   \n",
              "115343   Location 1874             9  ...              N   \n",
              "\n",
              "       InsurancePolicyNumber  CustomerLoyaltyPeriod DateOfPolicyCoverage  \\\n",
              "115339                119118                    391           1998-08-10   \n",
              "115340                119120                    191           2003-04-12   \n",
              "115341                119120                    191           2003-04-12   \n",
              "115342                119120                    191           2003-04-12   \n",
              "115343                119120                    191           2003-04-12   \n",
              "\n",
              "       InsurancePolicyState Policy_CombinedSingleLimit  Policy_Deductible  \\\n",
              "115339               State3                    250/500                780   \n",
              "115340               State2                   500/1000               2000   \n",
              "115341               State2                   500/1000               2000   \n",
              "115342               State2                   500/1000               2000   \n",
              "115343               State2                   500/1000               2000   \n",
              "\n",
              "        PolicyAnnualPremium  UmbrellaLimit InsuredRelationship  \n",
              "115339              1389.29        3364301       not-in-family  \n",
              "115340               928.43        2909175             husband  \n",
              "115341               928.43        2909175             husband  \n",
              "115342               928.43        2909175             husband  \n",
              "115343               928.43        2909175             husband  \n",
              "\n",
              "[5 rows x 40 columns]"
            ],
            "text/html": [
              "\n",
              "  <div id=\"df-1780bac7-c92d-4234-949c-ce0169e9d0a5\" class=\"colab-df-container\">\n",
              "    <div>\n",
              "<style scoped>\n",
              "    .dataframe tbody tr th:only-of-type {\n",
              "        vertical-align: middle;\n",
              "    }\n",
              "\n",
              "    .dataframe tbody tr th {\n",
              "        vertical-align: top;\n",
              "    }\n",
              "\n",
              "    .dataframe thead th {\n",
              "        text-align: right;\n",
              "    }\n",
              "</style>\n",
              "<table border=\"1\" class=\"dataframe\">\n",
              "  <thead>\n",
              "    <tr style=\"text-align: right;\">\n",
              "      <th></th>\n",
              "      <th>CustomerID</th>\n",
              "      <th>DateOfIncident</th>\n",
              "      <th>TypeOfIncident</th>\n",
              "      <th>TypeOfCollission</th>\n",
              "      <th>SeverityOfIncident</th>\n",
              "      <th>AuthoritiesContacted</th>\n",
              "      <th>IncidentState</th>\n",
              "      <th>IncidentCity</th>\n",
              "      <th>IncidentAddress</th>\n",
              "      <th>IncidentTime</th>\n",
              "      <th>...</th>\n",
              "      <th>ReportedFraud</th>\n",
              "      <th>InsurancePolicyNumber</th>\n",
              "      <th>CustomerLoyaltyPeriod</th>\n",
              "      <th>DateOfPolicyCoverage</th>\n",
              "      <th>InsurancePolicyState</th>\n",
              "      <th>Policy_CombinedSingleLimit</th>\n",
              "      <th>Policy_Deductible</th>\n",
              "      <th>PolicyAnnualPremium</th>\n",
              "      <th>UmbrellaLimit</th>\n",
              "      <th>InsuredRelationship</th>\n",
              "    </tr>\n",
              "  </thead>\n",
              "  <tbody>\n",
              "    <tr>\n",
              "      <th>115339</th>\n",
              "      <td>Cust9997</td>\n",
              "      <td>2015-01-28</td>\n",
              "      <td>Single Vehicle Collision</td>\n",
              "      <td>Rear Collision</td>\n",
              "      <td>Minor Damage</td>\n",
              "      <td>Ambulance</td>\n",
              "      <td>State9</td>\n",
              "      <td>City3</td>\n",
              "      <td>Location 1876</td>\n",
              "      <td>1</td>\n",
              "      <td>...</td>\n",
              "      <td>N</td>\n",
              "      <td>119118</td>\n",
              "      <td>391</td>\n",
              "      <td>1998-08-10</td>\n",
              "      <td>State3</td>\n",
              "      <td>250/500</td>\n",
              "      <td>780</td>\n",
              "      <td>1389.29</td>\n",
              "      <td>3364301</td>\n",
              "      <td>not-in-family</td>\n",
              "    </tr>\n",
              "    <tr>\n",
              "      <th>115340</th>\n",
              "      <td>Cust9999</td>\n",
              "      <td>2015-01-13</td>\n",
              "      <td>Single Vehicle Collision</td>\n",
              "      <td>Front Collision</td>\n",
              "      <td>Total Loss</td>\n",
              "      <td>Other</td>\n",
              "      <td>State8</td>\n",
              "      <td>City3</td>\n",
              "      <td>Location 1874</td>\n",
              "      <td>9</td>\n",
              "      <td>...</td>\n",
              "      <td>N</td>\n",
              "      <td>119120</td>\n",
              "      <td>191</td>\n",
              "      <td>2003-04-12</td>\n",
              "      <td>State2</td>\n",
              "      <td>500/1000</td>\n",
              "      <td>2000</td>\n",
              "      <td>928.43</td>\n",
              "      <td>2909175</td>\n",
              "      <td>husband</td>\n",
              "    </tr>\n",
              "    <tr>\n",
              "      <th>115341</th>\n",
              "      <td>Cust9999</td>\n",
              "      <td>2015-01-13</td>\n",
              "      <td>Single Vehicle Collision</td>\n",
              "      <td>Front Collision</td>\n",
              "      <td>Total Loss</td>\n",
              "      <td>Other</td>\n",
              "      <td>State8</td>\n",
              "      <td>City3</td>\n",
              "      <td>Location 1874</td>\n",
              "      <td>9</td>\n",
              "      <td>...</td>\n",
              "      <td>N</td>\n",
              "      <td>119120</td>\n",
              "      <td>191</td>\n",
              "      <td>2003-04-12</td>\n",
              "      <td>State2</td>\n",
              "      <td>500/1000</td>\n",
              "      <td>2000</td>\n",
              "      <td>928.43</td>\n",
              "      <td>2909175</td>\n",
              "      <td>husband</td>\n",
              "    </tr>\n",
              "    <tr>\n",
              "      <th>115342</th>\n",
              "      <td>Cust9999</td>\n",
              "      <td>2015-01-13</td>\n",
              "      <td>Single Vehicle Collision</td>\n",
              "      <td>Front Collision</td>\n",
              "      <td>Total Loss</td>\n",
              "      <td>Other</td>\n",
              "      <td>State8</td>\n",
              "      <td>City3</td>\n",
              "      <td>Location 1874</td>\n",
              "      <td>9</td>\n",
              "      <td>...</td>\n",
              "      <td>N</td>\n",
              "      <td>119120</td>\n",
              "      <td>191</td>\n",
              "      <td>2003-04-12</td>\n",
              "      <td>State2</td>\n",
              "      <td>500/1000</td>\n",
              "      <td>2000</td>\n",
              "      <td>928.43</td>\n",
              "      <td>2909175</td>\n",
              "      <td>husband</td>\n",
              "    </tr>\n",
              "    <tr>\n",
              "      <th>115343</th>\n",
              "      <td>Cust9999</td>\n",
              "      <td>2015-01-13</td>\n",
              "      <td>Single Vehicle Collision</td>\n",
              "      <td>Front Collision</td>\n",
              "      <td>Total Loss</td>\n",
              "      <td>Other</td>\n",
              "      <td>State8</td>\n",
              "      <td>City3</td>\n",
              "      <td>Location 1874</td>\n",
              "      <td>9</td>\n",
              "      <td>...</td>\n",
              "      <td>N</td>\n",
              "      <td>119120</td>\n",
              "      <td>191</td>\n",
              "      <td>2003-04-12</td>\n",
              "      <td>State2</td>\n",
              "      <td>500/1000</td>\n",
              "      <td>2000</td>\n",
              "      <td>928.43</td>\n",
              "      <td>2909175</td>\n",
              "      <td>husband</td>\n",
              "    </tr>\n",
              "  </tbody>\n",
              "</table>\n",
              "<p>5 rows × 40 columns</p>\n",
              "</div>\n",
              "    <div class=\"colab-df-buttons\">\n",
              "\n",
              "  <div class=\"colab-df-container\">\n",
              "    <button class=\"colab-df-convert\" onclick=\"convertToInteractive('df-1780bac7-c92d-4234-949c-ce0169e9d0a5')\"\n",
              "            title=\"Convert this dataframe to an interactive table.\"\n",
              "            style=\"display:none;\">\n",
              "\n",
              "  <svg xmlns=\"http://www.w3.org/2000/svg\" height=\"24px\" viewBox=\"0 -960 960 960\">\n",
              "    <path d=\"M120-120v-720h720v720H120Zm60-500h600v-160H180v160Zm220 220h160v-160H400v160Zm0 220h160v-160H400v160ZM180-400h160v-160H180v160Zm440 0h160v-160H620v160ZM180-180h160v-160H180v160Zm440 0h160v-160H620v160Z\"/>\n",
              "  </svg>\n",
              "    </button>\n",
              "\n",
              "  <style>\n",
              "    .colab-df-container {\n",
              "      display:flex;\n",
              "      gap: 12px;\n",
              "    }\n",
              "\n",
              "    .colab-df-convert {\n",
              "      background-color: #E8F0FE;\n",
              "      border: none;\n",
              "      border-radius: 50%;\n",
              "      cursor: pointer;\n",
              "      display: none;\n",
              "      fill: #1967D2;\n",
              "      height: 32px;\n",
              "      padding: 0 0 0 0;\n",
              "      width: 32px;\n",
              "    }\n",
              "\n",
              "    .colab-df-convert:hover {\n",
              "      background-color: #E2EBFA;\n",
              "      box-shadow: 0px 1px 2px rgba(60, 64, 67, 0.3), 0px 1px 3px 1px rgba(60, 64, 67, 0.15);\n",
              "      fill: #174EA6;\n",
              "    }\n",
              "\n",
              "    .colab-df-buttons div {\n",
              "      margin-bottom: 4px;\n",
              "    }\n",
              "\n",
              "    [theme=dark] .colab-df-convert {\n",
              "      background-color: #3B4455;\n",
              "      fill: #D2E3FC;\n",
              "    }\n",
              "\n",
              "    [theme=dark] .colab-df-convert:hover {\n",
              "      background-color: #434B5C;\n",
              "      box-shadow: 0px 1px 3px 1px rgba(0, 0, 0, 0.15);\n",
              "      filter: drop-shadow(0px 1px 2px rgba(0, 0, 0, 0.3));\n",
              "      fill: #FFFFFF;\n",
              "    }\n",
              "  </style>\n",
              "\n",
              "    <script>\n",
              "      const buttonEl =\n",
              "        document.querySelector('#df-1780bac7-c92d-4234-949c-ce0169e9d0a5 button.colab-df-convert');\n",
              "      buttonEl.style.display =\n",
              "        google.colab.kernel.accessAllowed ? 'block' : 'none';\n",
              "\n",
              "      async function convertToInteractive(key) {\n",
              "        const element = document.querySelector('#df-1780bac7-c92d-4234-949c-ce0169e9d0a5');\n",
              "        const dataTable =\n",
              "          await google.colab.kernel.invokeFunction('convertToInteractive',\n",
              "                                                    [key], {});\n",
              "        if (!dataTable) return;\n",
              "\n",
              "        const docLinkHtml = 'Like what you see? Visit the ' +\n",
              "          '<a target=\"_blank\" href=https://colab.research.google.com/notebooks/data_table.ipynb>data table notebook</a>'\n",
              "          + ' to learn more about interactive tables.';\n",
              "        element.innerHTML = '';\n",
              "        dataTable['output_type'] = 'display_data';\n",
              "        await google.colab.output.renderOutput(dataTable, element);\n",
              "        const docLink = document.createElement('div');\n",
              "        docLink.innerHTML = docLinkHtml;\n",
              "        element.appendChild(docLink);\n",
              "      }\n",
              "    </script>\n",
              "  </div>\n",
              "\n",
              "\n",
              "<div id=\"df-f933932d-f7ab-4cb2-88b7-52d086a18406\">\n",
              "  <button class=\"colab-df-quickchart\" onclick=\"quickchart('df-f933932d-f7ab-4cb2-88b7-52d086a18406')\"\n",
              "            title=\"Suggest charts\"\n",
              "            style=\"display:none;\">\n",
              "\n",
              "<svg xmlns=\"http://www.w3.org/2000/svg\" height=\"24px\"viewBox=\"0 0 24 24\"\n",
              "     width=\"24px\">\n",
              "    <g>\n",
              "        <path d=\"M19 3H5c-1.1 0-2 .9-2 2v14c0 1.1.9 2 2 2h14c1.1 0 2-.9 2-2V5c0-1.1-.9-2-2-2zM9 17H7v-7h2v7zm4 0h-2V7h2v10zm4 0h-2v-4h2v4z\"/>\n",
              "    </g>\n",
              "</svg>\n",
              "  </button>\n",
              "\n",
              "<style>\n",
              "  .colab-df-quickchart {\n",
              "      --bg-color: #E8F0FE;\n",
              "      --fill-color: #1967D2;\n",
              "      --hover-bg-color: #E2EBFA;\n",
              "      --hover-fill-color: #174EA6;\n",
              "      --disabled-fill-color: #AAA;\n",
              "      --disabled-bg-color: #DDD;\n",
              "  }\n",
              "\n",
              "  [theme=dark] .colab-df-quickchart {\n",
              "      --bg-color: #3B4455;\n",
              "      --fill-color: #D2E3FC;\n",
              "      --hover-bg-color: #434B5C;\n",
              "      --hover-fill-color: #FFFFFF;\n",
              "      --disabled-bg-color: #3B4455;\n",
              "      --disabled-fill-color: #666;\n",
              "  }\n",
              "\n",
              "  .colab-df-quickchart {\n",
              "    background-color: var(--bg-color);\n",
              "    border: none;\n",
              "    border-radius: 50%;\n",
              "    cursor: pointer;\n",
              "    display: none;\n",
              "    fill: var(--fill-color);\n",
              "    height: 32px;\n",
              "    padding: 0;\n",
              "    width: 32px;\n",
              "  }\n",
              "\n",
              "  .colab-df-quickchart:hover {\n",
              "    background-color: var(--hover-bg-color);\n",
              "    box-shadow: 0 1px 2px rgba(60, 64, 67, 0.3), 0 1px 3px 1px rgba(60, 64, 67, 0.15);\n",
              "    fill: var(--button-hover-fill-color);\n",
              "  }\n",
              "\n",
              "  .colab-df-quickchart-complete:disabled,\n",
              "  .colab-df-quickchart-complete:disabled:hover {\n",
              "    background-color: var(--disabled-bg-color);\n",
              "    fill: var(--disabled-fill-color);\n",
              "    box-shadow: none;\n",
              "  }\n",
              "\n",
              "  .colab-df-spinner {\n",
              "    border: 2px solid var(--fill-color);\n",
              "    border-color: transparent;\n",
              "    border-bottom-color: var(--fill-color);\n",
              "    animation:\n",
              "      spin 1s steps(1) infinite;\n",
              "  }\n",
              "\n",
              "  @keyframes spin {\n",
              "    0% {\n",
              "      border-color: transparent;\n",
              "      border-bottom-color: var(--fill-color);\n",
              "      border-left-color: var(--fill-color);\n",
              "    }\n",
              "    20% {\n",
              "      border-color: transparent;\n",
              "      border-left-color: var(--fill-color);\n",
              "      border-top-color: var(--fill-color);\n",
              "    }\n",
              "    30% {\n",
              "      border-color: transparent;\n",
              "      border-left-color: var(--fill-color);\n",
              "      border-top-color: var(--fill-color);\n",
              "      border-right-color: var(--fill-color);\n",
              "    }\n",
              "    40% {\n",
              "      border-color: transparent;\n",
              "      border-right-color: var(--fill-color);\n",
              "      border-top-color: var(--fill-color);\n",
              "    }\n",
              "    60% {\n",
              "      border-color: transparent;\n",
              "      border-right-color: var(--fill-color);\n",
              "    }\n",
              "    80% {\n",
              "      border-color: transparent;\n",
              "      border-right-color: var(--fill-color);\n",
              "      border-bottom-color: var(--fill-color);\n",
              "    }\n",
              "    90% {\n",
              "      border-color: transparent;\n",
              "      border-bottom-color: var(--fill-color);\n",
              "    }\n",
              "  }\n",
              "</style>\n",
              "\n",
              "  <script>\n",
              "    async function quickchart(key) {\n",
              "      const quickchartButtonEl =\n",
              "        document.querySelector('#' + key + ' button');\n",
              "      quickchartButtonEl.disabled = true;  // To prevent multiple clicks.\n",
              "      quickchartButtonEl.classList.add('colab-df-spinner');\n",
              "      try {\n",
              "        const charts = await google.colab.kernel.invokeFunction(\n",
              "            'suggestCharts', [key], {});\n",
              "      } catch (error) {\n",
              "        console.error('Error during call to suggestCharts:', error);\n",
              "      }\n",
              "      quickchartButtonEl.classList.remove('colab-df-spinner');\n",
              "      quickchartButtonEl.classList.add('colab-df-quickchart-complete');\n",
              "    }\n",
              "    (() => {\n",
              "      let quickchartButtonEl =\n",
              "        document.querySelector('#df-f933932d-f7ab-4cb2-88b7-52d086a18406 button');\n",
              "      quickchartButtonEl.style.display =\n",
              "        google.colab.kernel.accessAllowed ? 'block' : 'none';\n",
              "    })();\n",
              "  </script>\n",
              "</div>\n",
              "\n",
              "    </div>\n",
              "  </div>\n"
            ]
          },
          "metadata": {},
          "execution_count": 10
        }
      ],
      "source": [
        "# Drop redundant 'ReportedFraud_y' column\n",
        "merged_data = merged_data.drop(['ReportedFraud_y'], axis=1, errors='ignore')\n",
        "\n",
        "# Drop redundant columns related to Vehicle if they exist\n",
        "merged_data = merged_data.drop(['VehicleAttribute_vehicle', 'VehicleAttributeDetails_vehicle'], axis=1, errors='ignore')\n",
        "\n",
        "# Rename the remaining columns for clarity\n",
        "merged_data = merged_data.rename(columns={'ReportedFraud_x': 'ReportedFraud', 'VehicleAttribute_claim': 'VehicleAttribute', 'VehicleAttributeDetails_claim': 'VehicleAttributeDetails'})\n",
        "\n",
        "# Print the first few rows of the cleaned merged dataset\n",
        "merged_data.tail()\n"
      ]
    },
    {
      "cell_type": "code",
      "execution_count": null,
      "metadata": {
        "colab": {
          "base_uri": "https://localhost:8080/"
        },
        "id": "shJMWn1U5at2",
        "outputId": "c47d5777-95b9-4fec-f5ce-a2a371fbb87a"
      },
      "outputs": [
        {
          "output_type": "stream",
          "name": "stdout",
          "text": [
            "Index(['CustomerID', 'DateOfIncident', 'TypeOfIncident', 'TypeOfCollission',\n",
            "       'SeverityOfIncident', 'AuthoritiesContacted', 'IncidentState',\n",
            "       'IncidentCity', 'IncidentAddress', 'IncidentTime', 'NumberOfVehicles',\n",
            "       'PropertyDamage', 'BodilyInjuries', 'Witnesses', 'PoliceReport',\n",
            "       'AmountOfTotalClaim', 'AmountOfInjuryClaim', 'AmountOfPropertyClaim',\n",
            "       'AmountOfVehicleDamage', 'VehicleAttribute', 'VehicleAttributeDetails',\n",
            "       'InsuredAge', 'InsuredZipCode', 'InsuredGender',\n",
            "       'InsuredEducationLevel', 'InsuredOccupation', 'InsuredHobbies',\n",
            "       'CapitalGains', 'CapitalLoss', 'Country', 'ReportedFraud',\n",
            "       'InsurancePolicyNumber', 'CustomerLoyaltyPeriod',\n",
            "       'DateOfPolicyCoverage', 'InsurancePolicyState',\n",
            "       'Policy_CombinedSingleLimit', 'Policy_Deductible',\n",
            "       'PolicyAnnualPremium', 'UmbrellaLimit', 'InsuredRelationship'],\n",
            "      dtype='object')\n"
          ]
        }
      ],
      "source": [
        "print(merged_data.columns)"
      ]
    },
    {
      "cell_type": "markdown",
      "metadata": {
        "id": "qPacSBHY5at2"
      },
      "source": [
        "###  b) Removing synonymous and noisy attributes if necessary\n"
      ]
    },
    {
      "cell_type": "markdown",
      "metadata": {
        "id": "rvYig7lX5at3"
      },
      "source": [
        "The below code blocks display the first 10 and last 10 rows of the dataset to inspect the changes made in the previous code block."
      ]
    },
    {
      "cell_type": "code",
      "execution_count": null,
      "metadata": {
        "colab": {
          "base_uri": "https://localhost:8080/"
        },
        "id": "TyqQQ6jW5at3",
        "outputId": "4b867485-48e4-4c00-b2ca-ed788d570c54"
      },
      "outputs": [
        {
          "output_type": "stream",
          "name": "stdout",
          "text": [
            "  CustomerID DateOfIncident            TypeOfIncident TypeOfCollission  \\\n",
            "0  Cust10000     2015-02-03   Multi-vehicle Collision   Side Collision   \n",
            "1  Cust10000     2015-02-03   Multi-vehicle Collision   Side Collision   \n",
            "2  Cust10000     2015-02-03   Multi-vehicle Collision   Side Collision   \n",
            "3  Cust10000     2015-02-03   Multi-vehicle Collision   Side Collision   \n",
            "4  Cust10001     2015-02-02   Multi-vehicle Collision   Side Collision   \n",
            "5  Cust10001     2015-02-02   Multi-vehicle Collision   Side Collision   \n",
            "6  Cust10001     2015-02-02   Multi-vehicle Collision   Side Collision   \n",
            "7  Cust10001     2015-02-02   Multi-vehicle Collision   Side Collision   \n",
            "8  Cust10002     2015-01-15  Single Vehicle Collision   Side Collision   \n",
            "9  Cust10002     2015-01-15  Single Vehicle Collision   Side Collision   \n",
            "\n",
            "  SeverityOfIncident AuthoritiesContacted IncidentState IncidentCity  \\\n",
            "0         Total Loss               Police        State7        City1   \n",
            "1         Total Loss               Police        State7        City1   \n",
            "2         Total Loss               Police        State7        City1   \n",
            "3         Total Loss               Police        State7        City1   \n",
            "4         Total Loss               Police        State7        City5   \n",
            "5         Total Loss               Police        State7        City5   \n",
            "6         Total Loss               Police        State7        City5   \n",
            "7         Total Loss               Police        State7        City5   \n",
            "8       Minor Damage                Other        State8        City6   \n",
            "9       Minor Damage                Other        State8        City6   \n",
            "\n",
            "  IncidentAddress  IncidentTime  ...  ReportedFraud InsurancePolicyNumber  \\\n",
            "0   Location 1311            17  ...              N                119121   \n",
            "1   Location 1311            17  ...              N                119121   \n",
            "2   Location 1311            17  ...              N                119121   \n",
            "3   Location 1311            17  ...              N                119121   \n",
            "4   Location 1311            10  ...              N                119122   \n",
            "5   Location 1311            10  ...              N                119122   \n",
            "6   Location 1311            10  ...              N                119122   \n",
            "7   Location 1311            10  ...              N                119122   \n",
            "8   Location 2081            22  ...              N                119123   \n",
            "9   Location 2081            22  ...              N                119123   \n",
            "\n",
            "   CustomerLoyaltyPeriod DateOfPolicyCoverage InsurancePolicyState  \\\n",
            "0                     49           1998-10-25               State1   \n",
            "1                     49           1998-10-25               State1   \n",
            "2                     49           1998-10-25               State1   \n",
            "3                     49           1998-10-25               State1   \n",
            "4                    114           2000-11-15               State1   \n",
            "5                    114           2000-11-15               State1   \n",
            "6                    114           2000-11-15               State1   \n",
            "7                    114           2000-11-15               State1   \n",
            "8                    167           2001-02-12               State3   \n",
            "9                    167           2001-02-12               State3   \n",
            "\n",
            "  Policy_CombinedSingleLimit  Policy_Deductible  PolicyAnnualPremium  \\\n",
            "0                    100/300               1000              1632.73   \n",
            "1                    100/300               1000              1632.73   \n",
            "2                    100/300               1000              1632.73   \n",
            "3                    100/300               1000              1632.73   \n",
            "4                    100/300               1000              1255.19   \n",
            "5                    100/300               1000              1255.19   \n",
            "6                    100/300               1000              1255.19   \n",
            "7                    100/300               1000              1255.19   \n",
            "8                   500/1000                617              1373.38   \n",
            "9                   500/1000                617              1373.38   \n",
            "\n",
            "   UmbrellaLimit InsuredRelationship  \n",
            "0              0       not-in-family  \n",
            "1              0       not-in-family  \n",
            "2              0       not-in-family  \n",
            "3              0       not-in-family  \n",
            "4              0       not-in-family  \n",
            "5              0       not-in-family  \n",
            "6              0       not-in-family  \n",
            "7              0       not-in-family  \n",
            "8              0                wife  \n",
            "9              0                wife  \n",
            "\n",
            "[10 rows x 40 columns]\n"
          ]
        }
      ],
      "source": [
        "# Display the first 10 rows of the dataset\n",
        "print(merged_data.head(10))\n"
      ]
    },
    {
      "cell_type": "code",
      "execution_count": null,
      "metadata": {
        "colab": {
          "base_uri": "https://localhost:8080/"
        },
        "id": "cGGQ3KCj5at3",
        "outputId": "94027f59-76bc-4bdb-ae4c-750c330d18d0"
      },
      "outputs": [
        {
          "output_type": "stream",
          "name": "stdout",
          "text": [
            "       CustomerID DateOfIncident            TypeOfIncident TypeOfCollission  \\\n",
            "115334   Cust9996     2015-01-28  Single Vehicle Collision   Rear Collision   \n",
            "115335   Cust9996     2015-01-28  Single Vehicle Collision   Rear Collision   \n",
            "115336   Cust9997     2015-01-28  Single Vehicle Collision   Rear Collision   \n",
            "115337   Cust9997     2015-01-28  Single Vehicle Collision   Rear Collision   \n",
            "115338   Cust9997     2015-01-28  Single Vehicle Collision   Rear Collision   \n",
            "115339   Cust9997     2015-01-28  Single Vehicle Collision   Rear Collision   \n",
            "115340   Cust9999     2015-01-13  Single Vehicle Collision  Front Collision   \n",
            "115341   Cust9999     2015-01-13  Single Vehicle Collision  Front Collision   \n",
            "115342   Cust9999     2015-01-13  Single Vehicle Collision  Front Collision   \n",
            "115343   Cust9999     2015-01-13  Single Vehicle Collision  Front Collision   \n",
            "\n",
            "       SeverityOfIncident AuthoritiesContacted IncidentState IncidentCity  \\\n",
            "115334       Minor Damage                 Fire        State9        City7   \n",
            "115335       Minor Damage                 Fire        State9        City7   \n",
            "115336       Minor Damage            Ambulance        State9        City3   \n",
            "115337       Minor Damage            Ambulance        State9        City3   \n",
            "115338       Minor Damage            Ambulance        State9        City3   \n",
            "115339       Minor Damage            Ambulance        State9        City3   \n",
            "115340         Total Loss                Other        State8        City3   \n",
            "115341         Total Loss                Other        State8        City3   \n",
            "115342         Total Loss                Other        State8        City3   \n",
            "115343         Total Loss                Other        State8        City3   \n",
            "\n",
            "       IncidentAddress  IncidentTime  ...  ReportedFraud  \\\n",
            "115334   Location 1452             1  ...              N   \n",
            "115335   Location 1452             1  ...              N   \n",
            "115336   Location 1876             1  ...              N   \n",
            "115337   Location 1876             1  ...              N   \n",
            "115338   Location 1876             1  ...              N   \n",
            "115339   Location 1876             1  ...              N   \n",
            "115340   Location 1874             9  ...              N   \n",
            "115341   Location 1874             9  ...              N   \n",
            "115342   Location 1874             9  ...              N   \n",
            "115343   Location 1874             9  ...              N   \n",
            "\n",
            "       InsurancePolicyNumber  CustomerLoyaltyPeriod DateOfPolicyCoverage  \\\n",
            "115334                119117                    392           1998-09-10   \n",
            "115335                119117                    392           1998-09-10   \n",
            "115336                119118                    391           1998-08-10   \n",
            "115337                119118                    391           1998-08-10   \n",
            "115338                119118                    391           1998-08-10   \n",
            "115339                119118                    391           1998-08-10   \n",
            "115340                119120                    191           2003-04-12   \n",
            "115341                119120                    191           2003-04-12   \n",
            "115342                119120                    191           2003-04-12   \n",
            "115343                119120                    191           2003-04-12   \n",
            "\n",
            "       InsurancePolicyState Policy_CombinedSingleLimit  Policy_Deductible  \\\n",
            "115334               State3                    250/500                787   \n",
            "115335               State3                    250/500                787   \n",
            "115336               State3                    250/500                780   \n",
            "115337               State3                    250/500                780   \n",
            "115338               State3                    250/500                780   \n",
            "115339               State3                    250/500                780   \n",
            "115340               State2                   500/1000               2000   \n",
            "115341               State2                   500/1000               2000   \n",
            "115342               State2                   500/1000               2000   \n",
            "115343               State2                   500/1000               2000   \n",
            "\n",
            "        PolicyAnnualPremium  UmbrellaLimit InsuredRelationship  \n",
            "115334              1380.92        3448735           own-child  \n",
            "115335              1380.92        3448735           own-child  \n",
            "115336              1389.29        3364301       not-in-family  \n",
            "115337              1389.29        3364301       not-in-family  \n",
            "115338              1389.29        3364301       not-in-family  \n",
            "115339              1389.29        3364301       not-in-family  \n",
            "115340               928.43        2909175             husband  \n",
            "115341               928.43        2909175             husband  \n",
            "115342               928.43        2909175             husband  \n",
            "115343               928.43        2909175             husband  \n",
            "\n",
            "[10 rows x 40 columns]\n"
          ]
        }
      ],
      "source": [
        "# Display the last 10 rows of the dataset\n",
        "print(merged_data.tail(10))\n"
      ]
    },
    {
      "cell_type": "markdown",
      "metadata": {
        "id": "mUfMhd5a5at3"
      },
      "source": [
        "Based on the dataset, I see that some columns like CustomerID, DateOfIncident, InsurancePolicyNumber, and CustomerLoyaltyPeriod are likely identifiers and may not contribute significantly to the prediction of fraud. These can be considered for removal unless there is a specific reason to keep them. The code block below drops columns that might be considered noisy or identifiers from the dataset.\n",
        "The resulting cleaned dataset is printed to inspect the changes."
      ]
    },
    {
      "cell_type": "code",
      "execution_count": null,
      "metadata": {
        "colab": {
          "base_uri": "https://localhost:8080/"
        },
        "id": "z_B8CoI35at4",
        "outputId": "51ed24e5-ea15-4a80-e7af-568febe03562"
      },
      "outputs": [
        {
          "output_type": "stream",
          "name": "stdout",
          "text": [
            "            TypeOfIncident TypeOfCollission SeverityOfIncident  \\\n",
            "0  Multi-vehicle Collision   Side Collision         Total Loss   \n",
            "1  Multi-vehicle Collision   Side Collision         Total Loss   \n",
            "2  Multi-vehicle Collision   Side Collision         Total Loss   \n",
            "3  Multi-vehicle Collision   Side Collision         Total Loss   \n",
            "4  Multi-vehicle Collision   Side Collision         Total Loss   \n",
            "\n",
            "  AuthoritiesContacted IncidentState IncidentCity IncidentAddress  \\\n",
            "0               Police        State7        City1   Location 1311   \n",
            "1               Police        State7        City1   Location 1311   \n",
            "2               Police        State7        City1   Location 1311   \n",
            "3               Police        State7        City1   Location 1311   \n",
            "4               Police        State7        City5   Location 1311   \n",
            "\n",
            "   IncidentTime  NumberOfVehicles PropertyDamage  ...  CapitalLoss Country  \\\n",
            "0            17                 3              ?  ...       -48500   India   \n",
            "1            17                 3              ?  ...       -48500   India   \n",
            "2            17                 3              ?  ...       -48500   India   \n",
            "3            17                 3              ?  ...       -48500   India   \n",
            "4            10                 3            YES  ...       -48500   India   \n",
            "\n",
            "  ReportedFraud DateOfPolicyCoverage  InsurancePolicyState  \\\n",
            "0             N           1998-10-25                State1   \n",
            "1             N           1998-10-25                State1   \n",
            "2             N           1998-10-25                State1   \n",
            "3             N           1998-10-25                State1   \n",
            "4             N           2000-11-15                State1   \n",
            "\n",
            "   Policy_CombinedSingleLimit  Policy_Deductible PolicyAnnualPremium  \\\n",
            "0                     100/300               1000             1632.73   \n",
            "1                     100/300               1000             1632.73   \n",
            "2                     100/300               1000             1632.73   \n",
            "3                     100/300               1000             1632.73   \n",
            "4                     100/300               1000             1255.19   \n",
            "\n",
            "  UmbrellaLimit  InsuredRelationship  \n",
            "0             0        not-in-family  \n",
            "1             0        not-in-family  \n",
            "2             0        not-in-family  \n",
            "3             0        not-in-family  \n",
            "4             0        not-in-family  \n",
            "\n",
            "[5 rows x 36 columns]\n"
          ]
        }
      ],
      "source": [
        "# Drop columns that might be considered noisy or identifiers\n",
        "columns_to_drop = ['CustomerID', 'DateOfIncident', 'InsurancePolicyNumber', 'CustomerLoyaltyPeriod']\n",
        "\n",
        "# Drop the identified columns\n",
        "cleaned_data = merged_data.drop(columns=columns_to_drop, axis=1)\n",
        "\n",
        "# Display the first few rows of the cleaned dataset\n",
        "print(cleaned_data.head())\n"
      ]
    },
    {
      "cell_type": "markdown",
      "metadata": {
        "id": "eRSm59Pb5at4"
      },
      "source": [
        "This code block prints the last few rows of the cleaned dataset to further inspect the changes made in the previous code block."
      ]
    },
    {
      "cell_type": "code",
      "execution_count": null,
      "metadata": {
        "colab": {
          "base_uri": "https://localhost:8080/",
          "height": 338
        },
        "id": "D7F6j9_S5at4",
        "outputId": "b3a73345-1783-4a10-9ae8-95ccba9a2b0a"
      },
      "outputs": [
        {
          "output_type": "execute_result",
          "data": {
            "text/plain": [
              "                  TypeOfIncident TypeOfCollission SeverityOfIncident  \\\n",
              "115339  Single Vehicle Collision   Rear Collision       Minor Damage   \n",
              "115340  Single Vehicle Collision  Front Collision         Total Loss   \n",
              "115341  Single Vehicle Collision  Front Collision         Total Loss   \n",
              "115342  Single Vehicle Collision  Front Collision         Total Loss   \n",
              "115343  Single Vehicle Collision  Front Collision         Total Loss   \n",
              "\n",
              "       AuthoritiesContacted IncidentState IncidentCity IncidentAddress  \\\n",
              "115339            Ambulance        State9        City3   Location 1876   \n",
              "115340                Other        State8        City3   Location 1874   \n",
              "115341                Other        State8        City3   Location 1874   \n",
              "115342                Other        State8        City3   Location 1874   \n",
              "115343                Other        State8        City3   Location 1874   \n",
              "\n",
              "        IncidentTime  NumberOfVehicles PropertyDamage  ...  CapitalLoss  \\\n",
              "115339             1                 1              ?  ...       -43800   \n",
              "115340             9                 1             NO  ...       -74300   \n",
              "115341             9                 1             NO  ...       -74300   \n",
              "115342             9                 1             NO  ...       -74300   \n",
              "115343             9                 1             NO  ...       -74300   \n",
              "\n",
              "       Country ReportedFraud DateOfPolicyCoverage  InsurancePolicyState  \\\n",
              "115339   India             N           1998-08-10                State3   \n",
              "115340   India             N           2003-04-12                State2   \n",
              "115341   India             N           2003-04-12                State2   \n",
              "115342   India             N           2003-04-12                State2   \n",
              "115343   India             N           2003-04-12                State2   \n",
              "\n",
              "        Policy_CombinedSingleLimit  Policy_Deductible PolicyAnnualPremium  \\\n",
              "115339                     250/500                780             1389.29   \n",
              "115340                    500/1000               2000              928.43   \n",
              "115341                    500/1000               2000              928.43   \n",
              "115342                    500/1000               2000              928.43   \n",
              "115343                    500/1000               2000              928.43   \n",
              "\n",
              "       UmbrellaLimit  InsuredRelationship  \n",
              "115339       3364301        not-in-family  \n",
              "115340       2909175              husband  \n",
              "115341       2909175              husband  \n",
              "115342       2909175              husband  \n",
              "115343       2909175              husband  \n",
              "\n",
              "[5 rows x 36 columns]"
            ],
            "text/html": [
              "\n",
              "  <div id=\"df-90c84627-3e11-4e48-846d-b1dcebf8b91d\" class=\"colab-df-container\">\n",
              "    <div>\n",
              "<style scoped>\n",
              "    .dataframe tbody tr th:only-of-type {\n",
              "        vertical-align: middle;\n",
              "    }\n",
              "\n",
              "    .dataframe tbody tr th {\n",
              "        vertical-align: top;\n",
              "    }\n",
              "\n",
              "    .dataframe thead th {\n",
              "        text-align: right;\n",
              "    }\n",
              "</style>\n",
              "<table border=\"1\" class=\"dataframe\">\n",
              "  <thead>\n",
              "    <tr style=\"text-align: right;\">\n",
              "      <th></th>\n",
              "      <th>TypeOfIncident</th>\n",
              "      <th>TypeOfCollission</th>\n",
              "      <th>SeverityOfIncident</th>\n",
              "      <th>AuthoritiesContacted</th>\n",
              "      <th>IncidentState</th>\n",
              "      <th>IncidentCity</th>\n",
              "      <th>IncidentAddress</th>\n",
              "      <th>IncidentTime</th>\n",
              "      <th>NumberOfVehicles</th>\n",
              "      <th>PropertyDamage</th>\n",
              "      <th>...</th>\n",
              "      <th>CapitalLoss</th>\n",
              "      <th>Country</th>\n",
              "      <th>ReportedFraud</th>\n",
              "      <th>DateOfPolicyCoverage</th>\n",
              "      <th>InsurancePolicyState</th>\n",
              "      <th>Policy_CombinedSingleLimit</th>\n",
              "      <th>Policy_Deductible</th>\n",
              "      <th>PolicyAnnualPremium</th>\n",
              "      <th>UmbrellaLimit</th>\n",
              "      <th>InsuredRelationship</th>\n",
              "    </tr>\n",
              "  </thead>\n",
              "  <tbody>\n",
              "    <tr>\n",
              "      <th>115339</th>\n",
              "      <td>Single Vehicle Collision</td>\n",
              "      <td>Rear Collision</td>\n",
              "      <td>Minor Damage</td>\n",
              "      <td>Ambulance</td>\n",
              "      <td>State9</td>\n",
              "      <td>City3</td>\n",
              "      <td>Location 1876</td>\n",
              "      <td>1</td>\n",
              "      <td>1</td>\n",
              "      <td>?</td>\n",
              "      <td>...</td>\n",
              "      <td>-43800</td>\n",
              "      <td>India</td>\n",
              "      <td>N</td>\n",
              "      <td>1998-08-10</td>\n",
              "      <td>State3</td>\n",
              "      <td>250/500</td>\n",
              "      <td>780</td>\n",
              "      <td>1389.29</td>\n",
              "      <td>3364301</td>\n",
              "      <td>not-in-family</td>\n",
              "    </tr>\n",
              "    <tr>\n",
              "      <th>115340</th>\n",
              "      <td>Single Vehicle Collision</td>\n",
              "      <td>Front Collision</td>\n",
              "      <td>Total Loss</td>\n",
              "      <td>Other</td>\n",
              "      <td>State8</td>\n",
              "      <td>City3</td>\n",
              "      <td>Location 1874</td>\n",
              "      <td>9</td>\n",
              "      <td>1</td>\n",
              "      <td>NO</td>\n",
              "      <td>...</td>\n",
              "      <td>-74300</td>\n",
              "      <td>India</td>\n",
              "      <td>N</td>\n",
              "      <td>2003-04-12</td>\n",
              "      <td>State2</td>\n",
              "      <td>500/1000</td>\n",
              "      <td>2000</td>\n",
              "      <td>928.43</td>\n",
              "      <td>2909175</td>\n",
              "      <td>husband</td>\n",
              "    </tr>\n",
              "    <tr>\n",
              "      <th>115341</th>\n",
              "      <td>Single Vehicle Collision</td>\n",
              "      <td>Front Collision</td>\n",
              "      <td>Total Loss</td>\n",
              "      <td>Other</td>\n",
              "      <td>State8</td>\n",
              "      <td>City3</td>\n",
              "      <td>Location 1874</td>\n",
              "      <td>9</td>\n",
              "      <td>1</td>\n",
              "      <td>NO</td>\n",
              "      <td>...</td>\n",
              "      <td>-74300</td>\n",
              "      <td>India</td>\n",
              "      <td>N</td>\n",
              "      <td>2003-04-12</td>\n",
              "      <td>State2</td>\n",
              "      <td>500/1000</td>\n",
              "      <td>2000</td>\n",
              "      <td>928.43</td>\n",
              "      <td>2909175</td>\n",
              "      <td>husband</td>\n",
              "    </tr>\n",
              "    <tr>\n",
              "      <th>115342</th>\n",
              "      <td>Single Vehicle Collision</td>\n",
              "      <td>Front Collision</td>\n",
              "      <td>Total Loss</td>\n",
              "      <td>Other</td>\n",
              "      <td>State8</td>\n",
              "      <td>City3</td>\n",
              "      <td>Location 1874</td>\n",
              "      <td>9</td>\n",
              "      <td>1</td>\n",
              "      <td>NO</td>\n",
              "      <td>...</td>\n",
              "      <td>-74300</td>\n",
              "      <td>India</td>\n",
              "      <td>N</td>\n",
              "      <td>2003-04-12</td>\n",
              "      <td>State2</td>\n",
              "      <td>500/1000</td>\n",
              "      <td>2000</td>\n",
              "      <td>928.43</td>\n",
              "      <td>2909175</td>\n",
              "      <td>husband</td>\n",
              "    </tr>\n",
              "    <tr>\n",
              "      <th>115343</th>\n",
              "      <td>Single Vehicle Collision</td>\n",
              "      <td>Front Collision</td>\n",
              "      <td>Total Loss</td>\n",
              "      <td>Other</td>\n",
              "      <td>State8</td>\n",
              "      <td>City3</td>\n",
              "      <td>Location 1874</td>\n",
              "      <td>9</td>\n",
              "      <td>1</td>\n",
              "      <td>NO</td>\n",
              "      <td>...</td>\n",
              "      <td>-74300</td>\n",
              "      <td>India</td>\n",
              "      <td>N</td>\n",
              "      <td>2003-04-12</td>\n",
              "      <td>State2</td>\n",
              "      <td>500/1000</td>\n",
              "      <td>2000</td>\n",
              "      <td>928.43</td>\n",
              "      <td>2909175</td>\n",
              "      <td>husband</td>\n",
              "    </tr>\n",
              "  </tbody>\n",
              "</table>\n",
              "<p>5 rows × 36 columns</p>\n",
              "</div>\n",
              "    <div class=\"colab-df-buttons\">\n",
              "\n",
              "  <div class=\"colab-df-container\">\n",
              "    <button class=\"colab-df-convert\" onclick=\"convertToInteractive('df-90c84627-3e11-4e48-846d-b1dcebf8b91d')\"\n",
              "            title=\"Convert this dataframe to an interactive table.\"\n",
              "            style=\"display:none;\">\n",
              "\n",
              "  <svg xmlns=\"http://www.w3.org/2000/svg\" height=\"24px\" viewBox=\"0 -960 960 960\">\n",
              "    <path d=\"M120-120v-720h720v720H120Zm60-500h600v-160H180v160Zm220 220h160v-160H400v160Zm0 220h160v-160H400v160ZM180-400h160v-160H180v160Zm440 0h160v-160H620v160ZM180-180h160v-160H180v160Zm440 0h160v-160H620v160Z\"/>\n",
              "  </svg>\n",
              "    </button>\n",
              "\n",
              "  <style>\n",
              "    .colab-df-container {\n",
              "      display:flex;\n",
              "      gap: 12px;\n",
              "    }\n",
              "\n",
              "    .colab-df-convert {\n",
              "      background-color: #E8F0FE;\n",
              "      border: none;\n",
              "      border-radius: 50%;\n",
              "      cursor: pointer;\n",
              "      display: none;\n",
              "      fill: #1967D2;\n",
              "      height: 32px;\n",
              "      padding: 0 0 0 0;\n",
              "      width: 32px;\n",
              "    }\n",
              "\n",
              "    .colab-df-convert:hover {\n",
              "      background-color: #E2EBFA;\n",
              "      box-shadow: 0px 1px 2px rgba(60, 64, 67, 0.3), 0px 1px 3px 1px rgba(60, 64, 67, 0.15);\n",
              "      fill: #174EA6;\n",
              "    }\n",
              "\n",
              "    .colab-df-buttons div {\n",
              "      margin-bottom: 4px;\n",
              "    }\n",
              "\n",
              "    [theme=dark] .colab-df-convert {\n",
              "      background-color: #3B4455;\n",
              "      fill: #D2E3FC;\n",
              "    }\n",
              "\n",
              "    [theme=dark] .colab-df-convert:hover {\n",
              "      background-color: #434B5C;\n",
              "      box-shadow: 0px 1px 3px 1px rgba(0, 0, 0, 0.15);\n",
              "      filter: drop-shadow(0px 1px 2px rgba(0, 0, 0, 0.3));\n",
              "      fill: #FFFFFF;\n",
              "    }\n",
              "  </style>\n",
              "\n",
              "    <script>\n",
              "      const buttonEl =\n",
              "        document.querySelector('#df-90c84627-3e11-4e48-846d-b1dcebf8b91d button.colab-df-convert');\n",
              "      buttonEl.style.display =\n",
              "        google.colab.kernel.accessAllowed ? 'block' : 'none';\n",
              "\n",
              "      async function convertToInteractive(key) {\n",
              "        const element = document.querySelector('#df-90c84627-3e11-4e48-846d-b1dcebf8b91d');\n",
              "        const dataTable =\n",
              "          await google.colab.kernel.invokeFunction('convertToInteractive',\n",
              "                                                    [key], {});\n",
              "        if (!dataTable) return;\n",
              "\n",
              "        const docLinkHtml = 'Like what you see? Visit the ' +\n",
              "          '<a target=\"_blank\" href=https://colab.research.google.com/notebooks/data_table.ipynb>data table notebook</a>'\n",
              "          + ' to learn more about interactive tables.';\n",
              "        element.innerHTML = '';\n",
              "        dataTable['output_type'] = 'display_data';\n",
              "        await google.colab.output.renderOutput(dataTable, element);\n",
              "        const docLink = document.createElement('div');\n",
              "        docLink.innerHTML = docLinkHtml;\n",
              "        element.appendChild(docLink);\n",
              "      }\n",
              "    </script>\n",
              "  </div>\n",
              "\n",
              "\n",
              "<div id=\"df-75442cda-2312-4671-b3b3-beac72a06b5a\">\n",
              "  <button class=\"colab-df-quickchart\" onclick=\"quickchart('df-75442cda-2312-4671-b3b3-beac72a06b5a')\"\n",
              "            title=\"Suggest charts\"\n",
              "            style=\"display:none;\">\n",
              "\n",
              "<svg xmlns=\"http://www.w3.org/2000/svg\" height=\"24px\"viewBox=\"0 0 24 24\"\n",
              "     width=\"24px\">\n",
              "    <g>\n",
              "        <path d=\"M19 3H5c-1.1 0-2 .9-2 2v14c0 1.1.9 2 2 2h14c1.1 0 2-.9 2-2V5c0-1.1-.9-2-2-2zM9 17H7v-7h2v7zm4 0h-2V7h2v10zm4 0h-2v-4h2v4z\"/>\n",
              "    </g>\n",
              "</svg>\n",
              "  </button>\n",
              "\n",
              "<style>\n",
              "  .colab-df-quickchart {\n",
              "      --bg-color: #E8F0FE;\n",
              "      --fill-color: #1967D2;\n",
              "      --hover-bg-color: #E2EBFA;\n",
              "      --hover-fill-color: #174EA6;\n",
              "      --disabled-fill-color: #AAA;\n",
              "      --disabled-bg-color: #DDD;\n",
              "  }\n",
              "\n",
              "  [theme=dark] .colab-df-quickchart {\n",
              "      --bg-color: #3B4455;\n",
              "      --fill-color: #D2E3FC;\n",
              "      --hover-bg-color: #434B5C;\n",
              "      --hover-fill-color: #FFFFFF;\n",
              "      --disabled-bg-color: #3B4455;\n",
              "      --disabled-fill-color: #666;\n",
              "  }\n",
              "\n",
              "  .colab-df-quickchart {\n",
              "    background-color: var(--bg-color);\n",
              "    border: none;\n",
              "    border-radius: 50%;\n",
              "    cursor: pointer;\n",
              "    display: none;\n",
              "    fill: var(--fill-color);\n",
              "    height: 32px;\n",
              "    padding: 0;\n",
              "    width: 32px;\n",
              "  }\n",
              "\n",
              "  .colab-df-quickchart:hover {\n",
              "    background-color: var(--hover-bg-color);\n",
              "    box-shadow: 0 1px 2px rgba(60, 64, 67, 0.3), 0 1px 3px 1px rgba(60, 64, 67, 0.15);\n",
              "    fill: var(--button-hover-fill-color);\n",
              "  }\n",
              "\n",
              "  .colab-df-quickchart-complete:disabled,\n",
              "  .colab-df-quickchart-complete:disabled:hover {\n",
              "    background-color: var(--disabled-bg-color);\n",
              "    fill: var(--disabled-fill-color);\n",
              "    box-shadow: none;\n",
              "  }\n",
              "\n",
              "  .colab-df-spinner {\n",
              "    border: 2px solid var(--fill-color);\n",
              "    border-color: transparent;\n",
              "    border-bottom-color: var(--fill-color);\n",
              "    animation:\n",
              "      spin 1s steps(1) infinite;\n",
              "  }\n",
              "\n",
              "  @keyframes spin {\n",
              "    0% {\n",
              "      border-color: transparent;\n",
              "      border-bottom-color: var(--fill-color);\n",
              "      border-left-color: var(--fill-color);\n",
              "    }\n",
              "    20% {\n",
              "      border-color: transparent;\n",
              "      border-left-color: var(--fill-color);\n",
              "      border-top-color: var(--fill-color);\n",
              "    }\n",
              "    30% {\n",
              "      border-color: transparent;\n",
              "      border-left-color: var(--fill-color);\n",
              "      border-top-color: var(--fill-color);\n",
              "      border-right-color: var(--fill-color);\n",
              "    }\n",
              "    40% {\n",
              "      border-color: transparent;\n",
              "      border-right-color: var(--fill-color);\n",
              "      border-top-color: var(--fill-color);\n",
              "    }\n",
              "    60% {\n",
              "      border-color: transparent;\n",
              "      border-right-color: var(--fill-color);\n",
              "    }\n",
              "    80% {\n",
              "      border-color: transparent;\n",
              "      border-right-color: var(--fill-color);\n",
              "      border-bottom-color: var(--fill-color);\n",
              "    }\n",
              "    90% {\n",
              "      border-color: transparent;\n",
              "      border-bottom-color: var(--fill-color);\n",
              "    }\n",
              "  }\n",
              "</style>\n",
              "\n",
              "  <script>\n",
              "    async function quickchart(key) {\n",
              "      const quickchartButtonEl =\n",
              "        document.querySelector('#' + key + ' button');\n",
              "      quickchartButtonEl.disabled = true;  // To prevent multiple clicks.\n",
              "      quickchartButtonEl.classList.add('colab-df-spinner');\n",
              "      try {\n",
              "        const charts = await google.colab.kernel.invokeFunction(\n",
              "            'suggestCharts', [key], {});\n",
              "      } catch (error) {\n",
              "        console.error('Error during call to suggestCharts:', error);\n",
              "      }\n",
              "      quickchartButtonEl.classList.remove('colab-df-spinner');\n",
              "      quickchartButtonEl.classList.add('colab-df-quickchart-complete');\n",
              "    }\n",
              "    (() => {\n",
              "      let quickchartButtonEl =\n",
              "        document.querySelector('#df-75442cda-2312-4671-b3b3-beac72a06b5a button');\n",
              "      quickchartButtonEl.style.display =\n",
              "        google.colab.kernel.accessAllowed ? 'block' : 'none';\n",
              "    })();\n",
              "  </script>\n",
              "</div>\n",
              "\n",
              "    </div>\n",
              "  </div>\n"
            ]
          },
          "metadata": {},
          "execution_count": 15
        }
      ],
      "source": [
        "cleaned_data.tail()"
      ]
    },
    {
      "cell_type": "markdown",
      "metadata": {
        "id": "plPmb8W85at5"
      },
      "source": [
        "This code block displays the data types of columns in the cleaned dataset."
      ]
    },
    {
      "cell_type": "code",
      "execution_count": null,
      "metadata": {
        "colab": {
          "base_uri": "https://localhost:8080/"
        },
        "id": "eb1hGr4F5at6",
        "outputId": "776a7bad-1290-4a32-86ca-12bbd4449545"
      },
      "outputs": [
        {
          "output_type": "stream",
          "name": "stdout",
          "text": [
            "TypeOfIncident                 object\n",
            "TypeOfCollission               object\n",
            "SeverityOfIncident             object\n",
            "AuthoritiesContacted           object\n",
            "IncidentState                  object\n",
            "IncidentCity                   object\n",
            "IncidentAddress                object\n",
            "IncidentTime                    int64\n",
            "NumberOfVehicles                int64\n",
            "PropertyDamage                 object\n",
            "BodilyInjuries                  int64\n",
            "Witnesses                      object\n",
            "PoliceReport                   object\n",
            "AmountOfTotalClaim             object\n",
            "AmountOfInjuryClaim             int64\n",
            "AmountOfPropertyClaim           int64\n",
            "AmountOfVehicleDamage           int64\n",
            "VehicleAttribute               object\n",
            "VehicleAttributeDetails        object\n",
            "InsuredAge                      int64\n",
            "InsuredZipCode                  int64\n",
            "InsuredGender                  object\n",
            "InsuredEducationLevel          object\n",
            "InsuredOccupation              object\n",
            "InsuredHobbies                 object\n",
            "CapitalGains                    int64\n",
            "CapitalLoss                     int64\n",
            "Country                        object\n",
            "ReportedFraud                  object\n",
            "DateOfPolicyCoverage           object\n",
            "InsurancePolicyState           object\n",
            "Policy_CombinedSingleLimit     object\n",
            "Policy_Deductible               int64\n",
            "PolicyAnnualPremium           float64\n",
            "UmbrellaLimit                   int64\n",
            "InsuredRelationship            object\n",
            "dtype: object\n"
          ]
        }
      ],
      "source": [
        "print(cleaned_data.dtypes)"
      ]
    },
    {
      "cell_type": "markdown",
      "metadata": {
        "id": "_Rgqa6v-5at7"
      },
      "source": [
        "###  c) Dealing with missing values if necessary\n"
      ]
    },
    {
      "cell_type": "markdown",
      "metadata": {
        "id": "ALXcIi-W5at8"
      },
      "source": [
        "This code block checks for missing values in the cleaned dataset and displays columns with missing values along with their counts."
      ]
    },
    {
      "cell_type": "code",
      "execution_count": null,
      "metadata": {
        "colab": {
          "base_uri": "https://localhost:8080/"
        },
        "id": "wv7Rf4w15at9",
        "outputId": "d2c645b4-27f4-40ab-88ce-e6df87e20f20"
      },
      "outputs": [
        {
          "output_type": "stream",
          "name": "stdout",
          "text": [
            "InsuredGender    120\n",
            "Country            8\n",
            "dtype: int64\n"
          ]
        }
      ],
      "source": [
        "# Check for missing values\n",
        "missing_values = cleaned_data.isnull().sum()\n",
        "\n",
        "# Display columns with missing values and their counts\n",
        "print(missing_values[missing_values > 0])\n"
      ]
    },
    {
      "cell_type": "markdown",
      "metadata": {
        "id": "L1khOuUm5at9"
      },
      "source": [
        "This code block imputes missing values in the 'InsuredGender' and 'Country' columns with their respective modes."
      ]
    },
    {
      "cell_type": "code",
      "execution_count": null,
      "metadata": {
        "id": "FKRH3gzb5at9"
      },
      "outputs": [],
      "source": [
        "# Impute missing values with the mode for 'InsuredGender'\n",
        "cleaned_data['InsuredGender'].fillna(cleaned_data['InsuredGender'].mode()[0], inplace=True)\n",
        "\n",
        "# Impute missing values with the mode for 'Country'\n",
        "cleaned_data['Country'].fillna(cleaned_data['Country'].mode()[0], inplace=True)"
      ]
    },
    {
      "cell_type": "markdown",
      "metadata": {
        "id": "2abv2rGe5at-"
      },
      "source": [
        "This code block drops rows with missing values in the cleaned dataset."
      ]
    },
    {
      "cell_type": "code",
      "execution_count": null,
      "metadata": {
        "id": "sXDhDChp5at-"
      },
      "outputs": [],
      "source": [
        "# Drop rows with missing values\n",
        "cleaned_data.dropna(inplace=True)\n"
      ]
    },
    {
      "cell_type": "markdown",
      "metadata": {
        "id": "_lxZDyEE5at-"
      },
      "source": [
        "This code block uses SimpleImputer from sklearn to impute missing values for 'InsuredGender' and 'Country' with the most frequent values."
      ]
    },
    {
      "cell_type": "code",
      "execution_count": null,
      "metadata": {
        "id": "Qx8StMt35at_"
      },
      "outputs": [],
      "source": [
        "import sklearn\n",
        "from sklearn.impute import SimpleImputer\n",
        "\n",
        "# Impute missing values for 'InsuredGender' using a SimpleImputer with strategy='most_frequent'\n",
        "imputer_gender = SimpleImputer(strategy='most_frequent')\n",
        "cleaned_data['InsuredGender'] = imputer_gender.fit_transform(cleaned_data[['InsuredGender']])\n",
        "\n",
        "# Impute missing values for 'Country' using a SimpleImputer with strategy='most_frequent'\n",
        "imputer_country = SimpleImputer(strategy='most_frequent')\n",
        "cleaned_data['Country'] = imputer_country.fit_transform(cleaned_data[['Country']])\n"
      ]
    },
    {
      "cell_type": "markdown",
      "metadata": {
        "id": "UxUpV0Yp5auA"
      },
      "source": [
        "These code blocks below displays the first few and last few rows of the cleaned dataset after handling missing values."
      ]
    },
    {
      "cell_type": "code",
      "execution_count": null,
      "metadata": {
        "colab": {
          "base_uri": "https://localhost:8080/"
        },
        "id": "67oxeyrl5auA",
        "outputId": "46f9ee24-0880-43c2-9013-8648cdda32c8"
      },
      "outputs": [
        {
          "output_type": "stream",
          "name": "stdout",
          "text": [
            "            TypeOfIncident TypeOfCollission SeverityOfIncident  \\\n",
            "0  Multi-vehicle Collision   Side Collision         Total Loss   \n",
            "1  Multi-vehicle Collision   Side Collision         Total Loss   \n",
            "2  Multi-vehicle Collision   Side Collision         Total Loss   \n",
            "3  Multi-vehicle Collision   Side Collision         Total Loss   \n",
            "4  Multi-vehicle Collision   Side Collision         Total Loss   \n",
            "\n",
            "  AuthoritiesContacted IncidentState IncidentCity IncidentAddress  \\\n",
            "0               Police        State7        City1   Location 1311   \n",
            "1               Police        State7        City1   Location 1311   \n",
            "2               Police        State7        City1   Location 1311   \n",
            "3               Police        State7        City1   Location 1311   \n",
            "4               Police        State7        City5   Location 1311   \n",
            "\n",
            "   IncidentTime  NumberOfVehicles PropertyDamage  ...  CapitalLoss Country  \\\n",
            "0            17                 3              ?  ...       -48500   India   \n",
            "1            17                 3              ?  ...       -48500   India   \n",
            "2            17                 3              ?  ...       -48500   India   \n",
            "3            17                 3              ?  ...       -48500   India   \n",
            "4            10                 3            YES  ...       -48500   India   \n",
            "\n",
            "  ReportedFraud DateOfPolicyCoverage  InsurancePolicyState  \\\n",
            "0             N           1998-10-25                State1   \n",
            "1             N           1998-10-25                State1   \n",
            "2             N           1998-10-25                State1   \n",
            "3             N           1998-10-25                State1   \n",
            "4             N           2000-11-15                State1   \n",
            "\n",
            "   Policy_CombinedSingleLimit  Policy_Deductible PolicyAnnualPremium  \\\n",
            "0                     100/300               1000             1632.73   \n",
            "1                     100/300               1000             1632.73   \n",
            "2                     100/300               1000             1632.73   \n",
            "3                     100/300               1000             1632.73   \n",
            "4                     100/300               1000             1255.19   \n",
            "\n",
            "  UmbrellaLimit  InsuredRelationship  \n",
            "0             0        not-in-family  \n",
            "1             0        not-in-family  \n",
            "2             0        not-in-family  \n",
            "3             0        not-in-family  \n",
            "4             0        not-in-family  \n",
            "\n",
            "[5 rows x 36 columns]\n"
          ]
        }
      ],
      "source": [
        "print(cleaned_data.head())\n"
      ]
    },
    {
      "cell_type": "code",
      "execution_count": null,
      "metadata": {
        "colab": {
          "base_uri": "https://localhost:8080/"
        },
        "id": "6a2K-nHA5auA",
        "outputId": "eebfb6f7-f043-44f4-e50d-65a27b85f10d"
      },
      "outputs": [
        {
          "output_type": "stream",
          "name": "stdout",
          "text": [
            "                  TypeOfIncident TypeOfCollission SeverityOfIncident  \\\n",
            "115339  Single Vehicle Collision   Rear Collision       Minor Damage   \n",
            "115340  Single Vehicle Collision  Front Collision         Total Loss   \n",
            "115341  Single Vehicle Collision  Front Collision         Total Loss   \n",
            "115342  Single Vehicle Collision  Front Collision         Total Loss   \n",
            "115343  Single Vehicle Collision  Front Collision         Total Loss   \n",
            "\n",
            "       AuthoritiesContacted IncidentState IncidentCity IncidentAddress  \\\n",
            "115339            Ambulance        State9        City3   Location 1876   \n",
            "115340                Other        State8        City3   Location 1874   \n",
            "115341                Other        State8        City3   Location 1874   \n",
            "115342                Other        State8        City3   Location 1874   \n",
            "115343                Other        State8        City3   Location 1874   \n",
            "\n",
            "        IncidentTime  NumberOfVehicles PropertyDamage  ...  CapitalLoss  \\\n",
            "115339             1                 1              ?  ...       -43800   \n",
            "115340             9                 1             NO  ...       -74300   \n",
            "115341             9                 1             NO  ...       -74300   \n",
            "115342             9                 1             NO  ...       -74300   \n",
            "115343             9                 1             NO  ...       -74300   \n",
            "\n",
            "       Country ReportedFraud DateOfPolicyCoverage  InsurancePolicyState  \\\n",
            "115339   India             N           1998-08-10                State3   \n",
            "115340   India             N           2003-04-12                State2   \n",
            "115341   India             N           2003-04-12                State2   \n",
            "115342   India             N           2003-04-12                State2   \n",
            "115343   India             N           2003-04-12                State2   \n",
            "\n",
            "        Policy_CombinedSingleLimit  Policy_Deductible PolicyAnnualPremium  \\\n",
            "115339                     250/500                780             1389.29   \n",
            "115340                    500/1000               2000              928.43   \n",
            "115341                    500/1000               2000              928.43   \n",
            "115342                    500/1000               2000              928.43   \n",
            "115343                    500/1000               2000              928.43   \n",
            "\n",
            "       UmbrellaLimit  InsuredRelationship  \n",
            "115339       3364301        not-in-family  \n",
            "115340       2909175              husband  \n",
            "115341       2909175              husband  \n",
            "115342       2909175              husband  \n",
            "115343       2909175              husband  \n",
            "\n",
            "[5 rows x 36 columns]\n"
          ]
        }
      ],
      "source": [
        "print(cleaned_data.tail())"
      ]
    },
    {
      "cell_type": "markdown",
      "metadata": {
        "id": "ZGSMHcse5auA"
      },
      "source": [
        "This code block below handles missing values in the 'PropertyDamage' column, imputes missing values for numerical columns with the mean, and handles categorical columns as needed.\n",
        "The cleaned dataset is displayed after these operations."
      ]
    },
    {
      "cell_type": "code",
      "execution_count": null,
      "metadata": {
        "id": "aF76O0485auA"
      },
      "outputs": [],
      "source": []
    },
    {
      "cell_type": "markdown",
      "metadata": {
        "id": "wPnPczVC5auA"
      },
      "source": [
        "This code block below checks for missing values in the cleaned dataset after the final imputations and displays columns with missing values along with their counts."
      ]
    },
    {
      "cell_type": "code",
      "execution_count": null,
      "metadata": {
        "colab": {
          "base_uri": "https://localhost:8080/"
        },
        "id": "GxwqI6nR5auB",
        "outputId": "d34833d7-bbb1-429b-8935-17cc6b922e10"
      },
      "outputs": [
        {
          "output_type": "stream",
          "name": "stdout",
          "text": [
            "Series([], dtype: int64)\n"
          ]
        }
      ],
      "source": [
        "# Check for missing values\n",
        "missing_values = cleaned_data.isnull().sum()\n",
        "\n",
        "# Display columns with missing values and their counts\n",
        "print(missing_values[missing_values > 0])\n"
      ]
    },
    {
      "cell_type": "markdown",
      "metadata": {
        "id": "ROoXUQAb5auB"
      },
      "source": [
        "This code block below imputes missing values in the 'PropertyDamage' column with the mode and verifies that there are no more missing values in the cleaned dataset."
      ]
    },
    {
      "cell_type": "code",
      "execution_count": null,
      "metadata": {
        "colab": {
          "base_uri": "https://localhost:8080/"
        },
        "id": "Y_Z0P1WB5auB",
        "outputId": "6658e676-bb11-4df9-8506-5f1123525a57"
      },
      "outputs": [
        {
          "output_type": "stream",
          "name": "stdout",
          "text": [
            "Series([], dtype: int64)\n"
          ]
        }
      ],
      "source": [
        "# Impute missing values in the 'PropertyDamage' column with the mode\n",
        "cleaned_data['PropertyDamage'].fillna(cleaned_data['PropertyDamage'].mode()[0], inplace=True)\n",
        "\n",
        "# Verify that there are no more missing values\n",
        "missing_values_after_imputation = cleaned_data.isnull().sum()\n",
        "print(missing_values_after_imputation[missing_values_after_imputation > 0])\n"
      ]
    },
    {
      "cell_type": "markdown",
      "metadata": {
        "id": "6pRyX6cK5auB"
      },
      "source": [
        "###  d) Rescaling if necessary if necessary\n"
      ]
    },
    {
      "cell_type": "markdown",
      "metadata": {
        "id": "zIUvaG-A5auB"
      },
      "source": [
        "This code block displays the first few rows of the cleaned dataset, providing an overview of the dataset after the previous cleaning operations."
      ]
    },
    {
      "cell_type": "code",
      "execution_count": null,
      "metadata": {
        "colab": {
          "base_uri": "https://localhost:8080/"
        },
        "id": "ir0cbJ0M5auB",
        "outputId": "3a469672-2673-4488-c88c-45ea7b667e4b"
      },
      "outputs": [
        {
          "output_type": "stream",
          "name": "stdout",
          "text": [
            "            TypeOfIncident TypeOfCollission SeverityOfIncident  \\\n",
            "0  Multi-vehicle Collision   Side Collision         Total Loss   \n",
            "1  Multi-vehicle Collision   Side Collision         Total Loss   \n",
            "2  Multi-vehicle Collision   Side Collision         Total Loss   \n",
            "3  Multi-vehicle Collision   Side Collision         Total Loss   \n",
            "4  Multi-vehicle Collision   Side Collision         Total Loss   \n",
            "\n",
            "  AuthoritiesContacted IncidentState IncidentCity IncidentAddress  \\\n",
            "0               Police        State7        City1   Location 1311   \n",
            "1               Police        State7        City1   Location 1311   \n",
            "2               Police        State7        City1   Location 1311   \n",
            "3               Police        State7        City1   Location 1311   \n",
            "4               Police        State7        City5   Location 1311   \n",
            "\n",
            "   IncidentTime  NumberOfVehicles PropertyDamage  ...  CapitalLoss Country  \\\n",
            "0            17                 3              ?  ...       -48500   India   \n",
            "1            17                 3              ?  ...       -48500   India   \n",
            "2            17                 3              ?  ...       -48500   India   \n",
            "3            17                 3              ?  ...       -48500   India   \n",
            "4            10                 3            YES  ...       -48500   India   \n",
            "\n",
            "  ReportedFraud DateOfPolicyCoverage  InsurancePolicyState  \\\n",
            "0             N           1998-10-25                State1   \n",
            "1             N           1998-10-25                State1   \n",
            "2             N           1998-10-25                State1   \n",
            "3             N           1998-10-25                State1   \n",
            "4             N           2000-11-15                State1   \n",
            "\n",
            "   Policy_CombinedSingleLimit  Policy_Deductible PolicyAnnualPremium  \\\n",
            "0                     100/300               1000             1632.73   \n",
            "1                     100/300               1000             1632.73   \n",
            "2                     100/300               1000             1632.73   \n",
            "3                     100/300               1000             1632.73   \n",
            "4                     100/300               1000             1255.19   \n",
            "\n",
            "  UmbrellaLimit  InsuredRelationship  \n",
            "0             0        not-in-family  \n",
            "1             0        not-in-family  \n",
            "2             0        not-in-family  \n",
            "3             0        not-in-family  \n",
            "4             0        not-in-family  \n",
            "\n",
            "[5 rows x 36 columns]\n"
          ]
        }
      ],
      "source": [
        "print(cleaned_data.head())"
      ]
    },
    {
      "cell_type": "markdown",
      "metadata": {
        "id": "BIHzKoa75auB"
      },
      "source": [
        "This code block displays the last few rows of the cleaned dataset, allowing a final inspection of the dataset after the cleaning operations."
      ]
    },
    {
      "cell_type": "code",
      "execution_count": null,
      "metadata": {
        "colab": {
          "base_uri": "https://localhost:8080/"
        },
        "id": "7UFm20ls5auB",
        "outputId": "fc4d3643-74e0-4d43-83c5-9ea130bdfe8e"
      },
      "outputs": [
        {
          "output_type": "stream",
          "name": "stdout",
          "text": [
            "                  TypeOfIncident TypeOfCollission SeverityOfIncident  \\\n",
            "115339  Single Vehicle Collision   Rear Collision       Minor Damage   \n",
            "115340  Single Vehicle Collision  Front Collision         Total Loss   \n",
            "115341  Single Vehicle Collision  Front Collision         Total Loss   \n",
            "115342  Single Vehicle Collision  Front Collision         Total Loss   \n",
            "115343  Single Vehicle Collision  Front Collision         Total Loss   \n",
            "\n",
            "       AuthoritiesContacted IncidentState IncidentCity IncidentAddress  \\\n",
            "115339            Ambulance        State9        City3   Location 1876   \n",
            "115340                Other        State8        City3   Location 1874   \n",
            "115341                Other        State8        City3   Location 1874   \n",
            "115342                Other        State8        City3   Location 1874   \n",
            "115343                Other        State8        City3   Location 1874   \n",
            "\n",
            "        IncidentTime  NumberOfVehicles PropertyDamage  ...  CapitalLoss  \\\n",
            "115339             1                 1              ?  ...       -43800   \n",
            "115340             9                 1             NO  ...       -74300   \n",
            "115341             9                 1             NO  ...       -74300   \n",
            "115342             9                 1             NO  ...       -74300   \n",
            "115343             9                 1             NO  ...       -74300   \n",
            "\n",
            "       Country ReportedFraud DateOfPolicyCoverage  InsurancePolicyState  \\\n",
            "115339   India             N           1998-08-10                State3   \n",
            "115340   India             N           2003-04-12                State2   \n",
            "115341   India             N           2003-04-12                State2   \n",
            "115342   India             N           2003-04-12                State2   \n",
            "115343   India             N           2003-04-12                State2   \n",
            "\n",
            "        Policy_CombinedSingleLimit  Policy_Deductible PolicyAnnualPremium  \\\n",
            "115339                     250/500                780             1389.29   \n",
            "115340                    500/1000               2000              928.43   \n",
            "115341                    500/1000               2000              928.43   \n",
            "115342                    500/1000               2000              928.43   \n",
            "115343                    500/1000               2000              928.43   \n",
            "\n",
            "       UmbrellaLimit  InsuredRelationship  \n",
            "115339       3364301        not-in-family  \n",
            "115340       2909175              husband  \n",
            "115341       2909175              husband  \n",
            "115342       2909175              husband  \n",
            "115343       2909175              husband  \n",
            "\n",
            "[5 rows x 36 columns]\n"
          ]
        }
      ],
      "source": [
        "print(cleaned_data.tail())"
      ]
    },
    {
      "cell_type": "code",
      "execution_count": null,
      "metadata": {
        "colab": {
          "base_uri": "https://localhost:8080/"
        },
        "id": "az9A9fo85auB",
        "outputId": "b18669e2-c3f4-4546-916c-c772442b869e"
      },
      "outputs": [
        {
          "output_type": "stream",
          "name": "stdout",
          "text": [
            "        IncidentTime  NumberOfVehicles  BodilyInjuries  AmountOfInjuryClaim  \\\n",
            "count  115344.000000     115344.000000   115344.000000        115344.000000   \n",
            "mean       11.746047          1.823207        0.985782          7337.118428   \n",
            "std         6.169989          0.980086        0.784754          4427.581013   \n",
            "min        -5.000000          1.000000        0.000000             0.000000   \n",
            "25%         6.000000          1.000000        0.000000          4743.750000   \n",
            "50%        12.000000          1.000000        1.000000          7147.000000   \n",
            "75%        17.000000          3.000000        2.000000         10571.250000   \n",
            "max        23.000000          4.000000        2.000000         21450.000000   \n",
            "\n",
            "       AmountOfPropertyClaim  AmountOfVehicleDamage     InsuredAge  \\\n",
            "count          115344.000000          115344.000000  115344.000000   \n",
            "mean             7283.870197           37687.129387      38.815370   \n",
            "std              4375.785831           17976.814444       7.996273   \n",
            "min                 0.000000             109.000000      19.000000   \n",
            "25%              4862.000000           32193.250000      33.000000   \n",
            "50%              7051.000000           42457.500000      38.000000   \n",
            "75%             10327.000000           49535.750000      44.000000   \n",
            "max             23670.000000           79560.000000      64.000000   \n",
            "\n",
            "       InsuredZipCode   CapitalGains    CapitalLoss  Policy_Deductible  \\\n",
            "count   115344.000000  115344.000000  115344.000000      115344.000000   \n",
            "mean    502436.579068   23066.569566  -24940.612429        1114.282529   \n",
            "std      72249.929265   27637.454301   27912.846603         546.625707   \n",
            "min     430104.000000       0.000000 -111100.000000         500.000000   \n",
            "25%     448603.000000       0.000000  -50000.000000         622.000000   \n",
            "50%     466691.000000       0.000000       0.000000        1000.000000   \n",
            "75%     603848.000000   49000.000000       0.000000        1627.000000   \n",
            "max     620962.000000  100500.000000       0.000000        2000.000000   \n",
            "\n",
            "       PolicyAnnualPremium  UmbrellaLimit  \n",
            "count        115344.000000   1.153440e+05  \n",
            "mean           1255.528382   9.836680e+05  \n",
            "std             223.010999   1.969256e+06  \n",
            "min              -1.000000  -1.000000e+06  \n",
            "25%            1122.007500   0.000000e+00  \n",
            "50%            1265.205000   0.000000e+00  \n",
            "75%            1396.605000   4.859610e+05  \n",
            "max            2047.590000   1.000000e+07  \n"
          ]
        }
      ],
      "source": [
        "# Display summary statistics of numerical features\n",
        "print(cleaned_data.describe())\n"
      ]
    },
    {
      "cell_type": "markdown",
      "metadata": {
        "id": "QTejV8sy5auC"
      },
      "source": [
        "Min-Max scaling can be applied to numerical features to scale them within a specified range, commonly between 0 and 1. Here's the code for applying Min-Max scaling to relevant numerical features in the dataset. This code block displays summary statistics of numerical features in the cleaned dataset, including count, mean, standard deviation, minimum, and maximum values.The numerical_features list contains the names of the numerical columns you want to scale. Adjust this list based on your specific dataset."
      ]
    },
    {
      "cell_type": "code",
      "execution_count": null,
      "metadata": {
        "colab": {
          "base_uri": "https://localhost:8080/"
        },
        "id": "bzkFN3Tv5auC",
        "outputId": "4bb674fb-b291-411c-cee8-0aecd85e24d2"
      },
      "outputs": [
        {
          "output_type": "stream",
          "name": "stdout",
          "text": [
            "            TypeOfIncident TypeOfCollission SeverityOfIncident  \\\n",
            "0  Multi-vehicle Collision   Side Collision         Total Loss   \n",
            "1  Multi-vehicle Collision   Side Collision         Total Loss   \n",
            "2  Multi-vehicle Collision   Side Collision         Total Loss   \n",
            "3  Multi-vehicle Collision   Side Collision         Total Loss   \n",
            "4  Multi-vehicle Collision   Side Collision         Total Loss   \n",
            "\n",
            "  AuthoritiesContacted IncidentState IncidentCity IncidentAddress  \\\n",
            "0               Police        State7        City1   Location 1311   \n",
            "1               Police        State7        City1   Location 1311   \n",
            "2               Police        State7        City1   Location 1311   \n",
            "3               Police        State7        City1   Location 1311   \n",
            "4               Police        State7        City5   Location 1311   \n",
            "\n",
            "   IncidentTime  NumberOfVehicles PropertyDamage  ...  CapitalLoss Country  \\\n",
            "0      0.785714          0.666667              ?  ...     0.563456   India   \n",
            "1      0.785714          0.666667              ?  ...     0.563456   India   \n",
            "2      0.785714          0.666667              ?  ...     0.563456   India   \n",
            "3      0.785714          0.666667              ?  ...     0.563456   India   \n",
            "4      0.535714          0.666667            YES  ...     0.563456   India   \n",
            "\n",
            "  ReportedFraud DateOfPolicyCoverage  InsurancePolicyState  \\\n",
            "0             N           1998-10-25                State1   \n",
            "1             N           1998-10-25                State1   \n",
            "2             N           1998-10-25                State1   \n",
            "3             N           1998-10-25                State1   \n",
            "4             N           2000-11-15                State1   \n",
            "\n",
            "   Policy_CombinedSingleLimit  Policy_Deductible PolicyAnnualPremium  \\\n",
            "0                     100/300           0.333333            0.797490   \n",
            "1                     100/300           0.333333            0.797490   \n",
            "2                     100/300           0.333333            0.797490   \n",
            "3                     100/300           0.333333            0.797490   \n",
            "4                     100/300           0.333333            0.613197   \n",
            "\n",
            "  UmbrellaLimit  InsuredRelationship  \n",
            "0      0.090909        not-in-family  \n",
            "1      0.090909        not-in-family  \n",
            "2      0.090909        not-in-family  \n",
            "3      0.090909        not-in-family  \n",
            "4      0.090909        not-in-family  \n",
            "\n",
            "[5 rows x 36 columns]\n"
          ]
        }
      ],
      "source": [
        "from sklearn.preprocessing import MinMaxScaler\n",
        "\n",
        "# Select numerical features for Min-Max scaling\n",
        "numerical_features = ['IncidentTime', 'NumberOfVehicles', 'BodilyInjuries', 'AmountOfInjuryClaim',\n",
        "                       'AmountOfPropertyClaim', 'AmountOfVehicleDamage', 'InsuredAge', 'InsuredZipCode',\n",
        "                       'CapitalGains', 'CapitalLoss', 'Policy_Deductible', 'PolicyAnnualPremium', 'UmbrellaLimit']\n",
        "\n",
        "# Initialize the MinMaxScaler\n",
        "scaler = MinMaxScaler()\n",
        "\n",
        "# Apply Min-Max scaling to the selected features\n",
        "cleaned_data[numerical_features] = scaler.fit_transform(cleaned_data[numerical_features])\n",
        "\n",
        "# Display the scaled dataset\n",
        "print(cleaned_data.head())\n"
      ]
    },
    {
      "cell_type": "code",
      "execution_count": null,
      "metadata": {
        "colab": {
          "base_uri": "https://localhost:8080/"
        },
        "id": "8pp-8QaZ5auC",
        "outputId": "66182e4f-3b57-4078-a8a6-74ba89f02fbc"
      },
      "outputs": [
        {
          "output_type": "execute_result",
          "data": {
            "text/plain": [
              "TypeOfIncident                 object\n",
              "TypeOfCollission               object\n",
              "SeverityOfIncident             object\n",
              "AuthoritiesContacted           object\n",
              "IncidentState                  object\n",
              "IncidentCity                   object\n",
              "IncidentAddress                object\n",
              "IncidentTime                  float64\n",
              "NumberOfVehicles              float64\n",
              "PropertyDamage                 object\n",
              "BodilyInjuries                float64\n",
              "Witnesses                      object\n",
              "PoliceReport                   object\n",
              "AmountOfTotalClaim             object\n",
              "AmountOfInjuryClaim           float64\n",
              "AmountOfPropertyClaim         float64\n",
              "AmountOfVehicleDamage         float64\n",
              "VehicleAttribute               object\n",
              "VehicleAttributeDetails        object\n",
              "InsuredAge                    float64\n",
              "InsuredZipCode                float64\n",
              "InsuredGender                  object\n",
              "InsuredEducationLevel          object\n",
              "InsuredOccupation              object\n",
              "InsuredHobbies                 object\n",
              "CapitalGains                  float64\n",
              "CapitalLoss                   float64\n",
              "Country                        object\n",
              "ReportedFraud                  object\n",
              "DateOfPolicyCoverage           object\n",
              "InsurancePolicyState           object\n",
              "Policy_CombinedSingleLimit     object\n",
              "Policy_Deductible             float64\n",
              "PolicyAnnualPremium           float64\n",
              "UmbrellaLimit                 float64\n",
              "InsuredRelationship            object\n",
              "dtype: object"
            ]
          },
          "metadata": {},
          "execution_count": 29
        }
      ],
      "source": [
        "cleaned_data.dtypes"
      ]
    },
    {
      "cell_type": "code",
      "execution_count": null,
      "metadata": {
        "colab": {
          "base_uri": "https://localhost:8080/"
        },
        "id": "PXpY3xdv5auC",
        "outputId": "5bbd3ca7-f8a9-4f17-cab0-efdf29ff7982"
      },
      "outputs": [
        {
          "output_type": "stream",
          "name": "stdout",
          "text": [
            "Series([], dtype: int64)\n"
          ]
        }
      ],
      "source": [
        "\n",
        "# Check for missing values in the cleaned dataset\n",
        "missing_values_final = cleaned_data.isnull().sum()\n",
        "\n",
        "# Display columns with missing values and their counts\n",
        "print(missing_values_final[missing_values_final > 0])\n",
        "\n",
        "\n"
      ]
    },
    {
      "cell_type": "markdown",
      "metadata": {
        "id": "wk9JqoNR5auC"
      },
      "source": [
        "### e) Other"
      ]
    },
    {
      "cell_type": "markdown",
      "metadata": {
        "id": "EvGP2pBM5auC"
      },
      "source": [
        "Label encoding assigns a unique numerical label to each category in a categorical column. This can be more memory-efficient compared to one-hot encoding, especially when dealing with a large number of unique categories.\n",
        "\n",
        "Here's how you can apply label encoding to your categorical columns"
      ]
    },
    {
      "cell_type": "code",
      "execution_count": null,
      "metadata": {
        "colab": {
          "base_uri": "https://localhost:8080/"
        },
        "id": "DdszJg2o5auC",
        "outputId": "d584754c-a62b-48a8-e96c-cb50226a3d2c"
      },
      "outputs": [
        {
          "output_type": "stream",
          "name": "stdout",
          "text": [
            "   TypeOfIncident  TypeOfCollission  SeverityOfIncident  AuthoritiesContacted  \\\n",
            "0               0                 3                   2                     4   \n",
            "1               0                 3                   2                     4   \n",
            "2               0                 3                   2                     4   \n",
            "3               0                 3                   2                     4   \n",
            "4               0                 3                   2                     4   \n",
            "\n",
            "   IncidentState  IncidentCity  IncidentAddress  IncidentTime  \\\n",
            "0              4             0              279      0.785714   \n",
            "1              4             0              279      0.785714   \n",
            "2              4             0              279      0.785714   \n",
            "3              4             0              279      0.785714   \n",
            "4              4             4              279      0.535714   \n",
            "\n",
            "   NumberOfVehicles  PropertyDamage  ...  CapitalLoss  Country  ReportedFraud  \\\n",
            "0          0.666667               0  ...     0.563456        0              0   \n",
            "1          0.666667               0  ...     0.563456        0              0   \n",
            "2          0.666667               0  ...     0.563456        0              0   \n",
            "3          0.666667               0  ...     0.563456        0              0   \n",
            "4          0.666667               2  ...     0.563456        0              0   \n",
            "\n",
            "   DateOfPolicyCoverage  InsurancePolicyState  Policy_CombinedSingleLimit  \\\n",
            "0                  2355                     0                           1   \n",
            "1                  2355                     0                           1   \n",
            "2                  2355                     0                           1   \n",
            "3                  2355                     0                           1   \n",
            "4                  2937                     0                           1   \n",
            "\n",
            "   Policy_Deductible  PolicyAnnualPremium  UmbrellaLimit  InsuredRelationship  \n",
            "0           0.333333             0.797490       0.090909                    1  \n",
            "1           0.333333             0.797490       0.090909                    1  \n",
            "2           0.333333             0.797490       0.090909                    1  \n",
            "3           0.333333             0.797490       0.090909                    1  \n",
            "4           0.333333             0.613197       0.090909                    1  \n",
            "\n",
            "[5 rows x 36 columns]\n"
          ]
        }
      ],
      "source": [
        "from sklearn.preprocessing import LabelEncoder\n",
        "\n",
        "# Identify categorical columns\n",
        "categorical_columns = cleaned_data.select_dtypes(include=['object']).columns\n",
        "\n",
        "# Initialize LabelEncoder\n",
        "label_encoder = LabelEncoder()\n",
        "\n",
        "# Apply label encoding to each categorical column\n",
        "for column in categorical_columns:\n",
        "    cleaned_data[column] = label_encoder.fit_transform(cleaned_data[column])\n",
        "\n",
        "# Display the updated dataset\n",
        "print(cleaned_data.head())\n"
      ]
    },
    {
      "cell_type": "markdown",
      "metadata": {
        "id": "p4qqyoXw5auD"
      },
      "source": [
        "This code will show if there are any missing values and provide the data types of each column. If the output indicates \"Series([], dtype: int64)\" for missing values, and the data types seem appropriate, then your dataset is ready for model training."
      ]
    },
    {
      "cell_type": "code",
      "execution_count": null,
      "metadata": {
        "colab": {
          "base_uri": "https://localhost:8080/"
        },
        "id": "AvHaVL7F5auD",
        "outputId": "f61f3a40-b017-4617-ab04-3b86af5dfd58"
      },
      "outputs": [
        {
          "output_type": "stream",
          "name": "stdout",
          "text": [
            "Missing Values:\n",
            "Series([], dtype: int64)\n",
            "\n",
            "Data Types:\n",
            "TypeOfIncident                  int64\n",
            "TypeOfCollission                int64\n",
            "SeverityOfIncident              int64\n",
            "AuthoritiesContacted            int64\n",
            "IncidentState                   int64\n",
            "IncidentCity                    int64\n",
            "IncidentAddress                 int64\n",
            "IncidentTime                  float64\n",
            "NumberOfVehicles              float64\n",
            "PropertyDamage                  int64\n",
            "BodilyInjuries                float64\n",
            "Witnesses                       int64\n",
            "PoliceReport                    int64\n",
            "AmountOfTotalClaim              int64\n",
            "AmountOfInjuryClaim           float64\n",
            "AmountOfPropertyClaim         float64\n",
            "AmountOfVehicleDamage         float64\n",
            "VehicleAttribute                int64\n",
            "VehicleAttributeDetails         int64\n",
            "InsuredAge                    float64\n",
            "InsuredZipCode                float64\n",
            "InsuredGender                   int64\n",
            "InsuredEducationLevel           int64\n",
            "InsuredOccupation               int64\n",
            "InsuredHobbies                  int64\n",
            "CapitalGains                  float64\n",
            "CapitalLoss                   float64\n",
            "Country                         int64\n",
            "ReportedFraud                   int64\n",
            "DateOfPolicyCoverage            int64\n",
            "InsurancePolicyState            int64\n",
            "Policy_CombinedSingleLimit      int64\n",
            "Policy_Deductible             float64\n",
            "PolicyAnnualPremium           float64\n",
            "UmbrellaLimit                 float64\n",
            "InsuredRelationship             int64\n",
            "dtype: object\n"
          ]
        }
      ],
      "source": [
        "# Check for missing values\n",
        "missing_values_final = cleaned_data.isnull().sum()\n",
        "\n",
        "# Display columns with missing values and their counts\n",
        "print(\"Missing Values:\")\n",
        "print(missing_values_final[missing_values_final > 0])\n",
        "\n",
        "# Display data types of columns\n",
        "print(\"\\nData Types:\")\n",
        "print(cleaned_data.dtypes)\n"
      ]
    },
    {
      "cell_type": "markdown",
      "metadata": {
        "id": "8ZCkOBKl5auD"
      },
      "source": [
        "Let's proceed with encoding categorical variables and splitting the data into training and testing sets. We use an encoding method called Label Encoding for categorical columns. We will use the cleaned_data for our analysis. Let's proceed with splitting the data into training and testing sets.\n",
        "\n",
        "Here's the code to perform Label Encoding and split the data:"
      ]
    },
    {
      "cell_type": "code",
      "execution_count": null,
      "metadata": {
        "colab": {
          "base_uri": "https://localhost:8080/"
        },
        "id": "Lj1COJ1A5auD",
        "outputId": "0f3bcef3-440a-4ce0-a40a-60bd61e5c5a5"
      },
      "outputs": [
        {
          "output_type": "stream",
          "name": "stdout",
          "text": [
            "Training set shape: (92275, 35) (92275,)\n",
            "Testing set shape: (23069, 35) (23069,)\n"
          ]
        }
      ],
      "source": [
        "from sklearn.model_selection import train_test_split\n",
        "from sklearn.preprocessing import LabelEncoder\n",
        "\n",
        "# Separate features (X) and target variable (y)\n",
        "X = cleaned_data.drop('ReportedFraud', axis=1)\n",
        "y = cleaned_data['ReportedFraud']\n",
        "\n",
        "# Use LabelEncoder for categorical columns\n",
        "label_encoder = LabelEncoder()\n",
        "categorical_columns = X.select_dtypes(include=['object']).columns\n",
        "\n",
        "for col in categorical_columns:\n",
        "    X[col] = label_encoder.fit_transform(X[col])\n",
        "\n",
        "# Split the data into training and testing sets\n",
        "X_train, X_test, y_train, y_test = train_test_split(X, y, test_size=0.2, random_state=42)\n",
        "\n",
        "# Display the shapes of the training and testing sets\n",
        "print(\"Training set shape:\", X_train.shape, y_train.shape)\n",
        "print(\"Testing set shape:\", X_test.shape, y_test.shape)\n"
      ]
    },
    {
      "cell_type": "markdown",
      "metadata": {
        "id": "TnK96b1Y5auD"
      },
      "source": [
        "To one-hot encode these categorical columns, you can use the pd.get_dummies() function in pandas."
      ]
    },
    {
      "cell_type": "markdown",
      "metadata": {
        "id": "0PlqMADo5auD"
      },
      "source": [
        "## 4. Technique 1 (20 marks)"
      ]
    },
    {
      "cell_type": "markdown",
      "source": [
        "### a) Discuss your motivation for choosing the technique and  provide a schematic figure of the process\n",
        "\n",
        "For this task of predicting fraudulent claims, I have chosen the Random Forest algorithm. Random Forest is a robust ensemble learning method that handles non-linearity effectively and is less prone to overfitting. Its capacity to deal with a large number of features and capture complicated relationships in data makes it suited for our dataset, which contains various attributes. Random Forest is a robust and versatile ensemble learning technique that uses the strengths of many decision trees to improve overall predicting performance. Random Forest excels at capturing complicated relationships within data, making it useful for fraud detection in situations where patterns are intricate and non-linear. It gives a measure of feature importance, assisting us in identifying the most important characteristics contributing to fraud prediction."
      ],
      "metadata": {
        "id": "i30pKpVhIEiQ"
      }
    },
    {
      "cell_type": "markdown",
      "metadata": {
        "id": "g0uQ7r8j5auD"
      },
      "source": [
        "Enter the correct code in the cells below to execute each of the stated sub-tasks.\n",
        "### b) Setting hyper parameters with rationale\n",
        "\n",
        "Rationale:\n",
        "\n",
        "n_estimators: The number of boosting stages determines the ensemble's size. A higher number may lead to better performance, but it also increases computation time. 100 is a common starting point.\n",
        "learning_rate: Controls the contribution of each weak learner. A lower learning rate requires more trees for the same performance but can make the model more robust.\n",
        "max_depth: Limits the depth of individual trees, preventing overfitting. A small depth, like 3, is often effective.\n",
        "min_samples_split and min_samples_leaf: Control the size of leaf nodes, preventing overfitting"
      ]
    },
    {
      "cell_type": "code",
      "execution_count": null,
      "metadata": {
        "colab": {
          "base_uri": "https://localhost:8080/",
          "height": 74
        },
        "id": "lxgdV7oQ5auE",
        "outputId": "92ed8888-8b65-4a0c-c447-725c98405bf3"
      },
      "outputs": [
        {
          "output_type": "execute_result",
          "data": {
            "text/plain": [
              "GradientBoostingClassifier(random_state=42)"
            ],
            "text/html": [
              "<style>#sk-container-id-1 {color: black;background-color: white;}#sk-container-id-1 pre{padding: 0;}#sk-container-id-1 div.sk-toggleable {background-color: white;}#sk-container-id-1 label.sk-toggleable__label {cursor: pointer;display: block;width: 100%;margin-bottom: 0;padding: 0.3em;box-sizing: border-box;text-align: center;}#sk-container-id-1 label.sk-toggleable__label-arrow:before {content: \"▸\";float: left;margin-right: 0.25em;color: #696969;}#sk-container-id-1 label.sk-toggleable__label-arrow:hover:before {color: black;}#sk-container-id-1 div.sk-estimator:hover label.sk-toggleable__label-arrow:before {color: black;}#sk-container-id-1 div.sk-toggleable__content {max-height: 0;max-width: 0;overflow: hidden;text-align: left;background-color: #f0f8ff;}#sk-container-id-1 div.sk-toggleable__content pre {margin: 0.2em;color: black;border-radius: 0.25em;background-color: #f0f8ff;}#sk-container-id-1 input.sk-toggleable__control:checked~div.sk-toggleable__content {max-height: 200px;max-width: 100%;overflow: auto;}#sk-container-id-1 input.sk-toggleable__control:checked~label.sk-toggleable__label-arrow:before {content: \"▾\";}#sk-container-id-1 div.sk-estimator input.sk-toggleable__control:checked~label.sk-toggleable__label {background-color: #d4ebff;}#sk-container-id-1 div.sk-label input.sk-toggleable__control:checked~label.sk-toggleable__label {background-color: #d4ebff;}#sk-container-id-1 input.sk-hidden--visually {border: 0;clip: rect(1px 1px 1px 1px);clip: rect(1px, 1px, 1px, 1px);height: 1px;margin: -1px;overflow: hidden;padding: 0;position: absolute;width: 1px;}#sk-container-id-1 div.sk-estimator {font-family: monospace;background-color: #f0f8ff;border: 1px dotted black;border-radius: 0.25em;box-sizing: border-box;margin-bottom: 0.5em;}#sk-container-id-1 div.sk-estimator:hover {background-color: #d4ebff;}#sk-container-id-1 div.sk-parallel-item::after {content: \"\";width: 100%;border-bottom: 1px solid gray;flex-grow: 1;}#sk-container-id-1 div.sk-label:hover label.sk-toggleable__label {background-color: #d4ebff;}#sk-container-id-1 div.sk-serial::before {content: \"\";position: absolute;border-left: 1px solid gray;box-sizing: border-box;top: 0;bottom: 0;left: 50%;z-index: 0;}#sk-container-id-1 div.sk-serial {display: flex;flex-direction: column;align-items: center;background-color: white;padding-right: 0.2em;padding-left: 0.2em;position: relative;}#sk-container-id-1 div.sk-item {position: relative;z-index: 1;}#sk-container-id-1 div.sk-parallel {display: flex;align-items: stretch;justify-content: center;background-color: white;position: relative;}#sk-container-id-1 div.sk-item::before, #sk-container-id-1 div.sk-parallel-item::before {content: \"\";position: absolute;border-left: 1px solid gray;box-sizing: border-box;top: 0;bottom: 0;left: 50%;z-index: -1;}#sk-container-id-1 div.sk-parallel-item {display: flex;flex-direction: column;z-index: 1;position: relative;background-color: white;}#sk-container-id-1 div.sk-parallel-item:first-child::after {align-self: flex-end;width: 50%;}#sk-container-id-1 div.sk-parallel-item:last-child::after {align-self: flex-start;width: 50%;}#sk-container-id-1 div.sk-parallel-item:only-child::after {width: 0;}#sk-container-id-1 div.sk-dashed-wrapped {border: 1px dashed gray;margin: 0 0.4em 0.5em 0.4em;box-sizing: border-box;padding-bottom: 0.4em;background-color: white;}#sk-container-id-1 div.sk-label label {font-family: monospace;font-weight: bold;display: inline-block;line-height: 1.2em;}#sk-container-id-1 div.sk-label-container {text-align: center;}#sk-container-id-1 div.sk-container {/* jupyter's `normalize.less` sets `[hidden] { display: none; }` but bootstrap.min.css set `[hidden] { display: none !important; }` so we also need the `!important` here to be able to override the default hidden behavior on the sphinx rendered scikit-learn.org. See: https://github.com/scikit-learn/scikit-learn/issues/21755 */display: inline-block !important;position: relative;}#sk-container-id-1 div.sk-text-repr-fallback {display: none;}</style><div id=\"sk-container-id-1\" class=\"sk-top-container\"><div class=\"sk-text-repr-fallback\"><pre>GradientBoostingClassifier(random_state=42)</pre><b>In a Jupyter environment, please rerun this cell to show the HTML representation or trust the notebook. <br />On GitHub, the HTML representation is unable to render, please try loading this page with nbviewer.org.</b></div><div class=\"sk-container\" hidden><div class=\"sk-item\"><div class=\"sk-estimator sk-toggleable\"><input class=\"sk-toggleable__control sk-hidden--visually\" id=\"sk-estimator-id-1\" type=\"checkbox\" checked><label for=\"sk-estimator-id-1\" class=\"sk-toggleable__label sk-toggleable__label-arrow\">GradientBoostingClassifier</label><div class=\"sk-toggleable__content\"><pre>GradientBoostingClassifier(random_state=42)</pre></div></div></div></div></div>"
            ]
          },
          "metadata": {},
          "execution_count": 34
        }
      ],
      "source": [
        "from sklearn.ensemble import GradientBoostingClassifier\n",
        "\n",
        "# Initialize the Gradient Boosting Classifier\n",
        "gb_classifier = GradientBoostingClassifier(random_state=42)\n",
        "\n",
        "# Set hyperparameters\n",
        "hyperparameters = {\n",
        "    'n_estimators': 100,       # Number of boosting stages to be run\n",
        "    'learning_rate': 0.1,      # Contribution of each weak learner\n",
        "    'max_depth': 3,            # Maximum depth of the individual trees\n",
        "    'min_samples_split': 2,    # Minimum number of samples required to split an internal node\n",
        "    'min_samples_leaf': 1,     # Minimum number of samples required to be at a leaf node\n",
        "}\n",
        "\n",
        "gb_classifier.set_params(**hyperparameters)\n"
      ]
    },
    {
      "cell_type": "markdown",
      "metadata": {
        "id": "ftjFZ4oP5auE"
      },
      "source": [
        "### c) Optimising hyper parameters\n",
        "In codeblock, we are searching over different values for n_estimators, max_depth, and min_samples_split. The metric used for evaluation is the F1-score, which balances precision and recall.\n"
      ]
    },
    {
      "cell_type": "code",
      "execution_count": null,
      "metadata": {
        "colab": {
          "base_uri": "https://localhost:8080/"
        },
        "id": "d6Jjb7xA5auE",
        "outputId": "69fd25b6-74e1-4b3b-aa35-507d5acf69e5"
      },
      "outputs": [
        {
          "output_type": "stream",
          "name": "stdout",
          "text": [
            "Fitting 3 folds for each of 243 candidates, totalling 729 fits\n",
            "[CV] END learning_rate=0.01, max_depth=3, min_samples_leaf=1, min_samples_split=2, n_estimators=20; total time=   6.9s\n",
            "[CV] END learning_rate=0.01, max_depth=3, min_samples_leaf=1, min_samples_split=2, n_estimators=20; total time=   5.8s\n",
            "[CV] END learning_rate=0.01, max_depth=3, min_samples_leaf=1, min_samples_split=2, n_estimators=20; total time=   6.8s\n",
            "[CV] END learning_rate=0.01, max_depth=3, min_samples_leaf=1, min_samples_split=2, n_estimators=30; total time=   8.8s\n",
            "[CV] END learning_rate=0.01, max_depth=3, min_samples_leaf=1, min_samples_split=2, n_estimators=30; total time=   9.5s\n",
            "[CV] END learning_rate=0.01, max_depth=3, min_samples_leaf=1, min_samples_split=2, n_estimators=30; total time=   9.6s\n",
            "[CV] END learning_rate=0.01, max_depth=3, min_samples_leaf=1, min_samples_split=2, n_estimators=40; total time=  12.5s\n",
            "[CV] END learning_rate=0.01, max_depth=3, min_samples_leaf=1, min_samples_split=2, n_estimators=40; total time=  12.4s\n",
            "[CV] END learning_rate=0.01, max_depth=3, min_samples_leaf=1, min_samples_split=2, n_estimators=40; total time=  12.4s\n",
            "[CV] END learning_rate=0.01, max_depth=3, min_samples_leaf=1, min_samples_split=5, n_estimators=20; total time=   5.8s\n",
            "[CV] END learning_rate=0.01, max_depth=3, min_samples_leaf=1, min_samples_split=5, n_estimators=20; total time=   6.5s\n",
            "[CV] END learning_rate=0.01, max_depth=3, min_samples_leaf=1, min_samples_split=5, n_estimators=20; total time=   6.0s\n",
            "[CV] END learning_rate=0.01, max_depth=3, min_samples_leaf=1, min_samples_split=5, n_estimators=30; total time=   9.6s\n",
            "[CV] END learning_rate=0.01, max_depth=3, min_samples_leaf=1, min_samples_split=5, n_estimators=30; total time=   8.8s\n",
            "[CV] END learning_rate=0.01, max_depth=3, min_samples_leaf=1, min_samples_split=5, n_estimators=30; total time=   9.5s\n",
            "[CV] END learning_rate=0.01, max_depth=3, min_samples_leaf=1, min_samples_split=5, n_estimators=40; total time=  12.4s\n",
            "[CV] END learning_rate=0.01, max_depth=3, min_samples_leaf=1, min_samples_split=5, n_estimators=40; total time=  12.5s\n",
            "[CV] END learning_rate=0.01, max_depth=3, min_samples_leaf=1, min_samples_split=5, n_estimators=40; total time=  12.5s\n",
            "[CV] END learning_rate=0.01, max_depth=3, min_samples_leaf=1, min_samples_split=10, n_estimators=20; total time=   5.8s\n",
            "[CV] END learning_rate=0.01, max_depth=3, min_samples_leaf=1, min_samples_split=10, n_estimators=20; total time=   6.7s\n",
            "[CV] END learning_rate=0.01, max_depth=3, min_samples_leaf=1, min_samples_split=10, n_estimators=20; total time=   5.8s\n",
            "[CV] END learning_rate=0.01, max_depth=3, min_samples_leaf=1, min_samples_split=10, n_estimators=30; total time=   9.6s\n",
            "[CV] END learning_rate=0.01, max_depth=3, min_samples_leaf=1, min_samples_split=10, n_estimators=30; total time=   9.6s\n",
            "[CV] END learning_rate=0.01, max_depth=3, min_samples_leaf=1, min_samples_split=10, n_estimators=30; total time=   8.7s\n",
            "[CV] END learning_rate=0.01, max_depth=3, min_samples_leaf=1, min_samples_split=10, n_estimators=40; total time=  12.3s\n",
            "[CV] END learning_rate=0.01, max_depth=3, min_samples_leaf=1, min_samples_split=10, n_estimators=40; total time=  12.5s\n",
            "[CV] END learning_rate=0.01, max_depth=3, min_samples_leaf=1, min_samples_split=10, n_estimators=40; total time=  12.5s\n",
            "[CV] END learning_rate=0.01, max_depth=3, min_samples_leaf=2, min_samples_split=2, n_estimators=20; total time=   6.8s\n",
            "[CV] END learning_rate=0.01, max_depth=3, min_samples_leaf=2, min_samples_split=2, n_estimators=20; total time=   5.8s\n",
            "[CV] END learning_rate=0.01, max_depth=3, min_samples_leaf=2, min_samples_split=2, n_estimators=20; total time=   6.8s\n",
            "[CV] END learning_rate=0.01, max_depth=3, min_samples_leaf=2, min_samples_split=2, n_estimators=30; total time=   8.7s\n",
            "[CV] END learning_rate=0.01, max_depth=3, min_samples_leaf=2, min_samples_split=2, n_estimators=30; total time=   9.7s\n",
            "[CV] END learning_rate=0.01, max_depth=3, min_samples_leaf=2, min_samples_split=2, n_estimators=30; total time=   9.6s\n",
            "[CV] END learning_rate=0.01, max_depth=3, min_samples_leaf=2, min_samples_split=2, n_estimators=40; total time=  12.6s\n",
            "[CV] END learning_rate=0.01, max_depth=3, min_samples_leaf=2, min_samples_split=2, n_estimators=40; total time=  12.6s\n",
            "[CV] END learning_rate=0.01, max_depth=3, min_samples_leaf=2, min_samples_split=2, n_estimators=40; total time=  12.6s\n",
            "[CV] END learning_rate=0.01, max_depth=3, min_samples_leaf=2, min_samples_split=5, n_estimators=20; total time=   5.8s\n",
            "[CV] END learning_rate=0.01, max_depth=3, min_samples_leaf=2, min_samples_split=5, n_estimators=20; total time=   6.5s\n",
            "[CV] END learning_rate=0.01, max_depth=3, min_samples_leaf=2, min_samples_split=5, n_estimators=20; total time=   6.1s\n",
            "[CV] END learning_rate=0.01, max_depth=3, min_samples_leaf=2, min_samples_split=5, n_estimators=30; total time=   9.6s\n",
            "[CV] END learning_rate=0.01, max_depth=3, min_samples_leaf=2, min_samples_split=5, n_estimators=30; total time=   8.7s\n",
            "[CV] END learning_rate=0.01, max_depth=3, min_samples_leaf=2, min_samples_split=5, n_estimators=30; total time=   9.6s\n",
            "[CV] END learning_rate=0.01, max_depth=3, min_samples_leaf=2, min_samples_split=5, n_estimators=40; total time=  12.5s\n",
            "[CV] END learning_rate=0.01, max_depth=3, min_samples_leaf=2, min_samples_split=5, n_estimators=40; total time=  12.5s\n",
            "[CV] END learning_rate=0.01, max_depth=3, min_samples_leaf=2, min_samples_split=5, n_estimators=40; total time=  12.6s\n",
            "[CV] END learning_rate=0.01, max_depth=3, min_samples_leaf=2, min_samples_split=10, n_estimators=20; total time=   5.9s\n",
            "[CV] END learning_rate=0.01, max_depth=3, min_samples_leaf=2, min_samples_split=10, n_estimators=20; total time=   6.7s\n",
            "[CV] END learning_rate=0.01, max_depth=3, min_samples_leaf=2, min_samples_split=10, n_estimators=20; total time=   5.8s\n",
            "[CV] END learning_rate=0.01, max_depth=3, min_samples_leaf=2, min_samples_split=10, n_estimators=30; total time=   9.7s\n",
            "[CV] END learning_rate=0.01, max_depth=3, min_samples_leaf=2, min_samples_split=10, n_estimators=30; total time=   9.6s\n",
            "[CV] END learning_rate=0.01, max_depth=3, min_samples_leaf=2, min_samples_split=10, n_estimators=30; total time=   9.0s\n",
            "[CV] END learning_rate=0.01, max_depth=3, min_samples_leaf=2, min_samples_split=10, n_estimators=40; total time=  12.1s\n",
            "[CV] END learning_rate=0.01, max_depth=3, min_samples_leaf=2, min_samples_split=10, n_estimators=40; total time=  12.6s\n",
            "[CV] END learning_rate=0.01, max_depth=3, min_samples_leaf=2, min_samples_split=10, n_estimators=40; total time=  12.6s\n",
            "[CV] END learning_rate=0.01, max_depth=3, min_samples_leaf=4, min_samples_split=2, n_estimators=20; total time=   6.8s\n",
            "[CV] END learning_rate=0.01, max_depth=3, min_samples_leaf=4, min_samples_split=2, n_estimators=20; total time=   5.7s\n",
            "[CV] END learning_rate=0.01, max_depth=3, min_samples_leaf=4, min_samples_split=2, n_estimators=20; total time=   6.7s\n",
            "[CV] END learning_rate=0.01, max_depth=3, min_samples_leaf=4, min_samples_split=2, n_estimators=30; total time=   8.6s\n",
            "[CV] END learning_rate=0.01, max_depth=3, min_samples_leaf=4, min_samples_split=2, n_estimators=30; total time=   9.6s\n",
            "[CV] END learning_rate=0.01, max_depth=3, min_samples_leaf=4, min_samples_split=2, n_estimators=30; total time=   9.7s\n",
            "[CV] END learning_rate=0.01, max_depth=3, min_samples_leaf=4, min_samples_split=2, n_estimators=40; total time=  12.6s\n",
            "[CV] END learning_rate=0.01, max_depth=3, min_samples_leaf=4, min_samples_split=2, n_estimators=40; total time=  12.6s\n",
            "[CV] END learning_rate=0.01, max_depth=3, min_samples_leaf=4, min_samples_split=2, n_estimators=40; total time=  12.5s\n",
            "[CV] END learning_rate=0.01, max_depth=3, min_samples_leaf=4, min_samples_split=5, n_estimators=20; total time=   5.8s\n",
            "[CV] END learning_rate=0.01, max_depth=3, min_samples_leaf=4, min_samples_split=5, n_estimators=20; total time=   6.5s\n",
            "[CV] END learning_rate=0.01, max_depth=3, min_samples_leaf=4, min_samples_split=5, n_estimators=20; total time=   6.0s\n",
            "[CV] END learning_rate=0.01, max_depth=3, min_samples_leaf=4, min_samples_split=5, n_estimators=30; total time=   9.6s\n",
            "[CV] END learning_rate=0.01, max_depth=3, min_samples_leaf=4, min_samples_split=5, n_estimators=30; total time=   8.8s\n",
            "[CV] END learning_rate=0.01, max_depth=3, min_samples_leaf=4, min_samples_split=5, n_estimators=30; total time=   9.5s\n",
            "[CV] END learning_rate=0.01, max_depth=3, min_samples_leaf=4, min_samples_split=5, n_estimators=40; total time=  12.5s\n",
            "[CV] END learning_rate=0.01, max_depth=3, min_samples_leaf=4, min_samples_split=5, n_estimators=40; total time=  12.5s\n",
            "[CV] END learning_rate=0.01, max_depth=3, min_samples_leaf=4, min_samples_split=5, n_estimators=40; total time=  12.5s\n",
            "[CV] END learning_rate=0.01, max_depth=3, min_samples_leaf=4, min_samples_split=10, n_estimators=20; total time=   5.8s\n",
            "[CV] END learning_rate=0.01, max_depth=3, min_samples_leaf=4, min_samples_split=10, n_estimators=20; total time=   6.8s\n",
            "[CV] END learning_rate=0.01, max_depth=3, min_samples_leaf=4, min_samples_split=10, n_estimators=20; total time=   5.7s\n",
            "[CV] END learning_rate=0.01, max_depth=3, min_samples_leaf=4, min_samples_split=10, n_estimators=30; total time=   9.6s\n",
            "[CV] END learning_rate=0.01, max_depth=3, min_samples_leaf=4, min_samples_split=10, n_estimators=30; total time=   9.6s\n",
            "[CV] END learning_rate=0.01, max_depth=3, min_samples_leaf=4, min_samples_split=10, n_estimators=30; total time=   8.9s\n",
            "[CV] END learning_rate=0.01, max_depth=3, min_samples_leaf=4, min_samples_split=10, n_estimators=40; total time=  12.2s\n",
            "[CV] END learning_rate=0.01, max_depth=3, min_samples_leaf=4, min_samples_split=10, n_estimators=40; total time=  12.5s\n",
            "[CV] END learning_rate=0.01, max_depth=3, min_samples_leaf=4, min_samples_split=10, n_estimators=40; total time=  12.5s\n",
            "[CV] END learning_rate=0.01, max_depth=5, min_samples_leaf=1, min_samples_split=2, n_estimators=20; total time=  10.5s\n",
            "[CV] END learning_rate=0.01, max_depth=5, min_samples_leaf=1, min_samples_split=2, n_estimators=20; total time=  10.5s\n",
            "[CV] END learning_rate=0.01, max_depth=5, min_samples_leaf=1, min_samples_split=2, n_estimators=20; total time=  10.3s\n",
            "[CV] END learning_rate=0.01, max_depth=5, min_samples_leaf=1, min_samples_split=2, n_estimators=30; total time=  15.3s\n",
            "[CV] END learning_rate=0.01, max_depth=5, min_samples_leaf=1, min_samples_split=2, n_estimators=30; total time=  15.2s\n",
            "[CV] END learning_rate=0.01, max_depth=5, min_samples_leaf=1, min_samples_split=2, n_estimators=30; total time=  15.2s\n",
            "[CV] END learning_rate=0.01, max_depth=5, min_samples_leaf=1, min_samples_split=2, n_estimators=40; total time=  20.9s\n",
            "[CV] END learning_rate=0.01, max_depth=5, min_samples_leaf=1, min_samples_split=2, n_estimators=40; total time=  19.9s\n",
            "[CV] END learning_rate=0.01, max_depth=5, min_samples_leaf=1, min_samples_split=2, n_estimators=40; total time=  20.9s\n",
            "[CV] END learning_rate=0.01, max_depth=5, min_samples_leaf=1, min_samples_split=5, n_estimators=20; total time=   9.7s\n",
            "[CV] END learning_rate=0.01, max_depth=5, min_samples_leaf=1, min_samples_split=5, n_estimators=20; total time=  10.2s\n",
            "[CV] END learning_rate=0.01, max_depth=5, min_samples_leaf=1, min_samples_split=5, n_estimators=20; total time=  10.5s\n",
            "[CV] END learning_rate=0.01, max_depth=5, min_samples_leaf=1, min_samples_split=5, n_estimators=30; total time=  16.1s\n",
            "[CV] END learning_rate=0.01, max_depth=5, min_samples_leaf=1, min_samples_split=5, n_estimators=30; total time=  15.8s\n",
            "[CV] END learning_rate=0.01, max_depth=5, min_samples_leaf=1, min_samples_split=5, n_estimators=30; total time=  16.1s\n",
            "[CV] END learning_rate=0.01, max_depth=5, min_samples_leaf=1, min_samples_split=5, n_estimators=40; total time=  20.2s\n",
            "[CV] END learning_rate=0.01, max_depth=5, min_samples_leaf=1, min_samples_split=5, n_estimators=40; total time=  21.2s\n",
            "[CV] END learning_rate=0.01, max_depth=5, min_samples_leaf=1, min_samples_split=5, n_estimators=40; total time=  19.9s\n",
            "[CV] END learning_rate=0.01, max_depth=5, min_samples_leaf=1, min_samples_split=10, n_estimators=20; total time=  10.6s\n",
            "[CV] END learning_rate=0.01, max_depth=5, min_samples_leaf=1, min_samples_split=10, n_estimators=20; total time=  10.6s\n",
            "[CV] END learning_rate=0.01, max_depth=5, min_samples_leaf=1, min_samples_split=10, n_estimators=20; total time=  10.4s\n",
            "[CV] END learning_rate=0.01, max_depth=5, min_samples_leaf=1, min_samples_split=10, n_estimators=30; total time=  15.3s\n",
            "[CV] END learning_rate=0.01, max_depth=5, min_samples_leaf=1, min_samples_split=10, n_estimators=30; total time=  15.2s\n",
            "[CV] END learning_rate=0.01, max_depth=5, min_samples_leaf=1, min_samples_split=10, n_estimators=30; total time=  15.3s\n",
            "[CV] END learning_rate=0.01, max_depth=5, min_samples_leaf=1, min_samples_split=10, n_estimators=40; total time=  20.9s\n",
            "[CV] END learning_rate=0.01, max_depth=5, min_samples_leaf=1, min_samples_split=10, n_estimators=40; total time=  20.0s\n",
            "[CV] END learning_rate=0.01, max_depth=5, min_samples_leaf=1, min_samples_split=10, n_estimators=40; total time=  20.9s\n",
            "[CV] END learning_rate=0.01, max_depth=5, min_samples_leaf=2, min_samples_split=2, n_estimators=20; total time=   9.7s\n",
            "[CV] END learning_rate=0.01, max_depth=5, min_samples_leaf=2, min_samples_split=2, n_estimators=20; total time=  10.3s\n",
            "[CV] END learning_rate=0.01, max_depth=5, min_samples_leaf=2, min_samples_split=2, n_estimators=20; total time=  10.5s\n",
            "[CV] END learning_rate=0.01, max_depth=5, min_samples_leaf=2, min_samples_split=2, n_estimators=30; total time=  15.2s\n",
            "[CV] END learning_rate=0.01, max_depth=5, min_samples_leaf=2, min_samples_split=2, n_estimators=30; total time=  15.2s\n",
            "[CV] END learning_rate=0.01, max_depth=5, min_samples_leaf=2, min_samples_split=2, n_estimators=30; total time=  15.5s\n",
            "[CV] END learning_rate=0.01, max_depth=5, min_samples_leaf=2, min_samples_split=2, n_estimators=40; total time=  20.8s\n",
            "[CV] END learning_rate=0.01, max_depth=5, min_samples_leaf=2, min_samples_split=2, n_estimators=40; total time=  20.9s\n",
            "[CV] END learning_rate=0.01, max_depth=5, min_samples_leaf=2, min_samples_split=2, n_estimators=40; total time=  20.1s\n",
            "[CV] END learning_rate=0.01, max_depth=5, min_samples_leaf=2, min_samples_split=5, n_estimators=20; total time=  10.5s\n",
            "[CV] END learning_rate=0.01, max_depth=5, min_samples_leaf=2, min_samples_split=5, n_estimators=20; total time=  10.5s\n",
            "[CV] END learning_rate=0.01, max_depth=5, min_samples_leaf=2, min_samples_split=5, n_estimators=20; total time=   9.6s\n",
            "[CV] END learning_rate=0.01, max_depth=5, min_samples_leaf=2, min_samples_split=5, n_estimators=30; total time=  16.0s\n",
            "[CV] END learning_rate=0.01, max_depth=5, min_samples_leaf=2, min_samples_split=5, n_estimators=30; total time=  15.2s\n",
            "[CV] END learning_rate=0.01, max_depth=5, min_samples_leaf=2, min_samples_split=5, n_estimators=30; total time=  15.2s\n",
            "[CV] END learning_rate=0.01, max_depth=5, min_samples_leaf=2, min_samples_split=5, n_estimators=40; total time=  20.2s\n",
            "[CV] END learning_rate=0.01, max_depth=5, min_samples_leaf=2, min_samples_split=5, n_estimators=40; total time=  20.7s\n",
            "[CV] END learning_rate=0.01, max_depth=5, min_samples_leaf=2, min_samples_split=5, n_estimators=40; total time=  20.6s\n",
            "[CV] END learning_rate=0.01, max_depth=5, min_samples_leaf=2, min_samples_split=10, n_estimators=20; total time=   9.8s\n",
            "[CV] END learning_rate=0.01, max_depth=5, min_samples_leaf=2, min_samples_split=10, n_estimators=20; total time=  10.5s\n",
            "[CV] END learning_rate=0.01, max_depth=5, min_samples_leaf=2, min_samples_split=10, n_estimators=20; total time=  11.7s\n",
            "[CV] END learning_rate=0.01, max_depth=5, min_samples_leaf=2, min_samples_split=10, n_estimators=30; total time=  15.4s\n",
            "[CV] END learning_rate=0.01, max_depth=5, min_samples_leaf=2, min_samples_split=10, n_estimators=30; total time=  15.3s\n",
            "[CV] END learning_rate=0.01, max_depth=5, min_samples_leaf=2, min_samples_split=10, n_estimators=30; total time=  15.3s\n",
            "[CV] END learning_rate=0.01, max_depth=5, min_samples_leaf=2, min_samples_split=10, n_estimators=40; total time=  21.0s\n",
            "[CV] END learning_rate=0.01, max_depth=5, min_samples_leaf=2, min_samples_split=10, n_estimators=40; total time=  20.1s\n",
            "[CV] END learning_rate=0.01, max_depth=5, min_samples_leaf=2, min_samples_split=10, n_estimators=40; total time=  21.0s\n",
            "[CV] END learning_rate=0.01, max_depth=5, min_samples_leaf=4, min_samples_split=2, n_estimators=20; total time=  10.5s\n",
            "[CV] END learning_rate=0.01, max_depth=5, min_samples_leaf=4, min_samples_split=2, n_estimators=20; total time=  10.1s\n",
            "[CV] END learning_rate=0.01, max_depth=5, min_samples_leaf=4, min_samples_split=2, n_estimators=20; total time=  10.2s\n",
            "[CV] END learning_rate=0.01, max_depth=5, min_samples_leaf=4, min_samples_split=2, n_estimators=30; total time=  15.4s\n",
            "[CV] END learning_rate=0.01, max_depth=5, min_samples_leaf=4, min_samples_split=2, n_estimators=30; total time=  16.3s\n",
            "[CV] END learning_rate=0.01, max_depth=5, min_samples_leaf=4, min_samples_split=2, n_estimators=30; total time=  15.3s\n",
            "[CV] END learning_rate=0.01, max_depth=5, min_samples_leaf=4, min_samples_split=2, n_estimators=40; total time=  19.9s\n",
            "[CV] END learning_rate=0.01, max_depth=5, min_samples_leaf=4, min_samples_split=2, n_estimators=40; total time=  20.9s\n",
            "[CV] END learning_rate=0.01, max_depth=5, min_samples_leaf=4, min_samples_split=2, n_estimators=40; total time=  19.9s\n",
            "[CV] END learning_rate=0.01, max_depth=5, min_samples_leaf=4, min_samples_split=5, n_estimators=20; total time=  10.5s\n",
            "[CV] END learning_rate=0.01, max_depth=5, min_samples_leaf=4, min_samples_split=5, n_estimators=20; total time=  10.5s\n",
            "[CV] END learning_rate=0.01, max_depth=5, min_samples_leaf=4, min_samples_split=5, n_estimators=20; total time=  10.5s\n",
            "[CV] END learning_rate=0.01, max_depth=5, min_samples_leaf=4, min_samples_split=5, n_estimators=30; total time=  15.2s\n",
            "[CV] END learning_rate=0.01, max_depth=5, min_samples_leaf=4, min_samples_split=5, n_estimators=30; total time=  15.2s\n",
            "[CV] END learning_rate=0.01, max_depth=5, min_samples_leaf=4, min_samples_split=5, n_estimators=30; total time=  15.2s\n",
            "[CV] END learning_rate=0.01, max_depth=5, min_samples_leaf=4, min_samples_split=5, n_estimators=40; total time=  20.8s\n",
            "[CV] END learning_rate=0.01, max_depth=5, min_samples_leaf=4, min_samples_split=5, n_estimators=40; total time=  19.9s\n",
            "[CV] END learning_rate=0.01, max_depth=5, min_samples_leaf=4, min_samples_split=5, n_estimators=40; total time=  21.0s\n",
            "[CV] END learning_rate=0.01, max_depth=5, min_samples_leaf=4, min_samples_split=10, n_estimators=20; total time=  10.4s\n",
            "[CV] END learning_rate=0.01, max_depth=5, min_samples_leaf=4, min_samples_split=10, n_estimators=20; total time=   9.6s\n",
            "[CV] END learning_rate=0.01, max_depth=5, min_samples_leaf=4, min_samples_split=10, n_estimators=20; total time=  10.4s\n",
            "[CV] END learning_rate=0.01, max_depth=5, min_samples_leaf=4, min_samples_split=10, n_estimators=30; total time=  15.2s\n",
            "[CV] END learning_rate=0.01, max_depth=5, min_samples_leaf=4, min_samples_split=10, n_estimators=30; total time=  15.3s\n",
            "[CV] END learning_rate=0.01, max_depth=5, min_samples_leaf=4, min_samples_split=10, n_estimators=30; total time=  16.0s\n",
            "[CV] END learning_rate=0.01, max_depth=5, min_samples_leaf=4, min_samples_split=10, n_estimators=40; total time=  20.0s\n",
            "[CV] END learning_rate=0.01, max_depth=5, min_samples_leaf=4, min_samples_split=10, n_estimators=40; total time=  21.0s\n",
            "[CV] END learning_rate=0.01, max_depth=5, min_samples_leaf=4, min_samples_split=10, n_estimators=40; total time=  21.5s\n",
            "[CV] END learning_rate=0.01, max_depth=7, min_samples_leaf=1, min_samples_split=2, n_estimators=20; total time=  14.1s\n",
            "[CV] END learning_rate=0.01, max_depth=7, min_samples_leaf=1, min_samples_split=2, n_estimators=20; total time=  14.5s\n",
            "[CV] END learning_rate=0.01, max_depth=7, min_samples_leaf=1, min_samples_split=2, n_estimators=20; total time=  14.4s\n",
            "[CV] END learning_rate=0.01, max_depth=7, min_samples_leaf=1, min_samples_split=2, n_estimators=30; total time=  21.0s\n",
            "[CV] END learning_rate=0.01, max_depth=7, min_samples_leaf=1, min_samples_split=2, n_estimators=30; total time=  21.6s\n",
            "[CV] END learning_rate=0.01, max_depth=7, min_samples_leaf=1, min_samples_split=2, n_estimators=30; total time=  20.6s\n",
            "[CV] END learning_rate=0.01, max_depth=7, min_samples_leaf=1, min_samples_split=2, n_estimators=40; total time=  28.4s\n",
            "[CV] END learning_rate=0.01, max_depth=7, min_samples_leaf=1, min_samples_split=2, n_estimators=40; total time=  28.9s\n",
            "[CV] END learning_rate=0.01, max_depth=7, min_samples_leaf=1, min_samples_split=2, n_estimators=40; total time=  28.2s\n",
            "[CV] END learning_rate=0.01, max_depth=7, min_samples_leaf=1, min_samples_split=5, n_estimators=20; total time=  14.1s\n",
            "[CV] END learning_rate=0.01, max_depth=7, min_samples_leaf=1, min_samples_split=5, n_estimators=20; total time=  14.2s\n",
            "[CV] END learning_rate=0.01, max_depth=7, min_samples_leaf=1, min_samples_split=5, n_estimators=20; total time=  14.3s\n",
            "[CV] END learning_rate=0.01, max_depth=7, min_samples_leaf=1, min_samples_split=5, n_estimators=30; total time=  21.9s\n",
            "[CV] END learning_rate=0.01, max_depth=7, min_samples_leaf=1, min_samples_split=5, n_estimators=30; total time=  21.1s\n",
            "[CV] END learning_rate=0.01, max_depth=7, min_samples_leaf=1, min_samples_split=5, n_estimators=30; total time=  22.3s\n",
            "[CV] END learning_rate=0.01, max_depth=7, min_samples_leaf=1, min_samples_split=5, n_estimators=40; total time=  29.0s\n",
            "[CV] END learning_rate=0.01, max_depth=7, min_samples_leaf=1, min_samples_split=5, n_estimators=40; total time=  28.5s\n",
            "[CV] END learning_rate=0.01, max_depth=7, min_samples_leaf=1, min_samples_split=5, n_estimators=40; total time=  28.5s\n",
            "[CV] END learning_rate=0.01, max_depth=7, min_samples_leaf=1, min_samples_split=10, n_estimators=20; total time=  14.5s\n",
            "[CV] END learning_rate=0.01, max_depth=7, min_samples_leaf=1, min_samples_split=10, n_estimators=20; total time=  14.6s\n",
            "[CV] END learning_rate=0.01, max_depth=7, min_samples_leaf=1, min_samples_split=10, n_estimators=20; total time=  14.7s\n",
            "[CV] END learning_rate=0.01, max_depth=7, min_samples_leaf=1, min_samples_split=10, n_estimators=30; total time=  20.7s\n",
            "[CV] END learning_rate=0.01, max_depth=7, min_samples_leaf=1, min_samples_split=10, n_estimators=30; total time=  21.8s\n",
            "[CV] END learning_rate=0.01, max_depth=7, min_samples_leaf=1, min_samples_split=10, n_estimators=30; total time=  20.8s\n",
            "[CV] END learning_rate=0.01, max_depth=7, min_samples_leaf=1, min_samples_split=10, n_estimators=40; total time=  28.9s\n",
            "[CV] END learning_rate=0.01, max_depth=7, min_samples_leaf=1, min_samples_split=10, n_estimators=40; total time=  29.9s\n",
            "[CV] END learning_rate=0.01, max_depth=7, min_samples_leaf=1, min_samples_split=10, n_estimators=40; total time=  28.3s\n",
            "[CV] END learning_rate=0.01, max_depth=7, min_samples_leaf=2, min_samples_split=2, n_estimators=20; total time=  14.2s\n",
            "[CV] END learning_rate=0.01, max_depth=7, min_samples_leaf=2, min_samples_split=2, n_estimators=20; total time=  14.2s\n",
            "[CV] END learning_rate=0.01, max_depth=7, min_samples_leaf=2, min_samples_split=2, n_estimators=20; total time=  14.2s\n",
            "[CV] END learning_rate=0.01, max_depth=7, min_samples_leaf=2, min_samples_split=2, n_estimators=30; total time=  21.8s\n",
            "[CV] END learning_rate=0.01, max_depth=7, min_samples_leaf=2, min_samples_split=2, n_estimators=30; total time=  20.7s\n",
            "[CV] END learning_rate=0.01, max_depth=7, min_samples_leaf=2, min_samples_split=2, n_estimators=30; total time=  21.7s\n",
            "[CV] END learning_rate=0.01, max_depth=7, min_samples_leaf=2, min_samples_split=2, n_estimators=40; total time=  28.2s\n",
            "[CV] END learning_rate=0.01, max_depth=7, min_samples_leaf=2, min_samples_split=2, n_estimators=40; total time=  28.2s\n",
            "[CV] END learning_rate=0.01, max_depth=7, min_samples_leaf=2, min_samples_split=2, n_estimators=40; total time=  28.3s\n",
            "[CV] END learning_rate=0.01, max_depth=7, min_samples_leaf=2, min_samples_split=5, n_estimators=20; total time=  14.1s\n",
            "[CV] END learning_rate=0.01, max_depth=7, min_samples_leaf=2, min_samples_split=5, n_estimators=20; total time=  14.4s\n",
            "[CV] END learning_rate=0.01, max_depth=7, min_samples_leaf=2, min_samples_split=5, n_estimators=20; total time=  14.5s\n",
            "[CV] END learning_rate=0.01, max_depth=7, min_samples_leaf=2, min_samples_split=5, n_estimators=30; total time=  21.1s\n",
            "[CV] END learning_rate=0.01, max_depth=7, min_samples_leaf=2, min_samples_split=5, n_estimators=30; total time=  21.7s\n",
            "[CV] END learning_rate=0.01, max_depth=7, min_samples_leaf=2, min_samples_split=5, n_estimators=30; total time=  20.7s\n",
            "[CV] END learning_rate=0.01, max_depth=7, min_samples_leaf=2, min_samples_split=5, n_estimators=40; total time=  28.7s\n",
            "[CV] END learning_rate=0.01, max_depth=7, min_samples_leaf=2, min_samples_split=5, n_estimators=40; total time=  28.8s\n",
            "[CV] END learning_rate=0.01, max_depth=7, min_samples_leaf=2, min_samples_split=5, n_estimators=40; total time=  28.3s\n",
            "[CV] END learning_rate=0.01, max_depth=7, min_samples_leaf=2, min_samples_split=10, n_estimators=20; total time=  14.2s\n",
            "[CV] END learning_rate=0.01, max_depth=7, min_samples_leaf=2, min_samples_split=10, n_estimators=20; total time=  14.2s\n",
            "[CV] END learning_rate=0.01, max_depth=7, min_samples_leaf=2, min_samples_split=10, n_estimators=20; total time=  14.1s\n",
            "[CV] END learning_rate=0.01, max_depth=7, min_samples_leaf=2, min_samples_split=10, n_estimators=30; total time=  21.7s\n",
            "[CV] END learning_rate=0.01, max_depth=7, min_samples_leaf=2, min_samples_split=10, n_estimators=30; total time=  21.4s\n",
            "[CV] END learning_rate=0.01, max_depth=7, min_samples_leaf=2, min_samples_split=10, n_estimators=30; total time=  22.3s\n",
            "[CV] END learning_rate=0.01, max_depth=7, min_samples_leaf=2, min_samples_split=10, n_estimators=40; total time=  28.2s\n",
            "[CV] END learning_rate=0.01, max_depth=7, min_samples_leaf=2, min_samples_split=10, n_estimators=40; total time=  28.3s\n",
            "[CV] END learning_rate=0.01, max_depth=7, min_samples_leaf=2, min_samples_split=10, n_estimators=40; total time=  28.4s\n",
            "[CV] END learning_rate=0.01, max_depth=7, min_samples_leaf=4, min_samples_split=2, n_estimators=20; total time=  14.2s\n",
            "[CV] END learning_rate=0.01, max_depth=7, min_samples_leaf=4, min_samples_split=2, n_estimators=20; total time=  14.4s\n",
            "[CV] END learning_rate=0.01, max_depth=7, min_samples_leaf=4, min_samples_split=2, n_estimators=20; total time=  14.5s\n",
            "[CV] END learning_rate=0.01, max_depth=7, min_samples_leaf=4, min_samples_split=2, n_estimators=30; total time=  20.9s\n",
            "[CV] END learning_rate=0.01, max_depth=7, min_samples_leaf=4, min_samples_split=2, n_estimators=30; total time=  21.8s\n",
            "[CV] END learning_rate=0.01, max_depth=7, min_samples_leaf=4, min_samples_split=2, n_estimators=30; total time=  20.7s\n",
            "[CV] END learning_rate=0.01, max_depth=7, min_samples_leaf=4, min_samples_split=2, n_estimators=40; total time=  28.5s\n",
            "[CV] END learning_rate=0.01, max_depth=7, min_samples_leaf=4, min_samples_split=2, n_estimators=40; total time=  28.8s\n",
            "[CV] END learning_rate=0.01, max_depth=7, min_samples_leaf=4, min_samples_split=2, n_estimators=40; total time=  28.1s\n",
            "[CV] END learning_rate=0.01, max_depth=7, min_samples_leaf=4, min_samples_split=5, n_estimators=20; total time=  14.1s\n",
            "[CV] END learning_rate=0.01, max_depth=7, min_samples_leaf=4, min_samples_split=5, n_estimators=20; total time=  14.1s\n",
            "[CV] END learning_rate=0.01, max_depth=7, min_samples_leaf=4, min_samples_split=5, n_estimators=20; total time=  14.1s\n",
            "[CV] END learning_rate=0.01, max_depth=7, min_samples_leaf=4, min_samples_split=5, n_estimators=30; total time=  21.1s\n",
            "[CV] END learning_rate=0.01, max_depth=7, min_samples_leaf=4, min_samples_split=5, n_estimators=30; total time=  21.1s\n",
            "[CV] END learning_rate=0.01, max_depth=7, min_samples_leaf=4, min_samples_split=5, n_estimators=30; total time=  21.7s\n",
            "[CV] END learning_rate=0.01, max_depth=7, min_samples_leaf=4, min_samples_split=5, n_estimators=40; total time=  28.1s\n",
            "[CV] END learning_rate=0.01, max_depth=7, min_samples_leaf=4, min_samples_split=5, n_estimators=40; total time=  28.1s\n",
            "[CV] END learning_rate=0.01, max_depth=7, min_samples_leaf=4, min_samples_split=5, n_estimators=40; total time=  28.1s\n",
            "[CV] END learning_rate=0.01, max_depth=7, min_samples_leaf=4, min_samples_split=10, n_estimators=20; total time=  14.1s\n",
            "[CV] END learning_rate=0.01, max_depth=7, min_samples_leaf=4, min_samples_split=10, n_estimators=20; total time=  15.2s\n",
            "[CV] END learning_rate=0.01, max_depth=7, min_samples_leaf=4, min_samples_split=10, n_estimators=20; total time=  14.5s\n",
            "[CV] END learning_rate=0.01, max_depth=7, min_samples_leaf=4, min_samples_split=10, n_estimators=30; total time=  21.5s\n",
            "[CV] END learning_rate=0.01, max_depth=7, min_samples_leaf=4, min_samples_split=10, n_estimators=30; total time=  21.5s\n",
            "[CV] END learning_rate=0.01, max_depth=7, min_samples_leaf=4, min_samples_split=10, n_estimators=30; total time=  20.7s\n",
            "[CV] END learning_rate=0.01, max_depth=7, min_samples_leaf=4, min_samples_split=10, n_estimators=40; total time=  28.2s\n",
            "[CV] END learning_rate=0.01, max_depth=7, min_samples_leaf=4, min_samples_split=10, n_estimators=40; total time=  28.4s\n",
            "[CV] END learning_rate=0.01, max_depth=7, min_samples_leaf=4, min_samples_split=10, n_estimators=40; total time=  28.7s\n",
            "[CV] END learning_rate=0.1, max_depth=3, min_samples_leaf=1, min_samples_split=2, n_estimators=20; total time=   5.8s\n",
            "[CV] END learning_rate=0.1, max_depth=3, min_samples_leaf=1, min_samples_split=2, n_estimators=20; total time=   6.4s\n",
            "[CV] END learning_rate=0.1, max_depth=3, min_samples_leaf=1, min_samples_split=2, n_estimators=20; total time=   6.1s\n",
            "[CV] END learning_rate=0.1, max_depth=3, min_samples_leaf=1, min_samples_split=2, n_estimators=30; total time=   9.6s\n",
            "[CV] END learning_rate=0.1, max_depth=3, min_samples_leaf=1, min_samples_split=2, n_estimators=30; total time=   8.6s\n",
            "[CV] END learning_rate=0.1, max_depth=3, min_samples_leaf=1, min_samples_split=2, n_estimators=30; total time=   9.6s\n",
            "[CV] END learning_rate=0.1, max_depth=3, min_samples_leaf=1, min_samples_split=2, n_estimators=40; total time=  12.4s\n",
            "[CV] END learning_rate=0.1, max_depth=3, min_samples_leaf=1, min_samples_split=2, n_estimators=40; total time=  12.5s\n",
            "[CV] END learning_rate=0.1, max_depth=3, min_samples_leaf=1, min_samples_split=2, n_estimators=40; total time=  12.4s\n",
            "[CV] END learning_rate=0.1, max_depth=3, min_samples_leaf=1, min_samples_split=5, n_estimators=20; total time=   5.7s\n",
            "[CV] END learning_rate=0.1, max_depth=3, min_samples_leaf=1, min_samples_split=5, n_estimators=20; total time=   6.7s\n",
            "[CV] END learning_rate=0.1, max_depth=3, min_samples_leaf=1, min_samples_split=5, n_estimators=20; total time=   5.8s\n",
            "[CV] END learning_rate=0.1, max_depth=3, min_samples_leaf=1, min_samples_split=5, n_estimators=30; total time=   9.5s\n",
            "[CV] END learning_rate=0.1, max_depth=3, min_samples_leaf=1, min_samples_split=5, n_estimators=30; total time=   9.6s\n",
            "[CV] END learning_rate=0.1, max_depth=3, min_samples_leaf=1, min_samples_split=5, n_estimators=30; total time=   8.6s\n",
            "[CV] END learning_rate=0.1, max_depth=3, min_samples_leaf=1, min_samples_split=5, n_estimators=40; total time=  12.5s\n",
            "[CV] END learning_rate=0.1, max_depth=3, min_samples_leaf=1, min_samples_split=5, n_estimators=40; total time=  12.4s\n",
            "[CV] END learning_rate=0.1, max_depth=3, min_samples_leaf=1, min_samples_split=5, n_estimators=40; total time=  12.5s\n",
            "[CV] END learning_rate=0.1, max_depth=3, min_samples_leaf=1, min_samples_split=10, n_estimators=20; total time=   6.8s\n",
            "[CV] END learning_rate=0.1, max_depth=3, min_samples_leaf=1, min_samples_split=10, n_estimators=20; total time=   5.7s\n",
            "[CV] END learning_rate=0.1, max_depth=3, min_samples_leaf=1, min_samples_split=10, n_estimators=20; total time=   6.7s\n",
            "[CV] END learning_rate=0.1, max_depth=3, min_samples_leaf=1, min_samples_split=10, n_estimators=30; total time=   8.6s\n",
            "[CV] END learning_rate=0.1, max_depth=3, min_samples_leaf=1, min_samples_split=10, n_estimators=30; total time=   9.6s\n",
            "[CV] END learning_rate=0.1, max_depth=3, min_samples_leaf=1, min_samples_split=10, n_estimators=30; total time=   9.6s\n",
            "[CV] END learning_rate=0.1, max_depth=3, min_samples_leaf=1, min_samples_split=10, n_estimators=40; total time=  12.6s\n",
            "[CV] END learning_rate=0.1, max_depth=3, min_samples_leaf=1, min_samples_split=10, n_estimators=40; total time=  12.4s\n",
            "[CV] END learning_rate=0.1, max_depth=3, min_samples_leaf=1, min_samples_split=10, n_estimators=40; total time=  12.2s\n",
            "[CV] END learning_rate=0.1, max_depth=3, min_samples_leaf=2, min_samples_split=2, n_estimators=20; total time=   6.2s\n",
            "[CV] END learning_rate=0.1, max_depth=3, min_samples_leaf=2, min_samples_split=2, n_estimators=20; total time=   6.1s\n",
            "[CV] END learning_rate=0.1, max_depth=3, min_samples_leaf=2, min_samples_split=2, n_estimators=20; total time=   6.5s\n",
            "[CV] END learning_rate=0.1, max_depth=3, min_samples_leaf=2, min_samples_split=2, n_estimators=30; total time=   9.7s\n",
            "[CV] END learning_rate=0.1, max_depth=3, min_samples_leaf=2, min_samples_split=2, n_estimators=30; total time=   8.7s\n",
            "[CV] END learning_rate=0.1, max_depth=3, min_samples_leaf=2, min_samples_split=2, n_estimators=30; total time=   9.7s\n",
            "[CV] END learning_rate=0.1, max_depth=3, min_samples_leaf=2, min_samples_split=2, n_estimators=40; total time=  12.5s\n",
            "[CV] END learning_rate=0.1, max_depth=3, min_samples_leaf=2, min_samples_split=2, n_estimators=40; total time=  12.5s\n",
            "[CV] END learning_rate=0.1, max_depth=3, min_samples_leaf=2, min_samples_split=2, n_estimators=40; total time=  12.6s\n",
            "[CV] END learning_rate=0.1, max_depth=3, min_samples_leaf=2, min_samples_split=5, n_estimators=20; total time=   5.8s\n",
            "[CV] END learning_rate=0.1, max_depth=3, min_samples_leaf=2, min_samples_split=5, n_estimators=20; total time=   7.9s\n",
            "[CV] END learning_rate=0.1, max_depth=3, min_samples_leaf=2, min_samples_split=5, n_estimators=20; total time=   5.8s\n",
            "[CV] END learning_rate=0.1, max_depth=3, min_samples_leaf=2, min_samples_split=5, n_estimators=30; total time=   9.6s\n",
            "[CV] END learning_rate=0.1, max_depth=3, min_samples_leaf=2, min_samples_split=5, n_estimators=30; total time=   9.4s\n",
            "[CV] END learning_rate=0.1, max_depth=3, min_samples_leaf=2, min_samples_split=5, n_estimators=30; total time=   8.9s\n",
            "[CV] END learning_rate=0.1, max_depth=3, min_samples_leaf=2, min_samples_split=5, n_estimators=40; total time=  12.5s\n",
            "[CV] END learning_rate=0.1, max_depth=3, min_samples_leaf=2, min_samples_split=5, n_estimators=40; total time=  12.6s\n",
            "[CV] END learning_rate=0.1, max_depth=3, min_samples_leaf=2, min_samples_split=5, n_estimators=40; total time=  12.5s\n",
            "[CV] END learning_rate=0.1, max_depth=3, min_samples_leaf=2, min_samples_split=10, n_estimators=20; total time=   6.4s\n",
            "[CV] END learning_rate=0.1, max_depth=3, min_samples_leaf=2, min_samples_split=10, n_estimators=20; total time=   6.2s\n",
            "[CV] END learning_rate=0.1, max_depth=3, min_samples_leaf=2, min_samples_split=10, n_estimators=20; total time=   6.1s\n",
            "[CV] END learning_rate=0.1, max_depth=3, min_samples_leaf=2, min_samples_split=10, n_estimators=30; total time=   9.4s\n",
            "[CV] END learning_rate=0.1, max_depth=3, min_samples_leaf=2, min_samples_split=10, n_estimators=30; total time=   9.6s\n",
            "[CV] END learning_rate=0.1, max_depth=3, min_samples_leaf=2, min_samples_split=10, n_estimators=30; total time=   9.4s\n",
            "[CV] END learning_rate=0.1, max_depth=3, min_samples_leaf=2, min_samples_split=10, n_estimators=40; total time=  12.0s\n",
            "[CV] END learning_rate=0.1, max_depth=3, min_samples_leaf=2, min_samples_split=10, n_estimators=40; total time=  12.1s\n",
            "[CV] END learning_rate=0.1, max_depth=3, min_samples_leaf=2, min_samples_split=10, n_estimators=40; total time=  12.4s\n",
            "[CV] END learning_rate=0.1, max_depth=3, min_samples_leaf=4, min_samples_split=2, n_estimators=20; total time=   6.7s\n",
            "[CV] END learning_rate=0.1, max_depth=3, min_samples_leaf=4, min_samples_split=2, n_estimators=20; total time=   5.8s\n",
            "[CV] END learning_rate=0.1, max_depth=3, min_samples_leaf=4, min_samples_split=2, n_estimators=20; total time=   6.7s\n",
            "[CV] END learning_rate=0.1, max_depth=3, min_samples_leaf=4, min_samples_split=2, n_estimators=30; total time=   8.8s\n",
            "[CV] END learning_rate=0.1, max_depth=3, min_samples_leaf=4, min_samples_split=2, n_estimators=30; total time=   9.3s\n",
            "[CV] END learning_rate=0.1, max_depth=3, min_samples_leaf=4, min_samples_split=2, n_estimators=30; total time=   9.6s\n",
            "[CV] END learning_rate=0.1, max_depth=3, min_samples_leaf=4, min_samples_split=2, n_estimators=40; total time=  12.5s\n",
            "[CV] END learning_rate=0.1, max_depth=3, min_samples_leaf=4, min_samples_split=2, n_estimators=40; total time=  12.5s\n",
            "[CV] END learning_rate=0.1, max_depth=3, min_samples_leaf=4, min_samples_split=2, n_estimators=40; total time=  12.4s\n",
            "[CV] END learning_rate=0.1, max_depth=3, min_samples_leaf=4, min_samples_split=5, n_estimators=20; total time=   5.7s\n",
            "[CV] END learning_rate=0.1, max_depth=3, min_samples_leaf=4, min_samples_split=5, n_estimators=20; total time=   6.7s\n",
            "[CV] END learning_rate=0.1, max_depth=3, min_samples_leaf=4, min_samples_split=5, n_estimators=20; total time=   5.9s\n",
            "[CV] END learning_rate=0.1, max_depth=3, min_samples_leaf=4, min_samples_split=5, n_estimators=30; total time=   9.6s\n",
            "[CV] END learning_rate=0.1, max_depth=3, min_samples_leaf=4, min_samples_split=5, n_estimators=30; total time=   8.9s\n",
            "[CV] END learning_rate=0.1, max_depth=3, min_samples_leaf=4, min_samples_split=5, n_estimators=30; total time=   9.3s\n",
            "[CV] END learning_rate=0.1, max_depth=3, min_samples_leaf=4, min_samples_split=5, n_estimators=40; total time=  12.5s\n",
            "[CV] END learning_rate=0.1, max_depth=3, min_samples_leaf=4, min_samples_split=5, n_estimators=40; total time=  12.5s\n",
            "[CV] END learning_rate=0.1, max_depth=3, min_samples_leaf=4, min_samples_split=5, n_estimators=40; total time=  12.5s\n",
            "[CV] END learning_rate=0.1, max_depth=3, min_samples_leaf=4, min_samples_split=10, n_estimators=20; total time=   5.9s\n",
            "[CV] END learning_rate=0.1, max_depth=3, min_samples_leaf=4, min_samples_split=10, n_estimators=20; total time=   6.7s\n",
            "[CV] END learning_rate=0.1, max_depth=3, min_samples_leaf=4, min_samples_split=10, n_estimators=20; total time=   5.8s\n",
            "[CV] END learning_rate=0.1, max_depth=3, min_samples_leaf=4, min_samples_split=10, n_estimators=30; total time=   9.6s\n",
            "[CV] END learning_rate=0.1, max_depth=3, min_samples_leaf=4, min_samples_split=10, n_estimators=30; total time=   9.7s\n",
            "[CV] END learning_rate=0.1, max_depth=3, min_samples_leaf=4, min_samples_split=10, n_estimators=30; total time=   8.9s\n",
            "[CV] END learning_rate=0.1, max_depth=3, min_samples_leaf=4, min_samples_split=10, n_estimators=40; total time=  12.2s\n",
            "[CV] END learning_rate=0.1, max_depth=3, min_samples_leaf=4, min_samples_split=10, n_estimators=40; total time=  12.5s\n",
            "[CV] END learning_rate=0.1, max_depth=3, min_samples_leaf=4, min_samples_split=10, n_estimators=40; total time=  12.5s\n",
            "[CV] END learning_rate=0.1, max_depth=5, min_samples_leaf=1, min_samples_split=2, n_estimators=20; total time=  10.5s\n",
            "[CV] END learning_rate=0.1, max_depth=5, min_samples_leaf=1, min_samples_split=2, n_estimators=20; total time=  10.4s\n",
            "[CV] END learning_rate=0.1, max_depth=5, min_samples_leaf=1, min_samples_split=2, n_estimators=20; total time=  10.6s\n",
            "[CV] END learning_rate=0.1, max_depth=5, min_samples_leaf=1, min_samples_split=2, n_estimators=30; total time=  15.3s\n",
            "[CV] END learning_rate=0.1, max_depth=5, min_samples_leaf=1, min_samples_split=2, n_estimators=30; total time=  15.3s\n",
            "[CV] END learning_rate=0.1, max_depth=5, min_samples_leaf=1, min_samples_split=2, n_estimators=30; total time=  15.4s\n",
            "[CV] END learning_rate=0.1, max_depth=5, min_samples_leaf=1, min_samples_split=2, n_estimators=40; total time=  22.5s\n",
            "[CV] END learning_rate=0.1, max_depth=5, min_samples_leaf=1, min_samples_split=2, n_estimators=40; total time=  20.1s\n",
            "[CV] END learning_rate=0.1, max_depth=5, min_samples_leaf=1, min_samples_split=2, n_estimators=40; total time=  21.1s\n",
            "[CV] END learning_rate=0.1, max_depth=5, min_samples_leaf=1, min_samples_split=5, n_estimators=20; total time=  10.5s\n",
            "[CV] END learning_rate=0.1, max_depth=5, min_samples_leaf=1, min_samples_split=5, n_estimators=20; total time=   9.7s\n",
            "[CV] END learning_rate=0.1, max_depth=5, min_samples_leaf=1, min_samples_split=5, n_estimators=20; total time=  10.3s\n",
            "[CV] END learning_rate=0.1, max_depth=5, min_samples_leaf=1, min_samples_split=5, n_estimators=30; total time=  15.1s\n",
            "[CV] END learning_rate=0.1, max_depth=5, min_samples_leaf=1, min_samples_split=5, n_estimators=30; total time=  15.7s\n",
            "[CV] END learning_rate=0.1, max_depth=5, min_samples_leaf=1, min_samples_split=5, n_estimators=30; total time=  15.6s\n",
            "[CV] END learning_rate=0.1, max_depth=5, min_samples_leaf=1, min_samples_split=5, n_estimators=40; total time=  19.9s\n",
            "[CV] END learning_rate=0.1, max_depth=5, min_samples_leaf=1, min_samples_split=5, n_estimators=40; total time=  20.9s\n",
            "[CV] END learning_rate=0.1, max_depth=5, min_samples_leaf=1, min_samples_split=5, n_estimators=40; total time=  20.0s\n",
            "[CV] END learning_rate=0.1, max_depth=5, min_samples_leaf=1, min_samples_split=10, n_estimators=20; total time=  10.5s\n",
            "[CV] END learning_rate=0.1, max_depth=5, min_samples_leaf=1, min_samples_split=10, n_estimators=20; total time=  10.6s\n",
            "[CV] END learning_rate=0.1, max_depth=5, min_samples_leaf=1, min_samples_split=10, n_estimators=20; total time=  10.8s\n",
            "[CV] END learning_rate=0.1, max_depth=5, min_samples_leaf=1, min_samples_split=10, n_estimators=30; total time=  15.6s\n",
            "[CV] END learning_rate=0.1, max_depth=5, min_samples_leaf=1, min_samples_split=10, n_estimators=30; total time=  15.3s\n",
            "[CV] END learning_rate=0.1, max_depth=5, min_samples_leaf=1, min_samples_split=10, n_estimators=30; total time=  15.2s\n",
            "[CV] END learning_rate=0.1, max_depth=5, min_samples_leaf=1, min_samples_split=10, n_estimators=40; total time=  21.2s\n",
            "[CV] END learning_rate=0.1, max_depth=5, min_samples_leaf=1, min_samples_split=10, n_estimators=40; total time=  20.2s\n",
            "[CV] END learning_rate=0.1, max_depth=5, min_samples_leaf=1, min_samples_split=10, n_estimators=40; total time=  21.0s\n",
            "[CV] END learning_rate=0.1, max_depth=5, min_samples_leaf=2, min_samples_split=2, n_estimators=20; total time=  10.5s\n",
            "[CV] END learning_rate=0.1, max_depth=5, min_samples_leaf=2, min_samples_split=2, n_estimators=20; total time=   9.5s\n",
            "[CV] END learning_rate=0.1, max_depth=5, min_samples_leaf=2, min_samples_split=2, n_estimators=20; total time=  10.4s\n",
            "[CV] END learning_rate=0.1, max_depth=5, min_samples_leaf=2, min_samples_split=2, n_estimators=30; total time=  15.2s\n",
            "[CV] END learning_rate=0.1, max_depth=5, min_samples_leaf=2, min_samples_split=2, n_estimators=30; total time=  15.3s\n",
            "[CV] END learning_rate=0.1, max_depth=5, min_samples_leaf=2, min_samples_split=2, n_estimators=30; total time=  15.9s\n",
            "[CV] END learning_rate=0.1, max_depth=5, min_samples_leaf=2, min_samples_split=2, n_estimators=40; total time=  20.0s\n",
            "[CV] END learning_rate=0.1, max_depth=5, min_samples_leaf=2, min_samples_split=2, n_estimators=40; total time=  20.9s\n",
            "[CV] END learning_rate=0.1, max_depth=5, min_samples_leaf=2, min_samples_split=2, n_estimators=40; total time=  19.8s\n",
            "[CV] END learning_rate=0.1, max_depth=5, min_samples_leaf=2, min_samples_split=5, n_estimators=20; total time=  10.5s\n",
            "[CV] END learning_rate=0.1, max_depth=5, min_samples_leaf=2, min_samples_split=5, n_estimators=20; total time=  10.4s\n",
            "[CV] END learning_rate=0.1, max_depth=5, min_samples_leaf=2, min_samples_split=5, n_estimators=20; total time=  11.9s\n",
            "[CV] END learning_rate=0.1, max_depth=5, min_samples_leaf=2, min_samples_split=5, n_estimators=30; total time=  15.2s\n",
            "[CV] END learning_rate=0.1, max_depth=5, min_samples_leaf=2, min_samples_split=5, n_estimators=30; total time=  15.2s\n",
            "[CV] END learning_rate=0.1, max_depth=5, min_samples_leaf=2, min_samples_split=5, n_estimators=30; total time=  15.2s\n",
            "[CV] END learning_rate=0.1, max_depth=5, min_samples_leaf=2, min_samples_split=5, n_estimators=40; total time=  21.0s\n",
            "[CV] END learning_rate=0.1, max_depth=5, min_samples_leaf=2, min_samples_split=5, n_estimators=40; total time=  19.9s\n",
            "[CV] END learning_rate=0.1, max_depth=5, min_samples_leaf=2, min_samples_split=5, n_estimators=40; total time=  20.8s\n",
            "[CV] END learning_rate=0.1, max_depth=5, min_samples_leaf=2, min_samples_split=10, n_estimators=20; total time=   9.9s\n",
            "[CV] END learning_rate=0.1, max_depth=5, min_samples_leaf=2, min_samples_split=10, n_estimators=20; total time=  10.0s\n",
            "[CV] END learning_rate=0.1, max_depth=5, min_samples_leaf=2, min_samples_split=10, n_estimators=20; total time=  10.5s\n",
            "[CV] END learning_rate=0.1, max_depth=5, min_samples_leaf=2, min_samples_split=10, n_estimators=30; total time=  15.2s\n",
            "[CV] END learning_rate=0.1, max_depth=5, min_samples_leaf=2, min_samples_split=10, n_estimators=30; total time=  15.2s\n",
            "[CV] END learning_rate=0.1, max_depth=5, min_samples_leaf=2, min_samples_split=10, n_estimators=30; total time=  15.6s\n",
            "[CV] END learning_rate=0.1, max_depth=5, min_samples_leaf=2, min_samples_split=10, n_estimators=40; total time=  20.4s\n",
            "[CV] END learning_rate=0.1, max_depth=5, min_samples_leaf=2, min_samples_split=10, n_estimators=40; total time=  20.7s\n",
            "[CV] END learning_rate=0.1, max_depth=5, min_samples_leaf=2, min_samples_split=10, n_estimators=40; total time=  20.0s\n",
            "[CV] END learning_rate=0.1, max_depth=5, min_samples_leaf=4, min_samples_split=2, n_estimators=20; total time=  10.5s\n",
            "[CV] END learning_rate=0.1, max_depth=5, min_samples_leaf=4, min_samples_split=2, n_estimators=20; total time=  10.5s\n",
            "[CV] END learning_rate=0.1, max_depth=5, min_samples_leaf=4, min_samples_split=2, n_estimators=20; total time=   9.6s\n",
            "[CV] END learning_rate=0.1, max_depth=5, min_samples_leaf=4, min_samples_split=2, n_estimators=30; total time=  16.0s\n",
            "[CV] END learning_rate=0.1, max_depth=5, min_samples_leaf=4, min_samples_split=2, n_estimators=30; total time=  15.3s\n",
            "[CV] END learning_rate=0.1, max_depth=5, min_samples_leaf=4, min_samples_split=2, n_estimators=30; total time=  15.1s\n",
            "[CV] END learning_rate=0.1, max_depth=5, min_samples_leaf=4, min_samples_split=2, n_estimators=40; total time=  19.9s\n",
            "[CV] END learning_rate=0.1, max_depth=5, min_samples_leaf=4, min_samples_split=2, n_estimators=40; total time=  20.9s\n",
            "[CV] END learning_rate=0.1, max_depth=5, min_samples_leaf=4, min_samples_split=2, n_estimators=40; total time=  20.3s\n",
            "[CV] END learning_rate=0.1, max_depth=5, min_samples_leaf=4, min_samples_split=5, n_estimators=20; total time=  10.0s\n",
            "[CV] END learning_rate=0.1, max_depth=5, min_samples_leaf=4, min_samples_split=5, n_estimators=20; total time=  10.5s\n",
            "[CV] END learning_rate=0.1, max_depth=5, min_samples_leaf=4, min_samples_split=5, n_estimators=20; total time=  10.5s\n",
            "[CV] END learning_rate=0.1, max_depth=5, min_samples_leaf=4, min_samples_split=5, n_estimators=30; total time=  15.1s\n",
            "[CV] END learning_rate=0.1, max_depth=5, min_samples_leaf=4, min_samples_split=5, n_estimators=30; total time=  15.2s\n",
            "[CV] END learning_rate=0.1, max_depth=5, min_samples_leaf=4, min_samples_split=5, n_estimators=30; total time=  15.2s\n",
            "[CV] END learning_rate=0.1, max_depth=5, min_samples_leaf=4, min_samples_split=5, n_estimators=40; total time=  21.3s\n",
            "[CV] END learning_rate=0.1, max_depth=5, min_samples_leaf=4, min_samples_split=5, n_estimators=40; total time=  21.2s\n",
            "[CV] END learning_rate=0.1, max_depth=5, min_samples_leaf=4, min_samples_split=5, n_estimators=40; total time=  20.4s\n",
            "[CV] END learning_rate=0.1, max_depth=5, min_samples_leaf=4, min_samples_split=10, n_estimators=20; total time=  10.5s\n",
            "[CV] END learning_rate=0.1, max_depth=5, min_samples_leaf=4, min_samples_split=10, n_estimators=20; total time=  10.1s\n",
            "[CV] END learning_rate=0.1, max_depth=5, min_samples_leaf=4, min_samples_split=10, n_estimators=20; total time=   9.8s\n",
            "[CV] END learning_rate=0.1, max_depth=5, min_samples_leaf=4, min_samples_split=10, n_estimators=30; total time=  15.3s\n",
            "[CV] END learning_rate=0.1, max_depth=5, min_samples_leaf=4, min_samples_split=10, n_estimators=30; total time=  15.9s\n",
            "[CV] END learning_rate=0.1, max_depth=5, min_samples_leaf=4, min_samples_split=10, n_estimators=30; total time=  15.1s\n",
            "[CV] END learning_rate=0.1, max_depth=5, min_samples_leaf=4, min_samples_split=10, n_estimators=40; total time=  19.8s\n",
            "[CV] END learning_rate=0.1, max_depth=5, min_samples_leaf=4, min_samples_split=10, n_estimators=40; total time=  20.8s\n",
            "[CV] END learning_rate=0.1, max_depth=5, min_samples_leaf=4, min_samples_split=10, n_estimators=40; total time=  19.9s\n",
            "[CV] END learning_rate=0.1, max_depth=7, min_samples_leaf=1, min_samples_split=2, n_estimators=20; total time=  14.0s\n",
            "[CV] END learning_rate=0.1, max_depth=7, min_samples_leaf=1, min_samples_split=2, n_estimators=20; total time=  14.4s\n",
            "[CV] END learning_rate=0.1, max_depth=7, min_samples_leaf=1, min_samples_split=2, n_estimators=20; total time=  14.3s\n",
            "[CV] END learning_rate=0.1, max_depth=7, min_samples_leaf=1, min_samples_split=2, n_estimators=30; total time=  20.9s\n",
            "[CV] END learning_rate=0.1, max_depth=7, min_samples_leaf=1, min_samples_split=2, n_estimators=30; total time=  21.5s\n",
            "[CV] END learning_rate=0.1, max_depth=7, min_samples_leaf=1, min_samples_split=2, n_estimators=30; total time=  20.6s\n",
            "[CV] END learning_rate=0.1, max_depth=7, min_samples_leaf=1, min_samples_split=2, n_estimators=40; total time=  28.4s\n",
            "[CV] END learning_rate=0.1, max_depth=7, min_samples_leaf=1, min_samples_split=2, n_estimators=40; total time=  28.8s\n",
            "[CV] END learning_rate=0.1, max_depth=7, min_samples_leaf=1, min_samples_split=2, n_estimators=40; total time=  28.2s\n",
            "[CV] END learning_rate=0.1, max_depth=7, min_samples_leaf=1, min_samples_split=5, n_estimators=20; total time=  14.2s\n",
            "[CV] END learning_rate=0.1, max_depth=7, min_samples_leaf=1, min_samples_split=5, n_estimators=20; total time=  14.1s\n",
            "[CV] END learning_rate=0.1, max_depth=7, min_samples_leaf=1, min_samples_split=5, n_estimators=20; total time=  14.3s\n",
            "[CV] END learning_rate=0.1, max_depth=7, min_samples_leaf=1, min_samples_split=5, n_estimators=30; total time=  21.4s\n",
            "[CV] END learning_rate=0.1, max_depth=7, min_samples_leaf=1, min_samples_split=5, n_estimators=30; total time=  21.0s\n",
            "[CV] END learning_rate=0.1, max_depth=7, min_samples_leaf=1, min_samples_split=5, n_estimators=30; total time=  21.5s\n",
            "[CV] END learning_rate=0.1, max_depth=7, min_samples_leaf=1, min_samples_split=5, n_estimators=40; total time=  29.7s\n",
            "[CV] END learning_rate=0.1, max_depth=7, min_samples_leaf=1, min_samples_split=5, n_estimators=40; total time=  28.2s\n",
            "[CV] END learning_rate=0.1, max_depth=7, min_samples_leaf=1, min_samples_split=5, n_estimators=40; total time=  28.3s\n",
            "[CV] END learning_rate=0.1, max_depth=7, min_samples_leaf=1, min_samples_split=10, n_estimators=20; total time=  14.1s\n",
            "[CV] END learning_rate=0.1, max_depth=7, min_samples_leaf=1, min_samples_split=10, n_estimators=20; total time=  14.1s\n",
            "[CV] END learning_rate=0.1, max_depth=7, min_samples_leaf=1, min_samples_split=10, n_estimators=20; total time=  14.3s\n",
            "[CV] END learning_rate=0.1, max_depth=7, min_samples_leaf=1, min_samples_split=10, n_estimators=30; total time=  21.2s\n",
            "[CV] END learning_rate=0.1, max_depth=7, min_samples_leaf=1, min_samples_split=10, n_estimators=30; total time=  21.6s\n",
            "[CV] END learning_rate=0.1, max_depth=7, min_samples_leaf=1, min_samples_split=10, n_estimators=30; total time=  20.7s\n",
            "[CV] END learning_rate=0.1, max_depth=7, min_samples_leaf=1, min_samples_split=10, n_estimators=40; total time=  28.1s\n",
            "[CV] END learning_rate=0.1, max_depth=7, min_samples_leaf=1, min_samples_split=10, n_estimators=40; total time=  28.8s\n",
            "[CV] END learning_rate=0.1, max_depth=7, min_samples_leaf=1, min_samples_split=10, n_estimators=40; total time=  28.6s\n",
            "[CV] END learning_rate=0.1, max_depth=7, min_samples_leaf=2, min_samples_split=2, n_estimators=20; total time=  14.1s\n",
            "[CV] END learning_rate=0.1, max_depth=7, min_samples_leaf=2, min_samples_split=2, n_estimators=20; total time=  14.1s\n",
            "[CV] END learning_rate=0.1, max_depth=7, min_samples_leaf=2, min_samples_split=2, n_estimators=20; total time=  14.1s\n",
            "[CV] END learning_rate=0.1, max_depth=7, min_samples_leaf=2, min_samples_split=2, n_estimators=30; total time=  20.8s\n",
            "[CV] END learning_rate=0.1, max_depth=7, min_samples_leaf=2, min_samples_split=2, n_estimators=30; total time=  21.4s\n",
            "[CV] END learning_rate=0.1, max_depth=7, min_samples_leaf=2, min_samples_split=2, n_estimators=30; total time=  21.5s\n",
            "[CV] END learning_rate=0.1, max_depth=7, min_samples_leaf=2, min_samples_split=2, n_estimators=40; total time=  28.2s\n",
            "[CV] END learning_rate=0.1, max_depth=7, min_samples_leaf=2, min_samples_split=2, n_estimators=40; total time=  28.2s\n",
            "[CV] END learning_rate=0.1, max_depth=7, min_samples_leaf=2, min_samples_split=2, n_estimators=40; total time=  28.2s\n",
            "[CV] END learning_rate=0.1, max_depth=7, min_samples_leaf=2, min_samples_split=5, n_estimators=20; total time=  14.1s\n",
            "[CV] END learning_rate=0.1, max_depth=7, min_samples_leaf=2, min_samples_split=5, n_estimators=20; total time=  14.0s\n",
            "[CV] END learning_rate=0.1, max_depth=7, min_samples_leaf=2, min_samples_split=5, n_estimators=20; total time=  14.0s\n",
            "[CV] END learning_rate=0.1, max_depth=7, min_samples_leaf=2, min_samples_split=5, n_estimators=30; total time=  21.7s\n",
            "[CV] END learning_rate=0.1, max_depth=7, min_samples_leaf=2, min_samples_split=5, n_estimators=30; total time=  20.7s\n",
            "[CV] END learning_rate=0.1, max_depth=7, min_samples_leaf=2, min_samples_split=5, n_estimators=30; total time=  21.5s\n",
            "[CV] END learning_rate=0.1, max_depth=7, min_samples_leaf=2, min_samples_split=5, n_estimators=40; total time=  28.6s\n",
            "[CV] END learning_rate=0.1, max_depth=7, min_samples_leaf=2, min_samples_split=5, n_estimators=40; total time=  28.8s\n",
            "[CV] END learning_rate=0.1, max_depth=7, min_samples_leaf=2, min_samples_split=5, n_estimators=40; total time=  29.8s\n",
            "[CV] END learning_rate=0.1, max_depth=7, min_samples_leaf=2, min_samples_split=10, n_estimators=20; total time=  14.4s\n",
            "[CV] END learning_rate=0.1, max_depth=7, min_samples_leaf=2, min_samples_split=10, n_estimators=20; total time=  14.2s\n",
            "[CV] END learning_rate=0.1, max_depth=7, min_samples_leaf=2, min_samples_split=10, n_estimators=20; total time=  14.1s\n",
            "[CV] END learning_rate=0.1, max_depth=7, min_samples_leaf=2, min_samples_split=10, n_estimators=30; total time=  20.7s\n",
            "[CV] END learning_rate=0.1, max_depth=7, min_samples_leaf=2, min_samples_split=10, n_estimators=30; total time=  21.7s\n",
            "[CV] END learning_rate=0.1, max_depth=7, min_samples_leaf=2, min_samples_split=10, n_estimators=30; total time=  21.7s\n",
            "[CV] END learning_rate=0.1, max_depth=7, min_samples_leaf=2, min_samples_split=10, n_estimators=40; total time=  28.3s\n",
            "[CV] END learning_rate=0.1, max_depth=7, min_samples_leaf=2, min_samples_split=10, n_estimators=40; total time=  28.2s\n",
            "[CV] END learning_rate=0.1, max_depth=7, min_samples_leaf=2, min_samples_split=10, n_estimators=40; total time=  28.3s\n",
            "[CV] END learning_rate=0.1, max_depth=7, min_samples_leaf=4, min_samples_split=2, n_estimators=20; total time=  14.3s\n",
            "[CV] END learning_rate=0.1, max_depth=7, min_samples_leaf=4, min_samples_split=2, n_estimators=20; total time=  14.2s\n",
            "[CV] END learning_rate=0.1, max_depth=7, min_samples_leaf=4, min_samples_split=2, n_estimators=20; total time=  14.2s\n",
            "[CV] END learning_rate=0.1, max_depth=7, min_samples_leaf=4, min_samples_split=2, n_estimators=30; total time=  21.9s\n",
            "[CV] END learning_rate=0.1, max_depth=7, min_samples_leaf=4, min_samples_split=2, n_estimators=30; total time=  21.3s\n",
            "[CV] END learning_rate=0.1, max_depth=7, min_samples_leaf=4, min_samples_split=2, n_estimators=30; total time=  21.3s\n",
            "[CV] END learning_rate=0.1, max_depth=7, min_samples_leaf=4, min_samples_split=2, n_estimators=40; total time=  28.3s\n",
            "[CV] END learning_rate=0.1, max_depth=7, min_samples_leaf=4, min_samples_split=2, n_estimators=40; total time=  28.6s\n",
            "[CV] END learning_rate=0.1, max_depth=7, min_samples_leaf=4, min_samples_split=2, n_estimators=40; total time=  29.1s\n",
            "[CV] END learning_rate=0.1, max_depth=7, min_samples_leaf=4, min_samples_split=5, n_estimators=20; total time=  14.4s\n",
            "[CV] END learning_rate=0.1, max_depth=7, min_samples_leaf=4, min_samples_split=5, n_estimators=20; total time=  14.2s\n",
            "[CV] END learning_rate=0.1, max_depth=7, min_samples_leaf=4, min_samples_split=5, n_estimators=20; total time=  14.2s\n",
            "[CV] END learning_rate=0.1, max_depth=7, min_samples_leaf=4, min_samples_split=5, n_estimators=30; total time=  20.7s\n",
            "[CV] END learning_rate=0.1, max_depth=7, min_samples_leaf=4, min_samples_split=5, n_estimators=30; total time=  21.9s\n",
            "[CV] END learning_rate=0.1, max_depth=7, min_samples_leaf=4, min_samples_split=5, n_estimators=30; total time=  21.8s\n",
            "[CV] END learning_rate=0.1, max_depth=7, min_samples_leaf=4, min_samples_split=5, n_estimators=40; total time=  30.1s\n",
            "[CV] END learning_rate=0.1, max_depth=7, min_samples_leaf=4, min_samples_split=5, n_estimators=40; total time=  28.4s\n",
            "[CV] END learning_rate=0.1, max_depth=7, min_samples_leaf=4, min_samples_split=5, n_estimators=40; total time=  28.6s\n",
            "[CV] END learning_rate=0.1, max_depth=7, min_samples_leaf=4, min_samples_split=10, n_estimators=20; total time=  14.2s\n",
            "[CV] END learning_rate=0.1, max_depth=7, min_samples_leaf=4, min_samples_split=10, n_estimators=20; total time=  14.3s\n",
            "[CV] END learning_rate=0.1, max_depth=7, min_samples_leaf=4, min_samples_split=10, n_estimators=20; total time=  14.3s\n",
            "[CV] END learning_rate=0.1, max_depth=7, min_samples_leaf=4, min_samples_split=10, n_estimators=30; total time=  21.8s\n",
            "[CV] END learning_rate=0.1, max_depth=7, min_samples_leaf=4, min_samples_split=10, n_estimators=30; total time=  21.0s\n",
            "[CV] END learning_rate=0.1, max_depth=7, min_samples_leaf=4, min_samples_split=10, n_estimators=30; total time=  21.4s\n",
            "[CV] END learning_rate=0.1, max_depth=7, min_samples_leaf=4, min_samples_split=10, n_estimators=40; total time=  28.4s\n",
            "[CV] END learning_rate=0.1, max_depth=7, min_samples_leaf=4, min_samples_split=10, n_estimators=40; total time=  28.5s\n",
            "[CV] END learning_rate=0.1, max_depth=7, min_samples_leaf=4, min_samples_split=10, n_estimators=40; total time=  29.0s\n",
            "[CV] END learning_rate=0.2, max_depth=3, min_samples_leaf=1, min_samples_split=2, n_estimators=20; total time=   6.2s\n",
            "[CV] END learning_rate=0.2, max_depth=3, min_samples_leaf=1, min_samples_split=2, n_estimators=20; total time=   6.2s\n",
            "[CV] END learning_rate=0.2, max_depth=3, min_samples_leaf=1, min_samples_split=2, n_estimators=20; total time=   6.5s\n",
            "[CV] END learning_rate=0.2, max_depth=3, min_samples_leaf=1, min_samples_split=2, n_estimators=30; total time=   9.8s\n",
            "[CV] END learning_rate=0.2, max_depth=3, min_samples_leaf=1, min_samples_split=2, n_estimators=30; total time=   8.8s\n",
            "[CV] END learning_rate=0.2, max_depth=3, min_samples_leaf=1, min_samples_split=2, n_estimators=30; total time=   9.8s\n",
            "[CV] END learning_rate=0.2, max_depth=3, min_samples_leaf=1, min_samples_split=2, n_estimators=40; total time=  12.7s\n",
            "[CV] END learning_rate=0.2, max_depth=3, min_samples_leaf=1, min_samples_split=2, n_estimators=40; total time=  12.6s\n",
            "[CV] END learning_rate=0.2, max_depth=3, min_samples_leaf=1, min_samples_split=2, n_estimators=40; total time=  12.6s\n",
            "[CV] END learning_rate=0.2, max_depth=3, min_samples_leaf=1, min_samples_split=5, n_estimators=20; total time=   5.8s\n",
            "[CV] END learning_rate=0.2, max_depth=3, min_samples_leaf=1, min_samples_split=5, n_estimators=20; total time=   6.8s\n",
            "[CV] END learning_rate=0.2, max_depth=3, min_samples_leaf=1, min_samples_split=5, n_estimators=20; total time=   5.8s\n",
            "[CV] END learning_rate=0.2, max_depth=3, min_samples_leaf=1, min_samples_split=5, n_estimators=30; total time=   9.8s\n",
            "[CV] END learning_rate=0.2, max_depth=3, min_samples_leaf=1, min_samples_split=5, n_estimators=30; total time=   9.6s\n",
            "[CV] END learning_rate=0.2, max_depth=3, min_samples_leaf=1, min_samples_split=5, n_estimators=30; total time=   8.9s\n",
            "[CV] END learning_rate=0.2, max_depth=3, min_samples_leaf=1, min_samples_split=5, n_estimators=40; total time=  12.2s\n",
            "[CV] END learning_rate=0.2, max_depth=3, min_samples_leaf=1, min_samples_split=5, n_estimators=40; total time=  12.7s\n",
            "[CV] END learning_rate=0.2, max_depth=3, min_samples_leaf=1, min_samples_split=5, n_estimators=40; total time=  12.8s\n",
            "[CV] END learning_rate=0.2, max_depth=3, min_samples_leaf=1, min_samples_split=10, n_estimators=20; total time=   6.9s\n",
            "[CV] END learning_rate=0.2, max_depth=3, min_samples_leaf=1, min_samples_split=10, n_estimators=20; total time=   5.9s\n",
            "[CV] END learning_rate=0.2, max_depth=3, min_samples_leaf=1, min_samples_split=10, n_estimators=20; total time=   6.9s\n",
            "[CV] END learning_rate=0.2, max_depth=3, min_samples_leaf=1, min_samples_split=10, n_estimators=30; total time=   9.0s\n",
            "[CV] END learning_rate=0.2, max_depth=3, min_samples_leaf=1, min_samples_split=10, n_estimators=30; total time=   9.5s\n",
            "[CV] END learning_rate=0.2, max_depth=3, min_samples_leaf=1, min_samples_split=10, n_estimators=30; total time=  11.3s\n",
            "[CV] END learning_rate=0.2, max_depth=3, min_samples_leaf=1, min_samples_split=10, n_estimators=40; total time=  12.7s\n",
            "[CV] END learning_rate=0.2, max_depth=3, min_samples_leaf=1, min_samples_split=10, n_estimators=40; total time=  12.7s\n",
            "[CV] END learning_rate=0.2, max_depth=3, min_samples_leaf=1, min_samples_split=10, n_estimators=40; total time=  12.7s\n",
            "[CV] END learning_rate=0.2, max_depth=3, min_samples_leaf=2, min_samples_split=2, n_estimators=20; total time=   5.9s\n",
            "[CV] END learning_rate=0.2, max_depth=3, min_samples_leaf=2, min_samples_split=2, n_estimators=20; total time=   6.9s\n",
            "[CV] END learning_rate=0.2, max_depth=3, min_samples_leaf=2, min_samples_split=2, n_estimators=20; total time=   5.8s\n",
            "[CV] END learning_rate=0.2, max_depth=3, min_samples_leaf=2, min_samples_split=2, n_estimators=30; total time=   9.7s\n",
            "[CV] END learning_rate=0.2, max_depth=3, min_samples_leaf=2, min_samples_split=2, n_estimators=30; total time=   9.7s\n",
            "[CV] END learning_rate=0.2, max_depth=3, min_samples_leaf=2, min_samples_split=2, n_estimators=30; total time=   8.8s\n",
            "[CV] END learning_rate=0.2, max_depth=3, min_samples_leaf=2, min_samples_split=2, n_estimators=40; total time=  12.6s\n",
            "[CV] END learning_rate=0.2, max_depth=3, min_samples_leaf=2, min_samples_split=2, n_estimators=40; total time=  12.8s\n",
            "[CV] END learning_rate=0.2, max_depth=3, min_samples_leaf=2, min_samples_split=2, n_estimators=40; total time=  12.8s\n",
            "[CV] END learning_rate=0.2, max_depth=3, min_samples_leaf=2, min_samples_split=5, n_estimators=20; total time=   7.0s\n",
            "[CV] END learning_rate=0.2, max_depth=3, min_samples_leaf=2, min_samples_split=5, n_estimators=20; total time=   6.0s\n",
            "[CV] END learning_rate=0.2, max_depth=3, min_samples_leaf=2, min_samples_split=5, n_estimators=20; total time=   7.0s\n",
            "[CV] END learning_rate=0.2, max_depth=3, min_samples_leaf=2, min_samples_split=5, n_estimators=30; total time=   8.9s\n",
            "[CV] END learning_rate=0.2, max_depth=3, min_samples_leaf=2, min_samples_split=5, n_estimators=30; total time=   9.9s\n",
            "[CV] END learning_rate=0.2, max_depth=3, min_samples_leaf=2, min_samples_split=5, n_estimators=30; total time=   9.9s\n",
            "[CV] END learning_rate=0.2, max_depth=3, min_samples_leaf=2, min_samples_split=5, n_estimators=40; total time=  12.9s\n",
            "[CV] END learning_rate=0.2, max_depth=3, min_samples_leaf=2, min_samples_split=5, n_estimators=40; total time=  12.9s\n",
            "[CV] END learning_rate=0.2, max_depth=3, min_samples_leaf=2, min_samples_split=5, n_estimators=40; total time=  13.0s\n",
            "[CV] END learning_rate=0.2, max_depth=3, min_samples_leaf=2, min_samples_split=10, n_estimators=20; total time=   5.9s\n",
            "[CV] END learning_rate=0.2, max_depth=3, min_samples_leaf=2, min_samples_split=10, n_estimators=20; total time=   7.0s\n",
            "[CV] END learning_rate=0.2, max_depth=3, min_samples_leaf=2, min_samples_split=10, n_estimators=20; total time=   5.9s\n",
            "[CV] END learning_rate=0.2, max_depth=3, min_samples_leaf=2, min_samples_split=10, n_estimators=30; total time=   9.8s\n",
            "[CV] END learning_rate=0.2, max_depth=3, min_samples_leaf=2, min_samples_split=10, n_estimators=30; total time=   9.8s\n",
            "[CV] END learning_rate=0.2, max_depth=3, min_samples_leaf=2, min_samples_split=10, n_estimators=30; total time=   8.7s\n",
            "[CV] END learning_rate=0.2, max_depth=3, min_samples_leaf=2, min_samples_split=10, n_estimators=40; total time=  12.5s\n",
            "[CV] END learning_rate=0.2, max_depth=3, min_samples_leaf=2, min_samples_split=10, n_estimators=40; total time=  12.6s\n",
            "[CV] END learning_rate=0.2, max_depth=3, min_samples_leaf=2, min_samples_split=10, n_estimators=40; total time=  12.6s\n",
            "[CV] END learning_rate=0.2, max_depth=3, min_samples_leaf=4, min_samples_split=2, n_estimators=20; total time=   6.8s\n",
            "[CV] END learning_rate=0.2, max_depth=3, min_samples_leaf=4, min_samples_split=2, n_estimators=20; total time=   5.9s\n",
            "[CV] END learning_rate=0.2, max_depth=3, min_samples_leaf=4, min_samples_split=2, n_estimators=20; total time=   6.8s\n",
            "[CV] END learning_rate=0.2, max_depth=3, min_samples_leaf=4, min_samples_split=2, n_estimators=30; total time=   8.8s\n",
            "[CV] END learning_rate=0.2, max_depth=3, min_samples_leaf=4, min_samples_split=2, n_estimators=30; total time=   9.7s\n",
            "[CV] END learning_rate=0.2, max_depth=3, min_samples_leaf=4, min_samples_split=2, n_estimators=30; total time=   9.7s\n",
            "[CV] END learning_rate=0.2, max_depth=3, min_samples_leaf=4, min_samples_split=2, n_estimators=40; total time=  12.6s\n",
            "[CV] END learning_rate=0.2, max_depth=3, min_samples_leaf=4, min_samples_split=2, n_estimators=40; total time=  12.5s\n",
            "[CV] END learning_rate=0.2, max_depth=3, min_samples_leaf=4, min_samples_split=2, n_estimators=40; total time=  12.2s\n",
            "[CV] END learning_rate=0.2, max_depth=3, min_samples_leaf=4, min_samples_split=5, n_estimators=20; total time=   6.1s\n",
            "[CV] END learning_rate=0.2, max_depth=3, min_samples_leaf=4, min_samples_split=5, n_estimators=20; total time=   6.2s\n",
            "[CV] END learning_rate=0.2, max_depth=3, min_samples_leaf=4, min_samples_split=5, n_estimators=20; total time=   6.4s\n",
            "[CV] END learning_rate=0.2, max_depth=3, min_samples_leaf=4, min_samples_split=5, n_estimators=30; total time=   9.7s\n",
            "[CV] END learning_rate=0.2, max_depth=3, min_samples_leaf=4, min_samples_split=5, n_estimators=30; total time=   8.7s\n",
            "[CV] END learning_rate=0.2, max_depth=3, min_samples_leaf=4, min_samples_split=5, n_estimators=30; total time=   9.7s\n",
            "[CV] END learning_rate=0.2, max_depth=3, min_samples_leaf=4, min_samples_split=5, n_estimators=40; total time=  12.5s\n",
            "[CV] END learning_rate=0.2, max_depth=3, min_samples_leaf=4, min_samples_split=5, n_estimators=40; total time=  12.5s\n",
            "[CV] END learning_rate=0.2, max_depth=3, min_samples_leaf=4, min_samples_split=5, n_estimators=40; total time=  12.4s\n",
            "[CV] END learning_rate=0.2, max_depth=3, min_samples_leaf=4, min_samples_split=10, n_estimators=20; total time=   7.4s\n",
            "[CV] END learning_rate=0.2, max_depth=3, min_samples_leaf=4, min_samples_split=10, n_estimators=20; total time=   6.6s\n",
            "[CV] END learning_rate=0.2, max_depth=3, min_samples_leaf=4, min_samples_split=10, n_estimators=20; total time=   5.8s\n",
            "[CV] END learning_rate=0.2, max_depth=3, min_samples_leaf=4, min_samples_split=10, n_estimators=30; total time=   9.7s\n",
            "[CV] END learning_rate=0.2, max_depth=3, min_samples_leaf=4, min_samples_split=10, n_estimators=30; total time=   9.7s\n",
            "[CV] END learning_rate=0.2, max_depth=3, min_samples_leaf=4, min_samples_split=10, n_estimators=30; total time=   9.1s\n",
            "[CV] END learning_rate=0.2, max_depth=3, min_samples_leaf=4, min_samples_split=10, n_estimators=40; total time=  12.2s\n",
            "[CV] END learning_rate=0.2, max_depth=3, min_samples_leaf=4, min_samples_split=10, n_estimators=40; total time=  12.4s\n",
            "[CV] END learning_rate=0.2, max_depth=3, min_samples_leaf=4, min_samples_split=10, n_estimators=40; total time=  12.6s\n",
            "[CV] END learning_rate=0.2, max_depth=5, min_samples_leaf=1, min_samples_split=2, n_estimators=20; total time=  10.6s\n",
            "[CV] END learning_rate=0.2, max_depth=5, min_samples_leaf=1, min_samples_split=2, n_estimators=20; total time=  10.6s\n",
            "[CV] END learning_rate=0.2, max_depth=5, min_samples_leaf=1, min_samples_split=2, n_estimators=20; total time=  10.5s\n",
            "[CV] END learning_rate=0.2, max_depth=5, min_samples_leaf=1, min_samples_split=2, n_estimators=30; total time=  15.2s\n",
            "[CV] END learning_rate=0.2, max_depth=5, min_samples_leaf=1, min_samples_split=2, n_estimators=30; total time=  15.3s\n",
            "[CV] END learning_rate=0.2, max_depth=5, min_samples_leaf=1, min_samples_split=2, n_estimators=30; total time=  15.3s\n",
            "[CV] END learning_rate=0.2, max_depth=5, min_samples_leaf=1, min_samples_split=2, n_estimators=40; total time=  20.8s\n",
            "[CV] END learning_rate=0.2, max_depth=5, min_samples_leaf=1, min_samples_split=2, n_estimators=40; total time=  20.1s\n",
            "[CV] END learning_rate=0.2, max_depth=5, min_samples_leaf=1, min_samples_split=2, n_estimators=40; total time=  21.1s\n",
            "[CV] END learning_rate=0.2, max_depth=5, min_samples_leaf=1, min_samples_split=5, n_estimators=20; total time=  10.4s\n",
            "[CV] END learning_rate=0.2, max_depth=5, min_samples_leaf=1, min_samples_split=5, n_estimators=20; total time=   9.7s\n",
            "[CV] END learning_rate=0.2, max_depth=5, min_samples_leaf=1, min_samples_split=5, n_estimators=20; total time=  10.5s\n",
            "[CV] END learning_rate=0.2, max_depth=5, min_samples_leaf=1, min_samples_split=5, n_estimators=30; total time=  15.1s\n",
            "[CV] END learning_rate=0.2, max_depth=5, min_samples_leaf=1, min_samples_split=5, n_estimators=30; total time=  15.4s\n",
            "[CV] END learning_rate=0.2, max_depth=5, min_samples_leaf=1, min_samples_split=5, n_estimators=30; total time=  16.0s\n",
            "[CV] END learning_rate=0.2, max_depth=5, min_samples_leaf=1, min_samples_split=5, n_estimators=40; total time=  19.9s\n",
            "[CV] END learning_rate=0.2, max_depth=5, min_samples_leaf=1, min_samples_split=5, n_estimators=40; total time=  20.9s\n",
            "[CV] END learning_rate=0.2, max_depth=5, min_samples_leaf=1, min_samples_split=5, n_estimators=40; total time=  19.8s\n",
            "[CV] END learning_rate=0.2, max_depth=5, min_samples_leaf=1, min_samples_split=10, n_estimators=20; total time=  10.5s\n",
            "[CV] END learning_rate=0.2, max_depth=5, min_samples_leaf=1, min_samples_split=10, n_estimators=20; total time=  10.5s\n",
            "[CV] END learning_rate=0.2, max_depth=5, min_samples_leaf=1, min_samples_split=10, n_estimators=20; total time=  10.2s\n",
            "[CV] END learning_rate=0.2, max_depth=5, min_samples_leaf=1, min_samples_split=10, n_estimators=30; total time=  15.6s\n",
            "[CV] END learning_rate=0.2, max_depth=5, min_samples_leaf=1, min_samples_split=10, n_estimators=30; total time=  15.3s\n",
            "[CV] END learning_rate=0.2, max_depth=5, min_samples_leaf=1, min_samples_split=10, n_estimators=30; total time=  15.2s\n",
            "[CV] END learning_rate=0.2, max_depth=5, min_samples_leaf=1, min_samples_split=10, n_estimators=40; total time=  20.7s\n",
            "[CV] END learning_rate=0.2, max_depth=5, min_samples_leaf=1, min_samples_split=10, n_estimators=40; total time=  20.8s\n",
            "[CV] END learning_rate=0.2, max_depth=5, min_samples_leaf=1, min_samples_split=10, n_estimators=40; total time=  21.5s\n",
            "[CV] END learning_rate=0.2, max_depth=5, min_samples_leaf=2, min_samples_split=2, n_estimators=20; total time=  10.0s\n",
            "[CV] END learning_rate=0.2, max_depth=5, min_samples_leaf=2, min_samples_split=2, n_estimators=20; total time=   9.9s\n",
            "[CV] END learning_rate=0.2, max_depth=5, min_samples_leaf=2, min_samples_split=2, n_estimators=20; total time=  10.4s\n",
            "[CV] END learning_rate=0.2, max_depth=5, min_samples_leaf=2, min_samples_split=2, n_estimators=30; total time=  15.2s\n",
            "[CV] END learning_rate=0.2, max_depth=5, min_samples_leaf=2, min_samples_split=2, n_estimators=30; total time=  15.2s\n",
            "[CV] END learning_rate=0.2, max_depth=5, min_samples_leaf=2, min_samples_split=2, n_estimators=30; total time=  15.8s\n",
            "[CV] END learning_rate=0.2, max_depth=5, min_samples_leaf=2, min_samples_split=2, n_estimators=40; total time=  20.2s\n",
            "[CV] END learning_rate=0.2, max_depth=5, min_samples_leaf=2, min_samples_split=2, n_estimators=40; total time=  20.7s\n",
            "[CV] END learning_rate=0.2, max_depth=5, min_samples_leaf=2, min_samples_split=2, n_estimators=40; total time=  19.9s\n",
            "[CV] END learning_rate=0.2, max_depth=5, min_samples_leaf=2, min_samples_split=5, n_estimators=20; total time=  10.4s\n",
            "[CV] END learning_rate=0.2, max_depth=5, min_samples_leaf=2, min_samples_split=5, n_estimators=20; total time=  10.4s\n",
            "[CV] END learning_rate=0.2, max_depth=5, min_samples_leaf=2, min_samples_split=5, n_estimators=20; total time=   9.5s\n",
            "[CV] END learning_rate=0.2, max_depth=5, min_samples_leaf=2, min_samples_split=5, n_estimators=30; total time=  15.8s\n",
            "[CV] END learning_rate=0.2, max_depth=5, min_samples_leaf=2, min_samples_split=5, n_estimators=30; total time=  15.3s\n",
            "[CV] END learning_rate=0.2, max_depth=5, min_samples_leaf=2, min_samples_split=5, n_estimators=30; total time=  15.1s\n",
            "[CV] END learning_rate=0.2, max_depth=5, min_samples_leaf=2, min_samples_split=5, n_estimators=40; total time=  19.8s\n",
            "[CV] END learning_rate=0.2, max_depth=5, min_samples_leaf=2, min_samples_split=5, n_estimators=40; total time=  20.9s\n",
            "[CV] END learning_rate=0.2, max_depth=5, min_samples_leaf=2, min_samples_split=5, n_estimators=40; total time=  20.2s\n",
            "[CV] END learning_rate=0.2, max_depth=5, min_samples_leaf=2, min_samples_split=10, n_estimators=20; total time=  10.1s\n",
            "[CV] END learning_rate=0.2, max_depth=5, min_samples_leaf=2, min_samples_split=10, n_estimators=20; total time=  10.6s\n",
            "[CV] END learning_rate=0.2, max_depth=5, min_samples_leaf=2, min_samples_split=10, n_estimators=20; total time=  10.7s\n",
            "[CV] END learning_rate=0.2, max_depth=5, min_samples_leaf=2, min_samples_split=10, n_estimators=30; total time=  15.3s\n",
            "[CV] END learning_rate=0.2, max_depth=5, min_samples_leaf=2, min_samples_split=10, n_estimators=30; total time=  15.3s\n",
            "[CV] END learning_rate=0.2, max_depth=5, min_samples_leaf=2, min_samples_split=10, n_estimators=30; total time=  15.1s\n",
            "[CV] END learning_rate=0.2, max_depth=5, min_samples_leaf=2, min_samples_split=10, n_estimators=40; total time=  20.9s\n",
            "[CV] END learning_rate=0.2, max_depth=5, min_samples_leaf=2, min_samples_split=10, n_estimators=40; total time=  20.1s\n",
            "[CV] END learning_rate=0.2, max_depth=5, min_samples_leaf=2, min_samples_split=10, n_estimators=40; total time=  20.9s\n",
            "[CV] END learning_rate=0.2, max_depth=5, min_samples_leaf=4, min_samples_split=2, n_estimators=20; total time=  10.5s\n",
            "[CV] END learning_rate=0.2, max_depth=5, min_samples_leaf=4, min_samples_split=2, n_estimators=20; total time=  10.1s\n",
            "[CV] END learning_rate=0.2, max_depth=5, min_samples_leaf=4, min_samples_split=2, n_estimators=20; total time=  10.7s\n",
            "[CV] END learning_rate=0.2, max_depth=5, min_samples_leaf=4, min_samples_split=2, n_estimators=30; total time=  16.3s\n",
            "[CV] END learning_rate=0.2, max_depth=5, min_samples_leaf=4, min_samples_split=2, n_estimators=30; total time=  16.1s\n",
            "[CV] END learning_rate=0.2, max_depth=5, min_samples_leaf=4, min_samples_split=2, n_estimators=30; total time=  15.3s\n",
            "[CV] END learning_rate=0.2, max_depth=5, min_samples_leaf=4, min_samples_split=2, n_estimators=40; total time=  20.0s\n",
            "[CV] END learning_rate=0.2, max_depth=5, min_samples_leaf=4, min_samples_split=2, n_estimators=40; total time=  21.1s\n",
            "[CV] END learning_rate=0.2, max_depth=5, min_samples_leaf=4, min_samples_split=2, n_estimators=40; total time=  20.2s\n",
            "[CV] END learning_rate=0.2, max_depth=5, min_samples_leaf=4, min_samples_split=5, n_estimators=20; total time=  10.4s\n",
            "[CV] END learning_rate=0.2, max_depth=5, min_samples_leaf=4, min_samples_split=5, n_estimators=20; total time=  10.6s\n",
            "[CV] END learning_rate=0.2, max_depth=5, min_samples_leaf=4, min_samples_split=5, n_estimators=20; total time=  10.6s\n",
            "[CV] END learning_rate=0.2, max_depth=5, min_samples_leaf=4, min_samples_split=5, n_estimators=30; total time=  15.2s\n",
            "[CV] END learning_rate=0.2, max_depth=5, min_samples_leaf=4, min_samples_split=5, n_estimators=30; total time=  15.4s\n",
            "[CV] END learning_rate=0.2, max_depth=5, min_samples_leaf=4, min_samples_split=5, n_estimators=30; total time=  15.4s\n",
            "[CV] END learning_rate=0.2, max_depth=5, min_samples_leaf=4, min_samples_split=5, n_estimators=40; total time=  21.2s\n",
            "[CV] END learning_rate=0.2, max_depth=5, min_samples_leaf=4, min_samples_split=5, n_estimators=40; total time=  20.3s\n",
            "[CV] END learning_rate=0.2, max_depth=5, min_samples_leaf=4, min_samples_split=5, n_estimators=40; total time=  21.0s\n",
            "[CV] END learning_rate=0.2, max_depth=5, min_samples_leaf=4, min_samples_split=10, n_estimators=20; total time=  10.5s\n",
            "[CV] END learning_rate=0.2, max_depth=5, min_samples_leaf=4, min_samples_split=10, n_estimators=20; total time=  10.0s\n",
            "[CV] END learning_rate=0.2, max_depth=5, min_samples_leaf=4, min_samples_split=10, n_estimators=20; total time=   9.9s\n",
            "[CV] END learning_rate=0.2, max_depth=5, min_samples_leaf=4, min_samples_split=10, n_estimators=30; total time=  15.3s\n",
            "[CV] END learning_rate=0.2, max_depth=5, min_samples_leaf=4, min_samples_split=10, n_estimators=30; total time=  16.0s\n",
            "[CV] END learning_rate=0.2, max_depth=5, min_samples_leaf=4, min_samples_split=10, n_estimators=30; total time=  15.2s\n",
            "[CV] END learning_rate=0.2, max_depth=5, min_samples_leaf=4, min_samples_split=10, n_estimators=40; total time=  20.0s\n",
            "[CV] END learning_rate=0.2, max_depth=5, min_samples_leaf=4, min_samples_split=10, n_estimators=40; total time=  20.8s\n",
            "[CV] END learning_rate=0.2, max_depth=5, min_samples_leaf=4, min_samples_split=10, n_estimators=40; total time=  19.8s\n",
            "[CV] END learning_rate=0.2, max_depth=7, min_samples_leaf=1, min_samples_split=2, n_estimators=20; total time=  14.5s\n",
            "[CV] END learning_rate=0.2, max_depth=7, min_samples_leaf=1, min_samples_split=2, n_estimators=20; total time=  14.5s\n",
            "[CV] END learning_rate=0.2, max_depth=7, min_samples_leaf=1, min_samples_split=2, n_estimators=20; total time=  14.5s\n",
            "[CV] END learning_rate=0.2, max_depth=7, min_samples_leaf=1, min_samples_split=2, n_estimators=30; total time=  20.8s\n",
            "[CV] END learning_rate=0.2, max_depth=7, min_samples_leaf=1, min_samples_split=2, n_estimators=30; total time=  23.1s\n",
            "[CV] END learning_rate=0.2, max_depth=7, min_samples_leaf=1, min_samples_split=2, n_estimators=30; total time=  20.8s\n",
            "[CV] END learning_rate=0.2, max_depth=7, min_samples_leaf=1, min_samples_split=2, n_estimators=40; total time=  28.8s\n",
            "[CV] END learning_rate=0.2, max_depth=7, min_samples_leaf=1, min_samples_split=2, n_estimators=40; total time=  28.8s\n",
            "[CV] END learning_rate=0.2, max_depth=7, min_samples_leaf=1, min_samples_split=2, n_estimators=40; total time=  28.3s\n",
            "[CV] END learning_rate=0.2, max_depth=7, min_samples_leaf=1, min_samples_split=5, n_estimators=20; total time=  14.2s\n",
            "[CV] END learning_rate=0.2, max_depth=7, min_samples_leaf=1, min_samples_split=5, n_estimators=20; total time=  14.1s\n",
            "[CV] END learning_rate=0.2, max_depth=7, min_samples_leaf=1, min_samples_split=5, n_estimators=20; total time=  14.2s\n",
            "[CV] END learning_rate=0.2, max_depth=7, min_samples_leaf=1, min_samples_split=5, n_estimators=30; total time=  21.7s\n",
            "[CV] END learning_rate=0.2, max_depth=7, min_samples_leaf=1, min_samples_split=5, n_estimators=30; total time=  20.8s\n",
            "[CV] END learning_rate=0.2, max_depth=7, min_samples_leaf=1, min_samples_split=5, n_estimators=30; total time=  21.8s\n",
            "[CV] END learning_rate=0.2, max_depth=7, min_samples_leaf=1, min_samples_split=5, n_estimators=40; total time=  28.7s\n",
            "[CV] END learning_rate=0.2, max_depth=7, min_samples_leaf=1, min_samples_split=5, n_estimators=40; total time=  28.5s\n",
            "[CV] END learning_rate=0.2, max_depth=7, min_samples_leaf=1, min_samples_split=5, n_estimators=40; total time=  28.5s\n",
            "[CV] END learning_rate=0.2, max_depth=7, min_samples_leaf=1, min_samples_split=10, n_estimators=20; total time=  14.2s\n",
            "[CV] END learning_rate=0.2, max_depth=7, min_samples_leaf=1, min_samples_split=10, n_estimators=20; total time=  14.7s\n",
            "[CV] END learning_rate=0.2, max_depth=7, min_samples_leaf=1, min_samples_split=10, n_estimators=20; total time=  14.6s\n",
            "[CV] END learning_rate=0.2, max_depth=7, min_samples_leaf=1, min_samples_split=10, n_estimators=30; total time=  20.9s\n",
            "[CV] END learning_rate=0.2, max_depth=7, min_samples_leaf=1, min_samples_split=10, n_estimators=30; total time=  21.7s\n",
            "[CV] END learning_rate=0.2, max_depth=7, min_samples_leaf=1, min_samples_split=10, n_estimators=30; total time=  20.9s\n",
            "[CV] END learning_rate=0.2, max_depth=7, min_samples_leaf=1, min_samples_split=10, n_estimators=40; total time=  29.0s\n",
            "[CV] END learning_rate=0.2, max_depth=7, min_samples_leaf=1, min_samples_split=10, n_estimators=40; total time=  30.0s\n",
            "[CV] END learning_rate=0.2, max_depth=7, min_samples_leaf=1, min_samples_split=10, n_estimators=40; total time=  28.4s\n",
            "[CV] END learning_rate=0.2, max_depth=7, min_samples_leaf=2, min_samples_split=2, n_estimators=20; total time=  14.3s\n",
            "[CV] END learning_rate=0.2, max_depth=7, min_samples_leaf=2, min_samples_split=2, n_estimators=20; total time=  14.4s\n",
            "[CV] END learning_rate=0.2, max_depth=7, min_samples_leaf=2, min_samples_split=2, n_estimators=20; total time=  14.3s\n",
            "[CV] END learning_rate=0.2, max_depth=7, min_samples_leaf=2, min_samples_split=2, n_estimators=30; total time=  22.1s\n",
            "[CV] END learning_rate=0.2, max_depth=7, min_samples_leaf=2, min_samples_split=2, n_estimators=30; total time=  21.5s\n",
            "[CV] END learning_rate=0.2, max_depth=7, min_samples_leaf=2, min_samples_split=2, n_estimators=30; total time=  21.7s\n",
            "[CV] END learning_rate=0.2, max_depth=7, min_samples_leaf=2, min_samples_split=2, n_estimators=40; total time=  28.5s\n",
            "[CV] END learning_rate=0.2, max_depth=7, min_samples_leaf=2, min_samples_split=2, n_estimators=40; total time=  28.5s\n",
            "[CV] END learning_rate=0.2, max_depth=7, min_samples_leaf=2, min_samples_split=2, n_estimators=40; total time=  29.5s\n",
            "[CV] END learning_rate=0.2, max_depth=7, min_samples_leaf=2, min_samples_split=5, n_estimators=20; total time=  14.4s\n",
            "[CV] END learning_rate=0.2, max_depth=7, min_samples_leaf=2, min_samples_split=5, n_estimators=20; total time=  14.4s\n",
            "[CV] END learning_rate=0.2, max_depth=7, min_samples_leaf=2, min_samples_split=5, n_estimators=20; total time=  14.4s\n",
            "[CV] END learning_rate=0.2, max_depth=7, min_samples_leaf=2, min_samples_split=5, n_estimators=30; total time=  21.6s\n",
            "[CV] END learning_rate=0.2, max_depth=7, min_samples_leaf=2, min_samples_split=5, n_estimators=30; total time=  21.7s\n",
            "[CV] END learning_rate=0.2, max_depth=7, min_samples_leaf=2, min_samples_split=5, n_estimators=30; total time=  22.4s\n",
            "[CV] END learning_rate=0.2, max_depth=7, min_samples_leaf=2, min_samples_split=5, n_estimators=40; total time=  28.8s\n",
            "[CV] END learning_rate=0.2, max_depth=7, min_samples_leaf=2, min_samples_split=5, n_estimators=40; total time=  28.6s\n",
            "[CV] END learning_rate=0.2, max_depth=7, min_samples_leaf=2, min_samples_split=5, n_estimators=40; total time=  28.7s\n",
            "[CV] END learning_rate=0.2, max_depth=7, min_samples_leaf=2, min_samples_split=10, n_estimators=20; total time=  14.5s\n",
            "[CV] END learning_rate=0.2, max_depth=7, min_samples_leaf=2, min_samples_split=10, n_estimators=20; total time=  16.7s\n",
            "[CV] END learning_rate=0.2, max_depth=7, min_samples_leaf=2, min_samples_split=10, n_estimators=20; total time=  14.5s\n",
            "[CV] END learning_rate=0.2, max_depth=7, min_samples_leaf=2, min_samples_split=10, n_estimators=30; total time=  21.4s\n",
            "[CV] END learning_rate=0.2, max_depth=7, min_samples_leaf=2, min_samples_split=10, n_estimators=30; total time=  22.2s\n",
            "[CV] END learning_rate=0.2, max_depth=7, min_samples_leaf=2, min_samples_split=10, n_estimators=30; total time=  22.2s\n",
            "[CV] END learning_rate=0.2, max_depth=7, min_samples_leaf=2, min_samples_split=10, n_estimators=40; total time=  29.0s\n",
            "[CV] END learning_rate=0.2, max_depth=7, min_samples_leaf=2, min_samples_split=10, n_estimators=40; total time=  29.0s\n",
            "[CV] END learning_rate=0.2, max_depth=7, min_samples_leaf=2, min_samples_split=10, n_estimators=40; total time=  29.0s\n",
            "[CV] END learning_rate=0.2, max_depth=7, min_samples_leaf=4, min_samples_split=2, n_estimators=20; total time=  14.3s\n",
            "[CV] END learning_rate=0.2, max_depth=7, min_samples_leaf=4, min_samples_split=2, n_estimators=20; total time=  14.4s\n",
            "[CV] END learning_rate=0.2, max_depth=7, min_samples_leaf=4, min_samples_split=2, n_estimators=20; total time=  14.8s\n",
            "[CV] END learning_rate=0.2, max_depth=7, min_samples_leaf=4, min_samples_split=2, n_estimators=30; total time=  21.4s\n",
            "[CV] END learning_rate=0.2, max_depth=7, min_samples_leaf=4, min_samples_split=2, n_estimators=30; total time=  22.0s\n",
            "[CV] END learning_rate=0.2, max_depth=7, min_samples_leaf=4, min_samples_split=2, n_estimators=30; total time=  21.3s\n",
            "[CV] END learning_rate=0.2, max_depth=7, min_samples_leaf=4, min_samples_split=2, n_estimators=40; total time=  29.4s\n",
            "[CV] END learning_rate=0.2, max_depth=7, min_samples_leaf=4, min_samples_split=2, n_estimators=40; total time=  28.5s\n",
            "[CV] END learning_rate=0.2, max_depth=7, min_samples_leaf=4, min_samples_split=2, n_estimators=40; total time=  28.5s\n",
            "[CV] END learning_rate=0.2, max_depth=7, min_samples_leaf=4, min_samples_split=5, n_estimators=20; total time=  14.3s\n",
            "[CV] END learning_rate=0.2, max_depth=7, min_samples_leaf=4, min_samples_split=5, n_estimators=20; total time=  14.4s\n",
            "[CV] END learning_rate=0.2, max_depth=7, min_samples_leaf=4, min_samples_split=5, n_estimators=20; total time=  14.2s\n",
            "[CV] END learning_rate=0.2, max_depth=7, min_samples_leaf=4, min_samples_split=5, n_estimators=30; total time=  21.7s\n",
            "[CV] END learning_rate=0.2, max_depth=7, min_samples_leaf=4, min_samples_split=5, n_estimators=30; total time=  22.8s\n",
            "[CV] END learning_rate=0.2, max_depth=7, min_samples_leaf=4, min_samples_split=5, n_estimators=30; total time=  21.4s\n",
            "[CV] END learning_rate=0.2, max_depth=7, min_samples_leaf=4, min_samples_split=5, n_estimators=40; total time=  28.6s\n",
            "[CV] END learning_rate=0.2, max_depth=7, min_samples_leaf=4, min_samples_split=5, n_estimators=40; total time=  29.0s\n",
            "[CV] END learning_rate=0.2, max_depth=7, min_samples_leaf=4, min_samples_split=5, n_estimators=40; total time=  29.5s\n",
            "[CV] END learning_rate=0.2, max_depth=7, min_samples_leaf=4, min_samples_split=10, n_estimators=20; total time=  14.4s\n",
            "[CV] END learning_rate=0.2, max_depth=7, min_samples_leaf=4, min_samples_split=10, n_estimators=20; total time=  14.3s\n",
            "[CV] END learning_rate=0.2, max_depth=7, min_samples_leaf=4, min_samples_split=10, n_estimators=20; total time=  14.2s\n",
            "[CV] END learning_rate=0.2, max_depth=7, min_samples_leaf=4, min_samples_split=10, n_estimators=30; total time=  21.8s\n",
            "[CV] END learning_rate=0.2, max_depth=7, min_samples_leaf=4, min_samples_split=10, n_estimators=30; total time=  21.1s\n",
            "[CV] END learning_rate=0.2, max_depth=7, min_samples_leaf=4, min_samples_split=10, n_estimators=30; total time=  21.9s\n",
            "[CV] END learning_rate=0.2, max_depth=7, min_samples_leaf=4, min_samples_split=10, n_estimators=40; total time=  28.9s\n",
            "[CV] END learning_rate=0.2, max_depth=7, min_samples_leaf=4, min_samples_split=10, n_estimators=40; total time=  28.6s\n",
            "[CV] END learning_rate=0.2, max_depth=7, min_samples_leaf=4, min_samples_split=10, n_estimators=40; total time=  29.3s\n",
            "Best Hyperparameters:\n",
            "{'learning_rate': 0.2, 'max_depth': 7, 'min_samples_leaf': 1, 'min_samples_split': 2, 'n_estimators': 40}\n"
          ]
        }
      ],
      "source": [
        "from sklearn.model_selection import GridSearchCV\n",
        "from sklearn.ensemble import GradientBoostingClassifier\n",
        "\n",
        "# Define the hyperparameter grid for Gradient Boosting\n",
        "param_grid = {\n",
        "    'n_estimators': [20, 30, 40],\n",
        "    'learning_rate': [0.01, 0.1, 0.2],\n",
        "    'max_depth': [3, 5, 7],\n",
        "    'min_samples_split': [2, 5, 10],\n",
        "    'min_samples_leaf': [1, 2, 4]\n",
        "}\n",
        "\n",
        "# Instantiate the Gradient Boosting model\n",
        "gb_model = GradientBoostingClassifier(random_state=42)\n",
        "\n",
        "# Instantiate GridSearchCV\n",
        "grid_search_gb = GridSearchCV(estimator=gb_model, param_grid=param_grid, cv=3, scoring='f1', verbose=2)\n",
        "\n",
        "# Fit the grid search to the data\n",
        "grid_search_gb.fit(X_train, y_train)\n",
        "\n",
        "# Display the best hyperparameters\n",
        "print(\"Best Hyperparameters:\")\n",
        "print(grid_search_gb.best_params_)\n"
      ]
    },
    {
      "cell_type": "code",
      "execution_count": null,
      "metadata": {
        "id": "c7Of3rhj5auE",
        "colab": {
          "base_uri": "https://localhost:8080/"
        },
        "outputId": "67d3ee28-c3fc-4bc9-9d0d-7fef3f27ce36"
      },
      "outputs": [
        {
          "output_type": "stream",
          "name": "stdout",
          "text": [
            "ok\n"
          ]
        }
      ],
      "source": [
        "print(\"ok\")"
      ]
    },
    {
      "cell_type": "markdown",
      "metadata": {
        "id": "b0uXp6HHH7AC"
      },
      "source": []
    },
    {
      "cell_type": "markdown",
      "metadata": {
        "id": "OFFxwSXC5auE"
      },
      "source": [
        "### d) Performance metrics for training"
      ]
    },
    {
      "cell_type": "markdown",
      "metadata": {
        "id": "a5-0kAbgjQzi"
      },
      "source": [
        "After training the model, you can evaluate its performance using various metrics. Common metrics for classification problems include accuracy, precision, recall, F1-score, and the confusion matrix. Here's an example of calculating and displaying these metrics:\n"
      ]
    },
    {
      "cell_type": "code",
      "execution_count": null,
      "metadata": {
        "id": "WTDw8_Zx5auE",
        "colab": {
          "base_uri": "https://localhost:8080/"
        },
        "outputId": "9c16a980-0c93-4cb4-cf1f-a4710ea9f376"
      },
      "outputs": [
        {
          "output_type": "stream",
          "name": "stdout",
          "text": [
            "Accuracy: 0.9421403413709022\n",
            "Precision: 0.948476251487142\n",
            "Recall: 0.8310813519906981\n",
            "F1 Score: 0.8859066139544823\n",
            "Confusion Matrix:\n",
            " [[66208  1126]\n",
            " [ 4213 20728]]\n"
          ]
        }
      ],
      "source": [
        "from sklearn.metrics import accuracy_score, precision_score, recall_score, f1_score, confusion_matrix\n",
        "\n",
        "# Make predictions on the training set\n",
        "y_train_pred = grid_search_gb.predict(X_train)\n",
        "\n",
        "# Calculate performance metrics\n",
        "accuracy = accuracy_score(y_train, y_train_pred)\n",
        "precision = precision_score(y_train, y_train_pred)\n",
        "recall = recall_score(y_train, y_train_pred)\n",
        "f1 = f1_score(y_train, y_train_pred)\n",
        "conf_matrix = confusion_matrix(y_train, y_train_pred)\n",
        "\n",
        "# Display performance metrics\n",
        "print(\"Accuracy:\", accuracy)\n",
        "print(\"Precision:\", precision)\n",
        "print(\"Recall:\", recall)\n",
        "print(\"F1 Score:\", f1)\n",
        "print(\"Confusion Matrix:\\n\", conf_matrix)\n"
      ]
    },
    {
      "cell_type": "markdown",
      "metadata": {
        "id": "8n-v5-9N5auF"
      },
      "source": [
        "## 5. Technique 2 (20 marks)"
      ]
    },
    {
      "cell_type": "markdown",
      "metadata": {
        "id": "-cV9QIKN5auF"
      },
      "source": [
        "### a) Discuss your motivation for choosing the technique and  provide a schematic figure of the process\n",
        "\n",
        "I've also decided to use the Random Forest algorithm to anticipate fraudulent claims in this task. Because it combines many decision trees to produce a forecast that is more accurate and consistent, the Random Forest Classifier is selected as the second method. Random Forest is a good option in situations where feature relevance and variability are crucial since it is excellent at managing high-dimensional data and capturing complex relationships.\n",
        "I chose it for our dataset because of its versatility and ability to handle a huge number of characteristics and intricate correlations in data. Strong and adaptable, Random Forest leverages the advantages of several decision trees to enhance prediction performance in its entirety. When patterns are complex and non-linear, Random Forest is an effective tool for detecting fraud because it can effectively capture complex linkages within the data. It provides an indicator of the feature relevance, helping us to pinpoint the key attributes that influence fraud prediction the most.\n",
        "\n"
      ]
    },
    {
      "cell_type": "markdown",
      "metadata": {
        "id": "D8-yzlDQ5auF"
      },
      "source": [
        "Enter the correct code in the cells below to execute each of the stated sub-tasks.\n",
        "### b) Setting hyper parameters with rationale\n"
      ]
    },
    {
      "cell_type": "markdown",
      "source": [
        "Similar to Gradient Boosting, this code initializes a Random Forest Classifier and sets specific hyperparameters. The rationale includes considerations for the number of trees (n_estimators), tree depth (max_depth), and other parameters related to node splitting and leaf nodes."
      ],
      "metadata": {
        "id": "ec9u_bWl6rup"
      }
    },
    {
      "cell_type": "code",
      "execution_count": null,
      "metadata": {
        "colab": {
          "base_uri": "https://localhost:8080/",
          "height": 74
        },
        "id": "U0OZDi1A5auF",
        "outputId": "9bed2f59-9d24-48b7-c266-03cc909414ba"
      },
      "outputs": [
        {
          "output_type": "execute_result",
          "data": {
            "text/plain": [
              "RandomForestClassifier(max_features='auto', random_state=42)"
            ],
            "text/html": [
              "<style>#sk-container-id-2 {color: black;background-color: white;}#sk-container-id-2 pre{padding: 0;}#sk-container-id-2 div.sk-toggleable {background-color: white;}#sk-container-id-2 label.sk-toggleable__label {cursor: pointer;display: block;width: 100%;margin-bottom: 0;padding: 0.3em;box-sizing: border-box;text-align: center;}#sk-container-id-2 label.sk-toggleable__label-arrow:before {content: \"▸\";float: left;margin-right: 0.25em;color: #696969;}#sk-container-id-2 label.sk-toggleable__label-arrow:hover:before {color: black;}#sk-container-id-2 div.sk-estimator:hover label.sk-toggleable__label-arrow:before {color: black;}#sk-container-id-2 div.sk-toggleable__content {max-height: 0;max-width: 0;overflow: hidden;text-align: left;background-color: #f0f8ff;}#sk-container-id-2 div.sk-toggleable__content pre {margin: 0.2em;color: black;border-radius: 0.25em;background-color: #f0f8ff;}#sk-container-id-2 input.sk-toggleable__control:checked~div.sk-toggleable__content {max-height: 200px;max-width: 100%;overflow: auto;}#sk-container-id-2 input.sk-toggleable__control:checked~label.sk-toggleable__label-arrow:before {content: \"▾\";}#sk-container-id-2 div.sk-estimator input.sk-toggleable__control:checked~label.sk-toggleable__label {background-color: #d4ebff;}#sk-container-id-2 div.sk-label input.sk-toggleable__control:checked~label.sk-toggleable__label {background-color: #d4ebff;}#sk-container-id-2 input.sk-hidden--visually {border: 0;clip: rect(1px 1px 1px 1px);clip: rect(1px, 1px, 1px, 1px);height: 1px;margin: -1px;overflow: hidden;padding: 0;position: absolute;width: 1px;}#sk-container-id-2 div.sk-estimator {font-family: monospace;background-color: #f0f8ff;border: 1px dotted black;border-radius: 0.25em;box-sizing: border-box;margin-bottom: 0.5em;}#sk-container-id-2 div.sk-estimator:hover {background-color: #d4ebff;}#sk-container-id-2 div.sk-parallel-item::after {content: \"\";width: 100%;border-bottom: 1px solid gray;flex-grow: 1;}#sk-container-id-2 div.sk-label:hover label.sk-toggleable__label {background-color: #d4ebff;}#sk-container-id-2 div.sk-serial::before {content: \"\";position: absolute;border-left: 1px solid gray;box-sizing: border-box;top: 0;bottom: 0;left: 50%;z-index: 0;}#sk-container-id-2 div.sk-serial {display: flex;flex-direction: column;align-items: center;background-color: white;padding-right: 0.2em;padding-left: 0.2em;position: relative;}#sk-container-id-2 div.sk-item {position: relative;z-index: 1;}#sk-container-id-2 div.sk-parallel {display: flex;align-items: stretch;justify-content: center;background-color: white;position: relative;}#sk-container-id-2 div.sk-item::before, #sk-container-id-2 div.sk-parallel-item::before {content: \"\";position: absolute;border-left: 1px solid gray;box-sizing: border-box;top: 0;bottom: 0;left: 50%;z-index: -1;}#sk-container-id-2 div.sk-parallel-item {display: flex;flex-direction: column;z-index: 1;position: relative;background-color: white;}#sk-container-id-2 div.sk-parallel-item:first-child::after {align-self: flex-end;width: 50%;}#sk-container-id-2 div.sk-parallel-item:last-child::after {align-self: flex-start;width: 50%;}#sk-container-id-2 div.sk-parallel-item:only-child::after {width: 0;}#sk-container-id-2 div.sk-dashed-wrapped {border: 1px dashed gray;margin: 0 0.4em 0.5em 0.4em;box-sizing: border-box;padding-bottom: 0.4em;background-color: white;}#sk-container-id-2 div.sk-label label {font-family: monospace;font-weight: bold;display: inline-block;line-height: 1.2em;}#sk-container-id-2 div.sk-label-container {text-align: center;}#sk-container-id-2 div.sk-container {/* jupyter's `normalize.less` sets `[hidden] { display: none; }` but bootstrap.min.css set `[hidden] { display: none !important; }` so we also need the `!important` here to be able to override the default hidden behavior on the sphinx rendered scikit-learn.org. See: https://github.com/scikit-learn/scikit-learn/issues/21755 */display: inline-block !important;position: relative;}#sk-container-id-2 div.sk-text-repr-fallback {display: none;}</style><div id=\"sk-container-id-2\" class=\"sk-top-container\"><div class=\"sk-text-repr-fallback\"><pre>RandomForestClassifier(max_features=&#x27;auto&#x27;, random_state=42)</pre><b>In a Jupyter environment, please rerun this cell to show the HTML representation or trust the notebook. <br />On GitHub, the HTML representation is unable to render, please try loading this page with nbviewer.org.</b></div><div class=\"sk-container\" hidden><div class=\"sk-item\"><div class=\"sk-estimator sk-toggleable\"><input class=\"sk-toggleable__control sk-hidden--visually\" id=\"sk-estimator-id-2\" type=\"checkbox\" checked><label for=\"sk-estimator-id-2\" class=\"sk-toggleable__label sk-toggleable__label-arrow\">RandomForestClassifier</label><div class=\"sk-toggleable__content\"><pre>RandomForestClassifier(max_features=&#x27;auto&#x27;, random_state=42)</pre></div></div></div></div></div>"
            ]
          },
          "metadata": {},
          "execution_count": 38
        }
      ],
      "source": [
        "from sklearn.ensemble import RandomForestClassifier\n",
        "\n",
        "# Initialize the Random Forest Classifier\n",
        "rf_classifier = RandomForestClassifier(random_state=42)\n",
        "\n",
        "# Set hyperparameters\n",
        "rf_hyperparameters = {\n",
        "    'n_estimators': 100,         # Number of trees in the forest\n",
        "    'max_depth': None,           # Maximum depth of the trees\n",
        "    'min_samples_split': 2,      # Minimum number of samples required to split an internal node\n",
        "    'min_samples_leaf': 1,       # Minimum number of samples required to be at a leaf node\n",
        "    'max_features': 'auto',      # Number of features to consider for the best split\n",
        "}\n",
        "\n",
        "rf_classifier.set_params(**rf_hyperparameters)\n"
      ]
    },
    {
      "cell_type": "markdown",
      "metadata": {
        "id": "AXdTnz9k5auF"
      },
      "source": [
        "### c) Optimising hyper parameters\n"
      ]
    },
    {
      "cell_type": "markdown",
      "source": [
        "This code uses GridSearchCV to search over different values for hyperparameters for Random Forest. The F1-score is again chosen as the evaluation metric. The best hyperparameters found by the grid search are then printed.\n",
        "\n"
      ],
      "metadata": {
        "id": "Iilemm1-7Dbq"
      }
    },
    {
      "cell_type": "code",
      "execution_count": null,
      "metadata": {
        "colab": {
          "base_uri": "https://localhost:8080/"
        },
        "id": "2mAY5r_N5auF",
        "outputId": "8e7322b7-2f96-4b44-8d8f-2386e570c0ff"
      },
      "outputs": [
        {
          "output_type": "stream",
          "name": "stdout",
          "text": [
            "Fitting 3 folds for each of 243 candidates, totalling 729 fits\n"
          ]
        },
        {
          "output_type": "stream",
          "name": "stderr",
          "text": [
            "/usr/local/lib/python3.10/dist-packages/sklearn/ensemble/_forest.py:424: FutureWarning: `max_features='auto'` has been deprecated in 1.1 and will be removed in 1.3. To keep the past behaviour, explicitly set `max_features='sqrt'` or remove this parameter as it is also the default value for RandomForestClassifiers and ExtraTreesClassifiers.\n",
            "  warn(\n"
          ]
        },
        {
          "output_type": "stream",
          "name": "stdout",
          "text": [
            "[CV] END max_depth=None, max_features=auto, min_samples_leaf=1, min_samples_split=2, n_estimators=20; total time=   3.6s\n"
          ]
        },
        {
          "output_type": "stream",
          "name": "stderr",
          "text": [
            "/usr/local/lib/python3.10/dist-packages/sklearn/ensemble/_forest.py:424: FutureWarning: `max_features='auto'` has been deprecated in 1.1 and will be removed in 1.3. To keep the past behaviour, explicitly set `max_features='sqrt'` or remove this parameter as it is also the default value for RandomForestClassifiers and ExtraTreesClassifiers.\n",
            "  warn(\n"
          ]
        },
        {
          "output_type": "stream",
          "name": "stdout",
          "text": [
            "[CV] END max_depth=None, max_features=auto, min_samples_leaf=1, min_samples_split=2, n_estimators=20; total time=   3.5s\n"
          ]
        },
        {
          "output_type": "stream",
          "name": "stderr",
          "text": [
            "/usr/local/lib/python3.10/dist-packages/sklearn/ensemble/_forest.py:424: FutureWarning: `max_features='auto'` has been deprecated in 1.1 and will be removed in 1.3. To keep the past behaviour, explicitly set `max_features='sqrt'` or remove this parameter as it is also the default value for RandomForestClassifiers and ExtraTreesClassifiers.\n",
            "  warn(\n"
          ]
        },
        {
          "output_type": "stream",
          "name": "stdout",
          "text": [
            "[CV] END max_depth=None, max_features=auto, min_samples_leaf=1, min_samples_split=2, n_estimators=20; total time=   8.3s\n"
          ]
        },
        {
          "output_type": "stream",
          "name": "stderr",
          "text": [
            "/usr/local/lib/python3.10/dist-packages/sklearn/ensemble/_forest.py:424: FutureWarning: `max_features='auto'` has been deprecated in 1.1 and will be removed in 1.3. To keep the past behaviour, explicitly set `max_features='sqrt'` or remove this parameter as it is also the default value for RandomForestClassifiers and ExtraTreesClassifiers.\n",
            "  warn(\n"
          ]
        },
        {
          "output_type": "stream",
          "name": "stdout",
          "text": [
            "[CV] END max_depth=None, max_features=auto, min_samples_leaf=1, min_samples_split=2, n_estimators=30; total time=  12.0s\n"
          ]
        },
        {
          "output_type": "stream",
          "name": "stderr",
          "text": [
            "/usr/local/lib/python3.10/dist-packages/sklearn/ensemble/_forest.py:424: FutureWarning: `max_features='auto'` has been deprecated in 1.1 and will be removed in 1.3. To keep the past behaviour, explicitly set `max_features='sqrt'` or remove this parameter as it is also the default value for RandomForestClassifiers and ExtraTreesClassifiers.\n",
            "  warn(\n"
          ]
        },
        {
          "output_type": "stream",
          "name": "stdout",
          "text": [
            "[CV] END max_depth=None, max_features=auto, min_samples_leaf=1, min_samples_split=2, n_estimators=30; total time=   8.0s\n"
          ]
        },
        {
          "output_type": "stream",
          "name": "stderr",
          "text": [
            "/usr/local/lib/python3.10/dist-packages/sklearn/ensemble/_forest.py:424: FutureWarning: `max_features='auto'` has been deprecated in 1.1 and will be removed in 1.3. To keep the past behaviour, explicitly set `max_features='sqrt'` or remove this parameter as it is also the default value for RandomForestClassifiers and ExtraTreesClassifiers.\n",
            "  warn(\n"
          ]
        },
        {
          "output_type": "stream",
          "name": "stdout",
          "text": [
            "[CV] END max_depth=None, max_features=auto, min_samples_leaf=1, min_samples_split=2, n_estimators=30; total time=   5.4s\n"
          ]
        },
        {
          "output_type": "stream",
          "name": "stderr",
          "text": [
            "/usr/local/lib/python3.10/dist-packages/sklearn/ensemble/_forest.py:424: FutureWarning: `max_features='auto'` has been deprecated in 1.1 and will be removed in 1.3. To keep the past behaviour, explicitly set `max_features='sqrt'` or remove this parameter as it is also the default value for RandomForestClassifiers and ExtraTreesClassifiers.\n",
            "  warn(\n"
          ]
        },
        {
          "output_type": "stream",
          "name": "stdout",
          "text": [
            "[CV] END max_depth=None, max_features=auto, min_samples_leaf=1, min_samples_split=2, n_estimators=40; total time=   7.5s\n"
          ]
        },
        {
          "output_type": "stream",
          "name": "stderr",
          "text": [
            "/usr/local/lib/python3.10/dist-packages/sklearn/ensemble/_forest.py:424: FutureWarning: `max_features='auto'` has been deprecated in 1.1 and will be removed in 1.3. To keep the past behaviour, explicitly set `max_features='sqrt'` or remove this parameter as it is also the default value for RandomForestClassifiers and ExtraTreesClassifiers.\n",
            "  warn(\n"
          ]
        },
        {
          "output_type": "stream",
          "name": "stdout",
          "text": [
            "[CV] END max_depth=None, max_features=auto, min_samples_leaf=1, min_samples_split=2, n_estimators=40; total time=   7.1s\n"
          ]
        },
        {
          "output_type": "stream",
          "name": "stderr",
          "text": [
            "/usr/local/lib/python3.10/dist-packages/sklearn/ensemble/_forest.py:424: FutureWarning: `max_features='auto'` has been deprecated in 1.1 and will be removed in 1.3. To keep the past behaviour, explicitly set `max_features='sqrt'` or remove this parameter as it is also the default value for RandomForestClassifiers and ExtraTreesClassifiers.\n",
            "  warn(\n"
          ]
        },
        {
          "output_type": "stream",
          "name": "stdout",
          "text": [
            "[CV] END max_depth=None, max_features=auto, min_samples_leaf=1, min_samples_split=2, n_estimators=40; total time=   7.3s\n"
          ]
        },
        {
          "output_type": "stream",
          "name": "stderr",
          "text": [
            "/usr/local/lib/python3.10/dist-packages/sklearn/ensemble/_forest.py:424: FutureWarning: `max_features='auto'` has been deprecated in 1.1 and will be removed in 1.3. To keep the past behaviour, explicitly set `max_features='sqrt'` or remove this parameter as it is also the default value for RandomForestClassifiers and ExtraTreesClassifiers.\n",
            "  warn(\n"
          ]
        },
        {
          "output_type": "stream",
          "name": "stdout",
          "text": [
            "[CV] END max_depth=None, max_features=auto, min_samples_leaf=1, min_samples_split=5, n_estimators=20; total time=   3.3s\n"
          ]
        },
        {
          "output_type": "stream",
          "name": "stderr",
          "text": [
            "/usr/local/lib/python3.10/dist-packages/sklearn/ensemble/_forest.py:424: FutureWarning: `max_features='auto'` has been deprecated in 1.1 and will be removed in 1.3. To keep the past behaviour, explicitly set `max_features='sqrt'` or remove this parameter as it is also the default value for RandomForestClassifiers and ExtraTreesClassifiers.\n",
            "  warn(\n"
          ]
        },
        {
          "output_type": "stream",
          "name": "stdout",
          "text": [
            "[CV] END max_depth=None, max_features=auto, min_samples_leaf=1, min_samples_split=5, n_estimators=20; total time=   3.9s\n"
          ]
        },
        {
          "output_type": "stream",
          "name": "stderr",
          "text": [
            "/usr/local/lib/python3.10/dist-packages/sklearn/ensemble/_forest.py:424: FutureWarning: `max_features='auto'` has been deprecated in 1.1 and will be removed in 1.3. To keep the past behaviour, explicitly set `max_features='sqrt'` or remove this parameter as it is also the default value for RandomForestClassifiers and ExtraTreesClassifiers.\n",
            "  warn(\n"
          ]
        },
        {
          "output_type": "stream",
          "name": "stdout",
          "text": [
            "[CV] END max_depth=None, max_features=auto, min_samples_leaf=1, min_samples_split=5, n_estimators=20; total time=   3.9s\n"
          ]
        },
        {
          "output_type": "stream",
          "name": "stderr",
          "text": [
            "/usr/local/lib/python3.10/dist-packages/sklearn/ensemble/_forest.py:424: FutureWarning: `max_features='auto'` has been deprecated in 1.1 and will be removed in 1.3. To keep the past behaviour, explicitly set `max_features='sqrt'` or remove this parameter as it is also the default value for RandomForestClassifiers and ExtraTreesClassifiers.\n",
            "  warn(\n"
          ]
        },
        {
          "output_type": "stream",
          "name": "stdout",
          "text": [
            "[CV] END max_depth=None, max_features=auto, min_samples_leaf=1, min_samples_split=5, n_estimators=30; total time=   5.0s\n"
          ]
        },
        {
          "output_type": "stream",
          "name": "stderr",
          "text": [
            "/usr/local/lib/python3.10/dist-packages/sklearn/ensemble/_forest.py:424: FutureWarning: `max_features='auto'` has been deprecated in 1.1 and will be removed in 1.3. To keep the past behaviour, explicitly set `max_features='sqrt'` or remove this parameter as it is also the default value for RandomForestClassifiers and ExtraTreesClassifiers.\n",
            "  warn(\n"
          ]
        },
        {
          "output_type": "stream",
          "name": "stdout",
          "text": [
            "[CV] END max_depth=None, max_features=auto, min_samples_leaf=1, min_samples_split=5, n_estimators=30; total time=   5.7s\n"
          ]
        },
        {
          "output_type": "stream",
          "name": "stderr",
          "text": [
            "/usr/local/lib/python3.10/dist-packages/sklearn/ensemble/_forest.py:424: FutureWarning: `max_features='auto'` has been deprecated in 1.1 and will be removed in 1.3. To keep the past behaviour, explicitly set `max_features='sqrt'` or remove this parameter as it is also the default value for RandomForestClassifiers and ExtraTreesClassifiers.\n",
            "  warn(\n"
          ]
        },
        {
          "output_type": "stream",
          "name": "stdout",
          "text": [
            "[CV] END max_depth=None, max_features=auto, min_samples_leaf=1, min_samples_split=5, n_estimators=30; total time=   5.6s\n"
          ]
        },
        {
          "output_type": "stream",
          "name": "stderr",
          "text": [
            "/usr/local/lib/python3.10/dist-packages/sklearn/ensemble/_forest.py:424: FutureWarning: `max_features='auto'` has been deprecated in 1.1 and will be removed in 1.3. To keep the past behaviour, explicitly set `max_features='sqrt'` or remove this parameter as it is also the default value for RandomForestClassifiers and ExtraTreesClassifiers.\n",
            "  warn(\n"
          ]
        },
        {
          "output_type": "stream",
          "name": "stdout",
          "text": [
            "[CV] END max_depth=None, max_features=auto, min_samples_leaf=1, min_samples_split=5, n_estimators=40; total time=   6.7s\n"
          ]
        },
        {
          "output_type": "stream",
          "name": "stderr",
          "text": [
            "/usr/local/lib/python3.10/dist-packages/sklearn/ensemble/_forest.py:424: FutureWarning: `max_features='auto'` has been deprecated in 1.1 and will be removed in 1.3. To keep the past behaviour, explicitly set `max_features='sqrt'` or remove this parameter as it is also the default value for RandomForestClassifiers and ExtraTreesClassifiers.\n",
            "  warn(\n"
          ]
        },
        {
          "output_type": "stream",
          "name": "stdout",
          "text": [
            "[CV] END max_depth=None, max_features=auto, min_samples_leaf=1, min_samples_split=5, n_estimators=40; total time=   8.2s\n"
          ]
        },
        {
          "output_type": "stream",
          "name": "stderr",
          "text": [
            "/usr/local/lib/python3.10/dist-packages/sklearn/ensemble/_forest.py:424: FutureWarning: `max_features='auto'` has been deprecated in 1.1 and will be removed in 1.3. To keep the past behaviour, explicitly set `max_features='sqrt'` or remove this parameter as it is also the default value for RandomForestClassifiers and ExtraTreesClassifiers.\n",
            "  warn(\n"
          ]
        },
        {
          "output_type": "stream",
          "name": "stdout",
          "text": [
            "[CV] END max_depth=None, max_features=auto, min_samples_leaf=1, min_samples_split=5, n_estimators=40; total time=   6.9s\n"
          ]
        },
        {
          "output_type": "stream",
          "name": "stderr",
          "text": [
            "/usr/local/lib/python3.10/dist-packages/sklearn/ensemble/_forest.py:424: FutureWarning: `max_features='auto'` has been deprecated in 1.1 and will be removed in 1.3. To keep the past behaviour, explicitly set `max_features='sqrt'` or remove this parameter as it is also the default value for RandomForestClassifiers and ExtraTreesClassifiers.\n",
            "  warn(\n"
          ]
        },
        {
          "output_type": "stream",
          "name": "stdout",
          "text": [
            "[CV] END max_depth=None, max_features=auto, min_samples_leaf=1, min_samples_split=10, n_estimators=20; total time=   5.6s\n"
          ]
        },
        {
          "output_type": "stream",
          "name": "stderr",
          "text": [
            "/usr/local/lib/python3.10/dist-packages/sklearn/ensemble/_forest.py:424: FutureWarning: `max_features='auto'` has been deprecated in 1.1 and will be removed in 1.3. To keep the past behaviour, explicitly set `max_features='sqrt'` or remove this parameter as it is also the default value for RandomForestClassifiers and ExtraTreesClassifiers.\n",
            "  warn(\n"
          ]
        },
        {
          "output_type": "stream",
          "name": "stdout",
          "text": [
            "[CV] END max_depth=None, max_features=auto, min_samples_leaf=1, min_samples_split=10, n_estimators=20; total time=   4.7s\n"
          ]
        },
        {
          "output_type": "stream",
          "name": "stderr",
          "text": [
            "/usr/local/lib/python3.10/dist-packages/sklearn/ensemble/_forest.py:424: FutureWarning: `max_features='auto'` has been deprecated in 1.1 and will be removed in 1.3. To keep the past behaviour, explicitly set `max_features='sqrt'` or remove this parameter as it is also the default value for RandomForestClassifiers and ExtraTreesClassifiers.\n",
            "  warn(\n"
          ]
        },
        {
          "output_type": "stream",
          "name": "stdout",
          "text": [
            "[CV] END max_depth=None, max_features=auto, min_samples_leaf=1, min_samples_split=10, n_estimators=20; total time=   5.2s\n"
          ]
        },
        {
          "output_type": "stream",
          "name": "stderr",
          "text": [
            "/usr/local/lib/python3.10/dist-packages/sklearn/ensemble/_forest.py:424: FutureWarning: `max_features='auto'` has been deprecated in 1.1 and will be removed in 1.3. To keep the past behaviour, explicitly set `max_features='sqrt'` or remove this parameter as it is also the default value for RandomForestClassifiers and ExtraTreesClassifiers.\n",
            "  warn(\n"
          ]
        },
        {
          "output_type": "stream",
          "name": "stdout",
          "text": [
            "[CV] END max_depth=None, max_features=auto, min_samples_leaf=1, min_samples_split=10, n_estimators=30; total time=   5.7s\n"
          ]
        },
        {
          "output_type": "stream",
          "name": "stderr",
          "text": [
            "/usr/local/lib/python3.10/dist-packages/sklearn/ensemble/_forest.py:424: FutureWarning: `max_features='auto'` has been deprecated in 1.1 and will be removed in 1.3. To keep the past behaviour, explicitly set `max_features='sqrt'` or remove this parameter as it is also the default value for RandomForestClassifiers and ExtraTreesClassifiers.\n",
            "  warn(\n"
          ]
        },
        {
          "output_type": "stream",
          "name": "stdout",
          "text": [
            "[CV] END max_depth=None, max_features=auto, min_samples_leaf=1, min_samples_split=10, n_estimators=30; total time=   4.9s\n"
          ]
        },
        {
          "output_type": "stream",
          "name": "stderr",
          "text": [
            "/usr/local/lib/python3.10/dist-packages/sklearn/ensemble/_forest.py:424: FutureWarning: `max_features='auto'` has been deprecated in 1.1 and will be removed in 1.3. To keep the past behaviour, explicitly set `max_features='sqrt'` or remove this parameter as it is also the default value for RandomForestClassifiers and ExtraTreesClassifiers.\n",
            "  warn(\n"
          ]
        },
        {
          "output_type": "stream",
          "name": "stdout",
          "text": [
            "[CV] END max_depth=None, max_features=auto, min_samples_leaf=1, min_samples_split=10, n_estimators=30; total time=   6.2s\n"
          ]
        },
        {
          "output_type": "stream",
          "name": "stderr",
          "text": [
            "/usr/local/lib/python3.10/dist-packages/sklearn/ensemble/_forest.py:424: FutureWarning: `max_features='auto'` has been deprecated in 1.1 and will be removed in 1.3. To keep the past behaviour, explicitly set `max_features='sqrt'` or remove this parameter as it is also the default value for RandomForestClassifiers and ExtraTreesClassifiers.\n",
            "  warn(\n"
          ]
        },
        {
          "output_type": "stream",
          "name": "stdout",
          "text": [
            "[CV] END max_depth=None, max_features=auto, min_samples_leaf=1, min_samples_split=10, n_estimators=40; total time=   6.6s\n"
          ]
        },
        {
          "output_type": "stream",
          "name": "stderr",
          "text": [
            "/usr/local/lib/python3.10/dist-packages/sklearn/ensemble/_forest.py:424: FutureWarning: `max_features='auto'` has been deprecated in 1.1 and will be removed in 1.3. To keep the past behaviour, explicitly set `max_features='sqrt'` or remove this parameter as it is also the default value for RandomForestClassifiers and ExtraTreesClassifiers.\n",
            "  warn(\n"
          ]
        },
        {
          "output_type": "stream",
          "name": "stdout",
          "text": [
            "[CV] END max_depth=None, max_features=auto, min_samples_leaf=1, min_samples_split=10, n_estimators=40; total time=   7.8s\n"
          ]
        },
        {
          "output_type": "stream",
          "name": "stderr",
          "text": [
            "/usr/local/lib/python3.10/dist-packages/sklearn/ensemble/_forest.py:424: FutureWarning: `max_features='auto'` has been deprecated in 1.1 and will be removed in 1.3. To keep the past behaviour, explicitly set `max_features='sqrt'` or remove this parameter as it is also the default value for RandomForestClassifiers and ExtraTreesClassifiers.\n",
            "  warn(\n"
          ]
        },
        {
          "output_type": "stream",
          "name": "stdout",
          "text": [
            "[CV] END max_depth=None, max_features=auto, min_samples_leaf=1, min_samples_split=10, n_estimators=40; total time=   6.5s\n"
          ]
        },
        {
          "output_type": "stream",
          "name": "stderr",
          "text": [
            "/usr/local/lib/python3.10/dist-packages/sklearn/ensemble/_forest.py:424: FutureWarning: `max_features='auto'` has been deprecated in 1.1 and will be removed in 1.3. To keep the past behaviour, explicitly set `max_features='sqrt'` or remove this parameter as it is also the default value for RandomForestClassifiers and ExtraTreesClassifiers.\n",
            "  warn(\n"
          ]
        },
        {
          "output_type": "stream",
          "name": "stdout",
          "text": [
            "[CV] END max_depth=None, max_features=auto, min_samples_leaf=2, min_samples_split=2, n_estimators=20; total time=   3.3s\n"
          ]
        },
        {
          "output_type": "stream",
          "name": "stderr",
          "text": [
            "/usr/local/lib/python3.10/dist-packages/sklearn/ensemble/_forest.py:424: FutureWarning: `max_features='auto'` has been deprecated in 1.1 and will be removed in 1.3. To keep the past behaviour, explicitly set `max_features='sqrt'` or remove this parameter as it is also the default value for RandomForestClassifiers and ExtraTreesClassifiers.\n",
            "  warn(\n"
          ]
        },
        {
          "output_type": "stream",
          "name": "stdout",
          "text": [
            "[CV] END max_depth=None, max_features=auto, min_samples_leaf=2, min_samples_split=2, n_estimators=20; total time=   4.6s\n"
          ]
        },
        {
          "output_type": "stream",
          "name": "stderr",
          "text": [
            "/usr/local/lib/python3.10/dist-packages/sklearn/ensemble/_forest.py:424: FutureWarning: `max_features='auto'` has been deprecated in 1.1 and will be removed in 1.3. To keep the past behaviour, explicitly set `max_features='sqrt'` or remove this parameter as it is also the default value for RandomForestClassifiers and ExtraTreesClassifiers.\n",
            "  warn(\n"
          ]
        },
        {
          "output_type": "stream",
          "name": "stdout",
          "text": [
            "[CV] END max_depth=None, max_features=auto, min_samples_leaf=2, min_samples_split=2, n_estimators=20; total time=   3.4s\n"
          ]
        },
        {
          "output_type": "stream",
          "name": "stderr",
          "text": [
            "/usr/local/lib/python3.10/dist-packages/sklearn/ensemble/_forest.py:424: FutureWarning: `max_features='auto'` has been deprecated in 1.1 and will be removed in 1.3. To keep the past behaviour, explicitly set `max_features='sqrt'` or remove this parameter as it is also the default value for RandomForestClassifiers and ExtraTreesClassifiers.\n",
            "  warn(\n"
          ]
        },
        {
          "output_type": "stream",
          "name": "stdout",
          "text": [
            "[CV] END max_depth=None, max_features=auto, min_samples_leaf=2, min_samples_split=2, n_estimators=30; total time=   5.0s\n"
          ]
        },
        {
          "output_type": "stream",
          "name": "stderr",
          "text": [
            "/usr/local/lib/python3.10/dist-packages/sklearn/ensemble/_forest.py:424: FutureWarning: `max_features='auto'` has been deprecated in 1.1 and will be removed in 1.3. To keep the past behaviour, explicitly set `max_features='sqrt'` or remove this parameter as it is also the default value for RandomForestClassifiers and ExtraTreesClassifiers.\n",
            "  warn(\n"
          ]
        },
        {
          "output_type": "stream",
          "name": "stdout",
          "text": [
            "[CV] END max_depth=None, max_features=auto, min_samples_leaf=2, min_samples_split=2, n_estimators=30; total time=   6.3s\n"
          ]
        },
        {
          "output_type": "stream",
          "name": "stderr",
          "text": [
            "/usr/local/lib/python3.10/dist-packages/sklearn/ensemble/_forest.py:424: FutureWarning: `max_features='auto'` has been deprecated in 1.1 and will be removed in 1.3. To keep the past behaviour, explicitly set `max_features='sqrt'` or remove this parameter as it is also the default value for RandomForestClassifiers and ExtraTreesClassifiers.\n",
            "  warn(\n"
          ]
        },
        {
          "output_type": "stream",
          "name": "stdout",
          "text": [
            "[CV] END max_depth=None, max_features=auto, min_samples_leaf=2, min_samples_split=2, n_estimators=30; total time=   4.9s\n"
          ]
        },
        {
          "output_type": "stream",
          "name": "stderr",
          "text": [
            "/usr/local/lib/python3.10/dist-packages/sklearn/ensemble/_forest.py:424: FutureWarning: `max_features='auto'` has been deprecated in 1.1 and will be removed in 1.3. To keep the past behaviour, explicitly set `max_features='sqrt'` or remove this parameter as it is also the default value for RandomForestClassifiers and ExtraTreesClassifiers.\n",
            "  warn(\n"
          ]
        },
        {
          "output_type": "stream",
          "name": "stdout",
          "text": [
            "[CV] END max_depth=None, max_features=auto, min_samples_leaf=2, min_samples_split=2, n_estimators=40; total time=   7.2s\n"
          ]
        },
        {
          "output_type": "stream",
          "name": "stderr",
          "text": [
            "/usr/local/lib/python3.10/dist-packages/sklearn/ensemble/_forest.py:424: FutureWarning: `max_features='auto'` has been deprecated in 1.1 and will be removed in 1.3. To keep the past behaviour, explicitly set `max_features='sqrt'` or remove this parameter as it is also the default value for RandomForestClassifiers and ExtraTreesClassifiers.\n",
            "  warn(\n"
          ]
        },
        {
          "output_type": "stream",
          "name": "stdout",
          "text": [
            "[CV] END max_depth=None, max_features=auto, min_samples_leaf=2, min_samples_split=2, n_estimators=40; total time=   7.2s\n"
          ]
        },
        {
          "output_type": "stream",
          "name": "stderr",
          "text": [
            "/usr/local/lib/python3.10/dist-packages/sklearn/ensemble/_forest.py:424: FutureWarning: `max_features='auto'` has been deprecated in 1.1 and will be removed in 1.3. To keep the past behaviour, explicitly set `max_features='sqrt'` or remove this parameter as it is also the default value for RandomForestClassifiers and ExtraTreesClassifiers.\n",
            "  warn(\n"
          ]
        },
        {
          "output_type": "stream",
          "name": "stdout",
          "text": [
            "[CV] END max_depth=None, max_features=auto, min_samples_leaf=2, min_samples_split=2, n_estimators=40; total time=   7.8s\n"
          ]
        },
        {
          "output_type": "stream",
          "name": "stderr",
          "text": [
            "/usr/local/lib/python3.10/dist-packages/sklearn/ensemble/_forest.py:424: FutureWarning: `max_features='auto'` has been deprecated in 1.1 and will be removed in 1.3. To keep the past behaviour, explicitly set `max_features='sqrt'` or remove this parameter as it is also the default value for RandomForestClassifiers and ExtraTreesClassifiers.\n",
            "  warn(\n"
          ]
        },
        {
          "output_type": "stream",
          "name": "stdout",
          "text": [
            "[CV] END max_depth=None, max_features=auto, min_samples_leaf=2, min_samples_split=5, n_estimators=20; total time=   3.6s\n"
          ]
        },
        {
          "output_type": "stream",
          "name": "stderr",
          "text": [
            "/usr/local/lib/python3.10/dist-packages/sklearn/ensemble/_forest.py:424: FutureWarning: `max_features='auto'` has been deprecated in 1.1 and will be removed in 1.3. To keep the past behaviour, explicitly set `max_features='sqrt'` or remove this parameter as it is also the default value for RandomForestClassifiers and ExtraTreesClassifiers.\n",
            "  warn(\n"
          ]
        },
        {
          "output_type": "stream",
          "name": "stdout",
          "text": [
            "[CV] END max_depth=None, max_features=auto, min_samples_leaf=2, min_samples_split=5, n_estimators=20; total time=   3.3s\n"
          ]
        },
        {
          "output_type": "stream",
          "name": "stderr",
          "text": [
            "/usr/local/lib/python3.10/dist-packages/sklearn/ensemble/_forest.py:424: FutureWarning: `max_features='auto'` has been deprecated in 1.1 and will be removed in 1.3. To keep the past behaviour, explicitly set `max_features='sqrt'` or remove this parameter as it is also the default value for RandomForestClassifiers and ExtraTreesClassifiers.\n",
            "  warn(\n"
          ]
        },
        {
          "output_type": "stream",
          "name": "stdout",
          "text": [
            "[CV] END max_depth=None, max_features=auto, min_samples_leaf=2, min_samples_split=5, n_estimators=20; total time=   3.3s\n"
          ]
        },
        {
          "output_type": "stream",
          "name": "stderr",
          "text": [
            "/usr/local/lib/python3.10/dist-packages/sklearn/ensemble/_forest.py:424: FutureWarning: `max_features='auto'` has been deprecated in 1.1 and will be removed in 1.3. To keep the past behaviour, explicitly set `max_features='sqrt'` or remove this parameter as it is also the default value for RandomForestClassifiers and ExtraTreesClassifiers.\n",
            "  warn(\n"
          ]
        },
        {
          "output_type": "stream",
          "name": "stdout",
          "text": [
            "[CV] END max_depth=None, max_features=auto, min_samples_leaf=2, min_samples_split=5, n_estimators=30; total time=   6.3s\n"
          ]
        },
        {
          "output_type": "stream",
          "name": "stderr",
          "text": [
            "/usr/local/lib/python3.10/dist-packages/sklearn/ensemble/_forest.py:424: FutureWarning: `max_features='auto'` has been deprecated in 1.1 and will be removed in 1.3. To keep the past behaviour, explicitly set `max_features='sqrt'` or remove this parameter as it is also the default value for RandomForestClassifiers and ExtraTreesClassifiers.\n",
            "  warn(\n"
          ]
        },
        {
          "output_type": "stream",
          "name": "stdout",
          "text": [
            "[CV] END max_depth=None, max_features=auto, min_samples_leaf=2, min_samples_split=5, n_estimators=30; total time=   4.9s\n"
          ]
        },
        {
          "output_type": "stream",
          "name": "stderr",
          "text": [
            "/usr/local/lib/python3.10/dist-packages/sklearn/ensemble/_forest.py:424: FutureWarning: `max_features='auto'` has been deprecated in 1.1 and will be removed in 1.3. To keep the past behaviour, explicitly set `max_features='sqrt'` or remove this parameter as it is also the default value for RandomForestClassifiers and ExtraTreesClassifiers.\n",
            "  warn(\n"
          ]
        },
        {
          "output_type": "stream",
          "name": "stdout",
          "text": [
            "[CV] END max_depth=None, max_features=auto, min_samples_leaf=2, min_samples_split=5, n_estimators=30; total time=   5.1s\n"
          ]
        },
        {
          "output_type": "stream",
          "name": "stderr",
          "text": [
            "/usr/local/lib/python3.10/dist-packages/sklearn/ensemble/_forest.py:424: FutureWarning: `max_features='auto'` has been deprecated in 1.1 and will be removed in 1.3. To keep the past behaviour, explicitly set `max_features='sqrt'` or remove this parameter as it is also the default value for RandomForestClassifiers and ExtraTreesClassifiers.\n",
            "  warn(\n"
          ]
        },
        {
          "output_type": "stream",
          "name": "stdout",
          "text": [
            "[CV] END max_depth=None, max_features=auto, min_samples_leaf=2, min_samples_split=5, n_estimators=40; total time=   7.6s\n"
          ]
        },
        {
          "output_type": "stream",
          "name": "stderr",
          "text": [
            "/usr/local/lib/python3.10/dist-packages/sklearn/ensemble/_forest.py:424: FutureWarning: `max_features='auto'` has been deprecated in 1.1 and will be removed in 1.3. To keep the past behaviour, explicitly set `max_features='sqrt'` or remove this parameter as it is also the default value for RandomForestClassifiers and ExtraTreesClassifiers.\n",
            "  warn(\n"
          ]
        },
        {
          "output_type": "stream",
          "name": "stdout",
          "text": [
            "[CV] END max_depth=None, max_features=auto, min_samples_leaf=2, min_samples_split=5, n_estimators=40; total time=   6.6s\n"
          ]
        },
        {
          "output_type": "stream",
          "name": "stderr",
          "text": [
            "/usr/local/lib/python3.10/dist-packages/sklearn/ensemble/_forest.py:424: FutureWarning: `max_features='auto'` has been deprecated in 1.1 and will be removed in 1.3. To keep the past behaviour, explicitly set `max_features='sqrt'` or remove this parameter as it is also the default value for RandomForestClassifiers and ExtraTreesClassifiers.\n",
            "  warn(\n"
          ]
        },
        {
          "output_type": "stream",
          "name": "stdout",
          "text": [
            "[CV] END max_depth=None, max_features=auto, min_samples_leaf=2, min_samples_split=5, n_estimators=40; total time=   7.8s\n"
          ]
        },
        {
          "output_type": "stream",
          "name": "stderr",
          "text": [
            "/usr/local/lib/python3.10/dist-packages/sklearn/ensemble/_forest.py:424: FutureWarning: `max_features='auto'` has been deprecated in 1.1 and will be removed in 1.3. To keep the past behaviour, explicitly set `max_features='sqrt'` or remove this parameter as it is also the default value for RandomForestClassifiers and ExtraTreesClassifiers.\n",
            "  warn(\n"
          ]
        },
        {
          "output_type": "stream",
          "name": "stdout",
          "text": [
            "[CV] END max_depth=None, max_features=auto, min_samples_leaf=2, min_samples_split=10, n_estimators=20; total time=   3.3s\n"
          ]
        },
        {
          "output_type": "stream",
          "name": "stderr",
          "text": [
            "/usr/local/lib/python3.10/dist-packages/sklearn/ensemble/_forest.py:424: FutureWarning: `max_features='auto'` has been deprecated in 1.1 and will be removed in 1.3. To keep the past behaviour, explicitly set `max_features='sqrt'` or remove this parameter as it is also the default value for RandomForestClassifiers and ExtraTreesClassifiers.\n",
            "  warn(\n"
          ]
        },
        {
          "output_type": "stream",
          "name": "stdout",
          "text": [
            "[CV] END max_depth=None, max_features=auto, min_samples_leaf=2, min_samples_split=10, n_estimators=20; total time=   3.5s\n"
          ]
        },
        {
          "output_type": "stream",
          "name": "stderr",
          "text": [
            "/usr/local/lib/python3.10/dist-packages/sklearn/ensemble/_forest.py:424: FutureWarning: `max_features='auto'` has been deprecated in 1.1 and will be removed in 1.3. To keep the past behaviour, explicitly set `max_features='sqrt'` or remove this parameter as it is also the default value for RandomForestClassifiers and ExtraTreesClassifiers.\n",
            "  warn(\n"
          ]
        },
        {
          "output_type": "stream",
          "name": "stdout",
          "text": [
            "[CV] END max_depth=None, max_features=auto, min_samples_leaf=2, min_samples_split=10, n_estimators=20; total time=   4.5s\n"
          ]
        },
        {
          "output_type": "stream",
          "name": "stderr",
          "text": [
            "/usr/local/lib/python3.10/dist-packages/sklearn/ensemble/_forest.py:424: FutureWarning: `max_features='auto'` has been deprecated in 1.1 and will be removed in 1.3. To keep the past behaviour, explicitly set `max_features='sqrt'` or remove this parameter as it is also the default value for RandomForestClassifiers and ExtraTreesClassifiers.\n",
            "  warn(\n"
          ]
        },
        {
          "output_type": "stream",
          "name": "stdout",
          "text": [
            "[CV] END max_depth=None, max_features=auto, min_samples_leaf=2, min_samples_split=10, n_estimators=30; total time=   4.8s\n"
          ]
        },
        {
          "output_type": "stream",
          "name": "stderr",
          "text": [
            "/usr/local/lib/python3.10/dist-packages/sklearn/ensemble/_forest.py:424: FutureWarning: `max_features='auto'` has been deprecated in 1.1 and will be removed in 1.3. To keep the past behaviour, explicitly set `max_features='sqrt'` or remove this parameter as it is also the default value for RandomForestClassifiers and ExtraTreesClassifiers.\n",
            "  warn(\n"
          ]
        },
        {
          "output_type": "stream",
          "name": "stdout",
          "text": [
            "[CV] END max_depth=None, max_features=auto, min_samples_leaf=2, min_samples_split=10, n_estimators=30; total time=   5.1s\n"
          ]
        },
        {
          "output_type": "stream",
          "name": "stderr",
          "text": [
            "/usr/local/lib/python3.10/dist-packages/sklearn/ensemble/_forest.py:424: FutureWarning: `max_features='auto'` has been deprecated in 1.1 and will be removed in 1.3. To keep the past behaviour, explicitly set `max_features='sqrt'` or remove this parameter as it is also the default value for RandomForestClassifiers and ExtraTreesClassifiers.\n",
            "  warn(\n"
          ]
        },
        {
          "output_type": "stream",
          "name": "stdout",
          "text": [
            "[CV] END max_depth=None, max_features=auto, min_samples_leaf=2, min_samples_split=10, n_estimators=30; total time=   7.2s\n"
          ]
        },
        {
          "output_type": "stream",
          "name": "stderr",
          "text": [
            "/usr/local/lib/python3.10/dist-packages/sklearn/ensemble/_forest.py:424: FutureWarning: `max_features='auto'` has been deprecated in 1.1 and will be removed in 1.3. To keep the past behaviour, explicitly set `max_features='sqrt'` or remove this parameter as it is also the default value for RandomForestClassifiers and ExtraTreesClassifiers.\n",
            "  warn(\n"
          ]
        },
        {
          "output_type": "stream",
          "name": "stdout",
          "text": [
            "[CV] END max_depth=None, max_features=auto, min_samples_leaf=2, min_samples_split=10, n_estimators=40; total time=   7.4s\n"
          ]
        },
        {
          "output_type": "stream",
          "name": "stderr",
          "text": [
            "/usr/local/lib/python3.10/dist-packages/sklearn/ensemble/_forest.py:424: FutureWarning: `max_features='auto'` has been deprecated in 1.1 and will be removed in 1.3. To keep the past behaviour, explicitly set `max_features='sqrt'` or remove this parameter as it is also the default value for RandomForestClassifiers and ExtraTreesClassifiers.\n",
            "  warn(\n"
          ]
        },
        {
          "output_type": "stream",
          "name": "stdout",
          "text": [
            "[CV] END max_depth=None, max_features=auto, min_samples_leaf=2, min_samples_split=10, n_estimators=40; total time=   7.8s\n"
          ]
        },
        {
          "output_type": "stream",
          "name": "stderr",
          "text": [
            "/usr/local/lib/python3.10/dist-packages/sklearn/ensemble/_forest.py:424: FutureWarning: `max_features='auto'` has been deprecated in 1.1 and will be removed in 1.3. To keep the past behaviour, explicitly set `max_features='sqrt'` or remove this parameter as it is also the default value for RandomForestClassifiers and ExtraTreesClassifiers.\n",
            "  warn(\n"
          ]
        },
        {
          "output_type": "stream",
          "name": "stdout",
          "text": [
            "[CV] END max_depth=None, max_features=auto, min_samples_leaf=2, min_samples_split=10, n_estimators=40; total time=   6.5s\n"
          ]
        },
        {
          "output_type": "stream",
          "name": "stderr",
          "text": [
            "/usr/local/lib/python3.10/dist-packages/sklearn/ensemble/_forest.py:424: FutureWarning: `max_features='auto'` has been deprecated in 1.1 and will be removed in 1.3. To keep the past behaviour, explicitly set `max_features='sqrt'` or remove this parameter as it is also the default value for RandomForestClassifiers and ExtraTreesClassifiers.\n",
            "  warn(\n"
          ]
        },
        {
          "output_type": "stream",
          "name": "stdout",
          "text": [
            "[CV] END max_depth=None, max_features=auto, min_samples_leaf=4, min_samples_split=2, n_estimators=20; total time=   4.3s\n"
          ]
        },
        {
          "output_type": "stream",
          "name": "stderr",
          "text": [
            "/usr/local/lib/python3.10/dist-packages/sklearn/ensemble/_forest.py:424: FutureWarning: `max_features='auto'` has been deprecated in 1.1 and will be removed in 1.3. To keep the past behaviour, explicitly set `max_features='sqrt'` or remove this parameter as it is also the default value for RandomForestClassifiers and ExtraTreesClassifiers.\n",
            "  warn(\n"
          ]
        },
        {
          "output_type": "stream",
          "name": "stdout",
          "text": [
            "[CV] END max_depth=None, max_features=auto, min_samples_leaf=4, min_samples_split=2, n_estimators=20; total time=   3.4s\n"
          ]
        },
        {
          "output_type": "stream",
          "name": "stderr",
          "text": [
            "/usr/local/lib/python3.10/dist-packages/sklearn/ensemble/_forest.py:424: FutureWarning: `max_features='auto'` has been deprecated in 1.1 and will be removed in 1.3. To keep the past behaviour, explicitly set `max_features='sqrt'` or remove this parameter as it is also the default value for RandomForestClassifiers and ExtraTreesClassifiers.\n",
            "  warn(\n"
          ]
        },
        {
          "output_type": "stream",
          "name": "stdout",
          "text": [
            "[CV] END max_depth=None, max_features=auto, min_samples_leaf=4, min_samples_split=2, n_estimators=20; total time=   3.3s\n"
          ]
        },
        {
          "output_type": "stream",
          "name": "stderr",
          "text": [
            "/usr/local/lib/python3.10/dist-packages/sklearn/ensemble/_forest.py:424: FutureWarning: `max_features='auto'` has been deprecated in 1.1 and will be removed in 1.3. To keep the past behaviour, explicitly set `max_features='sqrt'` or remove this parameter as it is also the default value for RandomForestClassifiers and ExtraTreesClassifiers.\n",
            "  warn(\n"
          ]
        },
        {
          "output_type": "stream",
          "name": "stdout",
          "text": [
            "[CV] END max_depth=None, max_features=auto, min_samples_leaf=4, min_samples_split=2, n_estimators=30; total time=   5.2s\n"
          ]
        },
        {
          "output_type": "stream",
          "name": "stderr",
          "text": [
            "/usr/local/lib/python3.10/dist-packages/sklearn/ensemble/_forest.py:424: FutureWarning: `max_features='auto'` has been deprecated in 1.1 and will be removed in 1.3. To keep the past behaviour, explicitly set `max_features='sqrt'` or remove this parameter as it is also the default value for RandomForestClassifiers and ExtraTreesClassifiers.\n",
            "  warn(\n"
          ]
        },
        {
          "output_type": "stream",
          "name": "stdout",
          "text": [
            "[CV] END max_depth=None, max_features=auto, min_samples_leaf=4, min_samples_split=2, n_estimators=30; total time=   5.7s\n"
          ]
        },
        {
          "output_type": "stream",
          "name": "stderr",
          "text": [
            "/usr/local/lib/python3.10/dist-packages/sklearn/ensemble/_forest.py:424: FutureWarning: `max_features='auto'` has been deprecated in 1.1 and will be removed in 1.3. To keep the past behaviour, explicitly set `max_features='sqrt'` or remove this parameter as it is also the default value for RandomForestClassifiers and ExtraTreesClassifiers.\n",
            "  warn(\n"
          ]
        },
        {
          "output_type": "stream",
          "name": "stdout",
          "text": [
            "[CV] END max_depth=None, max_features=auto, min_samples_leaf=4, min_samples_split=2, n_estimators=30; total time=   4.8s\n"
          ]
        },
        {
          "output_type": "stream",
          "name": "stderr",
          "text": [
            "/usr/local/lib/python3.10/dist-packages/sklearn/ensemble/_forest.py:424: FutureWarning: `max_features='auto'` has been deprecated in 1.1 and will be removed in 1.3. To keep the past behaviour, explicitly set `max_features='sqrt'` or remove this parameter as it is also the default value for RandomForestClassifiers and ExtraTreesClassifiers.\n",
            "  warn(\n"
          ]
        },
        {
          "output_type": "stream",
          "name": "stdout",
          "text": [
            "[CV] END max_depth=None, max_features=auto, min_samples_leaf=4, min_samples_split=2, n_estimators=40; total time=   7.8s\n"
          ]
        },
        {
          "output_type": "stream",
          "name": "stderr",
          "text": [
            "/usr/local/lib/python3.10/dist-packages/sklearn/ensemble/_forest.py:424: FutureWarning: `max_features='auto'` has been deprecated in 1.1 and will be removed in 1.3. To keep the past behaviour, explicitly set `max_features='sqrt'` or remove this parameter as it is also the default value for RandomForestClassifiers and ExtraTreesClassifiers.\n",
            "  warn(\n"
          ]
        },
        {
          "output_type": "stream",
          "name": "stdout",
          "text": [
            "[CV] END max_depth=None, max_features=auto, min_samples_leaf=4, min_samples_split=2, n_estimators=40; total time=   6.5s\n"
          ]
        },
        {
          "output_type": "stream",
          "name": "stderr",
          "text": [
            "/usr/local/lib/python3.10/dist-packages/sklearn/ensemble/_forest.py:424: FutureWarning: `max_features='auto'` has been deprecated in 1.1 and will be removed in 1.3. To keep the past behaviour, explicitly set `max_features='sqrt'` or remove this parameter as it is also the default value for RandomForestClassifiers and ExtraTreesClassifiers.\n",
            "  warn(\n"
          ]
        },
        {
          "output_type": "stream",
          "name": "stdout",
          "text": [
            "[CV] END max_depth=None, max_features=auto, min_samples_leaf=4, min_samples_split=2, n_estimators=40; total time=   7.8s\n"
          ]
        },
        {
          "output_type": "stream",
          "name": "stderr",
          "text": [
            "/usr/local/lib/python3.10/dist-packages/sklearn/ensemble/_forest.py:424: FutureWarning: `max_features='auto'` has been deprecated in 1.1 and will be removed in 1.3. To keep the past behaviour, explicitly set `max_features='sqrt'` or remove this parameter as it is also the default value for RandomForestClassifiers and ExtraTreesClassifiers.\n",
            "  warn(\n"
          ]
        },
        {
          "output_type": "stream",
          "name": "stdout",
          "text": [
            "[CV] END max_depth=None, max_features=auto, min_samples_leaf=4, min_samples_split=5, n_estimators=20; total time=   3.2s\n"
          ]
        },
        {
          "output_type": "stream",
          "name": "stderr",
          "text": [
            "/usr/local/lib/python3.10/dist-packages/sklearn/ensemble/_forest.py:424: FutureWarning: `max_features='auto'` has been deprecated in 1.1 and will be removed in 1.3. To keep the past behaviour, explicitly set `max_features='sqrt'` or remove this parameter as it is also the default value for RandomForestClassifiers and ExtraTreesClassifiers.\n",
            "  warn(\n"
          ]
        },
        {
          "output_type": "stream",
          "name": "stdout",
          "text": [
            "[CV] END max_depth=None, max_features=auto, min_samples_leaf=4, min_samples_split=5, n_estimators=20; total time=   3.2s\n"
          ]
        },
        {
          "output_type": "stream",
          "name": "stderr",
          "text": [
            "/usr/local/lib/python3.10/dist-packages/sklearn/ensemble/_forest.py:424: FutureWarning: `max_features='auto'` has been deprecated in 1.1 and will be removed in 1.3. To keep the past behaviour, explicitly set `max_features='sqrt'` or remove this parameter as it is also the default value for RandomForestClassifiers and ExtraTreesClassifiers.\n",
            "  warn(\n"
          ]
        },
        {
          "output_type": "stream",
          "name": "stdout",
          "text": [
            "[CV] END max_depth=None, max_features=auto, min_samples_leaf=4, min_samples_split=5, n_estimators=20; total time=   3.4s\n"
          ]
        },
        {
          "output_type": "stream",
          "name": "stderr",
          "text": [
            "/usr/local/lib/python3.10/dist-packages/sklearn/ensemble/_forest.py:424: FutureWarning: `max_features='auto'` has been deprecated in 1.1 and will be removed in 1.3. To keep the past behaviour, explicitly set `max_features='sqrt'` or remove this parameter as it is also the default value for RandomForestClassifiers and ExtraTreesClassifiers.\n",
            "  warn(\n"
          ]
        },
        {
          "output_type": "stream",
          "name": "stdout",
          "text": [
            "[CV] END max_depth=None, max_features=auto, min_samples_leaf=4, min_samples_split=5, n_estimators=30; total time=   5.9s\n"
          ]
        },
        {
          "output_type": "stream",
          "name": "stderr",
          "text": [
            "/usr/local/lib/python3.10/dist-packages/sklearn/ensemble/_forest.py:424: FutureWarning: `max_features='auto'` has been deprecated in 1.1 and will be removed in 1.3. To keep the past behaviour, explicitly set `max_features='sqrt'` or remove this parameter as it is also the default value for RandomForestClassifiers and ExtraTreesClassifiers.\n",
            "  warn(\n"
          ]
        },
        {
          "output_type": "stream",
          "name": "stdout",
          "text": [
            "[CV] END max_depth=None, max_features=auto, min_samples_leaf=4, min_samples_split=5, n_estimators=30; total time=   4.9s\n"
          ]
        },
        {
          "output_type": "stream",
          "name": "stderr",
          "text": [
            "/usr/local/lib/python3.10/dist-packages/sklearn/ensemble/_forest.py:424: FutureWarning: `max_features='auto'` has been deprecated in 1.1 and will be removed in 1.3. To keep the past behaviour, explicitly set `max_features='sqrt'` or remove this parameter as it is also the default value for RandomForestClassifiers and ExtraTreesClassifiers.\n",
            "  warn(\n"
          ]
        },
        {
          "output_type": "stream",
          "name": "stdout",
          "text": [
            "[CV] END max_depth=None, max_features=auto, min_samples_leaf=4, min_samples_split=5, n_estimators=30; total time=   5.5s\n"
          ]
        },
        {
          "output_type": "stream",
          "name": "stderr",
          "text": [
            "/usr/local/lib/python3.10/dist-packages/sklearn/ensemble/_forest.py:424: FutureWarning: `max_features='auto'` has been deprecated in 1.1 and will be removed in 1.3. To keep the past behaviour, explicitly set `max_features='sqrt'` or remove this parameter as it is also the default value for RandomForestClassifiers and ExtraTreesClassifiers.\n",
            "  warn(\n"
          ]
        },
        {
          "output_type": "stream",
          "name": "stdout",
          "text": [
            "[CV] END max_depth=None, max_features=auto, min_samples_leaf=4, min_samples_split=5, n_estimators=40; total time=   7.0s\n"
          ]
        },
        {
          "output_type": "stream",
          "name": "stderr",
          "text": [
            "/usr/local/lib/python3.10/dist-packages/sklearn/ensemble/_forest.py:424: FutureWarning: `max_features='auto'` has been deprecated in 1.1 and will be removed in 1.3. To keep the past behaviour, explicitly set `max_features='sqrt'` or remove this parameter as it is also the default value for RandomForestClassifiers and ExtraTreesClassifiers.\n",
            "  warn(\n"
          ]
        },
        {
          "output_type": "stream",
          "name": "stdout",
          "text": [
            "[CV] END max_depth=None, max_features=auto, min_samples_leaf=4, min_samples_split=5, n_estimators=40; total time=   7.0s\n"
          ]
        },
        {
          "output_type": "stream",
          "name": "stderr",
          "text": [
            "/usr/local/lib/python3.10/dist-packages/sklearn/ensemble/_forest.py:424: FutureWarning: `max_features='auto'` has been deprecated in 1.1 and will be removed in 1.3. To keep the past behaviour, explicitly set `max_features='sqrt'` or remove this parameter as it is also the default value for RandomForestClassifiers and ExtraTreesClassifiers.\n",
            "  warn(\n"
          ]
        },
        {
          "output_type": "stream",
          "name": "stdout",
          "text": [
            "[CV] END max_depth=None, max_features=auto, min_samples_leaf=4, min_samples_split=5, n_estimators=40; total time=   7.1s\n"
          ]
        },
        {
          "output_type": "stream",
          "name": "stderr",
          "text": [
            "/usr/local/lib/python3.10/dist-packages/sklearn/ensemble/_forest.py:424: FutureWarning: `max_features='auto'` has been deprecated in 1.1 and will be removed in 1.3. To keep the past behaviour, explicitly set `max_features='sqrt'` or remove this parameter as it is also the default value for RandomForestClassifiers and ExtraTreesClassifiers.\n",
            "  warn(\n"
          ]
        },
        {
          "output_type": "stream",
          "name": "stdout",
          "text": [
            "[CV] END max_depth=None, max_features=auto, min_samples_leaf=4, min_samples_split=10, n_estimators=20; total time=   3.2s\n"
          ]
        },
        {
          "output_type": "stream",
          "name": "stderr",
          "text": [
            "/usr/local/lib/python3.10/dist-packages/sklearn/ensemble/_forest.py:424: FutureWarning: `max_features='auto'` has been deprecated in 1.1 and will be removed in 1.3. To keep the past behaviour, explicitly set `max_features='sqrt'` or remove this parameter as it is also the default value for RandomForestClassifiers and ExtraTreesClassifiers.\n",
            "  warn(\n"
          ]
        },
        {
          "output_type": "stream",
          "name": "stdout",
          "text": [
            "[CV] END max_depth=None, max_features=auto, min_samples_leaf=4, min_samples_split=10, n_estimators=20; total time=   3.8s\n"
          ]
        },
        {
          "output_type": "stream",
          "name": "stderr",
          "text": [
            "/usr/local/lib/python3.10/dist-packages/sklearn/ensemble/_forest.py:424: FutureWarning: `max_features='auto'` has been deprecated in 1.1 and will be removed in 1.3. To keep the past behaviour, explicitly set `max_features='sqrt'` or remove this parameter as it is also the default value for RandomForestClassifiers and ExtraTreesClassifiers.\n",
            "  warn(\n"
          ]
        },
        {
          "output_type": "stream",
          "name": "stdout",
          "text": [
            "[CV] END max_depth=None, max_features=auto, min_samples_leaf=4, min_samples_split=10, n_estimators=20; total time=   4.0s\n"
          ]
        },
        {
          "output_type": "stream",
          "name": "stderr",
          "text": [
            "/usr/local/lib/python3.10/dist-packages/sklearn/ensemble/_forest.py:424: FutureWarning: `max_features='auto'` has been deprecated in 1.1 and will be removed in 1.3. To keep the past behaviour, explicitly set `max_features='sqrt'` or remove this parameter as it is also the default value for RandomForestClassifiers and ExtraTreesClassifiers.\n",
            "  warn(\n"
          ]
        },
        {
          "output_type": "stream",
          "name": "stdout",
          "text": [
            "[CV] END max_depth=None, max_features=auto, min_samples_leaf=4, min_samples_split=10, n_estimators=30; total time=   4.8s\n"
          ]
        },
        {
          "output_type": "stream",
          "name": "stderr",
          "text": [
            "/usr/local/lib/python3.10/dist-packages/sklearn/ensemble/_forest.py:424: FutureWarning: `max_features='auto'` has been deprecated in 1.1 and will be removed in 1.3. To keep the past behaviour, explicitly set `max_features='sqrt'` or remove this parameter as it is also the default value for RandomForestClassifiers and ExtraTreesClassifiers.\n",
            "  warn(\n"
          ]
        },
        {
          "output_type": "stream",
          "name": "stdout",
          "text": [
            "[CV] END max_depth=None, max_features=auto, min_samples_leaf=4, min_samples_split=10, n_estimators=30; total time=   5.2s\n"
          ]
        },
        {
          "output_type": "stream",
          "name": "stderr",
          "text": [
            "/usr/local/lib/python3.10/dist-packages/sklearn/ensemble/_forest.py:424: FutureWarning: `max_features='auto'` has been deprecated in 1.1 and will be removed in 1.3. To keep the past behaviour, explicitly set `max_features='sqrt'` or remove this parameter as it is also the default value for RandomForestClassifiers and ExtraTreesClassifiers.\n",
            "  warn(\n"
          ]
        },
        {
          "output_type": "stream",
          "name": "stdout",
          "text": [
            "[CV] END max_depth=None, max_features=auto, min_samples_leaf=4, min_samples_split=10, n_estimators=30; total time=   5.6s\n"
          ]
        },
        {
          "output_type": "stream",
          "name": "stderr",
          "text": [
            "/usr/local/lib/python3.10/dist-packages/sklearn/ensemble/_forest.py:424: FutureWarning: `max_features='auto'` has been deprecated in 1.1 and will be removed in 1.3. To keep the past behaviour, explicitly set `max_features='sqrt'` or remove this parameter as it is also the default value for RandomForestClassifiers and ExtraTreesClassifiers.\n",
            "  warn(\n"
          ]
        },
        {
          "output_type": "stream",
          "name": "stdout",
          "text": [
            "[CV] END max_depth=None, max_features=auto, min_samples_leaf=4, min_samples_split=10, n_estimators=40; total time=   6.3s\n"
          ]
        },
        {
          "output_type": "stream",
          "name": "stderr",
          "text": [
            "/usr/local/lib/python3.10/dist-packages/sklearn/ensemble/_forest.py:424: FutureWarning: `max_features='auto'` has been deprecated in 1.1 and will be removed in 1.3. To keep the past behaviour, explicitly set `max_features='sqrt'` or remove this parameter as it is also the default value for RandomForestClassifiers and ExtraTreesClassifiers.\n",
            "  warn(\n"
          ]
        },
        {
          "output_type": "stream",
          "name": "stdout",
          "text": [
            "[CV] END max_depth=None, max_features=auto, min_samples_leaf=4, min_samples_split=10, n_estimators=40; total time=   7.6s\n"
          ]
        },
        {
          "output_type": "stream",
          "name": "stderr",
          "text": [
            "/usr/local/lib/python3.10/dist-packages/sklearn/ensemble/_forest.py:424: FutureWarning: `max_features='auto'` has been deprecated in 1.1 and will be removed in 1.3. To keep the past behaviour, explicitly set `max_features='sqrt'` or remove this parameter as it is also the default value for RandomForestClassifiers and ExtraTreesClassifiers.\n",
            "  warn(\n"
          ]
        },
        {
          "output_type": "stream",
          "name": "stdout",
          "text": [
            "[CV] END max_depth=None, max_features=auto, min_samples_leaf=4, min_samples_split=10, n_estimators=40; total time=   6.3s\n",
            "[CV] END max_depth=None, max_features=sqrt, min_samples_leaf=1, min_samples_split=2, n_estimators=20; total time=   4.1s\n",
            "[CV] END max_depth=None, max_features=sqrt, min_samples_leaf=1, min_samples_split=2, n_estimators=20; total time=   3.8s\n",
            "[CV] END max_depth=None, max_features=sqrt, min_samples_leaf=1, min_samples_split=2, n_estimators=20; total time=   3.3s\n",
            "[CV] END max_depth=None, max_features=sqrt, min_samples_leaf=1, min_samples_split=2, n_estimators=30; total time=   5.1s\n",
            "[CV] END max_depth=None, max_features=sqrt, min_samples_leaf=1, min_samples_split=2, n_estimators=30; total time=   6.1s\n",
            "[CV] END max_depth=None, max_features=sqrt, min_samples_leaf=1, min_samples_split=2, n_estimators=30; total time=   4.9s\n",
            "[CV] END max_depth=None, max_features=sqrt, min_samples_leaf=1, min_samples_split=2, n_estimators=40; total time=   8.1s\n",
            "[CV] END max_depth=None, max_features=sqrt, min_samples_leaf=1, min_samples_split=2, n_estimators=40; total time=   6.6s\n",
            "[CV] END max_depth=None, max_features=sqrt, min_samples_leaf=1, min_samples_split=2, n_estimators=40; total time=   7.9s\n",
            "[CV] END max_depth=None, max_features=sqrt, min_samples_leaf=1, min_samples_split=5, n_estimators=20; total time=   3.3s\n",
            "[CV] END max_depth=None, max_features=sqrt, min_samples_leaf=1, min_samples_split=5, n_estimators=20; total time=   3.3s\n",
            "[CV] END max_depth=None, max_features=sqrt, min_samples_leaf=1, min_samples_split=5, n_estimators=20; total time=   3.6s\n",
            "[CV] END max_depth=None, max_features=sqrt, min_samples_leaf=1, min_samples_split=5, n_estimators=30; total time=   5.9s\n",
            "[CV] END max_depth=None, max_features=sqrt, min_samples_leaf=1, min_samples_split=5, n_estimators=30; total time=   5.0s\n",
            "[CV] END max_depth=None, max_features=sqrt, min_samples_leaf=1, min_samples_split=5, n_estimators=30; total time=   6.1s\n",
            "[CV] END max_depth=None, max_features=sqrt, min_samples_leaf=1, min_samples_split=5, n_estimators=40; total time=   6.9s\n",
            "[CV] END max_depth=None, max_features=sqrt, min_samples_leaf=1, min_samples_split=5, n_estimators=40; total time=   7.9s\n",
            "[CV] END max_depth=None, max_features=sqrt, min_samples_leaf=1, min_samples_split=5, n_estimators=40; total time=   6.7s\n",
            "[CV] END max_depth=None, max_features=sqrt, min_samples_leaf=1, min_samples_split=10, n_estimators=20; total time=   3.2s\n",
            "[CV] END max_depth=None, max_features=sqrt, min_samples_leaf=1, min_samples_split=10, n_estimators=20; total time=   4.6s\n",
            "[CV] END max_depth=None, max_features=sqrt, min_samples_leaf=1, min_samples_split=10, n_estimators=20; total time=   3.4s\n",
            "[CV] END max_depth=None, max_features=sqrt, min_samples_leaf=1, min_samples_split=10, n_estimators=30; total time=   4.9s\n",
            "[CV] END max_depth=None, max_features=sqrt, min_samples_leaf=1, min_samples_split=10, n_estimators=30; total time=   6.2s\n",
            "[CV] END max_depth=None, max_features=sqrt, min_samples_leaf=1, min_samples_split=10, n_estimators=30; total time=   4.9s\n",
            "[CV] END max_depth=None, max_features=sqrt, min_samples_leaf=1, min_samples_split=10, n_estimators=40; total time=   7.2s\n",
            "[CV] END max_depth=None, max_features=sqrt, min_samples_leaf=1, min_samples_split=10, n_estimators=40; total time=   7.2s\n",
            "[CV] END max_depth=None, max_features=sqrt, min_samples_leaf=1, min_samples_split=10, n_estimators=40; total time=   7.2s\n",
            "[CV] END max_depth=None, max_features=sqrt, min_samples_leaf=2, min_samples_split=2, n_estimators=20; total time=   3.9s\n",
            "[CV] END max_depth=None, max_features=sqrt, min_samples_leaf=2, min_samples_split=2, n_estimators=20; total time=   3.3s\n",
            "[CV] END max_depth=None, max_features=sqrt, min_samples_leaf=2, min_samples_split=2, n_estimators=20; total time=   3.3s\n",
            "[CV] END max_depth=None, max_features=sqrt, min_samples_leaf=2, min_samples_split=2, n_estimators=30; total time=   6.3s\n",
            "[CV] END max_depth=None, max_features=sqrt, min_samples_leaf=2, min_samples_split=2, n_estimators=30; total time=   5.0s\n",
            "[CV] END max_depth=None, max_features=sqrt, min_samples_leaf=2, min_samples_split=2, n_estimators=30; total time=   5.1s\n",
            "[CV] END max_depth=None, max_features=sqrt, min_samples_leaf=2, min_samples_split=2, n_estimators=40; total time=   7.9s\n",
            "[CV] END max_depth=None, max_features=sqrt, min_samples_leaf=2, min_samples_split=2, n_estimators=40; total time=   6.8s\n",
            "[CV] END max_depth=None, max_features=sqrt, min_samples_leaf=2, min_samples_split=2, n_estimators=40; total time=   7.8s\n",
            "[CV] END max_depth=None, max_features=sqrt, min_samples_leaf=2, min_samples_split=5, n_estimators=20; total time=   3.2s\n",
            "[CV] END max_depth=None, max_features=sqrt, min_samples_leaf=2, min_samples_split=5, n_estimators=20; total time=   3.5s\n",
            "[CV] END max_depth=None, max_features=sqrt, min_samples_leaf=2, min_samples_split=5, n_estimators=20; total time=   4.5s\n",
            "[CV] END max_depth=None, max_features=sqrt, min_samples_leaf=2, min_samples_split=5, n_estimators=30; total time=   4.9s\n",
            "[CV] END max_depth=None, max_features=sqrt, min_samples_leaf=2, min_samples_split=5, n_estimators=30; total time=   5.2s\n",
            "[CV] END max_depth=None, max_features=sqrt, min_samples_leaf=2, min_samples_split=5, n_estimators=30; total time=   6.1s\n",
            "[CV] END max_depth=None, max_features=sqrt, min_samples_leaf=2, min_samples_split=5, n_estimators=40; total time=   6.6s\n",
            "[CV] END max_depth=None, max_features=sqrt, min_samples_leaf=2, min_samples_split=5, n_estimators=40; total time=   7.9s\n",
            "[CV] END max_depth=None, max_features=sqrt, min_samples_leaf=2, min_samples_split=5, n_estimators=40; total time=   6.7s\n",
            "[CV] END max_depth=None, max_features=sqrt, min_samples_leaf=2, min_samples_split=10, n_estimators=20; total time=   4.5s\n",
            "[CV] END max_depth=None, max_features=sqrt, min_samples_leaf=2, min_samples_split=10, n_estimators=20; total time=   4.9s\n",
            "[CV] END max_depth=None, max_features=sqrt, min_samples_leaf=2, min_samples_split=10, n_estimators=20; total time=   3.9s\n",
            "[CV] END max_depth=None, max_features=sqrt, min_samples_leaf=2, min_samples_split=10, n_estimators=30; total time=   6.0s\n",
            "[CV] END max_depth=None, max_features=sqrt, min_samples_leaf=2, min_samples_split=10, n_estimators=30; total time=   5.2s\n",
            "[CV] END max_depth=None, max_features=sqrt, min_samples_leaf=2, min_samples_split=10, n_estimators=30; total time=   4.9s\n",
            "[CV] END max_depth=None, max_features=sqrt, min_samples_leaf=2, min_samples_split=10, n_estimators=40; total time=   7.9s\n",
            "[CV] END max_depth=None, max_features=sqrt, min_samples_leaf=2, min_samples_split=10, n_estimators=40; total time=   6.7s\n",
            "[CV] END max_depth=None, max_features=sqrt, min_samples_leaf=2, min_samples_split=10, n_estimators=40; total time=   7.9s\n",
            "[CV] END max_depth=None, max_features=sqrt, min_samples_leaf=4, min_samples_split=2, n_estimators=20; total time=   3.2s\n",
            "[CV] END max_depth=None, max_features=sqrt, min_samples_leaf=4, min_samples_split=2, n_estimators=20; total time=   3.2s\n",
            "[CV] END max_depth=None, max_features=sqrt, min_samples_leaf=4, min_samples_split=2, n_estimators=20; total time=   4.4s\n",
            "[CV] END max_depth=None, max_features=sqrt, min_samples_leaf=4, min_samples_split=2, n_estimators=30; total time=   4.9s\n",
            "[CV] END max_depth=None, max_features=sqrt, min_samples_leaf=4, min_samples_split=2, n_estimators=30; total time=   4.8s\n",
            "[CV] END max_depth=None, max_features=sqrt, min_samples_leaf=4, min_samples_split=2, n_estimators=30; total time=   6.1s\n",
            "[CV] END max_depth=None, max_features=sqrt, min_samples_leaf=4, min_samples_split=2, n_estimators=40; total time=   6.4s\n",
            "[CV] END max_depth=None, max_features=sqrt, min_samples_leaf=4, min_samples_split=2, n_estimators=40; total time=   7.8s\n",
            "[CV] END max_depth=None, max_features=sqrt, min_samples_leaf=4, min_samples_split=2, n_estimators=40; total time=   6.5s\n",
            "[CV] END max_depth=None, max_features=sqrt, min_samples_leaf=4, min_samples_split=5, n_estimators=20; total time=   3.4s\n",
            "[CV] END max_depth=None, max_features=sqrt, min_samples_leaf=4, min_samples_split=5, n_estimators=20; total time=   4.3s\n",
            "[CV] END max_depth=None, max_features=sqrt, min_samples_leaf=4, min_samples_split=5, n_estimators=20; total time=   3.2s\n",
            "[CV] END max_depth=None, max_features=sqrt, min_samples_leaf=4, min_samples_split=5, n_estimators=30; total time=   4.8s\n",
            "[CV] END max_depth=None, max_features=sqrt, min_samples_leaf=4, min_samples_split=5, n_estimators=30; total time=   6.2s\n",
            "[CV] END max_depth=None, max_features=sqrt, min_samples_leaf=4, min_samples_split=5, n_estimators=30; total time=   4.8s\n",
            "[CV] END max_depth=None, max_features=sqrt, min_samples_leaf=4, min_samples_split=5, n_estimators=40; total time=   7.2s\n",
            "[CV] END max_depth=None, max_features=sqrt, min_samples_leaf=4, min_samples_split=5, n_estimators=40; total time=   7.0s\n",
            "[CV] END max_depth=None, max_features=sqrt, min_samples_leaf=4, min_samples_split=5, n_estimators=40; total time=   7.4s\n",
            "[CV] END max_depth=None, max_features=sqrt, min_samples_leaf=4, min_samples_split=10, n_estimators=20; total time=   3.8s\n",
            "[CV] END max_depth=None, max_features=sqrt, min_samples_leaf=4, min_samples_split=10, n_estimators=20; total time=   3.3s\n",
            "[CV] END max_depth=None, max_features=sqrt, min_samples_leaf=4, min_samples_split=10, n_estimators=20; total time=   3.3s\n",
            "[CV] END max_depth=None, max_features=sqrt, min_samples_leaf=4, min_samples_split=10, n_estimators=30; total time=   6.3s\n",
            "[CV] END max_depth=None, max_features=sqrt, min_samples_leaf=4, min_samples_split=10, n_estimators=30; total time=   4.9s\n",
            "[CV] END max_depth=None, max_features=sqrt, min_samples_leaf=4, min_samples_split=10, n_estimators=30; total time=   5.1s\n",
            "[CV] END max_depth=None, max_features=sqrt, min_samples_leaf=4, min_samples_split=10, n_estimators=40; total time=   7.7s\n",
            "[CV] END max_depth=None, max_features=sqrt, min_samples_leaf=4, min_samples_split=10, n_estimators=40; total time=   6.7s\n",
            "[CV] END max_depth=None, max_features=sqrt, min_samples_leaf=4, min_samples_split=10, n_estimators=40; total time=   7.8s\n",
            "[CV] END max_depth=None, max_features=log2, min_samples_leaf=1, min_samples_split=2, n_estimators=20; total time=   3.5s\n",
            "[CV] END max_depth=None, max_features=log2, min_samples_leaf=1, min_samples_split=2, n_estimators=20; total time=   3.6s\n",
            "[CV] END max_depth=None, max_features=log2, min_samples_leaf=1, min_samples_split=2, n_estimators=20; total time=   4.4s\n",
            "[CV] END max_depth=None, max_features=log2, min_samples_leaf=1, min_samples_split=2, n_estimators=30; total time=   5.2s\n",
            "[CV] END max_depth=None, max_features=log2, min_samples_leaf=1, min_samples_split=2, n_estimators=30; total time=   5.5s\n",
            "[CV] END max_depth=None, max_features=log2, min_samples_leaf=1, min_samples_split=2, n_estimators=30; total time=   6.0s\n",
            "[CV] END max_depth=None, max_features=log2, min_samples_leaf=1, min_samples_split=2, n_estimators=40; total time=   6.9s\n",
            "[CV] END max_depth=None, max_features=log2, min_samples_leaf=1, min_samples_split=2, n_estimators=40; total time=   8.0s\n",
            "[CV] END max_depth=None, max_features=log2, min_samples_leaf=1, min_samples_split=2, n_estimators=40; total time=   6.8s\n",
            "[CV] END max_depth=None, max_features=log2, min_samples_leaf=1, min_samples_split=5, n_estimators=20; total time=   4.6s\n",
            "[CV] END max_depth=None, max_features=log2, min_samples_leaf=1, min_samples_split=5, n_estimators=20; total time=   3.3s\n",
            "[CV] END max_depth=None, max_features=log2, min_samples_leaf=1, min_samples_split=5, n_estimators=20; total time=   3.3s\n",
            "[CV] END max_depth=None, max_features=log2, min_samples_leaf=1, min_samples_split=5, n_estimators=30; total time=   6.0s\n",
            "[CV] END max_depth=None, max_features=log2, min_samples_leaf=1, min_samples_split=5, n_estimators=30; total time=   5.4s\n",
            "[CV] END max_depth=None, max_features=log2, min_samples_leaf=1, min_samples_split=5, n_estimators=30; total time=   5.0s\n",
            "[CV] END max_depth=None, max_features=log2, min_samples_leaf=1, min_samples_split=5, n_estimators=40; total time=   8.1s\n",
            "[CV] END max_depth=None, max_features=log2, min_samples_leaf=1, min_samples_split=5, n_estimators=40; total time=   6.7s\n",
            "[CV] END max_depth=None, max_features=log2, min_samples_leaf=1, min_samples_split=5, n_estimators=40; total time=   8.0s\n",
            "[CV] END max_depth=None, max_features=log2, min_samples_leaf=1, min_samples_split=10, n_estimators=20; total time=   3.3s\n",
            "[CV] END max_depth=None, max_features=log2, min_samples_leaf=1, min_samples_split=10, n_estimators=20; total time=   3.3s\n",
            "[CV] END max_depth=None, max_features=log2, min_samples_leaf=1, min_samples_split=10, n_estimators=20; total time=   4.6s\n",
            "[CV] END max_depth=None, max_features=log2, min_samples_leaf=1, min_samples_split=10, n_estimators=30; total time=   5.0s\n",
            "[CV] END max_depth=None, max_features=log2, min_samples_leaf=1, min_samples_split=10, n_estimators=30; total time=   5.0s\n",
            "[CV] END max_depth=None, max_features=log2, min_samples_leaf=1, min_samples_split=10, n_estimators=30; total time=   6.3s\n",
            "[CV] END max_depth=None, max_features=log2, min_samples_leaf=1, min_samples_split=10, n_estimators=40; total time=   6.6s\n",
            "[CV] END max_depth=None, max_features=log2, min_samples_leaf=1, min_samples_split=10, n_estimators=40; total time=   7.9s\n",
            "[CV] END max_depth=None, max_features=log2, min_samples_leaf=1, min_samples_split=10, n_estimators=40; total time=   6.6s\n",
            "[CV] END max_depth=None, max_features=log2, min_samples_leaf=2, min_samples_split=2, n_estimators=20; total time=   4.2s\n",
            "[CV] END max_depth=None, max_features=log2, min_samples_leaf=2, min_samples_split=2, n_estimators=20; total time=   3.8s\n",
            "[CV] END max_depth=None, max_features=log2, min_samples_leaf=2, min_samples_split=2, n_estimators=20; total time=   3.4s\n",
            "[CV] END max_depth=None, max_features=log2, min_samples_leaf=2, min_samples_split=2, n_estimators=30; total time=   5.3s\n",
            "[CV] END max_depth=None, max_features=log2, min_samples_leaf=2, min_samples_split=2, n_estimators=30; total time=   6.1s\n",
            "[CV] END max_depth=None, max_features=log2, min_samples_leaf=2, min_samples_split=2, n_estimators=30; total time=   5.0s\n",
            "[CV] END max_depth=None, max_features=log2, min_samples_leaf=2, min_samples_split=2, n_estimators=40; total time=   8.0s\n",
            "[CV] END max_depth=None, max_features=log2, min_samples_leaf=2, min_samples_split=2, n_estimators=40; total time=   6.6s\n",
            "[CV] END max_depth=None, max_features=log2, min_samples_leaf=2, min_samples_split=2, n_estimators=40; total time=   8.0s\n",
            "[CV] END max_depth=None, max_features=log2, min_samples_leaf=2, min_samples_split=5, n_estimators=20; total time=   3.3s\n",
            "[CV] END max_depth=None, max_features=log2, min_samples_leaf=2, min_samples_split=5, n_estimators=20; total time=   3.3s\n",
            "[CV] END max_depth=None, max_features=log2, min_samples_leaf=2, min_samples_split=5, n_estimators=20; total time=   4.0s\n",
            "[CV] END max_depth=None, max_features=log2, min_samples_leaf=2, min_samples_split=5, n_estimators=30; total time=   5.7s\n",
            "[CV] END max_depth=None, max_features=log2, min_samples_leaf=2, min_samples_split=5, n_estimators=30; total time=   6.2s\n",
            "[CV] END max_depth=None, max_features=log2, min_samples_leaf=2, min_samples_split=5, n_estimators=30; total time=   7.1s\n",
            "[CV] END max_depth=None, max_features=log2, min_samples_leaf=2, min_samples_split=5, n_estimators=40; total time=   6.7s\n",
            "[CV] END max_depth=None, max_features=log2, min_samples_leaf=2, min_samples_split=5, n_estimators=40; total time=   8.0s\n",
            "[CV] END max_depth=None, max_features=log2, min_samples_leaf=2, min_samples_split=5, n_estimators=40; total time=   6.6s\n",
            "[CV] END max_depth=None, max_features=log2, min_samples_leaf=2, min_samples_split=10, n_estimators=20; total time=   3.7s\n",
            "[CV] END max_depth=None, max_features=log2, min_samples_leaf=2, min_samples_split=10, n_estimators=20; total time=   4.2s\n",
            "[CV] END max_depth=None, max_features=log2, min_samples_leaf=2, min_samples_split=10, n_estimators=20; total time=   3.3s\n",
            "[CV] END max_depth=None, max_features=log2, min_samples_leaf=2, min_samples_split=10, n_estimators=30; total time=   4.9s\n",
            "[CV] END max_depth=None, max_features=log2, min_samples_leaf=2, min_samples_split=10, n_estimators=30; total time=   6.2s\n",
            "[CV] END max_depth=None, max_features=log2, min_samples_leaf=2, min_samples_split=10, n_estimators=30; total time=   4.9s\n",
            "[CV] END max_depth=None, max_features=log2, min_samples_leaf=2, min_samples_split=10, n_estimators=40; total time=   7.6s\n",
            "[CV] END max_depth=None, max_features=log2, min_samples_leaf=2, min_samples_split=10, n_estimators=40; total time=   6.6s\n",
            "[CV] END max_depth=None, max_features=log2, min_samples_leaf=2, min_samples_split=10, n_estimators=40; total time=   7.7s\n",
            "[CV] END max_depth=None, max_features=log2, min_samples_leaf=4, min_samples_split=2, n_estimators=20; total time=   3.4s\n",
            "[CV] END max_depth=None, max_features=log2, min_samples_leaf=4, min_samples_split=2, n_estimators=20; total time=   3.3s\n",
            "[CV] END max_depth=None, max_features=log2, min_samples_leaf=4, min_samples_split=2, n_estimators=20; total time=   3.2s\n",
            "[CV] END max_depth=None, max_features=log2, min_samples_leaf=4, min_samples_split=2, n_estimators=30; total time=   6.1s\n",
            "[CV] END max_depth=None, max_features=log2, min_samples_leaf=4, min_samples_split=2, n_estimators=30; total time=   4.9s\n",
            "[CV] END max_depth=None, max_features=log2, min_samples_leaf=4, min_samples_split=2, n_estimators=30; total time=   5.1s\n",
            "[CV] END max_depth=None, max_features=log2, min_samples_leaf=4, min_samples_split=2, n_estimators=40; total time=   7.5s\n",
            "[CV] END max_depth=None, max_features=log2, min_samples_leaf=4, min_samples_split=2, n_estimators=40; total time=   6.6s\n",
            "[CV] END max_depth=None, max_features=log2, min_samples_leaf=4, min_samples_split=2, n_estimators=40; total time=   7.5s\n",
            "[CV] END max_depth=None, max_features=log2, min_samples_leaf=4, min_samples_split=5, n_estimators=20; total time=   3.1s\n",
            "[CV] END max_depth=None, max_features=log2, min_samples_leaf=4, min_samples_split=5, n_estimators=20; total time=   3.3s\n",
            "[CV] END max_depth=None, max_features=log2, min_samples_leaf=4, min_samples_split=5, n_estimators=20; total time=   4.4s\n",
            "[CV] END max_depth=None, max_features=log2, min_samples_leaf=4, min_samples_split=5, n_estimators=30; total time=   4.7s\n",
            "[CV] END max_depth=None, max_features=log2, min_samples_leaf=4, min_samples_split=5, n_estimators=30; total time=   4.8s\n",
            "[CV] END max_depth=None, max_features=log2, min_samples_leaf=4, min_samples_split=5, n_estimators=30; total time=   6.1s\n",
            "[CV] END max_depth=None, max_features=log2, min_samples_leaf=4, min_samples_split=5, n_estimators=40; total time=   6.3s\n",
            "[CV] END max_depth=None, max_features=log2, min_samples_leaf=4, min_samples_split=5, n_estimators=40; total time=   7.7s\n",
            "[CV] END max_depth=None, max_features=log2, min_samples_leaf=4, min_samples_split=5, n_estimators=40; total time=   6.4s\n",
            "[CV] END max_depth=None, max_features=log2, min_samples_leaf=4, min_samples_split=10, n_estimators=20; total time=   3.4s\n",
            "[CV] END max_depth=None, max_features=log2, min_samples_leaf=4, min_samples_split=10, n_estimators=20; total time=   4.2s\n",
            "[CV] END max_depth=None, max_features=log2, min_samples_leaf=4, min_samples_split=10, n_estimators=20; total time=   3.2s\n",
            "[CV] END max_depth=None, max_features=log2, min_samples_leaf=4, min_samples_split=10, n_estimators=30; total time=   4.7s\n",
            "[CV] END max_depth=None, max_features=log2, min_samples_leaf=4, min_samples_split=10, n_estimators=30; total time=   6.0s\n",
            "[CV] END max_depth=None, max_features=log2, min_samples_leaf=4, min_samples_split=10, n_estimators=30; total time=   4.7s\n",
            "[CV] END max_depth=None, max_features=log2, min_samples_leaf=4, min_samples_split=10, n_estimators=40; total time=   6.7s\n",
            "[CV] END max_depth=None, max_features=log2, min_samples_leaf=4, min_samples_split=10, n_estimators=40; total time=   7.1s\n",
            "[CV] END max_depth=None, max_features=log2, min_samples_leaf=4, min_samples_split=10, n_estimators=40; total time=   6.4s\n"
          ]
        },
        {
          "output_type": "stream",
          "name": "stderr",
          "text": [
            "/usr/local/lib/python3.10/dist-packages/sklearn/ensemble/_forest.py:424: FutureWarning: `max_features='auto'` has been deprecated in 1.1 and will be removed in 1.3. To keep the past behaviour, explicitly set `max_features='sqrt'` or remove this parameter as it is also the default value for RandomForestClassifiers and ExtraTreesClassifiers.\n",
            "  warn(\n"
          ]
        },
        {
          "output_type": "stream",
          "name": "stdout",
          "text": [
            "[CV] END max_depth=10, max_features=auto, min_samples_leaf=1, min_samples_split=2, n_estimators=20; total time=   3.0s\n"
          ]
        },
        {
          "output_type": "stream",
          "name": "stderr",
          "text": [
            "/usr/local/lib/python3.10/dist-packages/sklearn/ensemble/_forest.py:424: FutureWarning: `max_features='auto'` has been deprecated in 1.1 and will be removed in 1.3. To keep the past behaviour, explicitly set `max_features='sqrt'` or remove this parameter as it is also the default value for RandomForestClassifiers and ExtraTreesClassifiers.\n",
            "  warn(\n"
          ]
        },
        {
          "output_type": "stream",
          "name": "stdout",
          "text": [
            "[CV] END max_depth=10, max_features=auto, min_samples_leaf=1, min_samples_split=2, n_estimators=20; total time=   2.3s\n"
          ]
        },
        {
          "output_type": "stream",
          "name": "stderr",
          "text": [
            "/usr/local/lib/python3.10/dist-packages/sklearn/ensemble/_forest.py:424: FutureWarning: `max_features='auto'` has been deprecated in 1.1 and will be removed in 1.3. To keep the past behaviour, explicitly set `max_features='sqrt'` or remove this parameter as it is also the default value for RandomForestClassifiers and ExtraTreesClassifiers.\n",
            "  warn(\n"
          ]
        },
        {
          "output_type": "stream",
          "name": "stdout",
          "text": [
            "[CV] END max_depth=10, max_features=auto, min_samples_leaf=1, min_samples_split=2, n_estimators=20; total time=   2.1s\n"
          ]
        },
        {
          "output_type": "stream",
          "name": "stderr",
          "text": [
            "/usr/local/lib/python3.10/dist-packages/sklearn/ensemble/_forest.py:424: FutureWarning: `max_features='auto'` has been deprecated in 1.1 and will be removed in 1.3. To keep the past behaviour, explicitly set `max_features='sqrt'` or remove this parameter as it is also the default value for RandomForestClassifiers and ExtraTreesClassifiers.\n",
            "  warn(\n"
          ]
        },
        {
          "output_type": "stream",
          "name": "stdout",
          "text": [
            "[CV] END max_depth=10, max_features=auto, min_samples_leaf=1, min_samples_split=2, n_estimators=30; total time=   3.2s\n"
          ]
        },
        {
          "output_type": "stream",
          "name": "stderr",
          "text": [
            "/usr/local/lib/python3.10/dist-packages/sklearn/ensemble/_forest.py:424: FutureWarning: `max_features='auto'` has been deprecated in 1.1 and will be removed in 1.3. To keep the past behaviour, explicitly set `max_features='sqrt'` or remove this parameter as it is also the default value for RandomForestClassifiers and ExtraTreesClassifiers.\n",
            "  warn(\n"
          ]
        },
        {
          "output_type": "stream",
          "name": "stdout",
          "text": [
            "[CV] END max_depth=10, max_features=auto, min_samples_leaf=1, min_samples_split=2, n_estimators=30; total time=   3.3s\n"
          ]
        },
        {
          "output_type": "stream",
          "name": "stderr",
          "text": [
            "/usr/local/lib/python3.10/dist-packages/sklearn/ensemble/_forest.py:424: FutureWarning: `max_features='auto'` has been deprecated in 1.1 and will be removed in 1.3. To keep the past behaviour, explicitly set `max_features='sqrt'` or remove this parameter as it is also the default value for RandomForestClassifiers and ExtraTreesClassifiers.\n",
            "  warn(\n"
          ]
        },
        {
          "output_type": "stream",
          "name": "stdout",
          "text": [
            "[CV] END max_depth=10, max_features=auto, min_samples_leaf=1, min_samples_split=2, n_estimators=30; total time=   4.4s\n"
          ]
        },
        {
          "output_type": "stream",
          "name": "stderr",
          "text": [
            "/usr/local/lib/python3.10/dist-packages/sklearn/ensemble/_forest.py:424: FutureWarning: `max_features='auto'` has been deprecated in 1.1 and will be removed in 1.3. To keep the past behaviour, explicitly set `max_features='sqrt'` or remove this parameter as it is also the default value for RandomForestClassifiers and ExtraTreesClassifiers.\n",
            "  warn(\n"
          ]
        },
        {
          "output_type": "stream",
          "name": "stdout",
          "text": [
            "[CV] END max_depth=10, max_features=auto, min_samples_leaf=1, min_samples_split=2, n_estimators=40; total time=   4.3s\n"
          ]
        },
        {
          "output_type": "stream",
          "name": "stderr",
          "text": [
            "/usr/local/lib/python3.10/dist-packages/sklearn/ensemble/_forest.py:424: FutureWarning: `max_features='auto'` has been deprecated in 1.1 and will be removed in 1.3. To keep the past behaviour, explicitly set `max_features='sqrt'` or remove this parameter as it is also the default value for RandomForestClassifiers and ExtraTreesClassifiers.\n",
            "  warn(\n"
          ]
        },
        {
          "output_type": "stream",
          "name": "stdout",
          "text": [
            "[CV] END max_depth=10, max_features=auto, min_samples_leaf=1, min_samples_split=2, n_estimators=40; total time=   4.2s\n"
          ]
        },
        {
          "output_type": "stream",
          "name": "stderr",
          "text": [
            "/usr/local/lib/python3.10/dist-packages/sklearn/ensemble/_forest.py:424: FutureWarning: `max_features='auto'` has been deprecated in 1.1 and will be removed in 1.3. To keep the past behaviour, explicitly set `max_features='sqrt'` or remove this parameter as it is also the default value for RandomForestClassifiers and ExtraTreesClassifiers.\n",
            "  warn(\n"
          ]
        },
        {
          "output_type": "stream",
          "name": "stdout",
          "text": [
            "[CV] END max_depth=10, max_features=auto, min_samples_leaf=1, min_samples_split=2, n_estimators=40; total time=   5.6s\n"
          ]
        },
        {
          "output_type": "stream",
          "name": "stderr",
          "text": [
            "/usr/local/lib/python3.10/dist-packages/sklearn/ensemble/_forest.py:424: FutureWarning: `max_features='auto'` has been deprecated in 1.1 and will be removed in 1.3. To keep the past behaviour, explicitly set `max_features='sqrt'` or remove this parameter as it is also the default value for RandomForestClassifiers and ExtraTreesClassifiers.\n",
            "  warn(\n"
          ]
        },
        {
          "output_type": "stream",
          "name": "stdout",
          "text": [
            "[CV] END max_depth=10, max_features=auto, min_samples_leaf=1, min_samples_split=5, n_estimators=20; total time=   2.1s\n"
          ]
        },
        {
          "output_type": "stream",
          "name": "stderr",
          "text": [
            "/usr/local/lib/python3.10/dist-packages/sklearn/ensemble/_forest.py:424: FutureWarning: `max_features='auto'` has been deprecated in 1.1 and will be removed in 1.3. To keep the past behaviour, explicitly set `max_features='sqrt'` or remove this parameter as it is also the default value for RandomForestClassifiers and ExtraTreesClassifiers.\n",
            "  warn(\n"
          ]
        },
        {
          "output_type": "stream",
          "name": "stdout",
          "text": [
            "[CV] END max_depth=10, max_features=auto, min_samples_leaf=1, min_samples_split=5, n_estimators=20; total time=   2.2s\n"
          ]
        },
        {
          "output_type": "stream",
          "name": "stderr",
          "text": [
            "/usr/local/lib/python3.10/dist-packages/sklearn/ensemble/_forest.py:424: FutureWarning: `max_features='auto'` has been deprecated in 1.1 and will be removed in 1.3. To keep the past behaviour, explicitly set `max_features='sqrt'` or remove this parameter as it is also the default value for RandomForestClassifiers and ExtraTreesClassifiers.\n",
            "  warn(\n"
          ]
        },
        {
          "output_type": "stream",
          "name": "stdout",
          "text": [
            "[CV] END max_depth=10, max_features=auto, min_samples_leaf=1, min_samples_split=5, n_estimators=20; total time=   2.1s\n"
          ]
        },
        {
          "output_type": "stream",
          "name": "stderr",
          "text": [
            "/usr/local/lib/python3.10/dist-packages/sklearn/ensemble/_forest.py:424: FutureWarning: `max_features='auto'` has been deprecated in 1.1 and will be removed in 1.3. To keep the past behaviour, explicitly set `max_features='sqrt'` or remove this parameter as it is also the default value for RandomForestClassifiers and ExtraTreesClassifiers.\n",
            "  warn(\n"
          ]
        },
        {
          "output_type": "stream",
          "name": "stdout",
          "text": [
            "[CV] END max_depth=10, max_features=auto, min_samples_leaf=1, min_samples_split=5, n_estimators=30; total time=   3.1s\n"
          ]
        },
        {
          "output_type": "stream",
          "name": "stderr",
          "text": [
            "/usr/local/lib/python3.10/dist-packages/sklearn/ensemble/_forest.py:424: FutureWarning: `max_features='auto'` has been deprecated in 1.1 and will be removed in 1.3. To keep the past behaviour, explicitly set `max_features='sqrt'` or remove this parameter as it is also the default value for RandomForestClassifiers and ExtraTreesClassifiers.\n",
            "  warn(\n"
          ]
        },
        {
          "output_type": "stream",
          "name": "stdout",
          "text": [
            "[CV] END max_depth=10, max_features=auto, min_samples_leaf=1, min_samples_split=5, n_estimators=30; total time=   4.5s\n"
          ]
        },
        {
          "output_type": "stream",
          "name": "stderr",
          "text": [
            "/usr/local/lib/python3.10/dist-packages/sklearn/ensemble/_forest.py:424: FutureWarning: `max_features='auto'` has been deprecated in 1.1 and will be removed in 1.3. To keep the past behaviour, explicitly set `max_features='sqrt'` or remove this parameter as it is also the default value for RandomForestClassifiers and ExtraTreesClassifiers.\n",
            "  warn(\n"
          ]
        },
        {
          "output_type": "stream",
          "name": "stdout",
          "text": [
            "[CV] END max_depth=10, max_features=auto, min_samples_leaf=1, min_samples_split=5, n_estimators=30; total time=   3.3s\n"
          ]
        },
        {
          "output_type": "stream",
          "name": "stderr",
          "text": [
            "/usr/local/lib/python3.10/dist-packages/sklearn/ensemble/_forest.py:424: FutureWarning: `max_features='auto'` has been deprecated in 1.1 and will be removed in 1.3. To keep the past behaviour, explicitly set `max_features='sqrt'` or remove this parameter as it is also the default value for RandomForestClassifiers and ExtraTreesClassifiers.\n",
            "  warn(\n"
          ]
        },
        {
          "output_type": "stream",
          "name": "stdout",
          "text": [
            "[CV] END max_depth=10, max_features=auto, min_samples_leaf=1, min_samples_split=5, n_estimators=40; total time=   4.2s\n"
          ]
        },
        {
          "output_type": "stream",
          "name": "stderr",
          "text": [
            "/usr/local/lib/python3.10/dist-packages/sklearn/ensemble/_forest.py:424: FutureWarning: `max_features='auto'` has been deprecated in 1.1 and will be removed in 1.3. To keep the past behaviour, explicitly set `max_features='sqrt'` or remove this parameter as it is also the default value for RandomForestClassifiers and ExtraTreesClassifiers.\n",
            "  warn(\n"
          ]
        },
        {
          "output_type": "stream",
          "name": "stdout",
          "text": [
            "[CV] END max_depth=10, max_features=auto, min_samples_leaf=1, min_samples_split=5, n_estimators=40; total time=   4.9s\n"
          ]
        },
        {
          "output_type": "stream",
          "name": "stderr",
          "text": [
            "/usr/local/lib/python3.10/dist-packages/sklearn/ensemble/_forest.py:424: FutureWarning: `max_features='auto'` has been deprecated in 1.1 and will be removed in 1.3. To keep the past behaviour, explicitly set `max_features='sqrt'` or remove this parameter as it is also the default value for RandomForestClassifiers and ExtraTreesClassifiers.\n",
            "  warn(\n"
          ]
        },
        {
          "output_type": "stream",
          "name": "stdout",
          "text": [
            "[CV] END max_depth=10, max_features=auto, min_samples_leaf=1, min_samples_split=5, n_estimators=40; total time=   5.0s\n"
          ]
        },
        {
          "output_type": "stream",
          "name": "stderr",
          "text": [
            "/usr/local/lib/python3.10/dist-packages/sklearn/ensemble/_forest.py:424: FutureWarning: `max_features='auto'` has been deprecated in 1.1 and will be removed in 1.3. To keep the past behaviour, explicitly set `max_features='sqrt'` or remove this parameter as it is also the default value for RandomForestClassifiers and ExtraTreesClassifiers.\n",
            "  warn(\n"
          ]
        },
        {
          "output_type": "stream",
          "name": "stdout",
          "text": [
            "[CV] END max_depth=10, max_features=auto, min_samples_leaf=1, min_samples_split=10, n_estimators=20; total time=   2.1s\n"
          ]
        },
        {
          "output_type": "stream",
          "name": "stderr",
          "text": [
            "/usr/local/lib/python3.10/dist-packages/sklearn/ensemble/_forest.py:424: FutureWarning: `max_features='auto'` has been deprecated in 1.1 and will be removed in 1.3. To keep the past behaviour, explicitly set `max_features='sqrt'` or remove this parameter as it is also the default value for RandomForestClassifiers and ExtraTreesClassifiers.\n",
            "  warn(\n"
          ]
        },
        {
          "output_type": "stream",
          "name": "stdout",
          "text": [
            "[CV] END max_depth=10, max_features=auto, min_samples_leaf=1, min_samples_split=10, n_estimators=20; total time=   2.2s\n"
          ]
        },
        {
          "output_type": "stream",
          "name": "stderr",
          "text": [
            "/usr/local/lib/python3.10/dist-packages/sklearn/ensemble/_forest.py:424: FutureWarning: `max_features='auto'` has been deprecated in 1.1 and will be removed in 1.3. To keep the past behaviour, explicitly set `max_features='sqrt'` or remove this parameter as it is also the default value for RandomForestClassifiers and ExtraTreesClassifiers.\n",
            "  warn(\n"
          ]
        },
        {
          "output_type": "stream",
          "name": "stdout",
          "text": [
            "[CV] END max_depth=10, max_features=auto, min_samples_leaf=1, min_samples_split=10, n_estimators=20; total time=   2.2s\n"
          ]
        },
        {
          "output_type": "stream",
          "name": "stderr",
          "text": [
            "/usr/local/lib/python3.10/dist-packages/sklearn/ensemble/_forest.py:424: FutureWarning: `max_features='auto'` has been deprecated in 1.1 and will be removed in 1.3. To keep the past behaviour, explicitly set `max_features='sqrt'` or remove this parameter as it is also the default value for RandomForestClassifiers and ExtraTreesClassifiers.\n",
            "  warn(\n"
          ]
        },
        {
          "output_type": "stream",
          "name": "stdout",
          "text": [
            "[CV] END max_depth=10, max_features=auto, min_samples_leaf=1, min_samples_split=10, n_estimators=30; total time=   4.2s\n"
          ]
        },
        {
          "output_type": "stream",
          "name": "stderr",
          "text": [
            "/usr/local/lib/python3.10/dist-packages/sklearn/ensemble/_forest.py:424: FutureWarning: `max_features='auto'` has been deprecated in 1.1 and will be removed in 1.3. To keep the past behaviour, explicitly set `max_features='sqrt'` or remove this parameter as it is also the default value for RandomForestClassifiers and ExtraTreesClassifiers.\n",
            "  warn(\n"
          ]
        },
        {
          "output_type": "stream",
          "name": "stdout",
          "text": [
            "[CV] END max_depth=10, max_features=auto, min_samples_leaf=1, min_samples_split=10, n_estimators=30; total time=   3.6s\n"
          ]
        },
        {
          "output_type": "stream",
          "name": "stderr",
          "text": [
            "/usr/local/lib/python3.10/dist-packages/sklearn/ensemble/_forest.py:424: FutureWarning: `max_features='auto'` has been deprecated in 1.1 and will be removed in 1.3. To keep the past behaviour, explicitly set `max_features='sqrt'` or remove this parameter as it is also the default value for RandomForestClassifiers and ExtraTreesClassifiers.\n",
            "  warn(\n"
          ]
        },
        {
          "output_type": "stream",
          "name": "stdout",
          "text": [
            "[CV] END max_depth=10, max_features=auto, min_samples_leaf=1, min_samples_split=10, n_estimators=30; total time=   3.2s\n"
          ]
        },
        {
          "output_type": "stream",
          "name": "stderr",
          "text": [
            "/usr/local/lib/python3.10/dist-packages/sklearn/ensemble/_forest.py:424: FutureWarning: `max_features='auto'` has been deprecated in 1.1 and will be removed in 1.3. To keep the past behaviour, explicitly set `max_features='sqrt'` or remove this parameter as it is also the default value for RandomForestClassifiers and ExtraTreesClassifiers.\n",
            "  warn(\n"
          ]
        },
        {
          "output_type": "stream",
          "name": "stdout",
          "text": [
            "[CV] END max_depth=10, max_features=auto, min_samples_leaf=1, min_samples_split=10, n_estimators=40; total time=   4.2s\n"
          ]
        },
        {
          "output_type": "stream",
          "name": "stderr",
          "text": [
            "/usr/local/lib/python3.10/dist-packages/sklearn/ensemble/_forest.py:424: FutureWarning: `max_features='auto'` has been deprecated in 1.1 and will be removed in 1.3. To keep the past behaviour, explicitly set `max_features='sqrt'` or remove this parameter as it is also the default value for RandomForestClassifiers and ExtraTreesClassifiers.\n",
            "  warn(\n"
          ]
        },
        {
          "output_type": "stream",
          "name": "stdout",
          "text": [
            "[CV] END max_depth=10, max_features=auto, min_samples_leaf=1, min_samples_split=10, n_estimators=40; total time=   5.6s\n"
          ]
        },
        {
          "output_type": "stream",
          "name": "stderr",
          "text": [
            "/usr/local/lib/python3.10/dist-packages/sklearn/ensemble/_forest.py:424: FutureWarning: `max_features='auto'` has been deprecated in 1.1 and will be removed in 1.3. To keep the past behaviour, explicitly set `max_features='sqrt'` or remove this parameter as it is also the default value for RandomForestClassifiers and ExtraTreesClassifiers.\n",
            "  warn(\n"
          ]
        },
        {
          "output_type": "stream",
          "name": "stdout",
          "text": [
            "[CV] END max_depth=10, max_features=auto, min_samples_leaf=1, min_samples_split=10, n_estimators=40; total time=   4.3s\n"
          ]
        },
        {
          "output_type": "stream",
          "name": "stderr",
          "text": [
            "/usr/local/lib/python3.10/dist-packages/sklearn/ensemble/_forest.py:424: FutureWarning: `max_features='auto'` has been deprecated in 1.1 and will be removed in 1.3. To keep the past behaviour, explicitly set `max_features='sqrt'` or remove this parameter as it is also the default value for RandomForestClassifiers and ExtraTreesClassifiers.\n",
            "  warn(\n"
          ]
        },
        {
          "output_type": "stream",
          "name": "stdout",
          "text": [
            "[CV] END max_depth=10, max_features=auto, min_samples_leaf=2, min_samples_split=2, n_estimators=20; total time=   2.2s\n"
          ]
        },
        {
          "output_type": "stream",
          "name": "stderr",
          "text": [
            "/usr/local/lib/python3.10/dist-packages/sklearn/ensemble/_forest.py:424: FutureWarning: `max_features='auto'` has been deprecated in 1.1 and will be removed in 1.3. To keep the past behaviour, explicitly set `max_features='sqrt'` or remove this parameter as it is also the default value for RandomForestClassifiers and ExtraTreesClassifiers.\n",
            "  warn(\n"
          ]
        },
        {
          "output_type": "stream",
          "name": "stdout",
          "text": [
            "[CV] END max_depth=10, max_features=auto, min_samples_leaf=2, min_samples_split=2, n_estimators=20; total time=   2.2s\n"
          ]
        },
        {
          "output_type": "stream",
          "name": "stderr",
          "text": [
            "/usr/local/lib/python3.10/dist-packages/sklearn/ensemble/_forest.py:424: FutureWarning: `max_features='auto'` has been deprecated in 1.1 and will be removed in 1.3. To keep the past behaviour, explicitly set `max_features='sqrt'` or remove this parameter as it is also the default value for RandomForestClassifiers and ExtraTreesClassifiers.\n",
            "  warn(\n"
          ]
        },
        {
          "output_type": "stream",
          "name": "stdout",
          "text": [
            "[CV] END max_depth=10, max_features=auto, min_samples_leaf=2, min_samples_split=2, n_estimators=20; total time=   2.9s\n"
          ]
        },
        {
          "output_type": "stream",
          "name": "stderr",
          "text": [
            "/usr/local/lib/python3.10/dist-packages/sklearn/ensemble/_forest.py:424: FutureWarning: `max_features='auto'` has been deprecated in 1.1 and will be removed in 1.3. To keep the past behaviour, explicitly set `max_features='sqrt'` or remove this parameter as it is also the default value for RandomForestClassifiers and ExtraTreesClassifiers.\n",
            "  warn(\n"
          ]
        },
        {
          "output_type": "stream",
          "name": "stdout",
          "text": [
            "[CV] END max_depth=10, max_features=auto, min_samples_leaf=2, min_samples_split=2, n_estimators=30; total time=   3.7s\n"
          ]
        },
        {
          "output_type": "stream",
          "name": "stderr",
          "text": [
            "/usr/local/lib/python3.10/dist-packages/sklearn/ensemble/_forest.py:424: FutureWarning: `max_features='auto'` has been deprecated in 1.1 and will be removed in 1.3. To keep the past behaviour, explicitly set `max_features='sqrt'` or remove this parameter as it is also the default value for RandomForestClassifiers and ExtraTreesClassifiers.\n",
            "  warn(\n"
          ]
        },
        {
          "output_type": "stream",
          "name": "stdout",
          "text": [
            "[CV] END max_depth=10, max_features=auto, min_samples_leaf=2, min_samples_split=2, n_estimators=30; total time=   3.2s\n"
          ]
        },
        {
          "output_type": "stream",
          "name": "stderr",
          "text": [
            "/usr/local/lib/python3.10/dist-packages/sklearn/ensemble/_forest.py:424: FutureWarning: `max_features='auto'` has been deprecated in 1.1 and will be removed in 1.3. To keep the past behaviour, explicitly set `max_features='sqrt'` or remove this parameter as it is also the default value for RandomForestClassifiers and ExtraTreesClassifiers.\n",
            "  warn(\n"
          ]
        },
        {
          "output_type": "stream",
          "name": "stdout",
          "text": [
            "[CV] END max_depth=10, max_features=auto, min_samples_leaf=2, min_samples_split=2, n_estimators=30; total time=   3.2s\n"
          ]
        },
        {
          "output_type": "stream",
          "name": "stderr",
          "text": [
            "/usr/local/lib/python3.10/dist-packages/sklearn/ensemble/_forest.py:424: FutureWarning: `max_features='auto'` has been deprecated in 1.1 and will be removed in 1.3. To keep the past behaviour, explicitly set `max_features='sqrt'` or remove this parameter as it is also the default value for RandomForestClassifiers and ExtraTreesClassifiers.\n",
            "  warn(\n"
          ]
        },
        {
          "output_type": "stream",
          "name": "stdout",
          "text": [
            "[CV] END max_depth=10, max_features=auto, min_samples_leaf=2, min_samples_split=2, n_estimators=40; total time=   5.4s\n"
          ]
        },
        {
          "output_type": "stream",
          "name": "stderr",
          "text": [
            "/usr/local/lib/python3.10/dist-packages/sklearn/ensemble/_forest.py:424: FutureWarning: `max_features='auto'` has been deprecated in 1.1 and will be removed in 1.3. To keep the past behaviour, explicitly set `max_features='sqrt'` or remove this parameter as it is also the default value for RandomForestClassifiers and ExtraTreesClassifiers.\n",
            "  warn(\n"
          ]
        },
        {
          "output_type": "stream",
          "name": "stdout",
          "text": [
            "[CV] END max_depth=10, max_features=auto, min_samples_leaf=2, min_samples_split=2, n_estimators=40; total time=   4.5s\n"
          ]
        },
        {
          "output_type": "stream",
          "name": "stderr",
          "text": [
            "/usr/local/lib/python3.10/dist-packages/sklearn/ensemble/_forest.py:424: FutureWarning: `max_features='auto'` has been deprecated in 1.1 and will be removed in 1.3. To keep the past behaviour, explicitly set `max_features='sqrt'` or remove this parameter as it is also the default value for RandomForestClassifiers and ExtraTreesClassifiers.\n",
            "  warn(\n"
          ]
        },
        {
          "output_type": "stream",
          "name": "stdout",
          "text": [
            "[CV] END max_depth=10, max_features=auto, min_samples_leaf=2, min_samples_split=2, n_estimators=40; total time=   4.3s\n"
          ]
        },
        {
          "output_type": "stream",
          "name": "stderr",
          "text": [
            "/usr/local/lib/python3.10/dist-packages/sklearn/ensemble/_forest.py:424: FutureWarning: `max_features='auto'` has been deprecated in 1.1 and will be removed in 1.3. To keep the past behaviour, explicitly set `max_features='sqrt'` or remove this parameter as it is also the default value for RandomForestClassifiers and ExtraTreesClassifiers.\n",
            "  warn(\n"
          ]
        },
        {
          "output_type": "stream",
          "name": "stdout",
          "text": [
            "[CV] END max_depth=10, max_features=auto, min_samples_leaf=2, min_samples_split=5, n_estimators=20; total time=   2.2s\n"
          ]
        },
        {
          "output_type": "stream",
          "name": "stderr",
          "text": [
            "/usr/local/lib/python3.10/dist-packages/sklearn/ensemble/_forest.py:424: FutureWarning: `max_features='auto'` has been deprecated in 1.1 and will be removed in 1.3. To keep the past behaviour, explicitly set `max_features='sqrt'` or remove this parameter as it is also the default value for RandomForestClassifiers and ExtraTreesClassifiers.\n",
            "  warn(\n"
          ]
        },
        {
          "output_type": "stream",
          "name": "stdout",
          "text": [
            "[CV] END max_depth=10, max_features=auto, min_samples_leaf=2, min_samples_split=5, n_estimators=20; total time=   3.1s\n"
          ]
        },
        {
          "output_type": "stream",
          "name": "stderr",
          "text": [
            "/usr/local/lib/python3.10/dist-packages/sklearn/ensemble/_forest.py:424: FutureWarning: `max_features='auto'` has been deprecated in 1.1 and will be removed in 1.3. To keep the past behaviour, explicitly set `max_features='sqrt'` or remove this parameter as it is also the default value for RandomForestClassifiers and ExtraTreesClassifiers.\n",
            "  warn(\n"
          ]
        },
        {
          "output_type": "stream",
          "name": "stdout",
          "text": [
            "[CV] END max_depth=10, max_features=auto, min_samples_leaf=2, min_samples_split=5, n_estimators=20; total time=   2.4s\n"
          ]
        },
        {
          "output_type": "stream",
          "name": "stderr",
          "text": [
            "/usr/local/lib/python3.10/dist-packages/sklearn/ensemble/_forest.py:424: FutureWarning: `max_features='auto'` has been deprecated in 1.1 and will be removed in 1.3. To keep the past behaviour, explicitly set `max_features='sqrt'` or remove this parameter as it is also the default value for RandomForestClassifiers and ExtraTreesClassifiers.\n",
            "  warn(\n"
          ]
        },
        {
          "output_type": "stream",
          "name": "stdout",
          "text": [
            "[CV] END max_depth=10, max_features=auto, min_samples_leaf=2, min_samples_split=5, n_estimators=30; total time=   3.2s\n"
          ]
        },
        {
          "output_type": "stream",
          "name": "stderr",
          "text": [
            "/usr/local/lib/python3.10/dist-packages/sklearn/ensemble/_forest.py:424: FutureWarning: `max_features='auto'` has been deprecated in 1.1 and will be removed in 1.3. To keep the past behaviour, explicitly set `max_features='sqrt'` or remove this parameter as it is also the default value for RandomForestClassifiers and ExtraTreesClassifiers.\n",
            "  warn(\n"
          ]
        },
        {
          "output_type": "stream",
          "name": "stdout",
          "text": [
            "[CV] END max_depth=10, max_features=auto, min_samples_leaf=2, min_samples_split=5, n_estimators=30; total time=   3.3s\n"
          ]
        },
        {
          "output_type": "stream",
          "name": "stderr",
          "text": [
            "/usr/local/lib/python3.10/dist-packages/sklearn/ensemble/_forest.py:424: FutureWarning: `max_features='auto'` has been deprecated in 1.1 and will be removed in 1.3. To keep the past behaviour, explicitly set `max_features='sqrt'` or remove this parameter as it is also the default value for RandomForestClassifiers and ExtraTreesClassifiers.\n",
            "  warn(\n"
          ]
        },
        {
          "output_type": "stream",
          "name": "stdout",
          "text": [
            "[CV] END max_depth=10, max_features=auto, min_samples_leaf=2, min_samples_split=5, n_estimators=30; total time=   3.7s\n"
          ]
        },
        {
          "output_type": "stream",
          "name": "stderr",
          "text": [
            "/usr/local/lib/python3.10/dist-packages/sklearn/ensemble/_forest.py:424: FutureWarning: `max_features='auto'` has been deprecated in 1.1 and will be removed in 1.3. To keep the past behaviour, explicitly set `max_features='sqrt'` or remove this parameter as it is also the default value for RandomForestClassifiers and ExtraTreesClassifiers.\n",
            "  warn(\n"
          ]
        },
        {
          "output_type": "stream",
          "name": "stdout",
          "text": [
            "[CV] END max_depth=10, max_features=auto, min_samples_leaf=2, min_samples_split=5, n_estimators=40; total time=   5.0s\n"
          ]
        },
        {
          "output_type": "stream",
          "name": "stderr",
          "text": [
            "/usr/local/lib/python3.10/dist-packages/sklearn/ensemble/_forest.py:424: FutureWarning: `max_features='auto'` has been deprecated in 1.1 and will be removed in 1.3. To keep the past behaviour, explicitly set `max_features='sqrt'` or remove this parameter as it is also the default value for RandomForestClassifiers and ExtraTreesClassifiers.\n",
            "  warn(\n"
          ]
        },
        {
          "output_type": "stream",
          "name": "stdout",
          "text": [
            "[CV] END max_depth=10, max_features=auto, min_samples_leaf=2, min_samples_split=5, n_estimators=40; total time=   4.3s\n"
          ]
        },
        {
          "output_type": "stream",
          "name": "stderr",
          "text": [
            "/usr/local/lib/python3.10/dist-packages/sklearn/ensemble/_forest.py:424: FutureWarning: `max_features='auto'` has been deprecated in 1.1 and will be removed in 1.3. To keep the past behaviour, explicitly set `max_features='sqrt'` or remove this parameter as it is also the default value for RandomForestClassifiers and ExtraTreesClassifiers.\n",
            "  warn(\n"
          ]
        },
        {
          "output_type": "stream",
          "name": "stdout",
          "text": [
            "[CV] END max_depth=10, max_features=auto, min_samples_leaf=2, min_samples_split=5, n_estimators=40; total time=   4.6s\n"
          ]
        },
        {
          "output_type": "stream",
          "name": "stderr",
          "text": [
            "/usr/local/lib/python3.10/dist-packages/sklearn/ensemble/_forest.py:424: FutureWarning: `max_features='auto'` has been deprecated in 1.1 and will be removed in 1.3. To keep the past behaviour, explicitly set `max_features='sqrt'` or remove this parameter as it is also the default value for RandomForestClassifiers and ExtraTreesClassifiers.\n",
            "  warn(\n"
          ]
        },
        {
          "output_type": "stream",
          "name": "stdout",
          "text": [
            "[CV] END max_depth=10, max_features=auto, min_samples_leaf=2, min_samples_split=10, n_estimators=20; total time=   2.9s\n"
          ]
        },
        {
          "output_type": "stream",
          "name": "stderr",
          "text": [
            "/usr/local/lib/python3.10/dist-packages/sklearn/ensemble/_forest.py:424: FutureWarning: `max_features='auto'` has been deprecated in 1.1 and will be removed in 1.3. To keep the past behaviour, explicitly set `max_features='sqrt'` or remove this parameter as it is also the default value for RandomForestClassifiers and ExtraTreesClassifiers.\n",
            "  warn(\n"
          ]
        },
        {
          "output_type": "stream",
          "name": "stdout",
          "text": [
            "[CV] END max_depth=10, max_features=auto, min_samples_leaf=2, min_samples_split=10, n_estimators=20; total time=   2.2s\n"
          ]
        },
        {
          "output_type": "stream",
          "name": "stderr",
          "text": [
            "/usr/local/lib/python3.10/dist-packages/sklearn/ensemble/_forest.py:424: FutureWarning: `max_features='auto'` has been deprecated in 1.1 and will be removed in 1.3. To keep the past behaviour, explicitly set `max_features='sqrt'` or remove this parameter as it is also the default value for RandomForestClassifiers and ExtraTreesClassifiers.\n",
            "  warn(\n"
          ]
        },
        {
          "output_type": "stream",
          "name": "stdout",
          "text": [
            "[CV] END max_depth=10, max_features=auto, min_samples_leaf=2, min_samples_split=10, n_estimators=20; total time=   2.1s\n"
          ]
        },
        {
          "output_type": "stream",
          "name": "stderr",
          "text": [
            "/usr/local/lib/python3.10/dist-packages/sklearn/ensemble/_forest.py:424: FutureWarning: `max_features='auto'` has been deprecated in 1.1 and will be removed in 1.3. To keep the past behaviour, explicitly set `max_features='sqrt'` or remove this parameter as it is also the default value for RandomForestClassifiers and ExtraTreesClassifiers.\n",
            "  warn(\n"
          ]
        },
        {
          "output_type": "stream",
          "name": "stdout",
          "text": [
            "[CV] END max_depth=10, max_features=auto, min_samples_leaf=2, min_samples_split=10, n_estimators=30; total time=   3.1s\n"
          ]
        },
        {
          "output_type": "stream",
          "name": "stderr",
          "text": [
            "/usr/local/lib/python3.10/dist-packages/sklearn/ensemble/_forest.py:424: FutureWarning: `max_features='auto'` has been deprecated in 1.1 and will be removed in 1.3. To keep the past behaviour, explicitly set `max_features='sqrt'` or remove this parameter as it is also the default value for RandomForestClassifiers and ExtraTreesClassifiers.\n",
            "  warn(\n"
          ]
        },
        {
          "output_type": "stream",
          "name": "stdout",
          "text": [
            "[CV] END max_depth=10, max_features=auto, min_samples_leaf=2, min_samples_split=10, n_estimators=30; total time=   3.5s\n"
          ]
        },
        {
          "output_type": "stream",
          "name": "stderr",
          "text": [
            "/usr/local/lib/python3.10/dist-packages/sklearn/ensemble/_forest.py:424: FutureWarning: `max_features='auto'` has been deprecated in 1.1 and will be removed in 1.3. To keep the past behaviour, explicitly set `max_features='sqrt'` or remove this parameter as it is also the default value for RandomForestClassifiers and ExtraTreesClassifiers.\n",
            "  warn(\n"
          ]
        },
        {
          "output_type": "stream",
          "name": "stdout",
          "text": [
            "[CV] END max_depth=10, max_features=auto, min_samples_leaf=2, min_samples_split=10, n_estimators=30; total time=   4.3s\n"
          ]
        },
        {
          "output_type": "stream",
          "name": "stderr",
          "text": [
            "/usr/local/lib/python3.10/dist-packages/sklearn/ensemble/_forest.py:424: FutureWarning: `max_features='auto'` has been deprecated in 1.1 and will be removed in 1.3. To keep the past behaviour, explicitly set `max_features='sqrt'` or remove this parameter as it is also the default value for RandomForestClassifiers and ExtraTreesClassifiers.\n",
            "  warn(\n"
          ]
        },
        {
          "output_type": "stream",
          "name": "stdout",
          "text": [
            "[CV] END max_depth=10, max_features=auto, min_samples_leaf=2, min_samples_split=10, n_estimators=40; total time=   4.7s\n"
          ]
        },
        {
          "output_type": "stream",
          "name": "stderr",
          "text": [
            "/usr/local/lib/python3.10/dist-packages/sklearn/ensemble/_forest.py:424: FutureWarning: `max_features='auto'` has been deprecated in 1.1 and will be removed in 1.3. To keep the past behaviour, explicitly set `max_features='sqrt'` or remove this parameter as it is also the default value for RandomForestClassifiers and ExtraTreesClassifiers.\n",
            "  warn(\n"
          ]
        },
        {
          "output_type": "stream",
          "name": "stdout",
          "text": [
            "[CV] END max_depth=10, max_features=auto, min_samples_leaf=2, min_samples_split=10, n_estimators=40; total time=   6.2s\n"
          ]
        },
        {
          "output_type": "stream",
          "name": "stderr",
          "text": [
            "/usr/local/lib/python3.10/dist-packages/sklearn/ensemble/_forest.py:424: FutureWarning: `max_features='auto'` has been deprecated in 1.1 and will be removed in 1.3. To keep the past behaviour, explicitly set `max_features='sqrt'` or remove this parameter as it is also the default value for RandomForestClassifiers and ExtraTreesClassifiers.\n",
            "  warn(\n"
          ]
        },
        {
          "output_type": "stream",
          "name": "stdout",
          "text": [
            "[CV] END max_depth=10, max_features=auto, min_samples_leaf=2, min_samples_split=10, n_estimators=40; total time=   5.1s\n"
          ]
        },
        {
          "output_type": "stream",
          "name": "stderr",
          "text": [
            "/usr/local/lib/python3.10/dist-packages/sklearn/ensemble/_forest.py:424: FutureWarning: `max_features='auto'` has been deprecated in 1.1 and will be removed in 1.3. To keep the past behaviour, explicitly set `max_features='sqrt'` or remove this parameter as it is also the default value for RandomForestClassifiers and ExtraTreesClassifiers.\n",
            "  warn(\n"
          ]
        },
        {
          "output_type": "stream",
          "name": "stdout",
          "text": [
            "[CV] END max_depth=10, max_features=auto, min_samples_leaf=4, min_samples_split=2, n_estimators=20; total time=   2.1s\n"
          ]
        },
        {
          "output_type": "stream",
          "name": "stderr",
          "text": [
            "/usr/local/lib/python3.10/dist-packages/sklearn/ensemble/_forest.py:424: FutureWarning: `max_features='auto'` has been deprecated in 1.1 and will be removed in 1.3. To keep the past behaviour, explicitly set `max_features='sqrt'` or remove this parameter as it is also the default value for RandomForestClassifiers and ExtraTreesClassifiers.\n",
            "  warn(\n"
          ]
        },
        {
          "output_type": "stream",
          "name": "stdout",
          "text": [
            "[CV] END max_depth=10, max_features=auto, min_samples_leaf=4, min_samples_split=2, n_estimators=20; total time=   2.1s\n"
          ]
        },
        {
          "output_type": "stream",
          "name": "stderr",
          "text": [
            "/usr/local/lib/python3.10/dist-packages/sklearn/ensemble/_forest.py:424: FutureWarning: `max_features='auto'` has been deprecated in 1.1 and will be removed in 1.3. To keep the past behaviour, explicitly set `max_features='sqrt'` or remove this parameter as it is also the default value for RandomForestClassifiers and ExtraTreesClassifiers.\n",
            "  warn(\n"
          ]
        },
        {
          "output_type": "stream",
          "name": "stdout",
          "text": [
            "[CV] END max_depth=10, max_features=auto, min_samples_leaf=4, min_samples_split=2, n_estimators=20; total time=   2.1s\n"
          ]
        },
        {
          "output_type": "stream",
          "name": "stderr",
          "text": [
            "/usr/local/lib/python3.10/dist-packages/sklearn/ensemble/_forest.py:424: FutureWarning: `max_features='auto'` has been deprecated in 1.1 and will be removed in 1.3. To keep the past behaviour, explicitly set `max_features='sqrt'` or remove this parameter as it is also the default value for RandomForestClassifiers and ExtraTreesClassifiers.\n",
            "  warn(\n"
          ]
        },
        {
          "output_type": "stream",
          "name": "stdout",
          "text": [
            "[CV] END max_depth=10, max_features=auto, min_samples_leaf=4, min_samples_split=2, n_estimators=30; total time=   3.9s\n"
          ]
        },
        {
          "output_type": "stream",
          "name": "stderr",
          "text": [
            "/usr/local/lib/python3.10/dist-packages/sklearn/ensemble/_forest.py:424: FutureWarning: `max_features='auto'` has been deprecated in 1.1 and will be removed in 1.3. To keep the past behaviour, explicitly set `max_features='sqrt'` or remove this parameter as it is also the default value for RandomForestClassifiers and ExtraTreesClassifiers.\n",
            "  warn(\n"
          ]
        },
        {
          "output_type": "stream",
          "name": "stdout",
          "text": [
            "[CV] END max_depth=10, max_features=auto, min_samples_leaf=4, min_samples_split=2, n_estimators=30; total time=   3.8s\n"
          ]
        },
        {
          "output_type": "stream",
          "name": "stderr",
          "text": [
            "/usr/local/lib/python3.10/dist-packages/sklearn/ensemble/_forest.py:424: FutureWarning: `max_features='auto'` has been deprecated in 1.1 and will be removed in 1.3. To keep the past behaviour, explicitly set `max_features='sqrt'` or remove this parameter as it is also the default value for RandomForestClassifiers and ExtraTreesClassifiers.\n",
            "  warn(\n"
          ]
        },
        {
          "output_type": "stream",
          "name": "stdout",
          "text": [
            "[CV] END max_depth=10, max_features=auto, min_samples_leaf=4, min_samples_split=2, n_estimators=30; total time=   3.2s\n"
          ]
        },
        {
          "output_type": "stream",
          "name": "stderr",
          "text": [
            "/usr/local/lib/python3.10/dist-packages/sklearn/ensemble/_forest.py:424: FutureWarning: `max_features='auto'` has been deprecated in 1.1 and will be removed in 1.3. To keep the past behaviour, explicitly set `max_features='sqrt'` or remove this parameter as it is also the default value for RandomForestClassifiers and ExtraTreesClassifiers.\n",
            "  warn(\n"
          ]
        },
        {
          "output_type": "stream",
          "name": "stdout",
          "text": [
            "[CV] END max_depth=10, max_features=auto, min_samples_leaf=4, min_samples_split=2, n_estimators=40; total time=   4.3s\n"
          ]
        },
        {
          "output_type": "stream",
          "name": "stderr",
          "text": [
            "/usr/local/lib/python3.10/dist-packages/sklearn/ensemble/_forest.py:424: FutureWarning: `max_features='auto'` has been deprecated in 1.1 and will be removed in 1.3. To keep the past behaviour, explicitly set `max_features='sqrt'` or remove this parameter as it is also the default value for RandomForestClassifiers and ExtraTreesClassifiers.\n",
            "  warn(\n"
          ]
        },
        {
          "output_type": "stream",
          "name": "stdout",
          "text": [
            "[CV] END max_depth=10, max_features=auto, min_samples_leaf=4, min_samples_split=2, n_estimators=40; total time=   5.6s\n"
          ]
        },
        {
          "output_type": "stream",
          "name": "stderr",
          "text": [
            "/usr/local/lib/python3.10/dist-packages/sklearn/ensemble/_forest.py:424: FutureWarning: `max_features='auto'` has been deprecated in 1.1 and will be removed in 1.3. To keep the past behaviour, explicitly set `max_features='sqrt'` or remove this parameter as it is also the default value for RandomForestClassifiers and ExtraTreesClassifiers.\n",
            "  warn(\n"
          ]
        },
        {
          "output_type": "stream",
          "name": "stdout",
          "text": [
            "[CV] END max_depth=10, max_features=auto, min_samples_leaf=4, min_samples_split=2, n_estimators=40; total time=   4.3s\n"
          ]
        },
        {
          "output_type": "stream",
          "name": "stderr",
          "text": [
            "/usr/local/lib/python3.10/dist-packages/sklearn/ensemble/_forest.py:424: FutureWarning: `max_features='auto'` has been deprecated in 1.1 and will be removed in 1.3. To keep the past behaviour, explicitly set `max_features='sqrt'` or remove this parameter as it is also the default value for RandomForestClassifiers and ExtraTreesClassifiers.\n",
            "  warn(\n"
          ]
        },
        {
          "output_type": "stream",
          "name": "stdout",
          "text": [
            "[CV] END max_depth=10, max_features=auto, min_samples_leaf=4, min_samples_split=5, n_estimators=20; total time=   2.2s\n"
          ]
        },
        {
          "output_type": "stream",
          "name": "stderr",
          "text": [
            "/usr/local/lib/python3.10/dist-packages/sklearn/ensemble/_forest.py:424: FutureWarning: `max_features='auto'` has been deprecated in 1.1 and will be removed in 1.3. To keep the past behaviour, explicitly set `max_features='sqrt'` or remove this parameter as it is also the default value for RandomForestClassifiers and ExtraTreesClassifiers.\n",
            "  warn(\n"
          ]
        },
        {
          "output_type": "stream",
          "name": "stdout",
          "text": [
            "[CV] END max_depth=10, max_features=auto, min_samples_leaf=4, min_samples_split=5, n_estimators=20; total time=   2.1s\n"
          ]
        },
        {
          "output_type": "stream",
          "name": "stderr",
          "text": [
            "/usr/local/lib/python3.10/dist-packages/sklearn/ensemble/_forest.py:424: FutureWarning: `max_features='auto'` has been deprecated in 1.1 and will be removed in 1.3. To keep the past behaviour, explicitly set `max_features='sqrt'` or remove this parameter as it is also the default value for RandomForestClassifiers and ExtraTreesClassifiers.\n",
            "  warn(\n"
          ]
        },
        {
          "output_type": "stream",
          "name": "stdout",
          "text": [
            "[CV] END max_depth=10, max_features=auto, min_samples_leaf=4, min_samples_split=5, n_estimators=20; total time=   2.6s\n"
          ]
        },
        {
          "output_type": "stream",
          "name": "stderr",
          "text": [
            "/usr/local/lib/python3.10/dist-packages/sklearn/ensemble/_forest.py:424: FutureWarning: `max_features='auto'` has been deprecated in 1.1 and will be removed in 1.3. To keep the past behaviour, explicitly set `max_features='sqrt'` or remove this parameter as it is also the default value for RandomForestClassifiers and ExtraTreesClassifiers.\n",
            "  warn(\n"
          ]
        },
        {
          "output_type": "stream",
          "name": "stdout",
          "text": [
            "[CV] END max_depth=10, max_features=auto, min_samples_leaf=4, min_samples_split=5, n_estimators=30; total time=   4.0s\n"
          ]
        },
        {
          "output_type": "stream",
          "name": "stderr",
          "text": [
            "/usr/local/lib/python3.10/dist-packages/sklearn/ensemble/_forest.py:424: FutureWarning: `max_features='auto'` has been deprecated in 1.1 and will be removed in 1.3. To keep the past behaviour, explicitly set `max_features='sqrt'` or remove this parameter as it is also the default value for RandomForestClassifiers and ExtraTreesClassifiers.\n",
            "  warn(\n"
          ]
        },
        {
          "output_type": "stream",
          "name": "stdout",
          "text": [
            "[CV] END max_depth=10, max_features=auto, min_samples_leaf=4, min_samples_split=5, n_estimators=30; total time=   3.3s\n"
          ]
        },
        {
          "output_type": "stream",
          "name": "stderr",
          "text": [
            "/usr/local/lib/python3.10/dist-packages/sklearn/ensemble/_forest.py:424: FutureWarning: `max_features='auto'` has been deprecated in 1.1 and will be removed in 1.3. To keep the past behaviour, explicitly set `max_features='sqrt'` or remove this parameter as it is also the default value for RandomForestClassifiers and ExtraTreesClassifiers.\n",
            "  warn(\n"
          ]
        },
        {
          "output_type": "stream",
          "name": "stdout",
          "text": [
            "[CV] END max_depth=10, max_features=auto, min_samples_leaf=4, min_samples_split=5, n_estimators=30; total time=   3.4s\n"
          ]
        },
        {
          "output_type": "stream",
          "name": "stderr",
          "text": [
            "/usr/local/lib/python3.10/dist-packages/sklearn/ensemble/_forest.py:424: FutureWarning: `max_features='auto'` has been deprecated in 1.1 and will be removed in 1.3. To keep the past behaviour, explicitly set `max_features='sqrt'` or remove this parameter as it is also the default value for RandomForestClassifiers and ExtraTreesClassifiers.\n",
            "  warn(\n"
          ]
        },
        {
          "output_type": "stream",
          "name": "stdout",
          "text": [
            "[CV] END max_depth=10, max_features=auto, min_samples_leaf=4, min_samples_split=5, n_estimators=40; total time=   5.3s\n"
          ]
        },
        {
          "output_type": "stream",
          "name": "stderr",
          "text": [
            "/usr/local/lib/python3.10/dist-packages/sklearn/ensemble/_forest.py:424: FutureWarning: `max_features='auto'` has been deprecated in 1.1 and will be removed in 1.3. To keep the past behaviour, explicitly set `max_features='sqrt'` or remove this parameter as it is also the default value for RandomForestClassifiers and ExtraTreesClassifiers.\n",
            "  warn(\n"
          ]
        },
        {
          "output_type": "stream",
          "name": "stdout",
          "text": [
            "[CV] END max_depth=10, max_features=auto, min_samples_leaf=4, min_samples_split=5, n_estimators=40; total time=   4.6s\n"
          ]
        },
        {
          "output_type": "stream",
          "name": "stderr",
          "text": [
            "/usr/local/lib/python3.10/dist-packages/sklearn/ensemble/_forest.py:424: FutureWarning: `max_features='auto'` has been deprecated in 1.1 and will be removed in 1.3. To keep the past behaviour, explicitly set `max_features='sqrt'` or remove this parameter as it is also the default value for RandomForestClassifiers and ExtraTreesClassifiers.\n",
            "  warn(\n"
          ]
        },
        {
          "output_type": "stream",
          "name": "stdout",
          "text": [
            "[CV] END max_depth=10, max_features=auto, min_samples_leaf=4, min_samples_split=5, n_estimators=40; total time=   4.4s\n"
          ]
        },
        {
          "output_type": "stream",
          "name": "stderr",
          "text": [
            "/usr/local/lib/python3.10/dist-packages/sklearn/ensemble/_forest.py:424: FutureWarning: `max_features='auto'` has been deprecated in 1.1 and will be removed in 1.3. To keep the past behaviour, explicitly set `max_features='sqrt'` or remove this parameter as it is also the default value for RandomForestClassifiers and ExtraTreesClassifiers.\n",
            "  warn(\n"
          ]
        },
        {
          "output_type": "stream",
          "name": "stdout",
          "text": [
            "[CV] END max_depth=10, max_features=auto, min_samples_leaf=4, min_samples_split=10, n_estimators=20; total time=   2.2s\n"
          ]
        },
        {
          "output_type": "stream",
          "name": "stderr",
          "text": [
            "/usr/local/lib/python3.10/dist-packages/sklearn/ensemble/_forest.py:424: FutureWarning: `max_features='auto'` has been deprecated in 1.1 and will be removed in 1.3. To keep the past behaviour, explicitly set `max_features='sqrt'` or remove this parameter as it is also the default value for RandomForestClassifiers and ExtraTreesClassifiers.\n",
            "  warn(\n"
          ]
        },
        {
          "output_type": "stream",
          "name": "stdout",
          "text": [
            "[CV] END max_depth=10, max_features=auto, min_samples_leaf=4, min_samples_split=10, n_estimators=20; total time=   3.1s\n"
          ]
        },
        {
          "output_type": "stream",
          "name": "stderr",
          "text": [
            "/usr/local/lib/python3.10/dist-packages/sklearn/ensemble/_forest.py:424: FutureWarning: `max_features='auto'` has been deprecated in 1.1 and will be removed in 1.3. To keep the past behaviour, explicitly set `max_features='sqrt'` or remove this parameter as it is also the default value for RandomForestClassifiers and ExtraTreesClassifiers.\n",
            "  warn(\n"
          ]
        },
        {
          "output_type": "stream",
          "name": "stdout",
          "text": [
            "[CV] END max_depth=10, max_features=auto, min_samples_leaf=4, min_samples_split=10, n_estimators=20; total time=   2.6s\n"
          ]
        },
        {
          "output_type": "stream",
          "name": "stderr",
          "text": [
            "/usr/local/lib/python3.10/dist-packages/sklearn/ensemble/_forest.py:424: FutureWarning: `max_features='auto'` has been deprecated in 1.1 and will be removed in 1.3. To keep the past behaviour, explicitly set `max_features='sqrt'` or remove this parameter as it is also the default value for RandomForestClassifiers and ExtraTreesClassifiers.\n",
            "  warn(\n"
          ]
        },
        {
          "output_type": "stream",
          "name": "stdout",
          "text": [
            "[CV] END max_depth=10, max_features=auto, min_samples_leaf=4, min_samples_split=10, n_estimators=30; total time=   3.3s\n"
          ]
        },
        {
          "output_type": "stream",
          "name": "stderr",
          "text": [
            "/usr/local/lib/python3.10/dist-packages/sklearn/ensemble/_forest.py:424: FutureWarning: `max_features='auto'` has been deprecated in 1.1 and will be removed in 1.3. To keep the past behaviour, explicitly set `max_features='sqrt'` or remove this parameter as it is also the default value for RandomForestClassifiers and ExtraTreesClassifiers.\n",
            "  warn(\n"
          ]
        },
        {
          "output_type": "stream",
          "name": "stdout",
          "text": [
            "[CV] END max_depth=10, max_features=auto, min_samples_leaf=4, min_samples_split=10, n_estimators=30; total time=   3.2s\n"
          ]
        },
        {
          "output_type": "stream",
          "name": "stderr",
          "text": [
            "/usr/local/lib/python3.10/dist-packages/sklearn/ensemble/_forest.py:424: FutureWarning: `max_features='auto'` has been deprecated in 1.1 and will be removed in 1.3. To keep the past behaviour, explicitly set `max_features='sqrt'` or remove this parameter as it is also the default value for RandomForestClassifiers and ExtraTreesClassifiers.\n",
            "  warn(\n"
          ]
        },
        {
          "output_type": "stream",
          "name": "stdout",
          "text": [
            "[CV] END max_depth=10, max_features=auto, min_samples_leaf=4, min_samples_split=10, n_estimators=30; total time=   3.7s\n"
          ]
        },
        {
          "output_type": "stream",
          "name": "stderr",
          "text": [
            "/usr/local/lib/python3.10/dist-packages/sklearn/ensemble/_forest.py:424: FutureWarning: `max_features='auto'` has been deprecated in 1.1 and will be removed in 1.3. To keep the past behaviour, explicitly set `max_features='sqrt'` or remove this parameter as it is also the default value for RandomForestClassifiers and ExtraTreesClassifiers.\n",
            "  warn(\n"
          ]
        },
        {
          "output_type": "stream",
          "name": "stdout",
          "text": [
            "[CV] END max_depth=10, max_features=auto, min_samples_leaf=4, min_samples_split=10, n_estimators=40; total time=   5.3s\n"
          ]
        },
        {
          "output_type": "stream",
          "name": "stderr",
          "text": [
            "/usr/local/lib/python3.10/dist-packages/sklearn/ensemble/_forest.py:424: FutureWarning: `max_features='auto'` has been deprecated in 1.1 and will be removed in 1.3. To keep the past behaviour, explicitly set `max_features='sqrt'` or remove this parameter as it is also the default value for RandomForestClassifiers and ExtraTreesClassifiers.\n",
            "  warn(\n"
          ]
        },
        {
          "output_type": "stream",
          "name": "stdout",
          "text": [
            "[CV] END max_depth=10, max_features=auto, min_samples_leaf=4, min_samples_split=10, n_estimators=40; total time=   4.3s\n"
          ]
        },
        {
          "output_type": "stream",
          "name": "stderr",
          "text": [
            "/usr/local/lib/python3.10/dist-packages/sklearn/ensemble/_forest.py:424: FutureWarning: `max_features='auto'` has been deprecated in 1.1 and will be removed in 1.3. To keep the past behaviour, explicitly set `max_features='sqrt'` or remove this parameter as it is also the default value for RandomForestClassifiers and ExtraTreesClassifiers.\n",
            "  warn(\n"
          ]
        },
        {
          "output_type": "stream",
          "name": "stdout",
          "text": [
            "[CV] END max_depth=10, max_features=auto, min_samples_leaf=4, min_samples_split=10, n_estimators=40; total time=   4.6s\n",
            "[CV] END max_depth=10, max_features=sqrt, min_samples_leaf=1, min_samples_split=2, n_estimators=20; total time=   3.1s\n",
            "[CV] END max_depth=10, max_features=sqrt, min_samples_leaf=1, min_samples_split=2, n_estimators=20; total time=   2.2s\n",
            "[CV] END max_depth=10, max_features=sqrt, min_samples_leaf=1, min_samples_split=2, n_estimators=20; total time=   2.2s\n",
            "[CV] END max_depth=10, max_features=sqrt, min_samples_leaf=1, min_samples_split=2, n_estimators=30; total time=   3.2s\n",
            "[CV] END max_depth=10, max_features=sqrt, min_samples_leaf=1, min_samples_split=2, n_estimators=30; total time=   3.5s\n",
            "[CV] END max_depth=10, max_features=sqrt, min_samples_leaf=1, min_samples_split=2, n_estimators=30; total time=   4.2s\n",
            "[CV] END max_depth=10, max_features=sqrt, min_samples_leaf=1, min_samples_split=2, n_estimators=40; total time=   4.3s\n",
            "[CV] END max_depth=10, max_features=sqrt, min_samples_leaf=1, min_samples_split=2, n_estimators=40; total time=   4.2s\n",
            "[CV] END max_depth=10, max_features=sqrt, min_samples_leaf=1, min_samples_split=2, n_estimators=40; total time=   5.6s\n",
            "[CV] END max_depth=10, max_features=sqrt, min_samples_leaf=1, min_samples_split=5, n_estimators=20; total time=   2.1s\n",
            "[CV] END max_depth=10, max_features=sqrt, min_samples_leaf=1, min_samples_split=5, n_estimators=20; total time=   2.2s\n",
            "[CV] END max_depth=10, max_features=sqrt, min_samples_leaf=1, min_samples_split=5, n_estimators=20; total time=   2.2s\n",
            "[CV] END max_depth=10, max_features=sqrt, min_samples_leaf=1, min_samples_split=5, n_estimators=30; total time=   3.3s\n",
            "[CV] END max_depth=10, max_features=sqrt, min_samples_leaf=1, min_samples_split=5, n_estimators=30; total time=   4.5s\n",
            "[CV] END max_depth=10, max_features=sqrt, min_samples_leaf=1, min_samples_split=5, n_estimators=30; total time=   3.2s\n",
            "[CV] END max_depth=10, max_features=sqrt, min_samples_leaf=1, min_samples_split=5, n_estimators=40; total time=   4.2s\n",
            "[CV] END max_depth=10, max_features=sqrt, min_samples_leaf=1, min_samples_split=5, n_estimators=40; total time=   5.4s\n",
            "[CV] END max_depth=10, max_features=sqrt, min_samples_leaf=1, min_samples_split=5, n_estimators=40; total time=   4.5s\n",
            "[CV] END max_depth=10, max_features=sqrt, min_samples_leaf=1, min_samples_split=10, n_estimators=20; total time=   2.1s\n",
            "[CV] END max_depth=10, max_features=sqrt, min_samples_leaf=1, min_samples_split=10, n_estimators=20; total time=   2.3s\n",
            "[CV] END max_depth=10, max_features=sqrt, min_samples_leaf=1, min_samples_split=10, n_estimators=20; total time=   2.2s\n",
            "[CV] END max_depth=10, max_features=sqrt, min_samples_leaf=1, min_samples_split=10, n_estimators=30; total time=   4.5s\n",
            "[CV] END max_depth=10, max_features=sqrt, min_samples_leaf=1, min_samples_split=10, n_estimators=30; total time=   3.3s\n",
            "[CV] END max_depth=10, max_features=sqrt, min_samples_leaf=1, min_samples_split=10, n_estimators=30; total time=   3.3s\n",
            "[CV] END max_depth=10, max_features=sqrt, min_samples_leaf=1, min_samples_split=10, n_estimators=40; total time=   4.9s\n",
            "[CV] END max_depth=10, max_features=sqrt, min_samples_leaf=1, min_samples_split=10, n_estimators=40; total time=   5.2s\n",
            "[CV] END max_depth=10, max_features=sqrt, min_samples_leaf=1, min_samples_split=10, n_estimators=40; total time=   4.3s\n",
            "[CV] END max_depth=10, max_features=sqrt, min_samples_leaf=2, min_samples_split=2, n_estimators=20; total time=   2.1s\n",
            "[CV] END max_depth=10, max_features=sqrt, min_samples_leaf=2, min_samples_split=2, n_estimators=20; total time=   2.8s\n",
            "[CV] END max_depth=10, max_features=sqrt, min_samples_leaf=2, min_samples_split=2, n_estimators=20; total time=   2.9s\n",
            "[CV] END max_depth=10, max_features=sqrt, min_samples_leaf=2, min_samples_split=2, n_estimators=30; total time=   3.2s\n",
            "[CV] END max_depth=10, max_features=sqrt, min_samples_leaf=2, min_samples_split=2, n_estimators=30; total time=   3.2s\n",
            "[CV] END max_depth=10, max_features=sqrt, min_samples_leaf=2, min_samples_split=2, n_estimators=30; total time=   3.2s\n",
            "[CV] END max_depth=10, max_features=sqrt, min_samples_leaf=2, min_samples_split=2, n_estimators=40; total time=   5.6s\n",
            "[CV] END max_depth=10, max_features=sqrt, min_samples_leaf=2, min_samples_split=2, n_estimators=40; total time=   4.3s\n",
            "[CV] END max_depth=10, max_features=sqrt, min_samples_leaf=2, min_samples_split=2, n_estimators=40; total time=   4.2s\n",
            "[CV] END max_depth=10, max_features=sqrt, min_samples_leaf=2, min_samples_split=5, n_estimators=20; total time=   2.9s\n",
            "[CV] END max_depth=10, max_features=sqrt, min_samples_leaf=2, min_samples_split=5, n_estimators=20; total time=   2.8s\n",
            "[CV] END max_depth=10, max_features=sqrt, min_samples_leaf=2, min_samples_split=5, n_estimators=20; total time=   2.1s\n",
            "[CV] END max_depth=10, max_features=sqrt, min_samples_leaf=2, min_samples_split=5, n_estimators=30; total time=   3.2s\n",
            "[CV] END max_depth=10, max_features=sqrt, min_samples_leaf=2, min_samples_split=5, n_estimators=30; total time=   3.3s\n",
            "[CV] END max_depth=10, max_features=sqrt, min_samples_leaf=2, min_samples_split=5, n_estimators=30; total time=   4.4s\n",
            "[CV] END max_depth=10, max_features=sqrt, min_samples_leaf=2, min_samples_split=5, n_estimators=40; total time=   4.4s\n",
            "[CV] END max_depth=10, max_features=sqrt, min_samples_leaf=2, min_samples_split=5, n_estimators=40; total time=   4.3s\n",
            "[CV] END max_depth=10, max_features=sqrt, min_samples_leaf=2, min_samples_split=5, n_estimators=40; total time=   5.4s\n",
            "[CV] END max_depth=10, max_features=sqrt, min_samples_leaf=2, min_samples_split=10, n_estimators=20; total time=   2.3s\n",
            "[CV] END max_depth=10, max_features=sqrt, min_samples_leaf=2, min_samples_split=10, n_estimators=20; total time=   2.2s\n",
            "[CV] END max_depth=10, max_features=sqrt, min_samples_leaf=2, min_samples_split=10, n_estimators=20; total time=   2.2s\n",
            "[CV] END max_depth=10, max_features=sqrt, min_samples_leaf=2, min_samples_split=10, n_estimators=30; total time=   3.2s\n",
            "[CV] END max_depth=10, max_features=sqrt, min_samples_leaf=2, min_samples_split=10, n_estimators=30; total time=   4.4s\n",
            "[CV] END max_depth=10, max_features=sqrt, min_samples_leaf=2, min_samples_split=10, n_estimators=30; total time=   3.5s\n",
            "[CV] END max_depth=10, max_features=sqrt, min_samples_leaf=2, min_samples_split=10, n_estimators=40; total time=   4.2s\n",
            "[CV] END max_depth=10, max_features=sqrt, min_samples_leaf=2, min_samples_split=10, n_estimators=40; total time=   4.8s\n",
            "[CV] END max_depth=10, max_features=sqrt, min_samples_leaf=2, min_samples_split=10, n_estimators=40; total time=   5.1s\n",
            "[CV] END max_depth=10, max_features=sqrt, min_samples_leaf=4, min_samples_split=2, n_estimators=20; total time=   2.1s\n",
            "[CV] END max_depth=10, max_features=sqrt, min_samples_leaf=4, min_samples_split=2, n_estimators=20; total time=   2.1s\n",
            "[CV] END max_depth=10, max_features=sqrt, min_samples_leaf=4, min_samples_split=2, n_estimators=20; total time=   2.1s\n",
            "[CV] END max_depth=10, max_features=sqrt, min_samples_leaf=4, min_samples_split=2, n_estimators=30; total time=   4.0s\n",
            "[CV] END max_depth=10, max_features=sqrt, min_samples_leaf=4, min_samples_split=2, n_estimators=30; total time=   3.6s\n",
            "[CV] END max_depth=10, max_features=sqrt, min_samples_leaf=4, min_samples_split=2, n_estimators=30; total time=   3.2s\n",
            "[CV] END max_depth=10, max_features=sqrt, min_samples_leaf=4, min_samples_split=2, n_estimators=40; total time=   4.3s\n",
            "[CV] END max_depth=10, max_features=sqrt, min_samples_leaf=4, min_samples_split=2, n_estimators=40; total time=   5.7s\n",
            "[CV] END max_depth=10, max_features=sqrt, min_samples_leaf=4, min_samples_split=2, n_estimators=40; total time=   4.3s\n",
            "[CV] END max_depth=10, max_features=sqrt, min_samples_leaf=4, min_samples_split=5, n_estimators=20; total time=   2.1s\n",
            "[CV] END max_depth=10, max_features=sqrt, min_samples_leaf=4, min_samples_split=5, n_estimators=20; total time=   2.2s\n",
            "[CV] END max_depth=10, max_features=sqrt, min_samples_leaf=4, min_samples_split=5, n_estimators=20; total time=   2.9s\n",
            "[CV] END max_depth=10, max_features=sqrt, min_samples_leaf=4, min_samples_split=5, n_estimators=30; total time=   3.8s\n",
            "[CV] END max_depth=10, max_features=sqrt, min_samples_leaf=4, min_samples_split=5, n_estimators=30; total time=   3.2s\n",
            "[CV] END max_depth=10, max_features=sqrt, min_samples_leaf=4, min_samples_split=5, n_estimators=30; total time=   3.2s\n",
            "[CV] END max_depth=10, max_features=sqrt, min_samples_leaf=4, min_samples_split=5, n_estimators=40; total time=   5.4s\n",
            "[CV] END max_depth=10, max_features=sqrt, min_samples_leaf=4, min_samples_split=5, n_estimators=40; total time=   4.5s\n",
            "[CV] END max_depth=10, max_features=sqrt, min_samples_leaf=4, min_samples_split=5, n_estimators=40; total time=   4.3s\n",
            "[CV] END max_depth=10, max_features=sqrt, min_samples_leaf=4, min_samples_split=10, n_estimators=20; total time=   2.2s\n",
            "[CV] END max_depth=10, max_features=sqrt, min_samples_leaf=4, min_samples_split=10, n_estimators=20; total time=   3.0s\n",
            "[CV] END max_depth=10, max_features=sqrt, min_samples_leaf=4, min_samples_split=10, n_estimators=20; total time=   2.5s\n",
            "[CV] END max_depth=10, max_features=sqrt, min_samples_leaf=4, min_samples_split=10, n_estimators=30; total time=   3.2s\n",
            "[CV] END max_depth=10, max_features=sqrt, min_samples_leaf=4, min_samples_split=10, n_estimators=30; total time=   3.1s\n",
            "[CV] END max_depth=10, max_features=sqrt, min_samples_leaf=4, min_samples_split=10, n_estimators=30; total time=   3.5s\n",
            "[CV] END max_depth=10, max_features=sqrt, min_samples_leaf=4, min_samples_split=10, n_estimators=40; total time=   5.2s\n",
            "[CV] END max_depth=10, max_features=sqrt, min_samples_leaf=4, min_samples_split=10, n_estimators=40; total time=   4.2s\n",
            "[CV] END max_depth=10, max_features=sqrt, min_samples_leaf=4, min_samples_split=10, n_estimators=40; total time=   4.3s\n",
            "[CV] END max_depth=10, max_features=log2, min_samples_leaf=1, min_samples_split=2, n_estimators=20; total time=   3.1s\n",
            "[CV] END max_depth=10, max_features=log2, min_samples_leaf=1, min_samples_split=2, n_estimators=20; total time=   3.2s\n",
            "[CV] END max_depth=10, max_features=log2, min_samples_leaf=1, min_samples_split=2, n_estimators=20; total time=   3.1s\n",
            "[CV] END max_depth=10, max_features=log2, min_samples_leaf=1, min_samples_split=2, n_estimators=30; total time=   3.5s\n",
            "[CV] END max_depth=10, max_features=log2, min_samples_leaf=1, min_samples_split=2, n_estimators=30; total time=   3.7s\n",
            "[CV] END max_depth=10, max_features=log2, min_samples_leaf=1, min_samples_split=2, n_estimators=30; total time=   4.0s\n",
            "[CV] END max_depth=10, max_features=log2, min_samples_leaf=1, min_samples_split=2, n_estimators=40; total time=   4.3s\n",
            "[CV] END max_depth=10, max_features=log2, min_samples_leaf=1, min_samples_split=2, n_estimators=40; total time=   4.2s\n",
            "[CV] END max_depth=10, max_features=log2, min_samples_leaf=1, min_samples_split=2, n_estimators=40; total time=   5.6s\n",
            "[CV] END max_depth=10, max_features=log2, min_samples_leaf=1, min_samples_split=5, n_estimators=20; total time=   2.1s\n",
            "[CV] END max_depth=10, max_features=log2, min_samples_leaf=1, min_samples_split=5, n_estimators=20; total time=   2.2s\n",
            "[CV] END max_depth=10, max_features=log2, min_samples_leaf=1, min_samples_split=5, n_estimators=20; total time=   2.1s\n",
            "[CV] END max_depth=10, max_features=log2, min_samples_leaf=1, min_samples_split=5, n_estimators=30; total time=   3.3s\n",
            "[CV] END max_depth=10, max_features=log2, min_samples_leaf=1, min_samples_split=5, n_estimators=30; total time=   4.3s\n",
            "[CV] END max_depth=10, max_features=log2, min_samples_leaf=1, min_samples_split=5, n_estimators=30; total time=   3.2s\n",
            "[CV] END max_depth=10, max_features=log2, min_samples_leaf=1, min_samples_split=5, n_estimators=40; total time=   4.1s\n",
            "[CV] END max_depth=10, max_features=log2, min_samples_leaf=1, min_samples_split=5, n_estimators=40; total time=   5.3s\n",
            "[CV] END max_depth=10, max_features=log2, min_samples_leaf=1, min_samples_split=5, n_estimators=40; total time=   4.6s\n",
            "[CV] END max_depth=10, max_features=log2, min_samples_leaf=1, min_samples_split=10, n_estimators=20; total time=   2.1s\n",
            "[CV] END max_depth=10, max_features=log2, min_samples_leaf=1, min_samples_split=10, n_estimators=20; total time=   2.2s\n",
            "[CV] END max_depth=10, max_features=log2, min_samples_leaf=1, min_samples_split=10, n_estimators=20; total time=   2.2s\n",
            "[CV] END max_depth=10, max_features=log2, min_samples_leaf=1, min_samples_split=10, n_estimators=30; total time=   4.5s\n",
            "[CV] END max_depth=10, max_features=log2, min_samples_leaf=1, min_samples_split=10, n_estimators=30; total time=   3.3s\n",
            "[CV] END max_depth=10, max_features=log2, min_samples_leaf=1, min_samples_split=10, n_estimators=30; total time=   3.2s\n",
            "[CV] END max_depth=10, max_features=log2, min_samples_leaf=1, min_samples_split=10, n_estimators=40; total time=   4.8s\n",
            "[CV] END max_depth=10, max_features=log2, min_samples_leaf=1, min_samples_split=10, n_estimators=40; total time=   5.3s\n",
            "[CV] END max_depth=10, max_features=log2, min_samples_leaf=1, min_samples_split=10, n_estimators=40; total time=   4.3s\n",
            "[CV] END max_depth=10, max_features=log2, min_samples_leaf=2, min_samples_split=2, n_estimators=20; total time=   2.2s\n",
            "[CV] END max_depth=10, max_features=log2, min_samples_leaf=2, min_samples_split=2, n_estimators=20; total time=   2.6s\n",
            "[CV] END max_depth=10, max_features=log2, min_samples_leaf=2, min_samples_split=2, n_estimators=20; total time=   3.1s\n",
            "[CV] END max_depth=10, max_features=log2, min_samples_leaf=2, min_samples_split=2, n_estimators=30; total time=   3.2s\n",
            "[CV] END max_depth=10, max_features=log2, min_samples_leaf=2, min_samples_split=2, n_estimators=30; total time=   3.2s\n",
            "[CV] END max_depth=10, max_features=log2, min_samples_leaf=2, min_samples_split=2, n_estimators=30; total time=   3.2s\n",
            "[CV] END max_depth=10, max_features=log2, min_samples_leaf=2, min_samples_split=2, n_estimators=40; total time=   5.6s\n",
            "[CV] END max_depth=10, max_features=log2, min_samples_leaf=2, min_samples_split=2, n_estimators=40; total time=   4.2s\n",
            "[CV] END max_depth=10, max_features=log2, min_samples_leaf=2, min_samples_split=2, n_estimators=40; total time=   4.2s\n",
            "[CV] END max_depth=10, max_features=log2, min_samples_leaf=2, min_samples_split=5, n_estimators=20; total time=   2.7s\n",
            "[CV] END max_depth=10, max_features=log2, min_samples_leaf=2, min_samples_split=5, n_estimators=20; total time=   2.9s\n",
            "[CV] END max_depth=10, max_features=log2, min_samples_leaf=2, min_samples_split=5, n_estimators=20; total time=   2.1s\n",
            "[CV] END max_depth=10, max_features=log2, min_samples_leaf=2, min_samples_split=5, n_estimators=30; total time=   3.1s\n",
            "[CV] END max_depth=10, max_features=log2, min_samples_leaf=2, min_samples_split=5, n_estimators=30; total time=   3.2s\n",
            "[CV] END max_depth=10, max_features=log2, min_samples_leaf=2, min_samples_split=5, n_estimators=30; total time=   4.1s\n",
            "[CV] END max_depth=10, max_features=log2, min_samples_leaf=2, min_samples_split=5, n_estimators=40; total time=   4.6s\n",
            "[CV] END max_depth=10, max_features=log2, min_samples_leaf=2, min_samples_split=5, n_estimators=40; total time=   4.3s\n",
            "[CV] END max_depth=10, max_features=log2, min_samples_leaf=2, min_samples_split=5, n_estimators=40; total time=   5.1s\n",
            "[CV] END max_depth=10, max_features=log2, min_samples_leaf=2, min_samples_split=10, n_estimators=20; total time=   2.5s\n",
            "[CV] END max_depth=10, max_features=log2, min_samples_leaf=2, min_samples_split=10, n_estimators=20; total time=   2.2s\n",
            "[CV] END max_depth=10, max_features=log2, min_samples_leaf=2, min_samples_split=10, n_estimators=20; total time=   2.2s\n",
            "[CV] END max_depth=10, max_features=log2, min_samples_leaf=2, min_samples_split=10, n_estimators=30; total time=   3.2s\n",
            "[CV] END max_depth=10, max_features=log2, min_samples_leaf=2, min_samples_split=10, n_estimators=30; total time=   4.1s\n",
            "[CV] END max_depth=10, max_features=log2, min_samples_leaf=2, min_samples_split=10, n_estimators=30; total time=   3.8s\n",
            "[CV] END max_depth=10, max_features=log2, min_samples_leaf=2, min_samples_split=10, n_estimators=40; total time=   4.3s\n",
            "[CV] END max_depth=10, max_features=log2, min_samples_leaf=2, min_samples_split=10, n_estimators=40; total time=   4.5s\n",
            "[CV] END max_depth=10, max_features=log2, min_samples_leaf=2, min_samples_split=10, n_estimators=40; total time=   5.4s\n",
            "[CV] END max_depth=10, max_features=log2, min_samples_leaf=4, min_samples_split=2, n_estimators=20; total time=   2.1s\n",
            "[CV] END max_depth=10, max_features=log2, min_samples_leaf=4, min_samples_split=2, n_estimators=20; total time=   2.1s\n",
            "[CV] END max_depth=10, max_features=log2, min_samples_leaf=4, min_samples_split=2, n_estimators=20; total time=   2.1s\n",
            "[CV] END max_depth=10, max_features=log2, min_samples_leaf=4, min_samples_split=2, n_estimators=30; total time=   3.8s\n",
            "[CV] END max_depth=10, max_features=log2, min_samples_leaf=4, min_samples_split=2, n_estimators=30; total time=   3.9s\n",
            "[CV] END max_depth=10, max_features=log2, min_samples_leaf=4, min_samples_split=2, n_estimators=30; total time=   3.3s\n",
            "[CV] END max_depth=10, max_features=log2, min_samples_leaf=4, min_samples_split=2, n_estimators=40; total time=   4.3s\n",
            "[CV] END max_depth=10, max_features=log2, min_samples_leaf=4, min_samples_split=2, n_estimators=40; total time=   5.6s\n",
            "[CV] END max_depth=10, max_features=log2, min_samples_leaf=4, min_samples_split=2, n_estimators=40; total time=   4.3s\n",
            "[CV] END max_depth=10, max_features=log2, min_samples_leaf=4, min_samples_split=5, n_estimators=20; total time=   2.1s\n",
            "[CV] END max_depth=10, max_features=log2, min_samples_leaf=4, min_samples_split=5, n_estimators=20; total time=   2.2s\n",
            "[CV] END max_depth=10, max_features=log2, min_samples_leaf=4, min_samples_split=5, n_estimators=20; total time=   2.7s\n",
            "[CV] END max_depth=10, max_features=log2, min_samples_leaf=4, min_samples_split=5, n_estimators=30; total time=   4.0s\n",
            "[CV] END max_depth=10, max_features=log2, min_samples_leaf=4, min_samples_split=5, n_estimators=30; total time=   3.2s\n",
            "[CV] END max_depth=10, max_features=log2, min_samples_leaf=4, min_samples_split=5, n_estimators=30; total time=   3.3s\n",
            "[CV] END max_depth=10, max_features=log2, min_samples_leaf=4, min_samples_split=5, n_estimators=40; total time=   5.2s\n",
            "[CV] END max_depth=10, max_features=log2, min_samples_leaf=4, min_samples_split=5, n_estimators=40; total time=   4.7s\n",
            "[CV] END max_depth=10, max_features=log2, min_samples_leaf=4, min_samples_split=5, n_estimators=40; total time=   4.3s\n",
            "[CV] END max_depth=10, max_features=log2, min_samples_leaf=4, min_samples_split=10, n_estimators=20; total time=   2.1s\n",
            "[CV] END max_depth=10, max_features=log2, min_samples_leaf=4, min_samples_split=10, n_estimators=20; total time=   3.0s\n",
            "[CV] END max_depth=10, max_features=log2, min_samples_leaf=4, min_samples_split=10, n_estimators=20; total time=   2.6s\n",
            "[CV] END max_depth=10, max_features=log2, min_samples_leaf=4, min_samples_split=10, n_estimators=30; total time=   3.2s\n",
            "[CV] END max_depth=10, max_features=log2, min_samples_leaf=4, min_samples_split=10, n_estimators=30; total time=   3.2s\n",
            "[CV] END max_depth=10, max_features=log2, min_samples_leaf=4, min_samples_split=10, n_estimators=30; total time=   3.5s\n",
            "[CV] END max_depth=10, max_features=log2, min_samples_leaf=4, min_samples_split=10, n_estimators=40; total time=   5.4s\n",
            "[CV] END max_depth=10, max_features=log2, min_samples_leaf=4, min_samples_split=10, n_estimators=40; total time=   4.3s\n",
            "[CV] END max_depth=10, max_features=log2, min_samples_leaf=4, min_samples_split=10, n_estimators=40; total time=   4.5s\n"
          ]
        },
        {
          "output_type": "stream",
          "name": "stderr",
          "text": [
            "/usr/local/lib/python3.10/dist-packages/sklearn/ensemble/_forest.py:424: FutureWarning: `max_features='auto'` has been deprecated in 1.1 and will be removed in 1.3. To keep the past behaviour, explicitly set `max_features='sqrt'` or remove this parameter as it is also the default value for RandomForestClassifiers and ExtraTreesClassifiers.\n",
            "  warn(\n"
          ]
        },
        {
          "output_type": "stream",
          "name": "stdout",
          "text": [
            "[CV] END max_depth=20, max_features=auto, min_samples_leaf=1, min_samples_split=2, n_estimators=20; total time=   4.4s\n"
          ]
        },
        {
          "output_type": "stream",
          "name": "stderr",
          "text": [
            "/usr/local/lib/python3.10/dist-packages/sklearn/ensemble/_forest.py:424: FutureWarning: `max_features='auto'` has been deprecated in 1.1 and will be removed in 1.3. To keep the past behaviour, explicitly set `max_features='sqrt'` or remove this parameter as it is also the default value for RandomForestClassifiers and ExtraTreesClassifiers.\n",
            "  warn(\n"
          ]
        },
        {
          "output_type": "stream",
          "name": "stdout",
          "text": [
            "[CV] END max_depth=20, max_features=auto, min_samples_leaf=1, min_samples_split=2, n_estimators=20; total time=   3.2s\n"
          ]
        },
        {
          "output_type": "stream",
          "name": "stderr",
          "text": [
            "/usr/local/lib/python3.10/dist-packages/sklearn/ensemble/_forest.py:424: FutureWarning: `max_features='auto'` has been deprecated in 1.1 and will be removed in 1.3. To keep the past behaviour, explicitly set `max_features='sqrt'` or remove this parameter as it is also the default value for RandomForestClassifiers and ExtraTreesClassifiers.\n",
            "  warn(\n"
          ]
        },
        {
          "output_type": "stream",
          "name": "stdout",
          "text": [
            "[CV] END max_depth=20, max_features=auto, min_samples_leaf=1, min_samples_split=2, n_estimators=20; total time=   3.2s\n"
          ]
        },
        {
          "output_type": "stream",
          "name": "stderr",
          "text": [
            "/usr/local/lib/python3.10/dist-packages/sklearn/ensemble/_forest.py:424: FutureWarning: `max_features='auto'` has been deprecated in 1.1 and will be removed in 1.3. To keep the past behaviour, explicitly set `max_features='sqrt'` or remove this parameter as it is also the default value for RandomForestClassifiers and ExtraTreesClassifiers.\n",
            "  warn(\n"
          ]
        },
        {
          "output_type": "stream",
          "name": "stdout",
          "text": [
            "[CV] END max_depth=20, max_features=auto, min_samples_leaf=1, min_samples_split=2, n_estimators=30; total time=   5.9s\n"
          ]
        },
        {
          "output_type": "stream",
          "name": "stderr",
          "text": [
            "/usr/local/lib/python3.10/dist-packages/sklearn/ensemble/_forest.py:424: FutureWarning: `max_features='auto'` has been deprecated in 1.1 and will be removed in 1.3. To keep the past behaviour, explicitly set `max_features='sqrt'` or remove this parameter as it is also the default value for RandomForestClassifiers and ExtraTreesClassifiers.\n",
            "  warn(\n"
          ]
        },
        {
          "output_type": "stream",
          "name": "stdout",
          "text": [
            "[CV] END max_depth=20, max_features=auto, min_samples_leaf=1, min_samples_split=2, n_estimators=30; total time=   5.3s\n"
          ]
        },
        {
          "output_type": "stream",
          "name": "stderr",
          "text": [
            "/usr/local/lib/python3.10/dist-packages/sklearn/ensemble/_forest.py:424: FutureWarning: `max_features='auto'` has been deprecated in 1.1 and will be removed in 1.3. To keep the past behaviour, explicitly set `max_features='sqrt'` or remove this parameter as it is also the default value for RandomForestClassifiers and ExtraTreesClassifiers.\n",
            "  warn(\n"
          ]
        },
        {
          "output_type": "stream",
          "name": "stdout",
          "text": [
            "[CV] END max_depth=20, max_features=auto, min_samples_leaf=1, min_samples_split=2, n_estimators=30; total time=   4.8s\n"
          ]
        },
        {
          "output_type": "stream",
          "name": "stderr",
          "text": [
            "/usr/local/lib/python3.10/dist-packages/sklearn/ensemble/_forest.py:424: FutureWarning: `max_features='auto'` has been deprecated in 1.1 and will be removed in 1.3. To keep the past behaviour, explicitly set `max_features='sqrt'` or remove this parameter as it is also the default value for RandomForestClassifiers and ExtraTreesClassifiers.\n",
            "  warn(\n"
          ]
        },
        {
          "output_type": "stream",
          "name": "stdout",
          "text": [
            "[CV] END max_depth=20, max_features=auto, min_samples_leaf=1, min_samples_split=2, n_estimators=40; total time=   7.9s\n"
          ]
        },
        {
          "output_type": "stream",
          "name": "stderr",
          "text": [
            "/usr/local/lib/python3.10/dist-packages/sklearn/ensemble/_forest.py:424: FutureWarning: `max_features='auto'` has been deprecated in 1.1 and will be removed in 1.3. To keep the past behaviour, explicitly set `max_features='sqrt'` or remove this parameter as it is also the default value for RandomForestClassifiers and ExtraTreesClassifiers.\n",
            "  warn(\n"
          ]
        },
        {
          "output_type": "stream",
          "name": "stdout",
          "text": [
            "[CV] END max_depth=20, max_features=auto, min_samples_leaf=1, min_samples_split=2, n_estimators=40; total time=   6.5s\n"
          ]
        },
        {
          "output_type": "stream",
          "name": "stderr",
          "text": [
            "/usr/local/lib/python3.10/dist-packages/sklearn/ensemble/_forest.py:424: FutureWarning: `max_features='auto'` has been deprecated in 1.1 and will be removed in 1.3. To keep the past behaviour, explicitly set `max_features='sqrt'` or remove this parameter as it is also the default value for RandomForestClassifiers and ExtraTreesClassifiers.\n",
            "  warn(\n"
          ]
        },
        {
          "output_type": "stream",
          "name": "stdout",
          "text": [
            "[CV] END max_depth=20, max_features=auto, min_samples_leaf=1, min_samples_split=2, n_estimators=40; total time=   7.8s\n"
          ]
        },
        {
          "output_type": "stream",
          "name": "stderr",
          "text": [
            "/usr/local/lib/python3.10/dist-packages/sklearn/ensemble/_forest.py:424: FutureWarning: `max_features='auto'` has been deprecated in 1.1 and will be removed in 1.3. To keep the past behaviour, explicitly set `max_features='sqrt'` or remove this parameter as it is also the default value for RandomForestClassifiers and ExtraTreesClassifiers.\n",
            "  warn(\n"
          ]
        },
        {
          "output_type": "stream",
          "name": "stdout",
          "text": [
            "[CV] END max_depth=20, max_features=auto, min_samples_leaf=1, min_samples_split=5, n_estimators=20; total time=   3.2s\n"
          ]
        },
        {
          "output_type": "stream",
          "name": "stderr",
          "text": [
            "/usr/local/lib/python3.10/dist-packages/sklearn/ensemble/_forest.py:424: FutureWarning: `max_features='auto'` has been deprecated in 1.1 and will be removed in 1.3. To keep the past behaviour, explicitly set `max_features='sqrt'` or remove this parameter as it is also the default value for RandomForestClassifiers and ExtraTreesClassifiers.\n",
            "  warn(\n"
          ]
        },
        {
          "output_type": "stream",
          "name": "stdout",
          "text": [
            "[CV] END max_depth=20, max_features=auto, min_samples_leaf=1, min_samples_split=5, n_estimators=20; total time=   3.2s\n"
          ]
        },
        {
          "output_type": "stream",
          "name": "stderr",
          "text": [
            "/usr/local/lib/python3.10/dist-packages/sklearn/ensemble/_forest.py:424: FutureWarning: `max_features='auto'` has been deprecated in 1.1 and will be removed in 1.3. To keep the past behaviour, explicitly set `max_features='sqrt'` or remove this parameter as it is also the default value for RandomForestClassifiers and ExtraTreesClassifiers.\n",
            "  warn(\n"
          ]
        },
        {
          "output_type": "stream",
          "name": "stdout",
          "text": [
            "[CV] END max_depth=20, max_features=auto, min_samples_leaf=1, min_samples_split=5, n_estimators=20; total time=   4.1s\n"
          ]
        },
        {
          "output_type": "stream",
          "name": "stderr",
          "text": [
            "/usr/local/lib/python3.10/dist-packages/sklearn/ensemble/_forest.py:424: FutureWarning: `max_features='auto'` has been deprecated in 1.1 and will be removed in 1.3. To keep the past behaviour, explicitly set `max_features='sqrt'` or remove this parameter as it is also the default value for RandomForestClassifiers and ExtraTreesClassifiers.\n",
            "  warn(\n"
          ]
        },
        {
          "output_type": "stream",
          "name": "stdout",
          "text": [
            "[CV] END max_depth=20, max_features=auto, min_samples_leaf=1, min_samples_split=5, n_estimators=30; total time=   5.4s\n"
          ]
        },
        {
          "output_type": "stream",
          "name": "stderr",
          "text": [
            "/usr/local/lib/python3.10/dist-packages/sklearn/ensemble/_forest.py:424: FutureWarning: `max_features='auto'` has been deprecated in 1.1 and will be removed in 1.3. To keep the past behaviour, explicitly set `max_features='sqrt'` or remove this parameter as it is also the default value for RandomForestClassifiers and ExtraTreesClassifiers.\n",
            "  warn(\n"
          ]
        },
        {
          "output_type": "stream",
          "name": "stdout",
          "text": [
            "[CV] END max_depth=20, max_features=auto, min_samples_leaf=1, min_samples_split=5, n_estimators=30; total time=   4.8s\n"
          ]
        },
        {
          "output_type": "stream",
          "name": "stderr",
          "text": [
            "/usr/local/lib/python3.10/dist-packages/sklearn/ensemble/_forest.py:424: FutureWarning: `max_features='auto'` has been deprecated in 1.1 and will be removed in 1.3. To keep the past behaviour, explicitly set `max_features='sqrt'` or remove this parameter as it is also the default value for RandomForestClassifiers and ExtraTreesClassifiers.\n",
            "  warn(\n"
          ]
        },
        {
          "output_type": "stream",
          "name": "stdout",
          "text": [
            "[CV] END max_depth=20, max_features=auto, min_samples_leaf=1, min_samples_split=5, n_estimators=30; total time=   6.2s\n"
          ]
        },
        {
          "output_type": "stream",
          "name": "stderr",
          "text": [
            "/usr/local/lib/python3.10/dist-packages/sklearn/ensemble/_forest.py:424: FutureWarning: `max_features='auto'` has been deprecated in 1.1 and will be removed in 1.3. To keep the past behaviour, explicitly set `max_features='sqrt'` or remove this parameter as it is also the default value for RandomForestClassifiers and ExtraTreesClassifiers.\n",
            "  warn(\n"
          ]
        },
        {
          "output_type": "stream",
          "name": "stdout",
          "text": [
            "[CV] END max_depth=20, max_features=auto, min_samples_leaf=1, min_samples_split=5, n_estimators=40; total time=   6.4s\n"
          ]
        },
        {
          "output_type": "stream",
          "name": "stderr",
          "text": [
            "/usr/local/lib/python3.10/dist-packages/sklearn/ensemble/_forest.py:424: FutureWarning: `max_features='auto'` has been deprecated in 1.1 and will be removed in 1.3. To keep the past behaviour, explicitly set `max_features='sqrt'` or remove this parameter as it is also the default value for RandomForestClassifiers and ExtraTreesClassifiers.\n",
            "  warn(\n"
          ]
        },
        {
          "output_type": "stream",
          "name": "stdout",
          "text": [
            "[CV] END max_depth=20, max_features=auto, min_samples_leaf=1, min_samples_split=5, n_estimators=40; total time=   7.6s\n"
          ]
        },
        {
          "output_type": "stream",
          "name": "stderr",
          "text": [
            "/usr/local/lib/python3.10/dist-packages/sklearn/ensemble/_forest.py:424: FutureWarning: `max_features='auto'` has been deprecated in 1.1 and will be removed in 1.3. To keep the past behaviour, explicitly set `max_features='sqrt'` or remove this parameter as it is also the default value for RandomForestClassifiers and ExtraTreesClassifiers.\n",
            "  warn(\n"
          ]
        },
        {
          "output_type": "stream",
          "name": "stdout",
          "text": [
            "[CV] END max_depth=20, max_features=auto, min_samples_leaf=1, min_samples_split=5, n_estimators=40; total time=   6.5s\n"
          ]
        },
        {
          "output_type": "stream",
          "name": "stderr",
          "text": [
            "/usr/local/lib/python3.10/dist-packages/sklearn/ensemble/_forest.py:424: FutureWarning: `max_features='auto'` has been deprecated in 1.1 and will be removed in 1.3. To keep the past behaviour, explicitly set `max_features='sqrt'` or remove this parameter as it is also the default value for RandomForestClassifiers and ExtraTreesClassifiers.\n",
            "  warn(\n"
          ]
        },
        {
          "output_type": "stream",
          "name": "stdout",
          "text": [
            "[CV] END max_depth=20, max_features=auto, min_samples_leaf=1, min_samples_split=10, n_estimators=20; total time=   3.2s\n"
          ]
        },
        {
          "output_type": "stream",
          "name": "stderr",
          "text": [
            "/usr/local/lib/python3.10/dist-packages/sklearn/ensemble/_forest.py:424: FutureWarning: `max_features='auto'` has been deprecated in 1.1 and will be removed in 1.3. To keep the past behaviour, explicitly set `max_features='sqrt'` or remove this parameter as it is also the default value for RandomForestClassifiers and ExtraTreesClassifiers.\n",
            "  warn(\n"
          ]
        },
        {
          "output_type": "stream",
          "name": "stdout",
          "text": [
            "[CV] END max_depth=20, max_features=auto, min_samples_leaf=1, min_samples_split=10, n_estimators=20; total time=   4.3s\n"
          ]
        },
        {
          "output_type": "stream",
          "name": "stderr",
          "text": [
            "/usr/local/lib/python3.10/dist-packages/sklearn/ensemble/_forest.py:424: FutureWarning: `max_features='auto'` has been deprecated in 1.1 and will be removed in 1.3. To keep the past behaviour, explicitly set `max_features='sqrt'` or remove this parameter as it is also the default value for RandomForestClassifiers and ExtraTreesClassifiers.\n",
            "  warn(\n"
          ]
        },
        {
          "output_type": "stream",
          "name": "stdout",
          "text": [
            "[CV] END max_depth=20, max_features=auto, min_samples_leaf=1, min_samples_split=10, n_estimators=20; total time=   3.4s\n"
          ]
        },
        {
          "output_type": "stream",
          "name": "stderr",
          "text": [
            "/usr/local/lib/python3.10/dist-packages/sklearn/ensemble/_forest.py:424: FutureWarning: `max_features='auto'` has been deprecated in 1.1 and will be removed in 1.3. To keep the past behaviour, explicitly set `max_features='sqrt'` or remove this parameter as it is also the default value for RandomForestClassifiers and ExtraTreesClassifiers.\n",
            "  warn(\n"
          ]
        },
        {
          "output_type": "stream",
          "name": "stdout",
          "text": [
            "[CV] END max_depth=20, max_features=auto, min_samples_leaf=1, min_samples_split=10, n_estimators=30; total time=   4.8s\n"
          ]
        },
        {
          "output_type": "stream",
          "name": "stderr",
          "text": [
            "/usr/local/lib/python3.10/dist-packages/sklearn/ensemble/_forest.py:424: FutureWarning: `max_features='auto'` has been deprecated in 1.1 and will be removed in 1.3. To keep the past behaviour, explicitly set `max_features='sqrt'` or remove this parameter as it is also the default value for RandomForestClassifiers and ExtraTreesClassifiers.\n",
            "  warn(\n"
          ]
        },
        {
          "output_type": "stream",
          "name": "stdout",
          "text": [
            "[CV] END max_depth=20, max_features=auto, min_samples_leaf=1, min_samples_split=10, n_estimators=30; total time=   5.9s\n"
          ]
        },
        {
          "output_type": "stream",
          "name": "stderr",
          "text": [
            "/usr/local/lib/python3.10/dist-packages/sklearn/ensemble/_forest.py:424: FutureWarning: `max_features='auto'` has been deprecated in 1.1 and will be removed in 1.3. To keep the past behaviour, explicitly set `max_features='sqrt'` or remove this parameter as it is also the default value for RandomForestClassifiers and ExtraTreesClassifiers.\n",
            "  warn(\n"
          ]
        },
        {
          "output_type": "stream",
          "name": "stdout",
          "text": [
            "[CV] END max_depth=20, max_features=auto, min_samples_leaf=1, min_samples_split=10, n_estimators=30; total time=   7.0s\n"
          ]
        },
        {
          "output_type": "stream",
          "name": "stderr",
          "text": [
            "/usr/local/lib/python3.10/dist-packages/sklearn/ensemble/_forest.py:424: FutureWarning: `max_features='auto'` has been deprecated in 1.1 and will be removed in 1.3. To keep the past behaviour, explicitly set `max_features='sqrt'` or remove this parameter as it is also the default value for RandomForestClassifiers and ExtraTreesClassifiers.\n",
            "  warn(\n"
          ]
        },
        {
          "output_type": "stream",
          "name": "stdout",
          "text": [
            "[CV] END max_depth=20, max_features=auto, min_samples_leaf=1, min_samples_split=10, n_estimators=40; total time=   7.1s\n"
          ]
        },
        {
          "output_type": "stream",
          "name": "stderr",
          "text": [
            "/usr/local/lib/python3.10/dist-packages/sklearn/ensemble/_forest.py:424: FutureWarning: `max_features='auto'` has been deprecated in 1.1 and will be removed in 1.3. To keep the past behaviour, explicitly set `max_features='sqrt'` or remove this parameter as it is also the default value for RandomForestClassifiers and ExtraTreesClassifiers.\n",
            "  warn(\n"
          ]
        },
        {
          "output_type": "stream",
          "name": "stdout",
          "text": [
            "[CV] END max_depth=20, max_features=auto, min_samples_leaf=1, min_samples_split=10, n_estimators=40; total time=   7.3s\n"
          ]
        },
        {
          "output_type": "stream",
          "name": "stderr",
          "text": [
            "/usr/local/lib/python3.10/dist-packages/sklearn/ensemble/_forest.py:424: FutureWarning: `max_features='auto'` has been deprecated in 1.1 and will be removed in 1.3. To keep the past behaviour, explicitly set `max_features='sqrt'` or remove this parameter as it is also the default value for RandomForestClassifiers and ExtraTreesClassifiers.\n",
            "  warn(\n"
          ]
        },
        {
          "output_type": "stream",
          "name": "stdout",
          "text": [
            "[CV] END max_depth=20, max_features=auto, min_samples_leaf=1, min_samples_split=10, n_estimators=40; total time=   6.8s\n"
          ]
        },
        {
          "output_type": "stream",
          "name": "stderr",
          "text": [
            "/usr/local/lib/python3.10/dist-packages/sklearn/ensemble/_forest.py:424: FutureWarning: `max_features='auto'` has been deprecated in 1.1 and will be removed in 1.3. To keep the past behaviour, explicitly set `max_features='sqrt'` or remove this parameter as it is also the default value for RandomForestClassifiers and ExtraTreesClassifiers.\n",
            "  warn(\n"
          ]
        },
        {
          "output_type": "stream",
          "name": "stdout",
          "text": [
            "[CV] END max_depth=20, max_features=auto, min_samples_leaf=2, min_samples_split=2, n_estimators=20; total time=   3.2s\n"
          ]
        },
        {
          "output_type": "stream",
          "name": "stderr",
          "text": [
            "/usr/local/lib/python3.10/dist-packages/sklearn/ensemble/_forest.py:424: FutureWarning: `max_features='auto'` has been deprecated in 1.1 and will be removed in 1.3. To keep the past behaviour, explicitly set `max_features='sqrt'` or remove this parameter as it is also the default value for RandomForestClassifiers and ExtraTreesClassifiers.\n",
            "  warn(\n"
          ]
        },
        {
          "output_type": "stream",
          "name": "stdout",
          "text": [
            "[CV] END max_depth=20, max_features=auto, min_samples_leaf=2, min_samples_split=2, n_estimators=20; total time=   4.0s\n"
          ]
        },
        {
          "output_type": "stream",
          "name": "stderr",
          "text": [
            "/usr/local/lib/python3.10/dist-packages/sklearn/ensemble/_forest.py:424: FutureWarning: `max_features='auto'` has been deprecated in 1.1 and will be removed in 1.3. To keep the past behaviour, explicitly set `max_features='sqrt'` or remove this parameter as it is also the default value for RandomForestClassifiers and ExtraTreesClassifiers.\n",
            "  warn(\n"
          ]
        },
        {
          "output_type": "stream",
          "name": "stdout",
          "text": [
            "[CV] END max_depth=20, max_features=auto, min_samples_leaf=2, min_samples_split=2, n_estimators=20; total time=   3.8s\n"
          ]
        },
        {
          "output_type": "stream",
          "name": "stderr",
          "text": [
            "/usr/local/lib/python3.10/dist-packages/sklearn/ensemble/_forest.py:424: FutureWarning: `max_features='auto'` has been deprecated in 1.1 and will be removed in 1.3. To keep the past behaviour, explicitly set `max_features='sqrt'` or remove this parameter as it is also the default value for RandomForestClassifiers and ExtraTreesClassifiers.\n",
            "  warn(\n"
          ]
        },
        {
          "output_type": "stream",
          "name": "stdout",
          "text": [
            "[CV] END max_depth=20, max_features=auto, min_samples_leaf=2, min_samples_split=2, n_estimators=30; total time=   4.9s\n"
          ]
        },
        {
          "output_type": "stream",
          "name": "stderr",
          "text": [
            "/usr/local/lib/python3.10/dist-packages/sklearn/ensemble/_forest.py:424: FutureWarning: `max_features='auto'` has been deprecated in 1.1 and will be removed in 1.3. To keep the past behaviour, explicitly set `max_features='sqrt'` or remove this parameter as it is also the default value for RandomForestClassifiers and ExtraTreesClassifiers.\n",
            "  warn(\n"
          ]
        },
        {
          "output_type": "stream",
          "name": "stdout",
          "text": [
            "[CV] END max_depth=20, max_features=auto, min_samples_leaf=2, min_samples_split=2, n_estimators=30; total time=   5.5s\n"
          ]
        },
        {
          "output_type": "stream",
          "name": "stderr",
          "text": [
            "/usr/local/lib/python3.10/dist-packages/sklearn/ensemble/_forest.py:424: FutureWarning: `max_features='auto'` has been deprecated in 1.1 and will be removed in 1.3. To keep the past behaviour, explicitly set `max_features='sqrt'` or remove this parameter as it is also the default value for RandomForestClassifiers and ExtraTreesClassifiers.\n",
            "  warn(\n"
          ]
        },
        {
          "output_type": "stream",
          "name": "stdout",
          "text": [
            "[CV] END max_depth=20, max_features=auto, min_samples_leaf=2, min_samples_split=2, n_estimators=30; total time=   5.5s\n"
          ]
        },
        {
          "output_type": "stream",
          "name": "stderr",
          "text": [
            "/usr/local/lib/python3.10/dist-packages/sklearn/ensemble/_forest.py:424: FutureWarning: `max_features='auto'` has been deprecated in 1.1 and will be removed in 1.3. To keep the past behaviour, explicitly set `max_features='sqrt'` or remove this parameter as it is also the default value for RandomForestClassifiers and ExtraTreesClassifiers.\n",
            "  warn(\n"
          ]
        },
        {
          "output_type": "stream",
          "name": "stdout",
          "text": [
            "[CV] END max_depth=20, max_features=auto, min_samples_leaf=2, min_samples_split=2, n_estimators=40; total time=   6.5s\n"
          ]
        },
        {
          "output_type": "stream",
          "name": "stderr",
          "text": [
            "/usr/local/lib/python3.10/dist-packages/sklearn/ensemble/_forest.py:424: FutureWarning: `max_features='auto'` has been deprecated in 1.1 and will be removed in 1.3. To keep the past behaviour, explicitly set `max_features='sqrt'` or remove this parameter as it is also the default value for RandomForestClassifiers and ExtraTreesClassifiers.\n",
            "  warn(\n"
          ]
        },
        {
          "output_type": "stream",
          "name": "stdout",
          "text": [
            "[CV] END max_depth=20, max_features=auto, min_samples_leaf=2, min_samples_split=2, n_estimators=40; total time=   7.7s\n"
          ]
        },
        {
          "output_type": "stream",
          "name": "stderr",
          "text": [
            "/usr/local/lib/python3.10/dist-packages/sklearn/ensemble/_forest.py:424: FutureWarning: `max_features='auto'` has been deprecated in 1.1 and will be removed in 1.3. To keep the past behaviour, explicitly set `max_features='sqrt'` or remove this parameter as it is also the default value for RandomForestClassifiers and ExtraTreesClassifiers.\n",
            "  warn(\n"
          ]
        },
        {
          "output_type": "stream",
          "name": "stdout",
          "text": [
            "[CV] END max_depth=20, max_features=auto, min_samples_leaf=2, min_samples_split=2, n_estimators=40; total time=   6.5s\n"
          ]
        },
        {
          "output_type": "stream",
          "name": "stderr",
          "text": [
            "/usr/local/lib/python3.10/dist-packages/sklearn/ensemble/_forest.py:424: FutureWarning: `max_features='auto'` has been deprecated in 1.1 and will be removed in 1.3. To keep the past behaviour, explicitly set `max_features='sqrt'` or remove this parameter as it is also the default value for RandomForestClassifiers and ExtraTreesClassifiers.\n",
            "  warn(\n"
          ]
        },
        {
          "output_type": "stream",
          "name": "stdout",
          "text": [
            "[CV] END max_depth=20, max_features=auto, min_samples_leaf=2, min_samples_split=5, n_estimators=20; total time=   4.4s\n"
          ]
        },
        {
          "output_type": "stream",
          "name": "stderr",
          "text": [
            "/usr/local/lib/python3.10/dist-packages/sklearn/ensemble/_forest.py:424: FutureWarning: `max_features='auto'` has been deprecated in 1.1 and will be removed in 1.3. To keep the past behaviour, explicitly set `max_features='sqrt'` or remove this parameter as it is also the default value for RandomForestClassifiers and ExtraTreesClassifiers.\n",
            "  warn(\n"
          ]
        },
        {
          "output_type": "stream",
          "name": "stdout",
          "text": [
            "[CV] END max_depth=20, max_features=auto, min_samples_leaf=2, min_samples_split=5, n_estimators=20; total time=   3.4s\n"
          ]
        },
        {
          "output_type": "stream",
          "name": "stderr",
          "text": [
            "/usr/local/lib/python3.10/dist-packages/sklearn/ensemble/_forest.py:424: FutureWarning: `max_features='auto'` has been deprecated in 1.1 and will be removed in 1.3. To keep the past behaviour, explicitly set `max_features='sqrt'` or remove this parameter as it is also the default value for RandomForestClassifiers and ExtraTreesClassifiers.\n",
            "  warn(\n"
          ]
        },
        {
          "output_type": "stream",
          "name": "stdout",
          "text": [
            "[CV] END max_depth=20, max_features=auto, min_samples_leaf=2, min_samples_split=5, n_estimators=20; total time=   3.3s\n"
          ]
        },
        {
          "output_type": "stream",
          "name": "stderr",
          "text": [
            "/usr/local/lib/python3.10/dist-packages/sklearn/ensemble/_forest.py:424: FutureWarning: `max_features='auto'` has been deprecated in 1.1 and will be removed in 1.3. To keep the past behaviour, explicitly set `max_features='sqrt'` or remove this parameter as it is also the default value for RandomForestClassifiers and ExtraTreesClassifiers.\n",
            "  warn(\n"
          ]
        },
        {
          "output_type": "stream",
          "name": "stdout",
          "text": [
            "[CV] END max_depth=20, max_features=auto, min_samples_leaf=2, min_samples_split=5, n_estimators=30; total time=   5.2s\n"
          ]
        },
        {
          "output_type": "stream",
          "name": "stderr",
          "text": [
            "/usr/local/lib/python3.10/dist-packages/sklearn/ensemble/_forest.py:424: FutureWarning: `max_features='auto'` has been deprecated in 1.1 and will be removed in 1.3. To keep the past behaviour, explicitly set `max_features='sqrt'` or remove this parameter as it is also the default value for RandomForestClassifiers and ExtraTreesClassifiers.\n",
            "  warn(\n"
          ]
        },
        {
          "output_type": "stream",
          "name": "stdout",
          "text": [
            "[CV] END max_depth=20, max_features=auto, min_samples_leaf=2, min_samples_split=5, n_estimators=30; total time=   5.7s\n"
          ]
        },
        {
          "output_type": "stream",
          "name": "stderr",
          "text": [
            "/usr/local/lib/python3.10/dist-packages/sklearn/ensemble/_forest.py:424: FutureWarning: `max_features='auto'` has been deprecated in 1.1 and will be removed in 1.3. To keep the past behaviour, explicitly set `max_features='sqrt'` or remove this parameter as it is also the default value for RandomForestClassifiers and ExtraTreesClassifiers.\n",
            "  warn(\n"
          ]
        },
        {
          "output_type": "stream",
          "name": "stdout",
          "text": [
            "[CV] END max_depth=20, max_features=auto, min_samples_leaf=2, min_samples_split=5, n_estimators=30; total time=   4.9s\n"
          ]
        },
        {
          "output_type": "stream",
          "name": "stderr",
          "text": [
            "/usr/local/lib/python3.10/dist-packages/sklearn/ensemble/_forest.py:424: FutureWarning: `max_features='auto'` has been deprecated in 1.1 and will be removed in 1.3. To keep the past behaviour, explicitly set `max_features='sqrt'` or remove this parameter as it is also the default value for RandomForestClassifiers and ExtraTreesClassifiers.\n",
            "  warn(\n"
          ]
        },
        {
          "output_type": "stream",
          "name": "stdout",
          "text": [
            "[CV] END max_depth=20, max_features=auto, min_samples_leaf=2, min_samples_split=5, n_estimators=40; total time=   7.8s\n"
          ]
        },
        {
          "output_type": "stream",
          "name": "stderr",
          "text": [
            "/usr/local/lib/python3.10/dist-packages/sklearn/ensemble/_forest.py:424: FutureWarning: `max_features='auto'` has been deprecated in 1.1 and will be removed in 1.3. To keep the past behaviour, explicitly set `max_features='sqrt'` or remove this parameter as it is also the default value for RandomForestClassifiers and ExtraTreesClassifiers.\n",
            "  warn(\n"
          ]
        },
        {
          "output_type": "stream",
          "name": "stdout",
          "text": [
            "[CV] END max_depth=20, max_features=auto, min_samples_leaf=2, min_samples_split=5, n_estimators=40; total time=   6.5s\n"
          ]
        },
        {
          "output_type": "stream",
          "name": "stderr",
          "text": [
            "/usr/local/lib/python3.10/dist-packages/sklearn/ensemble/_forest.py:424: FutureWarning: `max_features='auto'` has been deprecated in 1.1 and will be removed in 1.3. To keep the past behaviour, explicitly set `max_features='sqrt'` or remove this parameter as it is also the default value for RandomForestClassifiers and ExtraTreesClassifiers.\n",
            "  warn(\n"
          ]
        },
        {
          "output_type": "stream",
          "name": "stdout",
          "text": [
            "[CV] END max_depth=20, max_features=auto, min_samples_leaf=2, min_samples_split=5, n_estimators=40; total time=   7.8s\n"
          ]
        },
        {
          "output_type": "stream",
          "name": "stderr",
          "text": [
            "/usr/local/lib/python3.10/dist-packages/sklearn/ensemble/_forest.py:424: FutureWarning: `max_features='auto'` has been deprecated in 1.1 and will be removed in 1.3. To keep the past behaviour, explicitly set `max_features='sqrt'` or remove this parameter as it is also the default value for RandomForestClassifiers and ExtraTreesClassifiers.\n",
            "  warn(\n"
          ]
        },
        {
          "output_type": "stream",
          "name": "stdout",
          "text": [
            "[CV] END max_depth=20, max_features=auto, min_samples_leaf=2, min_samples_split=10, n_estimators=20; total time=   3.2s\n"
          ]
        },
        {
          "output_type": "stream",
          "name": "stderr",
          "text": [
            "/usr/local/lib/python3.10/dist-packages/sklearn/ensemble/_forest.py:424: FutureWarning: `max_features='auto'` has been deprecated in 1.1 and will be removed in 1.3. To keep the past behaviour, explicitly set `max_features='sqrt'` or remove this parameter as it is also the default value for RandomForestClassifiers and ExtraTreesClassifiers.\n",
            "  warn(\n"
          ]
        },
        {
          "output_type": "stream",
          "name": "stdout",
          "text": [
            "[CV] END max_depth=20, max_features=auto, min_samples_leaf=2, min_samples_split=10, n_estimators=20; total time=   3.1s\n"
          ]
        },
        {
          "output_type": "stream",
          "name": "stderr",
          "text": [
            "/usr/local/lib/python3.10/dist-packages/sklearn/ensemble/_forest.py:424: FutureWarning: `max_features='auto'` has been deprecated in 1.1 and will be removed in 1.3. To keep the past behaviour, explicitly set `max_features='sqrt'` or remove this parameter as it is also the default value for RandomForestClassifiers and ExtraTreesClassifiers.\n",
            "  warn(\n"
          ]
        },
        {
          "output_type": "stream",
          "name": "stdout",
          "text": [
            "[CV] END max_depth=20, max_features=auto, min_samples_leaf=2, min_samples_split=10, n_estimators=20; total time=   3.4s\n"
          ]
        },
        {
          "output_type": "stream",
          "name": "stderr",
          "text": [
            "/usr/local/lib/python3.10/dist-packages/sklearn/ensemble/_forest.py:424: FutureWarning: `max_features='auto'` has been deprecated in 1.1 and will be removed in 1.3. To keep the past behaviour, explicitly set `max_features='sqrt'` or remove this parameter as it is also the default value for RandomForestClassifiers and ExtraTreesClassifiers.\n",
            "  warn(\n"
          ]
        },
        {
          "output_type": "stream",
          "name": "stdout",
          "text": [
            "[CV] END max_depth=20, max_features=auto, min_samples_leaf=2, min_samples_split=10, n_estimators=30; total time=   5.9s\n"
          ]
        },
        {
          "output_type": "stream",
          "name": "stderr",
          "text": [
            "/usr/local/lib/python3.10/dist-packages/sklearn/ensemble/_forest.py:424: FutureWarning: `max_features='auto'` has been deprecated in 1.1 and will be removed in 1.3. To keep the past behaviour, explicitly set `max_features='sqrt'` or remove this parameter as it is also the default value for RandomForestClassifiers and ExtraTreesClassifiers.\n",
            "  warn(\n"
          ]
        },
        {
          "output_type": "stream",
          "name": "stdout",
          "text": [
            "[CV] END max_depth=20, max_features=auto, min_samples_leaf=2, min_samples_split=10, n_estimators=30; total time=   4.7s\n"
          ]
        },
        {
          "output_type": "stream",
          "name": "stderr",
          "text": [
            "/usr/local/lib/python3.10/dist-packages/sklearn/ensemble/_forest.py:424: FutureWarning: `max_features='auto'` has been deprecated in 1.1 and will be removed in 1.3. To keep the past behaviour, explicitly set `max_features='sqrt'` or remove this parameter as it is also the default value for RandomForestClassifiers and ExtraTreesClassifiers.\n",
            "  warn(\n"
          ]
        },
        {
          "output_type": "stream",
          "name": "stdout",
          "text": [
            "[CV] END max_depth=20, max_features=auto, min_samples_leaf=2, min_samples_split=10, n_estimators=30; total time=   5.4s\n"
          ]
        },
        {
          "output_type": "stream",
          "name": "stderr",
          "text": [
            "/usr/local/lib/python3.10/dist-packages/sklearn/ensemble/_forest.py:424: FutureWarning: `max_features='auto'` has been deprecated in 1.1 and will be removed in 1.3. To keep the past behaviour, explicitly set `max_features='sqrt'` or remove this parameter as it is also the default value for RandomForestClassifiers and ExtraTreesClassifiers.\n",
            "  warn(\n"
          ]
        },
        {
          "output_type": "stream",
          "name": "stdout",
          "text": [
            "[CV] END max_depth=20, max_features=auto, min_samples_leaf=2, min_samples_split=10, n_estimators=40; total time=   7.0s\n"
          ]
        },
        {
          "output_type": "stream",
          "name": "stderr",
          "text": [
            "/usr/local/lib/python3.10/dist-packages/sklearn/ensemble/_forest.py:424: FutureWarning: `max_features='auto'` has been deprecated in 1.1 and will be removed in 1.3. To keep the past behaviour, explicitly set `max_features='sqrt'` or remove this parameter as it is also the default value for RandomForestClassifiers and ExtraTreesClassifiers.\n",
            "  warn(\n"
          ]
        },
        {
          "output_type": "stream",
          "name": "stdout",
          "text": [
            "[CV] END max_depth=20, max_features=auto, min_samples_leaf=2, min_samples_split=10, n_estimators=40; total time=   6.7s\n"
          ]
        },
        {
          "output_type": "stream",
          "name": "stderr",
          "text": [
            "/usr/local/lib/python3.10/dist-packages/sklearn/ensemble/_forest.py:424: FutureWarning: `max_features='auto'` has been deprecated in 1.1 and will be removed in 1.3. To keep the past behaviour, explicitly set `max_features='sqrt'` or remove this parameter as it is also the default value for RandomForestClassifiers and ExtraTreesClassifiers.\n",
            "  warn(\n"
          ]
        },
        {
          "output_type": "stream",
          "name": "stdout",
          "text": [
            "[CV] END max_depth=20, max_features=auto, min_samples_leaf=2, min_samples_split=10, n_estimators=40; total time=   7.2s\n"
          ]
        },
        {
          "output_type": "stream",
          "name": "stderr",
          "text": [
            "/usr/local/lib/python3.10/dist-packages/sklearn/ensemble/_forest.py:424: FutureWarning: `max_features='auto'` has been deprecated in 1.1 and will be removed in 1.3. To keep the past behaviour, explicitly set `max_features='sqrt'` or remove this parameter as it is also the default value for RandomForestClassifiers and ExtraTreesClassifiers.\n",
            "  warn(\n"
          ]
        },
        {
          "output_type": "stream",
          "name": "stdout",
          "text": [
            "[CV] END max_depth=20, max_features=auto, min_samples_leaf=4, min_samples_split=2, n_estimators=20; total time=   3.2s\n"
          ]
        },
        {
          "output_type": "stream",
          "name": "stderr",
          "text": [
            "/usr/local/lib/python3.10/dist-packages/sklearn/ensemble/_forest.py:424: FutureWarning: `max_features='auto'` has been deprecated in 1.1 and will be removed in 1.3. To keep the past behaviour, explicitly set `max_features='sqrt'` or remove this parameter as it is also the default value for RandomForestClassifiers and ExtraTreesClassifiers.\n",
            "  warn(\n"
          ]
        },
        {
          "output_type": "stream",
          "name": "stdout",
          "text": [
            "[CV] END max_depth=20, max_features=auto, min_samples_leaf=4, min_samples_split=2, n_estimators=20; total time=   3.4s\n"
          ]
        },
        {
          "output_type": "stream",
          "name": "stderr",
          "text": [
            "/usr/local/lib/python3.10/dist-packages/sklearn/ensemble/_forest.py:424: FutureWarning: `max_features='auto'` has been deprecated in 1.1 and will be removed in 1.3. To keep the past behaviour, explicitly set `max_features='sqrt'` or remove this parameter as it is also the default value for RandomForestClassifiers and ExtraTreesClassifiers.\n",
            "  warn(\n"
          ]
        },
        {
          "output_type": "stream",
          "name": "stdout",
          "text": [
            "[CV] END max_depth=20, max_features=auto, min_samples_leaf=4, min_samples_split=2, n_estimators=20; total time=   4.2s\n"
          ]
        },
        {
          "output_type": "stream",
          "name": "stderr",
          "text": [
            "/usr/local/lib/python3.10/dist-packages/sklearn/ensemble/_forest.py:424: FutureWarning: `max_features='auto'` has been deprecated in 1.1 and will be removed in 1.3. To keep the past behaviour, explicitly set `max_features='sqrt'` or remove this parameter as it is also the default value for RandomForestClassifiers and ExtraTreesClassifiers.\n",
            "  warn(\n"
          ]
        },
        {
          "output_type": "stream",
          "name": "stdout",
          "text": [
            "[CV] END max_depth=20, max_features=auto, min_samples_leaf=4, min_samples_split=2, n_estimators=30; total time=   4.7s\n"
          ]
        },
        {
          "output_type": "stream",
          "name": "stderr",
          "text": [
            "/usr/local/lib/python3.10/dist-packages/sklearn/ensemble/_forest.py:424: FutureWarning: `max_features='auto'` has been deprecated in 1.1 and will be removed in 1.3. To keep the past behaviour, explicitly set `max_features='sqrt'` or remove this parameter as it is also the default value for RandomForestClassifiers and ExtraTreesClassifiers.\n",
            "  warn(\n"
          ]
        },
        {
          "output_type": "stream",
          "name": "stdout",
          "text": [
            "[CV] END max_depth=20, max_features=auto, min_samples_leaf=4, min_samples_split=2, n_estimators=30; total time=   4.7s\n"
          ]
        },
        {
          "output_type": "stream",
          "name": "stderr",
          "text": [
            "/usr/local/lib/python3.10/dist-packages/sklearn/ensemble/_forest.py:424: FutureWarning: `max_features='auto'` has been deprecated in 1.1 and will be removed in 1.3. To keep the past behaviour, explicitly set `max_features='sqrt'` or remove this parameter as it is also the default value for RandomForestClassifiers and ExtraTreesClassifiers.\n",
            "  warn(\n"
          ]
        },
        {
          "output_type": "stream",
          "name": "stdout",
          "text": [
            "[CV] END max_depth=20, max_features=auto, min_samples_leaf=4, min_samples_split=2, n_estimators=30; total time=   6.0s\n"
          ]
        },
        {
          "output_type": "stream",
          "name": "stderr",
          "text": [
            "/usr/local/lib/python3.10/dist-packages/sklearn/ensemble/_forest.py:424: FutureWarning: `max_features='auto'` has been deprecated in 1.1 and will be removed in 1.3. To keep the past behaviour, explicitly set `max_features='sqrt'` or remove this parameter as it is also the default value for RandomForestClassifiers and ExtraTreesClassifiers.\n",
            "  warn(\n"
          ]
        },
        {
          "output_type": "stream",
          "name": "stdout",
          "text": [
            "[CV] END max_depth=20, max_features=auto, min_samples_leaf=4, min_samples_split=2, n_estimators=40; total time=   6.2s\n"
          ]
        },
        {
          "output_type": "stream",
          "name": "stderr",
          "text": [
            "/usr/local/lib/python3.10/dist-packages/sklearn/ensemble/_forest.py:424: FutureWarning: `max_features='auto'` has been deprecated in 1.1 and will be removed in 1.3. To keep the past behaviour, explicitly set `max_features='sqrt'` or remove this parameter as it is also the default value for RandomForestClassifiers and ExtraTreesClassifiers.\n",
            "  warn(\n"
          ]
        },
        {
          "output_type": "stream",
          "name": "stdout",
          "text": [
            "[CV] END max_depth=20, max_features=auto, min_samples_leaf=4, min_samples_split=2, n_estimators=40; total time=   7.6s\n"
          ]
        },
        {
          "output_type": "stream",
          "name": "stderr",
          "text": [
            "/usr/local/lib/python3.10/dist-packages/sklearn/ensemble/_forest.py:424: FutureWarning: `max_features='auto'` has been deprecated in 1.1 and will be removed in 1.3. To keep the past behaviour, explicitly set `max_features='sqrt'` or remove this parameter as it is also the default value for RandomForestClassifiers and ExtraTreesClassifiers.\n",
            "  warn(\n"
          ]
        },
        {
          "output_type": "stream",
          "name": "stdout",
          "text": [
            "[CV] END max_depth=20, max_features=auto, min_samples_leaf=4, min_samples_split=2, n_estimators=40; total time=   6.2s\n"
          ]
        },
        {
          "output_type": "stream",
          "name": "stderr",
          "text": [
            "/usr/local/lib/python3.10/dist-packages/sklearn/ensemble/_forest.py:424: FutureWarning: `max_features='auto'` has been deprecated in 1.1 and will be removed in 1.3. To keep the past behaviour, explicitly set `max_features='sqrt'` or remove this parameter as it is also the default value for RandomForestClassifiers and ExtraTreesClassifiers.\n",
            "  warn(\n"
          ]
        },
        {
          "output_type": "stream",
          "name": "stdout",
          "text": [
            "[CV] END max_depth=20, max_features=auto, min_samples_leaf=4, min_samples_split=5, n_estimators=20; total time=   3.3s\n"
          ]
        },
        {
          "output_type": "stream",
          "name": "stderr",
          "text": [
            "/usr/local/lib/python3.10/dist-packages/sklearn/ensemble/_forest.py:424: FutureWarning: `max_features='auto'` has been deprecated in 1.1 and will be removed in 1.3. To keep the past behaviour, explicitly set `max_features='sqrt'` or remove this parameter as it is also the default value for RandomForestClassifiers and ExtraTreesClassifiers.\n",
            "  warn(\n"
          ]
        },
        {
          "output_type": "stream",
          "name": "stdout",
          "text": [
            "[CV] END max_depth=20, max_features=auto, min_samples_leaf=4, min_samples_split=5, n_estimators=20; total time=   4.3s\n"
          ]
        },
        {
          "output_type": "stream",
          "name": "stderr",
          "text": [
            "/usr/local/lib/python3.10/dist-packages/sklearn/ensemble/_forest.py:424: FutureWarning: `max_features='auto'` has been deprecated in 1.1 and will be removed in 1.3. To keep the past behaviour, explicitly set `max_features='sqrt'` or remove this parameter as it is also the default value for RandomForestClassifiers and ExtraTreesClassifiers.\n",
            "  warn(\n"
          ]
        },
        {
          "output_type": "stream",
          "name": "stdout",
          "text": [
            "[CV] END max_depth=20, max_features=auto, min_samples_leaf=4, min_samples_split=5, n_estimators=20; total time=   3.1s\n"
          ]
        },
        {
          "output_type": "stream",
          "name": "stderr",
          "text": [
            "/usr/local/lib/python3.10/dist-packages/sklearn/ensemble/_forest.py:424: FutureWarning: `max_features='auto'` has been deprecated in 1.1 and will be removed in 1.3. To keep the past behaviour, explicitly set `max_features='sqrt'` or remove this parameter as it is also the default value for RandomForestClassifiers and ExtraTreesClassifiers.\n",
            "  warn(\n"
          ]
        },
        {
          "output_type": "stream",
          "name": "stdout",
          "text": [
            "[CV] END max_depth=20, max_features=auto, min_samples_leaf=4, min_samples_split=5, n_estimators=30; total time=   4.7s\n"
          ]
        },
        {
          "output_type": "stream",
          "name": "stderr",
          "text": [
            "/usr/local/lib/python3.10/dist-packages/sklearn/ensemble/_forest.py:424: FutureWarning: `max_features='auto'` has been deprecated in 1.1 and will be removed in 1.3. To keep the past behaviour, explicitly set `max_features='sqrt'` or remove this parameter as it is also the default value for RandomForestClassifiers and ExtraTreesClassifiers.\n",
            "  warn(\n"
          ]
        },
        {
          "output_type": "stream",
          "name": "stdout",
          "text": [
            "[CV] END max_depth=20, max_features=auto, min_samples_leaf=4, min_samples_split=5, n_estimators=30; total time=   6.0s\n"
          ]
        },
        {
          "output_type": "stream",
          "name": "stderr",
          "text": [
            "/usr/local/lib/python3.10/dist-packages/sklearn/ensemble/_forest.py:424: FutureWarning: `max_features='auto'` has been deprecated in 1.1 and will be removed in 1.3. To keep the past behaviour, explicitly set `max_features='sqrt'` or remove this parameter as it is also the default value for RandomForestClassifiers and ExtraTreesClassifiers.\n",
            "  warn(\n"
          ]
        },
        {
          "output_type": "stream",
          "name": "stdout",
          "text": [
            "[CV] END max_depth=20, max_features=auto, min_samples_leaf=4, min_samples_split=5, n_estimators=30; total time=   4.7s\n"
          ]
        },
        {
          "output_type": "stream",
          "name": "stderr",
          "text": [
            "/usr/local/lib/python3.10/dist-packages/sklearn/ensemble/_forest.py:424: FutureWarning: `max_features='auto'` has been deprecated in 1.1 and will be removed in 1.3. To keep the past behaviour, explicitly set `max_features='sqrt'` or remove this parameter as it is also the default value for RandomForestClassifiers and ExtraTreesClassifiers.\n",
            "  warn(\n"
          ]
        },
        {
          "output_type": "stream",
          "name": "stdout",
          "text": [
            "[CV] END max_depth=20, max_features=auto, min_samples_leaf=4, min_samples_split=5, n_estimators=40; total time=   6.5s\n"
          ]
        },
        {
          "output_type": "stream",
          "name": "stderr",
          "text": [
            "/usr/local/lib/python3.10/dist-packages/sklearn/ensemble/_forest.py:424: FutureWarning: `max_features='auto'` has been deprecated in 1.1 and will be removed in 1.3. To keep the past behaviour, explicitly set `max_features='sqrt'` or remove this parameter as it is also the default value for RandomForestClassifiers and ExtraTreesClassifiers.\n",
            "  warn(\n"
          ]
        },
        {
          "output_type": "stream",
          "name": "stdout",
          "text": [
            "[CV] END max_depth=20, max_features=auto, min_samples_leaf=4, min_samples_split=5, n_estimators=40; total time=   7.2s\n"
          ]
        },
        {
          "output_type": "stream",
          "name": "stderr",
          "text": [
            "/usr/local/lib/python3.10/dist-packages/sklearn/ensemble/_forest.py:424: FutureWarning: `max_features='auto'` has been deprecated in 1.1 and will be removed in 1.3. To keep the past behaviour, explicitly set `max_features='sqrt'` or remove this parameter as it is also the default value for RandomForestClassifiers and ExtraTreesClassifiers.\n",
            "  warn(\n"
          ]
        },
        {
          "output_type": "stream",
          "name": "stdout",
          "text": [
            "[CV] END max_depth=20, max_features=auto, min_samples_leaf=4, min_samples_split=5, n_estimators=40; total time=   6.3s\n"
          ]
        },
        {
          "output_type": "stream",
          "name": "stderr",
          "text": [
            "/usr/local/lib/python3.10/dist-packages/sklearn/ensemble/_forest.py:424: FutureWarning: `max_features='auto'` has been deprecated in 1.1 and will be removed in 1.3. To keep the past behaviour, explicitly set `max_features='sqrt'` or remove this parameter as it is also the default value for RandomForestClassifiers and ExtraTreesClassifiers.\n",
            "  warn(\n"
          ]
        },
        {
          "output_type": "stream",
          "name": "stdout",
          "text": [
            "[CV] END max_depth=20, max_features=auto, min_samples_leaf=4, min_samples_split=10, n_estimators=20; total time=   4.3s\n"
          ]
        },
        {
          "output_type": "stream",
          "name": "stderr",
          "text": [
            "/usr/local/lib/python3.10/dist-packages/sklearn/ensemble/_forest.py:424: FutureWarning: `max_features='auto'` has been deprecated in 1.1 and will be removed in 1.3. To keep the past behaviour, explicitly set `max_features='sqrt'` or remove this parameter as it is also the default value for RandomForestClassifiers and ExtraTreesClassifiers.\n",
            "  warn(\n"
          ]
        },
        {
          "output_type": "stream",
          "name": "stdout",
          "text": [
            "[CV] END max_depth=20, max_features=auto, min_samples_leaf=4, min_samples_split=10, n_estimators=20; total time=   3.1s\n"
          ]
        },
        {
          "output_type": "stream",
          "name": "stderr",
          "text": [
            "/usr/local/lib/python3.10/dist-packages/sklearn/ensemble/_forest.py:424: FutureWarning: `max_features='auto'` has been deprecated in 1.1 and will be removed in 1.3. To keep the past behaviour, explicitly set `max_features='sqrt'` or remove this parameter as it is also the default value for RandomForestClassifiers and ExtraTreesClassifiers.\n",
            "  warn(\n"
          ]
        },
        {
          "output_type": "stream",
          "name": "stdout",
          "text": [
            "[CV] END max_depth=20, max_features=auto, min_samples_leaf=4, min_samples_split=10, n_estimators=20; total time=   3.1s\n"
          ]
        },
        {
          "output_type": "stream",
          "name": "stderr",
          "text": [
            "/usr/local/lib/python3.10/dist-packages/sklearn/ensemble/_forest.py:424: FutureWarning: `max_features='auto'` has been deprecated in 1.1 and will be removed in 1.3. To keep the past behaviour, explicitly set `max_features='sqrt'` or remove this parameter as it is also the default value for RandomForestClassifiers and ExtraTreesClassifiers.\n",
            "  warn(\n"
          ]
        },
        {
          "output_type": "stream",
          "name": "stdout",
          "text": [
            "[CV] END max_depth=20, max_features=auto, min_samples_leaf=4, min_samples_split=10, n_estimators=30; total time=   5.1s\n"
          ]
        },
        {
          "output_type": "stream",
          "name": "stderr",
          "text": [
            "/usr/local/lib/python3.10/dist-packages/sklearn/ensemble/_forest.py:424: FutureWarning: `max_features='auto'` has been deprecated in 1.1 and will be removed in 1.3. To keep the past behaviour, explicitly set `max_features='sqrt'` or remove this parameter as it is also the default value for RandomForestClassifiers and ExtraTreesClassifiers.\n",
            "  warn(\n"
          ]
        },
        {
          "output_type": "stream",
          "name": "stdout",
          "text": [
            "[CV] END max_depth=20, max_features=auto, min_samples_leaf=4, min_samples_split=10, n_estimators=30; total time=   5.6s\n"
          ]
        },
        {
          "output_type": "stream",
          "name": "stderr",
          "text": [
            "/usr/local/lib/python3.10/dist-packages/sklearn/ensemble/_forest.py:424: FutureWarning: `max_features='auto'` has been deprecated in 1.1 and will be removed in 1.3. To keep the past behaviour, explicitly set `max_features='sqrt'` or remove this parameter as it is also the default value for RandomForestClassifiers and ExtraTreesClassifiers.\n",
            "  warn(\n"
          ]
        },
        {
          "output_type": "stream",
          "name": "stdout",
          "text": [
            "[CV] END max_depth=20, max_features=auto, min_samples_leaf=4, min_samples_split=10, n_estimators=30; total time=   4.7s\n"
          ]
        },
        {
          "output_type": "stream",
          "name": "stderr",
          "text": [
            "/usr/local/lib/python3.10/dist-packages/sklearn/ensemble/_forest.py:424: FutureWarning: `max_features='auto'` has been deprecated in 1.1 and will be removed in 1.3. To keep the past behaviour, explicitly set `max_features='sqrt'` or remove this parameter as it is also the default value for RandomForestClassifiers and ExtraTreesClassifiers.\n",
            "  warn(\n"
          ]
        },
        {
          "output_type": "stream",
          "name": "stdout",
          "text": [
            "[CV] END max_depth=20, max_features=auto, min_samples_leaf=4, min_samples_split=10, n_estimators=40; total time=   7.5s\n"
          ]
        },
        {
          "output_type": "stream",
          "name": "stderr",
          "text": [
            "/usr/local/lib/python3.10/dist-packages/sklearn/ensemble/_forest.py:424: FutureWarning: `max_features='auto'` has been deprecated in 1.1 and will be removed in 1.3. To keep the past behaviour, explicitly set `max_features='sqrt'` or remove this parameter as it is also the default value for RandomForestClassifiers and ExtraTreesClassifiers.\n",
            "  warn(\n"
          ]
        },
        {
          "output_type": "stream",
          "name": "stdout",
          "text": [
            "[CV] END max_depth=20, max_features=auto, min_samples_leaf=4, min_samples_split=10, n_estimators=40; total time=   6.4s\n"
          ]
        },
        {
          "output_type": "stream",
          "name": "stderr",
          "text": [
            "/usr/local/lib/python3.10/dist-packages/sklearn/ensemble/_forest.py:424: FutureWarning: `max_features='auto'` has been deprecated in 1.1 and will be removed in 1.3. To keep the past behaviour, explicitly set `max_features='sqrt'` or remove this parameter as it is also the default value for RandomForestClassifiers and ExtraTreesClassifiers.\n",
            "  warn(\n"
          ]
        },
        {
          "output_type": "stream",
          "name": "stdout",
          "text": [
            "[CV] END max_depth=20, max_features=auto, min_samples_leaf=4, min_samples_split=10, n_estimators=40; total time=   7.6s\n",
            "[CV] END max_depth=20, max_features=sqrt, min_samples_leaf=1, min_samples_split=2, n_estimators=20; total time=   3.3s\n",
            "[CV] END max_depth=20, max_features=sqrt, min_samples_leaf=1, min_samples_split=2, n_estimators=20; total time=   3.2s\n",
            "[CV] END max_depth=20, max_features=sqrt, min_samples_leaf=1, min_samples_split=2, n_estimators=20; total time=   3.2s\n",
            "[CV] END max_depth=20, max_features=sqrt, min_samples_leaf=1, min_samples_split=2, n_estimators=30; total time=   6.3s\n",
            "[CV] END max_depth=20, max_features=sqrt, min_samples_leaf=1, min_samples_split=2, n_estimators=30; total time=   4.8s\n",
            "[CV] END max_depth=20, max_features=sqrt, min_samples_leaf=1, min_samples_split=2, n_estimators=30; total time=   5.3s\n",
            "[CV] END max_depth=20, max_features=sqrt, min_samples_leaf=1, min_samples_split=2, n_estimators=40; total time=   7.3s\n",
            "[CV] END max_depth=20, max_features=sqrt, min_samples_leaf=1, min_samples_split=2, n_estimators=40; total time=   6.9s\n",
            "[CV] END max_depth=20, max_features=sqrt, min_samples_leaf=1, min_samples_split=2, n_estimators=40; total time=   7.2s\n",
            "[CV] END max_depth=20, max_features=sqrt, min_samples_leaf=1, min_samples_split=5, n_estimators=20; total time=   3.2s\n",
            "[CV] END max_depth=20, max_features=sqrt, min_samples_leaf=1, min_samples_split=5, n_estimators=20; total time=   3.5s\n",
            "[CV] END max_depth=20, max_features=sqrt, min_samples_leaf=1, min_samples_split=5, n_estimators=20; total time=   4.2s\n",
            "[CV] END max_depth=20, max_features=sqrt, min_samples_leaf=1, min_samples_split=5, n_estimators=30; total time=   4.8s\n",
            "[CV] END max_depth=20, max_features=sqrt, min_samples_leaf=1, min_samples_split=5, n_estimators=30; total time=   4.9s\n",
            "[CV] END max_depth=20, max_features=sqrt, min_samples_leaf=1, min_samples_split=5, n_estimators=30; total time=   5.9s\n",
            "[CV] END max_depth=20, max_features=sqrt, min_samples_leaf=1, min_samples_split=5, n_estimators=40; total time=   6.4s\n",
            "[CV] END max_depth=20, max_features=sqrt, min_samples_leaf=1, min_samples_split=5, n_estimators=40; total time=   7.6s\n",
            "[CV] END max_depth=20, max_features=sqrt, min_samples_leaf=1, min_samples_split=5, n_estimators=40; total time=   8.4s\n",
            "[CV] END max_depth=20, max_features=sqrt, min_samples_leaf=1, min_samples_split=10, n_estimators=20; total time=   4.3s\n",
            "[CV] END max_depth=20, max_features=sqrt, min_samples_leaf=1, min_samples_split=10, n_estimators=20; total time=   3.1s\n",
            "[CV] END max_depth=20, max_features=sqrt, min_samples_leaf=1, min_samples_split=10, n_estimators=20; total time=   3.1s\n",
            "[CV] END max_depth=20, max_features=sqrt, min_samples_leaf=1, min_samples_split=10, n_estimators=30; total time=   5.3s\n",
            "[CV] END max_depth=20, max_features=sqrt, min_samples_leaf=1, min_samples_split=10, n_estimators=30; total time=   5.5s\n",
            "[CV] END max_depth=20, max_features=sqrt, min_samples_leaf=1, min_samples_split=10, n_estimators=30; total time=   4.7s\n",
            "[CV] END max_depth=20, max_features=sqrt, min_samples_leaf=1, min_samples_split=10, n_estimators=40; total time=   7.7s\n",
            "[CV] END max_depth=20, max_features=sqrt, min_samples_leaf=1, min_samples_split=10, n_estimators=40; total time=   6.3s\n",
            "[CV] END max_depth=20, max_features=sqrt, min_samples_leaf=1, min_samples_split=10, n_estimators=40; total time=   7.6s\n",
            "[CV] END max_depth=20, max_features=sqrt, min_samples_leaf=2, min_samples_split=2, n_estimators=20; total time=   3.2s\n",
            "[CV] END max_depth=20, max_features=sqrt, min_samples_leaf=2, min_samples_split=2, n_estimators=20; total time=   3.2s\n",
            "[CV] END max_depth=20, max_features=sqrt, min_samples_leaf=2, min_samples_split=2, n_estimators=20; total time=   3.3s\n",
            "[CV] END max_depth=20, max_features=sqrt, min_samples_leaf=2, min_samples_split=2, n_estimators=30; total time=   6.0s\n",
            "[CV] END max_depth=20, max_features=sqrt, min_samples_leaf=2, min_samples_split=2, n_estimators=30; total time=   4.7s\n",
            "[CV] END max_depth=20, max_features=sqrt, min_samples_leaf=2, min_samples_split=2, n_estimators=30; total time=   5.4s\n",
            "[CV] END max_depth=20, max_features=sqrt, min_samples_leaf=2, min_samples_split=2, n_estimators=40; total time=   7.1s\n",
            "[CV] END max_depth=20, max_features=sqrt, min_samples_leaf=2, min_samples_split=2, n_estimators=40; total time=   6.8s\n",
            "[CV] END max_depth=20, max_features=sqrt, min_samples_leaf=2, min_samples_split=2, n_estimators=40; total time=   7.3s\n",
            "[CV] END max_depth=20, max_features=sqrt, min_samples_leaf=2, min_samples_split=5, n_estimators=20; total time=   3.2s\n",
            "[CV] END max_depth=20, max_features=sqrt, min_samples_leaf=2, min_samples_split=5, n_estimators=20; total time=   3.6s\n",
            "[CV] END max_depth=20, max_features=sqrt, min_samples_leaf=2, min_samples_split=5, n_estimators=20; total time=   4.2s\n",
            "[CV] END max_depth=20, max_features=sqrt, min_samples_leaf=2, min_samples_split=5, n_estimators=30; total time=   4.7s\n",
            "[CV] END max_depth=20, max_features=sqrt, min_samples_leaf=2, min_samples_split=5, n_estimators=30; total time=   5.0s\n",
            "[CV] END max_depth=20, max_features=sqrt, min_samples_leaf=2, min_samples_split=5, n_estimators=30; total time=   5.9s\n",
            "[CV] END max_depth=20, max_features=sqrt, min_samples_leaf=2, min_samples_split=5, n_estimators=40; total time=   6.4s\n",
            "[CV] END max_depth=20, max_features=sqrt, min_samples_leaf=2, min_samples_split=5, n_estimators=40; total time=   7.7s\n",
            "[CV] END max_depth=20, max_features=sqrt, min_samples_leaf=2, min_samples_split=5, n_estimators=40; total time=   6.4s\n",
            "[CV] END max_depth=20, max_features=sqrt, min_samples_leaf=2, min_samples_split=10, n_estimators=20; total time=   3.8s\n",
            "[CV] END max_depth=20, max_features=sqrt, min_samples_leaf=2, min_samples_split=10, n_estimators=20; total time=   3.9s\n",
            "[CV] END max_depth=20, max_features=sqrt, min_samples_leaf=2, min_samples_split=10, n_estimators=20; total time=   3.2s\n",
            "[CV] END max_depth=20, max_features=sqrt, min_samples_leaf=2, min_samples_split=10, n_estimators=30; total time=   4.7s\n",
            "[CV] END max_depth=20, max_features=sqrt, min_samples_leaf=2, min_samples_split=10, n_estimators=30; total time=   6.0s\n",
            "[CV] END max_depth=20, max_features=sqrt, min_samples_leaf=2, min_samples_split=10, n_estimators=30; total time=   4.7s\n",
            "[CV] END max_depth=20, max_features=sqrt, min_samples_leaf=2, min_samples_split=10, n_estimators=40; total time=   7.1s\n",
            "[CV] END max_depth=20, max_features=sqrt, min_samples_leaf=2, min_samples_split=10, n_estimators=40; total time=   6.8s\n",
            "[CV] END max_depth=20, max_features=sqrt, min_samples_leaf=2, min_samples_split=10, n_estimators=40; total time=   6.8s\n",
            "[CV] END max_depth=20, max_features=sqrt, min_samples_leaf=4, min_samples_split=2, n_estimators=20; total time=   3.8s\n",
            "[CV] END max_depth=20, max_features=sqrt, min_samples_leaf=4, min_samples_split=2, n_estimators=20; total time=   3.1s\n",
            "[CV] END max_depth=20, max_features=sqrt, min_samples_leaf=4, min_samples_split=2, n_estimators=20; total time=   3.1s\n",
            "[CV] END max_depth=20, max_features=sqrt, min_samples_leaf=4, min_samples_split=2, n_estimators=30; total time=   5.6s\n",
            "[CV] END max_depth=20, max_features=sqrt, min_samples_leaf=4, min_samples_split=2, n_estimators=30; total time=   5.0s\n",
            "[CV] END max_depth=20, max_features=sqrt, min_samples_leaf=4, min_samples_split=2, n_estimators=30; total time=   4.7s\n",
            "[CV] END max_depth=20, max_features=sqrt, min_samples_leaf=4, min_samples_split=2, n_estimators=40; total time=   7.5s\n",
            "[CV] END max_depth=20, max_features=sqrt, min_samples_leaf=4, min_samples_split=2, n_estimators=40; total time=   6.3s\n",
            "[CV] END max_depth=20, max_features=sqrt, min_samples_leaf=4, min_samples_split=2, n_estimators=40; total time=   7.5s\n",
            "[CV] END max_depth=20, max_features=sqrt, min_samples_leaf=4, min_samples_split=5, n_estimators=20; total time=   3.2s\n",
            "[CV] END max_depth=20, max_features=sqrt, min_samples_leaf=4, min_samples_split=5, n_estimators=20; total time=   3.2s\n",
            "[CV] END max_depth=20, max_features=sqrt, min_samples_leaf=4, min_samples_split=5, n_estimators=20; total time=   3.4s\n",
            "[CV] END max_depth=20, max_features=sqrt, min_samples_leaf=4, min_samples_split=5, n_estimators=30; total time=   5.7s\n",
            "[CV] END max_depth=20, max_features=sqrt, min_samples_leaf=4, min_samples_split=5, n_estimators=30; total time=   4.7s\n",
            "[CV] END max_depth=20, max_features=sqrt, min_samples_leaf=4, min_samples_split=5, n_estimators=30; total time=   5.3s\n",
            "[CV] END max_depth=20, max_features=sqrt, min_samples_leaf=4, min_samples_split=5, n_estimators=40; total time=   6.9s\n",
            "[CV] END max_depth=20, max_features=sqrt, min_samples_leaf=4, min_samples_split=5, n_estimators=40; total time=   6.6s\n",
            "[CV] END max_depth=20, max_features=sqrt, min_samples_leaf=4, min_samples_split=5, n_estimators=40; total time=   7.1s\n",
            "[CV] END max_depth=20, max_features=sqrt, min_samples_leaf=4, min_samples_split=10, n_estimators=20; total time=   3.1s\n",
            "[CV] END max_depth=20, max_features=sqrt, min_samples_leaf=4, min_samples_split=10, n_estimators=20; total time=   3.1s\n",
            "[CV] END max_depth=20, max_features=sqrt, min_samples_leaf=4, min_samples_split=10, n_estimators=20; total time=   4.3s\n",
            "[CV] END max_depth=20, max_features=sqrt, min_samples_leaf=4, min_samples_split=10, n_estimators=30; total time=   4.6s\n",
            "[CV] END max_depth=20, max_features=sqrt, min_samples_leaf=4, min_samples_split=10, n_estimators=30; total time=   4.7s\n",
            "[CV] END max_depth=20, max_features=sqrt, min_samples_leaf=4, min_samples_split=10, n_estimators=30; total time=   5.9s\n",
            "[CV] END max_depth=20, max_features=sqrt, min_samples_leaf=4, min_samples_split=10, n_estimators=40; total time=   6.1s\n",
            "[CV] END max_depth=20, max_features=sqrt, min_samples_leaf=4, min_samples_split=10, n_estimators=40; total time=   7.5s\n",
            "[CV] END max_depth=20, max_features=sqrt, min_samples_leaf=4, min_samples_split=10, n_estimators=40; total time=   6.2s\n",
            "[CV] END max_depth=20, max_features=log2, min_samples_leaf=1, min_samples_split=2, n_estimators=20; total time=   3.2s\n",
            "[CV] END max_depth=20, max_features=log2, min_samples_leaf=1, min_samples_split=2, n_estimators=20; total time=   4.4s\n",
            "[CV] END max_depth=20, max_features=log2, min_samples_leaf=1, min_samples_split=2, n_estimators=20; total time=   3.3s\n",
            "[CV] END max_depth=20, max_features=log2, min_samples_leaf=1, min_samples_split=2, n_estimators=30; total time=   4.9s\n",
            "[CV] END max_depth=20, max_features=log2, min_samples_leaf=1, min_samples_split=2, n_estimators=30; total time=   5.8s\n",
            "[CV] END max_depth=20, max_features=log2, min_samples_leaf=1, min_samples_split=2, n_estimators=30; total time=   5.0s\n",
            "[CV] END max_depth=20, max_features=log2, min_samples_leaf=1, min_samples_split=2, n_estimators=40; total time=   6.8s\n",
            "[CV] END max_depth=20, max_features=log2, min_samples_leaf=1, min_samples_split=2, n_estimators=40; total time=   7.4s\n",
            "[CV] END max_depth=20, max_features=log2, min_samples_leaf=1, min_samples_split=2, n_estimators=40; total time=   6.4s\n",
            "[CV] END max_depth=20, max_features=log2, min_samples_leaf=1, min_samples_split=5, n_estimators=20; total time=   4.4s\n",
            "[CV] END max_depth=20, max_features=log2, min_samples_leaf=1, min_samples_split=5, n_estimators=20; total time=   3.2s\n",
            "[CV] END max_depth=20, max_features=log2, min_samples_leaf=1, min_samples_split=5, n_estimators=20; total time=   3.2s\n",
            "[CV] END max_depth=20, max_features=log2, min_samples_leaf=1, min_samples_split=5, n_estimators=30; total time=   5.4s\n",
            "[CV] END max_depth=20, max_features=log2, min_samples_leaf=1, min_samples_split=5, n_estimators=30; total time=   6.6s\n",
            "[CV] END max_depth=20, max_features=log2, min_samples_leaf=1, min_samples_split=5, n_estimators=30; total time=   5.5s\n",
            "[CV] END max_depth=20, max_features=log2, min_samples_leaf=1, min_samples_split=5, n_estimators=40; total time=   7.7s\n",
            "[CV] END max_depth=20, max_features=log2, min_samples_leaf=1, min_samples_split=5, n_estimators=40; total time=   6.3s\n",
            "[CV] END max_depth=20, max_features=log2, min_samples_leaf=1, min_samples_split=5, n_estimators=40; total time=   7.7s\n",
            "[CV] END max_depth=20, max_features=log2, min_samples_leaf=1, min_samples_split=10, n_estimators=20; total time=   3.1s\n",
            "[CV] END max_depth=20, max_features=log2, min_samples_leaf=1, min_samples_split=10, n_estimators=20; total time=   3.2s\n",
            "[CV] END max_depth=20, max_features=log2, min_samples_leaf=1, min_samples_split=10, n_estimators=20; total time=   4.1s\n",
            "[CV] END max_depth=20, max_features=log2, min_samples_leaf=1, min_samples_split=10, n_estimators=30; total time=   5.1s\n",
            "[CV] END max_depth=20, max_features=log2, min_samples_leaf=1, min_samples_split=10, n_estimators=30; total time=   4.7s\n",
            "[CV] END max_depth=20, max_features=log2, min_samples_leaf=1, min_samples_split=10, n_estimators=30; total time=   6.1s\n",
            "[CV] END max_depth=20, max_features=log2, min_samples_leaf=1, min_samples_split=10, n_estimators=40; total time=   6.4s\n",
            "[CV] END max_depth=20, max_features=log2, min_samples_leaf=1, min_samples_split=10, n_estimators=40; total time=   7.6s\n",
            "[CV] END max_depth=20, max_features=log2, min_samples_leaf=1, min_samples_split=10, n_estimators=40; total time=   6.3s\n",
            "[CV] END max_depth=20, max_features=log2, min_samples_leaf=2, min_samples_split=2, n_estimators=20; total time=   3.2s\n",
            "[CV] END max_depth=20, max_features=log2, min_samples_leaf=2, min_samples_split=2, n_estimators=20; total time=   4.3s\n",
            "[CV] END max_depth=20, max_features=log2, min_samples_leaf=2, min_samples_split=2, n_estimators=20; total time=   3.4s\n",
            "[CV] END max_depth=20, max_features=log2, min_samples_leaf=2, min_samples_split=2, n_estimators=30; total time=   4.8s\n",
            "[CV] END max_depth=20, max_features=log2, min_samples_leaf=2, min_samples_split=2, n_estimators=30; total time=   5.7s\n",
            "[CV] END max_depth=20, max_features=log2, min_samples_leaf=2, min_samples_split=2, n_estimators=30; total time=   5.2s\n",
            "[CV] END max_depth=20, max_features=log2, min_samples_leaf=2, min_samples_split=2, n_estimators=40; total time=   6.6s\n",
            "[CV] END max_depth=20, max_features=log2, min_samples_leaf=2, min_samples_split=2, n_estimators=40; total time=   7.5s\n",
            "[CV] END max_depth=20, max_features=log2, min_samples_leaf=2, min_samples_split=2, n_estimators=40; total time=   6.4s\n",
            "[CV] END max_depth=20, max_features=log2, min_samples_leaf=2, min_samples_split=5, n_estimators=20; total time=   4.5s\n",
            "[CV] END max_depth=20, max_features=log2, min_samples_leaf=2, min_samples_split=5, n_estimators=20; total time=   3.2s\n",
            "[CV] END max_depth=20, max_features=log2, min_samples_leaf=2, min_samples_split=5, n_estimators=20; total time=   3.2s\n",
            "[CV] END max_depth=20, max_features=log2, min_samples_leaf=2, min_samples_split=5, n_estimators=30; total time=   5.2s\n",
            "[CV] END max_depth=20, max_features=log2, min_samples_leaf=2, min_samples_split=5, n_estimators=30; total time=   5.7s\n",
            "[CV] END max_depth=20, max_features=log2, min_samples_leaf=2, min_samples_split=5, n_estimators=30; total time=   4.8s\n",
            "[CV] END max_depth=20, max_features=log2, min_samples_leaf=2, min_samples_split=5, n_estimators=40; total time=   7.7s\n",
            "[CV] END max_depth=20, max_features=log2, min_samples_leaf=2, min_samples_split=5, n_estimators=40; total time=   6.4s\n",
            "[CV] END max_depth=20, max_features=log2, min_samples_leaf=2, min_samples_split=5, n_estimators=40; total time=   7.8s\n",
            "[CV] END max_depth=20, max_features=log2, min_samples_leaf=2, min_samples_split=10, n_estimators=20; total time=   3.2s\n",
            "[CV] END max_depth=20, max_features=log2, min_samples_leaf=2, min_samples_split=10, n_estimators=20; total time=   3.1s\n",
            "[CV] END max_depth=20, max_features=log2, min_samples_leaf=2, min_samples_split=10, n_estimators=20; total time=   3.3s\n",
            "[CV] END max_depth=20, max_features=log2, min_samples_leaf=2, min_samples_split=10, n_estimators=30; total time=   5.9s\n",
            "[CV] END max_depth=20, max_features=log2, min_samples_leaf=2, min_samples_split=10, n_estimators=30; total time=   4.7s\n",
            "[CV] END max_depth=20, max_features=log2, min_samples_leaf=2, min_samples_split=10, n_estimators=30; total time=   5.3s\n",
            "[CV] END max_depth=20, max_features=log2, min_samples_leaf=2, min_samples_split=10, n_estimators=40; total time=   7.2s\n",
            "[CV] END max_depth=20, max_features=log2, min_samples_leaf=2, min_samples_split=10, n_estimators=40; total time=   6.7s\n",
            "[CV] END max_depth=20, max_features=log2, min_samples_leaf=2, min_samples_split=10, n_estimators=40; total time=   7.2s\n",
            "[CV] END max_depth=20, max_features=log2, min_samples_leaf=4, min_samples_split=2, n_estimators=20; total time=   3.1s\n",
            "[CV] END max_depth=20, max_features=log2, min_samples_leaf=4, min_samples_split=2, n_estimators=20; total time=   3.4s\n",
            "[CV] END max_depth=20, max_features=log2, min_samples_leaf=4, min_samples_split=2, n_estimators=20; total time=   4.2s\n",
            "[CV] END max_depth=20, max_features=log2, min_samples_leaf=4, min_samples_split=2, n_estimators=30; total time=   4.7s\n",
            "[CV] END max_depth=20, max_features=log2, min_samples_leaf=4, min_samples_split=2, n_estimators=30; total time=   4.7s\n",
            "[CV] END max_depth=20, max_features=log2, min_samples_leaf=4, min_samples_split=2, n_estimators=30; total time=   6.0s\n",
            "[CV] END max_depth=20, max_features=log2, min_samples_leaf=4, min_samples_split=2, n_estimators=40; total time=   6.2s\n",
            "[CV] END max_depth=20, max_features=log2, min_samples_leaf=4, min_samples_split=2, n_estimators=40; total time=   7.6s\n",
            "[CV] END max_depth=20, max_features=log2, min_samples_leaf=4, min_samples_split=2, n_estimators=40; total time=   6.2s\n",
            "[CV] END max_depth=20, max_features=log2, min_samples_leaf=4, min_samples_split=5, n_estimators=20; total time=   3.2s\n",
            "[CV] END max_depth=20, max_features=log2, min_samples_leaf=4, min_samples_split=5, n_estimators=20; total time=   4.4s\n",
            "[CV] END max_depth=20, max_features=log2, min_samples_leaf=4, min_samples_split=5, n_estimators=20; total time=   3.1s\n",
            "[CV] END max_depth=20, max_features=log2, min_samples_leaf=4, min_samples_split=5, n_estimators=30; total time=   4.7s\n",
            "[CV] END max_depth=20, max_features=log2, min_samples_leaf=4, min_samples_split=5, n_estimators=30; total time=   5.9s\n",
            "[CV] END max_depth=20, max_features=log2, min_samples_leaf=4, min_samples_split=5, n_estimators=30; total time=   4.8s\n",
            "[CV] END max_depth=20, max_features=log2, min_samples_leaf=4, min_samples_split=5, n_estimators=40; total time=   6.5s\n",
            "[CV] END max_depth=20, max_features=log2, min_samples_leaf=4, min_samples_split=5, n_estimators=40; total time=   7.3s\n",
            "[CV] END max_depth=20, max_features=log2, min_samples_leaf=4, min_samples_split=5, n_estimators=40; total time=   6.2s\n",
            "[CV] END max_depth=20, max_features=log2, min_samples_leaf=4, min_samples_split=10, n_estimators=20; total time=   4.4s\n",
            "[CV] END max_depth=20, max_features=log2, min_samples_leaf=4, min_samples_split=10, n_estimators=20; total time=   3.2s\n",
            "[CV] END max_depth=20, max_features=log2, min_samples_leaf=4, min_samples_split=10, n_estimators=20; total time=   3.1s\n",
            "[CV] END max_depth=20, max_features=log2, min_samples_leaf=4, min_samples_split=10, n_estimators=30; total time=   5.0s\n",
            "[CV] END max_depth=20, max_features=log2, min_samples_leaf=4, min_samples_split=10, n_estimators=30; total time=   5.6s\n",
            "[CV] END max_depth=20, max_features=log2, min_samples_leaf=4, min_samples_split=10, n_estimators=30; total time=   4.7s\n",
            "[CV] END max_depth=20, max_features=log2, min_samples_leaf=4, min_samples_split=10, n_estimators=40; total time=   7.5s\n",
            "[CV] END max_depth=20, max_features=log2, min_samples_leaf=4, min_samples_split=10, n_estimators=40; total time=   6.3s\n",
            "[CV] END max_depth=20, max_features=log2, min_samples_leaf=4, min_samples_split=10, n_estimators=40; total time=   7.7s\n"
          ]
        },
        {
          "output_type": "stream",
          "name": "stderr",
          "text": [
            "/usr/local/lib/python3.10/dist-packages/sklearn/ensemble/_forest.py:424: FutureWarning: `max_features='auto'` has been deprecated in 1.1 and will be removed in 1.3. To keep the past behaviour, explicitly set `max_features='sqrt'` or remove this parameter as it is also the default value for RandomForestClassifiers and ExtraTreesClassifiers.\n",
            "  warn(\n"
          ]
        },
        {
          "output_type": "stream",
          "name": "stdout",
          "text": [
            "Best Hyperparameters for Random Forest:\n",
            "{'max_depth': None, 'max_features': 'auto', 'min_samples_leaf': 1, 'min_samples_split': 2, 'n_estimators': 40}\n"
          ]
        }
      ],
      "source": [
        "from sklearn.model_selection import GridSearchCV\n",
        "from sklearn.ensemble import RandomForestClassifier\n",
        "\n",
        "# Define the hyperparameter grid for Random Forest\n",
        "rf_param_grid = {\n",
        "    'n_estimators': [20, 30, 40],\n",
        "    'max_depth': [None, 10, 20],\n",
        "    'min_samples_split': [2, 5, 10],\n",
        "    'min_samples_leaf': [1, 2, 4],\n",
        "    'max_features': ['auto', 'sqrt', 'log2']\n",
        "}\n",
        "\n",
        "# Instantiate the Random Forest model\n",
        "rf_model = RandomForestClassifier(random_state=42)\n",
        "\n",
        "# Instantiate GridSearchCV\n",
        "grid_search_rf = GridSearchCV(estimator=rf_model, param_grid=rf_param_grid, cv=3, scoring='f1', verbose=2)\n",
        "\n",
        "# Fit the grid search to the data\n",
        "grid_search_rf.fit(X_train, y_train)\n",
        "\n",
        "# Display the best hyperparameters\n",
        "print(\"Best Hyperparameters for Random Forest:\")\n",
        "print(grid_search_rf.best_params_)\n"
      ]
    },
    {
      "cell_type": "markdown",
      "source": [],
      "metadata": {
        "id": "GhNzuMrt6wYt"
      }
    },
    {
      "cell_type": "markdown",
      "metadata": {
        "id": "nh2RSRpX5auF"
      },
      "source": [
        "### d) Performance metrics for training"
      ]
    },
    {
      "cell_type": "markdown",
      "source": [
        "After training the Random Forest model with the best hyperparameters, this code calculates and displays various performance metrics such as accuracy, precision, recall, F1-score, and the confusion matrix on the training set."
      ],
      "metadata": {
        "id": "XFAIdJ8z7eyo"
      }
    },
    {
      "cell_type": "code",
      "execution_count": null,
      "metadata": {
        "colab": {
          "base_uri": "https://localhost:8080/"
        },
        "id": "HSDdVzob5auG",
        "outputId": "19cdecfd-36a4-4da6-ea6d-11716ce034ef"
      },
      "outputs": [
        {
          "output_type": "stream",
          "name": "stdout",
          "text": [
            "Random Forest Performance Metrics:\n",
            "Accuracy: 1.0\n",
            "Precision: 1.0\n",
            "Recall: 1.0\n",
            "F1 Score: 1.0\n",
            "Confusion Matrix:\n",
            " [[67334     0]\n",
            " [    0 24941]]\n"
          ]
        }
      ],
      "source": [
        "from sklearn.metrics import accuracy_score, precision_score, recall_score, f1_score, confusion_matrix\n",
        "\n",
        "# Make predictions on the training set\n",
        "y_train_pred_rf = grid_search_rf.predict(X_train)\n",
        "\n",
        "# Calculate performance metrics\n",
        "accuracy_rf = accuracy_score(y_train, y_train_pred_rf)\n",
        "precision_rf = precision_score(y_train, y_train_pred_rf)\n",
        "recall_rf = recall_score(y_train, y_train_pred_rf)\n",
        "f1_rf = f1_score(y_train, y_train_pred_rf)\n",
        "conf_matrix_rf = confusion_matrix(y_train, y_train_pred_rf)\n",
        "\n",
        "# Display performance metrics for Random Forest\n",
        "print(\"Random Forest Performance Metrics:\")\n",
        "print(\"Accuracy:\", accuracy_rf)\n",
        "print(\"Precision:\", precision_rf)\n",
        "print(\"Recall:\", recall_rf)\n",
        "print(\"F1 Score:\", f1_rf)\n",
        "print(\"Confusion Matrix:\\n\", conf_matrix_rf)\n"
      ]
    },
    {
      "cell_type": "markdown",
      "metadata": {
        "id": "wfZeLJns5auG"
      },
      "source": [
        "## 6. Comparison of metrics performance for testing (16 marks)\n",
        "Enter the correct code in the cells below to execute each of the stated sub-tasks.\n"
      ]
    },
    {
      "cell_type": "markdown",
      "metadata": {
        "id": "eB6zN5ZiokWS"
      },
      "source": []
    },
    {
      "cell_type": "markdown",
      "metadata": {
        "id": "YXvLG-ih5auG"
      },
      "source": [
        "### a) Use of cross validation for both techniques to deal with over-fitting"
      ]
    },
    {
      "cell_type": "markdown",
      "source": [
        "This code performs cross-validation for both Gradient Boosting and Random Forest on the testing set, using the best models obtained from the hyperparameter tuning. It prints the cross-validation F1 scores for both models.\n",
        "\n"
      ],
      "metadata": {
        "id": "SMtgqRR89cNc"
      }
    },
    {
      "cell_type": "code",
      "execution_count": null,
      "metadata": {
        "colab": {
          "base_uri": "https://localhost:8080/"
        },
        "id": "Icuy--af5auG",
        "outputId": "ba678956-d78e-456e-cb90-44bb16fc7ed7"
      },
      "outputs": [
        {
          "output_type": "stream",
          "name": "stdout",
          "text": [
            "Cross-validation F1 scores for Gradient Boosting: [0.84335309 0.85036654 0.8366465  0.84228621 0.8516129 ]\n"
          ]
        },
        {
          "output_type": "stream",
          "name": "stderr",
          "text": [
            "/usr/local/lib/python3.10/dist-packages/sklearn/ensemble/_forest.py:424: FutureWarning: `max_features='auto'` has been deprecated in 1.1 and will be removed in 1.3. To keep the past behaviour, explicitly set `max_features='sqrt'` or remove this parameter as it is also the default value for RandomForestClassifiers and ExtraTreesClassifiers.\n",
            "  warn(\n",
            "/usr/local/lib/python3.10/dist-packages/sklearn/ensemble/_forest.py:424: FutureWarning: `max_features='auto'` has been deprecated in 1.1 and will be removed in 1.3. To keep the past behaviour, explicitly set `max_features='sqrt'` or remove this parameter as it is also the default value for RandomForestClassifiers and ExtraTreesClassifiers.\n",
            "  warn(\n",
            "/usr/local/lib/python3.10/dist-packages/sklearn/ensemble/_forest.py:424: FutureWarning: `max_features='auto'` has been deprecated in 1.1 and will be removed in 1.3. To keep the past behaviour, explicitly set `max_features='sqrt'` or remove this parameter as it is also the default value for RandomForestClassifiers and ExtraTreesClassifiers.\n",
            "  warn(\n",
            "/usr/local/lib/python3.10/dist-packages/sklearn/ensemble/_forest.py:424: FutureWarning: `max_features='auto'` has been deprecated in 1.1 and will be removed in 1.3. To keep the past behaviour, explicitly set `max_features='sqrt'` or remove this parameter as it is also the default value for RandomForestClassifiers and ExtraTreesClassifiers.\n",
            "  warn(\n",
            "/usr/local/lib/python3.10/dist-packages/sklearn/ensemble/_forest.py:424: FutureWarning: `max_features='auto'` has been deprecated in 1.1 and will be removed in 1.3. To keep the past behaviour, explicitly set `max_features='sqrt'` or remove this parameter as it is also the default value for RandomForestClassifiers and ExtraTreesClassifiers.\n",
            "  warn(\n"
          ]
        },
        {
          "output_type": "stream",
          "name": "stdout",
          "text": [
            "Cross-validation F1 scores for Random Forest: [0.89308716 0.88370082 0.89146289 0.88544358 0.88975357]\n"
          ]
        }
      ],
      "source": [
        "from sklearn.model_selection import cross_val_score\n",
        "\n",
        "# Perform cross-validation for Gradient Boosting\n",
        "gb_cv_scores = cross_val_score(grid_search_gb.best_estimator_, X_test, y_test, cv=5, scoring='f1')\n",
        "print(\"Cross-validation F1 scores for Gradient Boosting:\", gb_cv_scores)\n",
        "\n",
        "# Perform cross-validation for Random Forest\n",
        "rf_cv_scores = cross_val_score(grid_search_rf.best_estimator_, X_test, y_test, cv=5, scoring='f1')\n",
        "print(\"Cross-validation F1 scores for Random Forest:\", rf_cv_scores)\n"
      ]
    },
    {
      "cell_type": "markdown",
      "metadata": {
        "id": "7N5cZIMJ5auG"
      },
      "source": [
        "### b) Comparison with appropriate metrics for testing"
      ]
    },
    {
      "cell_type": "markdown",
      "source": [
        "This code generates predictions on the test set for both Gradient Boosting and Random Forest and displays the classification reports, including precision, recall, and F1-score, for both models."
      ],
      "metadata": {
        "id": "T2F849C298BC"
      }
    },
    {
      "cell_type": "code",
      "execution_count": null,
      "metadata": {
        "colab": {
          "base_uri": "https://localhost:8080/"
        },
        "id": "9FS454Gv5auG",
        "cellView": "form",
        "outputId": "76379a38-1efd-4981-ce35-beab8ef79f7e"
      },
      "outputs": [
        {
          "output_type": "stream",
          "name": "stdout",
          "text": [
            "Classification Report for Gradient Boosting:\n",
            "              precision    recall  f1-score   support\n",
            "\n",
            "           0       0.94      0.98      0.96     16870\n",
            "           1       0.94      0.82      0.88      6199\n",
            "\n",
            "    accuracy                           0.94     23069\n",
            "   macro avg       0.94      0.90      0.92     23069\n",
            "weighted avg       0.94      0.94      0.94     23069\n",
            "\n",
            "\n",
            "Classification Report for Random Forest:\n",
            "              precision    recall  f1-score   support\n",
            "\n",
            "           0       1.00      1.00      1.00     16870\n",
            "           1       1.00      0.99      1.00      6199\n",
            "\n",
            "    accuracy                           1.00     23069\n",
            "   macro avg       1.00      1.00      1.00     23069\n",
            "weighted avg       1.00      1.00      1.00     23069\n",
            "\n"
          ]
        }
      ],
      "source": [
        "# @title\n",
        "from sklearn.metrics import classification_report\n",
        "\n",
        "# Predictions for Gradient Boosting on the test set\n",
        "y_test_pred_gb = grid_search_gb.best_estimator_.predict(X_test)\n",
        "\n",
        "# Predictions for Random Forest on the test set\n",
        "y_test_pred_rf = grid_search_rf.best_estimator_.predict(X_test)\n",
        "\n",
        "# Display classification reports for both models\n",
        "print(\"Classification Report for Gradient Boosting:\")\n",
        "print(classification_report(y_test, y_test_pred_gb))\n",
        "\n",
        "print(\"\\nClassification Report for Random Forest:\")\n",
        "print(classification_report(y_test, y_test_pred_rf))\n"
      ]
    },
    {
      "cell_type": "markdown",
      "metadata": {
        "id": "hN0m9kqZ5auG"
      },
      "source": [
        "### c) Model selection (ROC or other charts)"
      ]
    },
    {
      "cell_type": "markdown",
      "metadata": {
        "id": "jcccVkWRJFnQ"
      },
      "source": [
        "Since we are dealing with a binary classification problem, ROC curves are commonly used. Since it's a binary classification problem, ROC curves are commonly used for model selection. This code computes and plots ROC curves for both Gradient Boosting and Random Forest, showing the area under the curve (AUC) for each model. The random guess line is also included for reference. Here's how we can plot ROC curves for both models:"
      ]
    },
    {
      "cell_type": "markdown",
      "metadata": {
        "id": "Fp7jySZyI9TC"
      },
      "source": []
    },
    {
      "cell_type": "code",
      "execution_count": null,
      "metadata": {
        "id": "Pup0XE7o5auG",
        "colab": {
          "base_uri": "https://localhost:8080/",
          "height": 564
        },
        "outputId": "8a9cb7ee-a1cd-48dc-c35e-7b2ed760d037"
      },
      "outputs": [
        {
          "output_type": "display_data",
          "data": {
            "text/plain": [
              "<Figure size 800x600 with 1 Axes>"
            ],
            "image/png": "[encoded data removed]"
          },
          "metadata": {}
        }
      ],
      "source": [
        "from sklearn.metrics import roc_curve, auc\n",
        "import matplotlib.pyplot as plt\n",
        "\n",
        "# Compute ROC curve and ROC area for Gradient Boosting\n",
        "fpr_gb, tpr_gb, _ = roc_curve(y_test, grid_search_gb.best_estimator_.predict_proba(X_test)[:, 1])\n",
        "roc_auc_gb = auc(fpr_gb, tpr_gb)\n",
        "\n",
        "# Compute ROC curve and ROC area for Random Forest\n",
        "fpr_rf, tpr_rf, _ = roc_curve(y_test, grid_search_rf.best_estimator_.predict_proba(X_test)[:, 1])\n",
        "roc_auc_rf = auc(fpr_rf, tpr_rf)\n",
        "\n",
        "# Plot ROC curves\n",
        "plt.figure(figsize=(8, 6))\n",
        "plt.plot(fpr_gb, tpr_gb, color='darkorange', lw=2, label=f'Gradient Boosting (AUC = {roc_auc_gb:.2f})')\n",
        "plt.plot(fpr_rf, tpr_rf, color='darkgreen', lw=2, label=f'Random Forest (AUC = {roc_auc_rf:.2f})')\n",
        "plt.plot([0, 1], [0, 1], color='navy', lw=2, linestyle='--', label='Random Guess')\n",
        "\n",
        "plt.xlabel('False Positive Rate')\n",
        "plt.ylabel('True Positive Rate')\n",
        "plt.title('Receiver Operating Characteristic (ROC) Curve')\n",
        "plt.legend(loc='lower right')\n",
        "plt.show()\n"
      ]
    },
    {
      "cell_type": "markdown",
      "source": [
        " These steps provided a comprehensive analysis of model training, hyperparameter tuning, and evaluation on the testing set for both Gradient Boosting and Random Forest. The comparison metrics and charts offer insights into the performance of each model.\n",
        "\n",
        "\n",
        "\n",
        "\n",
        "\n"
      ],
      "metadata": {
        "id": "OaOAjJ0v-niX"
      }
    },
    {
      "cell_type": "markdown",
      "metadata": {
        "id": "4MyS9jOR5auG"
      },
      "source": [
        "## 7. Final recommendation of best model (8 marks)"
      ]
    },
    {
      "cell_type": "markdown",
      "metadata": {
        "id": "HwIzgXIZ5auG"
      },
      "source": [
        "### a) Discuss the results from a technical perspective, for example, overfitting discussion, complexity and efficiency\n",
        "\n",
        "\n",
        "\n",
        "In terms of technical evaluation, both the Gradient Boosting and Random Forest models perform well on the training set. The Random Forest's flawless score points at potential overfitting issues, needing a more nuanced approach. The extensive grid search used for hyperparameter optimization contributes greatly to model generalization, as evidenced by the impressive cross-validation F1 scores. When delving into the complexities of model performance, the ROC curves show that both techniques have excellent discriminatory power. Nonetheless, the Gradient Boosting model emerges as a scalable option, efficiently addressing concerns about huge datasets because to its greater computing efficiency compared to the resource-intensive Random Forest model. Despite a slight trade-off in F1 scores, the Gradient Boosting model stands out as a well-balanced and pragmatic choice, adept at mitigating overfitting risks while ensuring an efficient and scalable implementation for real-world scenarios.\n"
      ]
    },
    {
      "cell_type": "markdown",
      "metadata": {
        "id": "lSgEMB_45auG"
      },
      "source": [
        "### b) Discuss the results from a business perspective, for example, results interpretation, relevance and balance with technical perspective\n",
        "\n",
        "\n",
        "Both the Random Forest and Gradient Boosting models performed well on the test set in terms of accuracy, precision, and recall. The Random Forest's perfect results on training measures, on the other hand, raise a red flag, indicating potential complications in practical application. Business decisions necessitate not only technical expertise but also practical feasibility. In this light, the Gradient Boosting model appears as the best choice for real-world applications, delivering an ideal balance of performance and efficiency. The Gradient Boosting approach, which excels at detecting positive cases—a vital component for the specific problem at hand—aligns technical superiority with practical value. This alignment establishes it as the preferable option for business implementation, ensuring dependable and effective results in a diverse operational context. This alignment positions it as the preferred choice for business implementation, ensuring reliable and effective outcomes in a diverse operational environment."
      ]
    },
    {
      "cell_type": "markdown",
      "metadata": {
        "id": "MDJKn-ik5auH"
      },
      "source": [
        "## 8. Conclusion (8 marks)"
      ]
    },
    {
      "cell_type": "markdown",
      "metadata": {
        "id": "MS0mLvzJ5auH"
      },
      "source": [
        "### a) What has been successfully accomplished and what has not been successful?\n",
        "\n",
        "Throughout the project, a number of significant achievements have been attained. Robust models for binary classification were produced by the application of two potent machine learning techniques. The methodical hyperparameter tuning procedure, made possible by grid search and cross-validation, is noteworthy as an excellent endeavor that greatly enhanced the models' performance. The detailed comparison of metrics, which included F1-score, precision, and recall measures, gave a nuanced assessment for both the training and testing datasets. The addition of ROC curves improved the model selection procedure even further by providing a graphic depiction of the models' discriminating power. Overall, The skillful application of two powerful machine learning methods, Random Forest and Gradient Boosting, has resulted in robust models that are capable of performing binary classification tasks.\n",
        "\n",
        "But it's important to recognize the difficulties that have been faced, especially with regard to model interpretability. Because both approaches were ensemble in nature and involved a large number of weak learners, deciphering the complexities of the models turned out to be a difficult undertaking. A possible disadvantage of this lack of interpretability is that it calls for more research into methods to make these intricate models easier to understand. There were difficulties in interpreting the models, particularly because both approaches are ensemble methods with a large number of poor learners. The complexity of these models can make them difficult to interpret, and more work may be required to improve this quality."
      ]
    },
    {
      "cell_type": "markdown",
      "metadata": {
        "id": "EvEUPZzw5auH"
      },
      "source": [
        "### b) Reflecting back on the analysis, what could you have done differently if you were to do the project again?\n",
        "\n",
        "Reflecting on the extensive analysis conducted, a deeper investigation into feature engineering and selection techniques would have been more beneficial. The model's performance may have improved if more features had been found and included by going deeper into the dataset. Moreover, a more thorough examination of ensemble models' interpretability may provide insightful information to interested parties, reducing the inherent opacity of these intricate models.\n",
        "\n",
        "In addition, a more methodical strategy for managing unbalanced datasets should to have been taken into account. Methods like oversampling, undersampling, or using specific algorithms designed for unbalanced data could have been investigated to counteract any biases and improve the models' suitability for practical situations. Overall, the models may have been improved, in retrospect, by a deeper investigation of feature engineering and interpretability techniques. Furthermore, it might have been advantageous to deal with biased datasets and biases in a methodical manner. Lastly, continuous monitoring of model performance after deployment in real-world scenarios would provide significant feedback on their practical usability and efficacy.  Continuous monitoring of model performance after deployment includes systematically observing and evaluating how well machine learning models perform in real-world, operational contexts over time."
      ]
    },
    {
      "cell_type": "markdown",
      "metadata": {
        "id": "xjTgtegv5auH"
      },
      "source": [
        "### c) Provide a wish list of future work that you would like to do\n",
        "\n",
        "Looking ahead, extending the dataset or including additional relevant variables stands out as a critical path to enhancing the models' predictive powers. Using advanced interpretability techniques, such as SHAP (SHapley Additive exPlanations) values, could provide a more nuanced understanding of the decision-making processes inherent in ensemble models, bridging the model complexity and interpretability gap. Exploring alternate ensemble approaches or advanced algorithms, such as XGBoost or LightGBM, offers a promising path for future research. This diversification may provide additional standards for comparison as well as information into the robustness and generalizability of certain techniques.\n",
        "\n",
        "Furthermore, testing the models' robustness to idea drift or changes in the underlying data distribution over time is critical. Continuous monitoring of model performance after deployment in real-world scenarios would provide significant feedback on their practical usability and efficacy. Collaboration with domain specialists could infuse domain-specific insights into the feature engineering process, ensuring that the models contain and adapt appropriately to the subtleties of the problem domain."
      ]
    }
  ],
  "metadata": {
    "colab": {
      "provenance": [],
      "include_colab_link": true
    },
    "kernelspec": {
      "display_name": "Python 3",
      "language": "python",
      "name": "python3"
    },
    "language_info": {
      "codemirror_mode": {
        "name": "ipython",
        "version": 3
      },
      "file_extension": ".py",
      "mimetype": "text/x-python",
      "name": "python",
      "nbconvert_exporter": "python",
      "pygments_lexer": "ipython3",
      "version": "3.7.6"
    }
  },
  "nbformat": 4,
  "nbformat_minor": 0
}